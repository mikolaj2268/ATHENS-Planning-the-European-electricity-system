{
 "cells": [
  {
   "cell_type": "code",
   "execution_count": 1,
   "id": "initial_id",
   "metadata": {
    "collapsed": true,
    "ExecuteTime": {
     "end_time": "2023-11-22T09:41:43.047484210Z",
     "start_time": "2023-11-22T09:41:43.046981413Z"
    }
   },
   "outputs": [],
   "source": [
    "%load_ext autoreload\n",
    "%autoreload 2"
   ]
  },
  {
   "cell_type": "code",
   "execution_count": 113,
   "outputs": [],
   "source": [
    "import pypsa\n",
    "import pandas as pd\n",
    "from dataclasses import dataclass"
   ],
   "metadata": {
    "collapsed": false,
    "ExecuteTime": {
     "end_time": "2023-11-21T15:24:34.770974016Z",
     "start_time": "2023-11-21T15:24:34.677333523Z"
    }
   },
   "id": "cab8eda05b8bc062"
  },
  {
   "cell_type": "code",
   "execution_count": 114,
   "outputs": [],
   "source": [
    "full_demand = pd.read_csv(\"../data/demand.csv\", sep=\";\", index_col=1, parse_dates=True).groupby(pd.Grouper(key=\"climatic_year\"))\n",
    "full_wind_on_shore = pd.read_csv(\"../data/on_shore.csv\", index_col=1, parse_dates=True, sep=\";\").groupby(pd.Grouper(key=\"climatic_year\"))\n",
    "full_wind_off_shore = pd.read_csv(\"../data/off_shore.csv\", index_col=1, parse_dates=True, sep=\";\").groupby(pd.Grouper(key=\"climatic_year\"))"
   ],
   "metadata": {
    "collapsed": false,
    "ExecuteTime": {
     "end_time": "2023-11-21T15:24:34.860397105Z",
     "start_time": "2023-11-21T15:24:34.677527722Z"
    }
   },
   "id": "c812a915bdf9860a"
  },
  {
   "cell_type": "code",
   "execution_count": 115,
   "outputs": [],
   "source": [
    "climatic_year = 2000\n",
    "time_horizon_in_hours = 365 * 24"
   ],
   "metadata": {
    "collapsed": false,
    "ExecuteTime": {
     "end_time": "2023-11-21T15:24:34.860895406Z",
     "start_time": "2023-11-21T15:24:34.800996804Z"
    }
   },
   "id": "c20c664f48edee17"
  },
  {
   "cell_type": "code",
   "execution_count": 116,
   "outputs": [],
   "source": [
    "demand = full_demand.get_group(climatic_year)\n",
    "wind_on_shore = full_wind_on_shore.get_group(climatic_year)\n",
    "wind_off_shore = full_wind_off_shore.get_group(climatic_year)"
   ],
   "metadata": {
    "collapsed": false,
    "ExecuteTime": {
     "end_time": "2023-11-21T15:24:34.862149936Z",
     "start_time": "2023-11-21T15:24:34.824339092Z"
    }
   },
   "id": "918747cd9007aef1"
  },
  {
   "cell_type": "code",
   "execution_count": 117,
   "outputs": [],
   "source": [
    "network = pypsa.Network(snapshots=demand.index[0:time_horizon_in_hours])"
   ],
   "metadata": {
    "collapsed": false,
    "ExecuteTime": {
     "end_time": "2023-11-21T15:24:35.050796241Z",
     "start_time": "2023-11-21T15:24:34.853422507Z"
    }
   },
   "id": "f603f923cf15991b"
  },
  {
   "cell_type": "code",
   "execution_count": 119,
   "outputs": [],
   "source": [
    "network.add(\"Bus\", name=\"Poland\", x=19.397666, y=52.455567)"
   ],
   "metadata": {
    "collapsed": false,
    "ExecuteTime": {
     "end_time": "2023-11-21T15:24:35.137686486Z",
     "start_time": "2023-11-21T15:24:35.093780275Z"
    }
   },
   "id": "e29ac64e2b19e0c4"
  },
  {
   "cell_type": "code",
   "execution_count": null,
   "outputs": [],
   "source": [
    "@dataclass\n",
    "class Carriers:\n",
    "    Battery = 0\n",
    "    Biomass = 0\n",
    "    Coal = 760\n",
    "    Gas = 370\n",
    "    Oil = 406\n",
    "    Hydrogen = 0\n",
    "    Hydro = 0\n",
    "    Nuclear = 0\n",
    "    Pumped = 0\n",
    "    Reservoir = 0\n",
    "    Solar = 0\n",
    "    Wind = 0"
   ],
   "metadata": {
    "collapsed": false
   },
   "id": "44d2a543bc4746b8"
  },
  {
   "cell_type": "code",
   "execution_count": 121,
   "outputs": [],
   "source": [
    "for name, co2_emission in Carriers().__dict__.items():\n",
    "    network.add(\"Carrier\", name=name, co2_emissions=co2_emission)"
   ],
   "metadata": {
    "collapsed": false,
    "ExecuteTime": {
     "end_time": "2023-11-21T15:24:35.188299405Z",
     "start_time": "2023-11-21T15:24:35.137902357Z"
    }
   },
   "id": "3d1dec97aca1d16a"
  },
  {
   "cell_type": "code",
   "execution_count": 122,
   "outputs": [],
   "source": [
    "coal_marginal_costs = 128 / 7 / 0.37 \n",
    "gas_marginal_costs = 2.65 * 26.4 * 0.75 / 14.9 / 0.5\n",
    "oil_marginal_costs = 73 * 0.119 / 12.5 / 0.40"
   ],
   "metadata": {
    "collapsed": false,
    "ExecuteTime": {
     "end_time": "2023-11-21T15:24:35.207541658Z",
     "start_time": "2023-11-21T15:24:35.184069630Z"
    }
   },
   "id": "5b92b1a3eefe4b11"
  },
  {
   "cell_type": "code",
   "execution_count": 123,
   "outputs": [],
   "source": [
    "generators = [\n",
    "    {\"name\": \"Stinky-Coal\", \"carrier\": \"Coal\", \"p_nom\": 30742, \"p_min_pu\": 0, \"p_max_pu\": 1, \"marginal_cost\": coal_marginal_costs, \"efficiency\": 0.37, \"committable\": True, \"min_up_time\": 1, \"min_down_time\": 2},\n",
    "    {\"name\": \"Stinky-Gas\", \"carrier\": \"Gas\", \"p_nom\": 255.5, \"p_min_pu\": 0, \"p_max_pu\": 1, \"marginal_cost\": gas_marginal_costs, \"efficiency\": 0.5,\n",
    "     \"committable\": True, \"min_up_time\": 1, \"min_down_time\": 1},\n",
    "    {\"name\": \"Stinky-Oil\", \"carrier\": \"Oil\", \"p_nom\": 0, \"p_min_pu\": 0, \"p_max_pu\": 1, \"marginal_cost\": oil_marginal_costs, \"efficiency\": 0.4,\n",
    "     \"committable\": True, \"min_up_time\": 1, \"min_down_time\": 1},\n",
    "    {\"name\": \"Biomass\", \"carrier\": \"BioEnergies\", \"p_nom\":0, \"p_min_pu\": 0, \"p_max_pu\": 1, \"marginal_cost\": 0, \"efficiency\": 0.5, \n",
    "     \"committable\": True, \"min_up_time\": 1, \"min_down_time\": 1},\n",
    "    {\"name\": \"Hydroelectric\", \"carrier\":\"Hydro\", \"p_nom\": 395, \"p_min_pu\": 0, \"p_max_pu\": 1, \"marginal_cost\":0, \"efficiency\": 1, \"committable\": True,\n",
    "     \"min_up_time\": 2, \"min_down_time\": 2},\n",
    "    {\"name\": \"Wind\", \"carrier\": \"Wind\", \"p_nom\": 1760, \"p_min_pu\":1, \"p_max_pu\": 1, \"marginal_cost\": 0, \"efficiency\":1, \"committable\": False},\n",
    "    ]"
   ],
   "metadata": {
    "collapsed": false,
    "ExecuteTime": {
     "end_time": "2023-11-21T15:24:35.235604753Z",
     "start_time": "2023-11-21T15:24:35.207788497Z"
    }
   },
   "id": "54d77c7a69a4c5ab"
  },
  {
   "cell_type": "code",
   "execution_count": 124,
   "outputs": [],
   "source": [
    "for generator in generators:\n",
    "    network.add(\"Generator\", bus=\"Poland\", **generator,)"
   ],
   "metadata": {
    "collapsed": false,
    "ExecuteTime": {
     "end_time": "2023-11-21T15:24:35.284198819Z",
     "start_time": "2023-11-21T15:24:35.235502784Z"
    }
   },
   "id": "839b7d9152f30e16"
  },
  {
   "cell_type": "code",
   "execution_count": 125,
   "outputs": [],
   "source": [
    "loads = [\n",
    "    {\"name\": \"Poland-load\", \"bus\": \"Poland\", \"carrier\": \"AC\",\"p_set\": demand[0:time_horizon_in_hours][\"value\"].values},\n",
    "]   "
   ],
   "metadata": {
    "collapsed": false,
    "ExecuteTime": {
     "end_time": "2023-11-21T15:24:35.329671095Z",
     "start_time": "2023-11-21T15:24:35.292711206Z"
    }
   },
   "id": "7ee363d9bc8aae92"
  },
  {
   "cell_type": "code",
   "execution_count": 126,
   "outputs": [],
   "source": [
    "for load in loads:\n",
    "    network.add(\"Load\", **load)"
   ],
   "metadata": {
    "collapsed": false,
    "ExecuteTime": {
     "end_time": "2023-11-21T15:24:35.373745756Z",
     "start_time": "2023-11-21T15:24:35.329551603Z"
    }
   },
   "id": "d409d8fc4b9ce066"
  },
  {
   "cell_type": "code",
   "execution_count": 127,
   "outputs": [
    {
     "data": {
      "text/plain": "PyPSA Network\nComponents:\n - Bus: 1\n - Carrier: 12\n - Generator: 6\n - Load: 1\nSnapshots: 8760"
     },
     "execution_count": 127,
     "metadata": {},
     "output_type": "execute_result"
    }
   ],
   "source": [
    "network"
   ],
   "metadata": {
    "collapsed": false,
    "ExecuteTime": {
     "end_time": "2023-11-21T15:24:35.374151875Z",
     "start_time": "2023-11-21T15:24:35.373365062Z"
    }
   },
   "id": "cd03bd1ea87454ce"
  },
  {
   "cell_type": "code",
   "execution_count": 128,
   "outputs": [
    {
     "name": "stderr",
     "output_type": "stream",
     "text": [
      "INFO:linopy.model: Solve problem using Gurobi solver\n"
     ]
    },
    {
     "name": "stdout",
     "output_type": "stream",
     "text": [
      "Set parameter Username\n"
     ]
    },
    {
     "name": "stderr",
     "output_type": "stream",
     "text": [
      "INFO:gurobipy:Set parameter Username\n"
     ]
    },
    {
     "name": "stdout",
     "output_type": "stream",
     "text": [
      "Gurobi 11.0.0 (beta1) - expires 2023-11-21\n"
     ]
    },
    {
     "name": "stderr",
     "output_type": "stream",
     "text": [
      "INFO:gurobipy:Gurobi 11.0.0 (beta1) - expires 2023-11-21\n"
     ]
    },
    {
     "name": "stdout",
     "output_type": "stream",
     "text": [
      "Academic license - for non-commercial use only - expires 2024-11-20\n"
     ]
    },
    {
     "name": "stderr",
     "output_type": "stream",
     "text": [
      "INFO:gurobipy:Academic license - for non-commercial use only - expires 2024-11-20\n",
      "INFO:linopy.io:Writing objective.\n",
      "Writing constraints.: 100%|\u001B[38;2;128;191;255m██████████\u001B[0m| 10/10 [00:01<00:00,  6.57it/s]\n",
      "Writing continuous variables.: 100%|\u001B[38;2;128;191;255m██████████\u001B[0m| 1/1 [00:00<00:00, 11.60it/s]\n",
      "Writing binary variables.: 100%|\u001B[38;2;128;191;255m██████████\u001B[0m| 3/3 [00:00<00:00, 39.94it/s]\n",
      "INFO:linopy.io: Writing time: 1.73s\n"
     ]
    },
    {
     "name": "stdout",
     "output_type": "stream",
     "text": [
      "Read LP format model from file /tmp/linopy-problem-dpx8u3rt.lp\n"
     ]
    },
    {
     "name": "stderr",
     "output_type": "stream",
     "text": [
      "INFO:gurobipy:Read LP format model from file /tmp/linopy-problem-dpx8u3rt.lp\n"
     ]
    },
    {
     "name": "stdout",
     "output_type": "stream",
     "text": [
      "Reading time = 0.60 seconds\n"
     ]
    },
    {
     "name": "stderr",
     "output_type": "stream",
     "text": [
      "INFO:gurobipy:Reading time = 0.60 seconds\n"
     ]
    },
    {
     "name": "stdout",
     "output_type": "stream",
     "text": [
      "obj: 289071 rows, 183960 columns, 648208 nonzeros\n"
     ]
    },
    {
     "name": "stderr",
     "output_type": "stream",
     "text": [
      "INFO:gurobipy:obj: 289071 rows, 183960 columns, 648208 nonzeros\n"
     ]
    },
    {
     "name": "stdout",
     "output_type": "stream",
     "text": [
      "Gurobi Optimizer version 11.0.0 build v11.0.0beta2 (linux64 - \"Ubuntu 22.04.3 LTS\")\n"
     ]
    },
    {
     "name": "stderr",
     "output_type": "stream",
     "text": [
      "INFO:gurobipy:Gurobi Optimizer version 11.0.0 build v11.0.0beta2 (linux64 - \"Ubuntu 22.04.3 LTS\")\n"
     ]
    },
    {
     "name": "stdout",
     "output_type": "stream",
     "text": []
    },
    {
     "name": "stderr",
     "output_type": "stream",
     "text": [
      "INFO:gurobipy:\n"
     ]
    },
    {
     "name": "stdout",
     "output_type": "stream",
     "text": [
      "CPU model: Intel(R) Core(TM) i5-7300HQ CPU @ 2.50GHz, instruction set [SSE2|AVX|AVX2]\n"
     ]
    },
    {
     "name": "stderr",
     "output_type": "stream",
     "text": [
      "INFO:gurobipy:CPU model: Intel(R) Core(TM) i5-7300HQ CPU @ 2.50GHz, instruction set [SSE2|AVX|AVX2]\n"
     ]
    },
    {
     "name": "stdout",
     "output_type": "stream",
     "text": [
      "Thread count: 4 physical cores, 4 logical processors, using up to 4 threads\n"
     ]
    },
    {
     "name": "stderr",
     "output_type": "stream",
     "text": [
      "INFO:gurobipy:Thread count: 4 physical cores, 4 logical processors, using up to 4 threads\n"
     ]
    },
    {
     "name": "stdout",
     "output_type": "stream",
     "text": []
    },
    {
     "name": "stderr",
     "output_type": "stream",
     "text": [
      "INFO:gurobipy:\n"
     ]
    },
    {
     "name": "stdout",
     "output_type": "stream",
     "text": [
      "Optimize a model with 289071 rows, 183960 columns and 648208 nonzeros\n"
     ]
    },
    {
     "name": "stderr",
     "output_type": "stream",
     "text": [
      "INFO:gurobipy:Optimize a model with 289071 rows, 183960 columns and 648208 nonzeros\n"
     ]
    },
    {
     "name": "stdout",
     "output_type": "stream",
     "text": [
      "Model fingerprint: 0x7a1ee057\n"
     ]
    },
    {
     "name": "stderr",
     "output_type": "stream",
     "text": [
      "INFO:gurobipy:Model fingerprint: 0x7a1ee057\n"
     ]
    },
    {
     "name": "stdout",
     "output_type": "stream",
     "text": [
      "Variable types: 52560 continuous, 131400 integer (131400 binary)\n"
     ]
    },
    {
     "name": "stderr",
     "output_type": "stream",
     "text": [
      "INFO:gurobipy:Variable types: 52560 continuous, 131400 integer (131400 binary)\n"
     ]
    },
    {
     "name": "stdout",
     "output_type": "stream",
     "text": [
      "Coefficient statistics:\n"
     ]
    },
    {
     "name": "stderr",
     "output_type": "stream",
     "text": [
      "INFO:gurobipy:Coefficient statistics:\n"
     ]
    },
    {
     "name": "stdout",
     "output_type": "stream",
     "text": [
      "  Matrix range     [1e+00, 3e+04]\n"
     ]
    },
    {
     "name": "stderr",
     "output_type": "stream",
     "text": [
      "INFO:gurobipy:  Matrix range     [1e+00, 3e+04]\n"
     ]
    },
    {
     "name": "stdout",
     "output_type": "stream",
     "text": [
      "  Objective range  [2e+00, 5e+01]\n"
     ]
    },
    {
     "name": "stderr",
     "output_type": "stream",
     "text": [
      "INFO:gurobipy:  Objective range  [2e+00, 5e+01]\n"
     ]
    },
    {
     "name": "stdout",
     "output_type": "stream",
     "text": [
      "  Bounds range     [1e+00, 1e+00]\n"
     ]
    },
    {
     "name": "stderr",
     "output_type": "stream",
     "text": [
      "INFO:gurobipy:  Bounds range     [1e+00, 1e+00]\n"
     ]
    },
    {
     "name": "stdout",
     "output_type": "stream",
     "text": [
      "  RHS range        [1e+00, 3e+04]\n"
     ]
    },
    {
     "name": "stderr",
     "output_type": "stream",
     "text": [
      "INFO:gurobipy:  RHS range        [1e+00, 3e+04]\n"
     ]
    },
    {
     "name": "stdout",
     "output_type": "stream",
     "text": [
      "Presolve removed 254040 rows and 157685 columns\n"
     ]
    },
    {
     "name": "stderr",
     "output_type": "stream",
     "text": [
      "INFO:gurobipy:Presolve removed 254040 rows and 157685 columns\n"
     ]
    },
    {
     "name": "stdout",
     "output_type": "stream",
     "text": [
      "Presolve time: 0.38s\n"
     ]
    },
    {
     "name": "stderr",
     "output_type": "stream",
     "text": [
      "INFO:gurobipy:Presolve time: 0.38s\n"
     ]
    },
    {
     "name": "stdout",
     "output_type": "stream",
     "text": [
      "Presolved: 35031 rows, 26275 columns, 105092 nonzeros\n"
     ]
    },
    {
     "name": "stderr",
     "output_type": "stream",
     "text": [
      "INFO:gurobipy:Presolved: 35031 rows, 26275 columns, 105092 nonzeros\n"
     ]
    },
    {
     "name": "stdout",
     "output_type": "stream",
     "text": [
      "Variable types: 0 continuous, 26275 integer (26275 binary)\n"
     ]
    },
    {
     "name": "stderr",
     "output_type": "stream",
     "text": [
      "INFO:gurobipy:Variable types: 0 continuous, 26275 integer (26275 binary)\n"
     ]
    },
    {
     "name": "stdout",
     "output_type": "stream",
     "text": [
      "Found heuristic solution: objective 7.227901e+09\n"
     ]
    },
    {
     "name": "stderr",
     "output_type": "stream",
     "text": [
      "INFO:gurobipy:Found heuristic solution: objective 7.227901e+09\n"
     ]
    },
    {
     "name": "stdout",
     "output_type": "stream",
     "text": [
      "\n"
     ]
    },
    {
     "name": "stderr",
     "output_type": "stream",
     "text": [
      "INFO:gurobipy:\n"
     ]
    },
    {
     "name": "stdout",
     "output_type": "stream",
     "text": [
      "Explored 1 nodes (0 simplex iterations) in 1.01 seconds (0.91 work units)\n"
     ]
    },
    {
     "name": "stderr",
     "output_type": "stream",
     "text": [
      "INFO:gurobipy:Explored 1 nodes (0 simplex iterations) in 1.01 seconds (0.91 work units)\n"
     ]
    },
    {
     "name": "stdout",
     "output_type": "stream",
     "text": [
      "Thread count was 4 (of 4 available processors)\n"
     ]
    },
    {
     "name": "stderr",
     "output_type": "stream",
     "text": [
      "INFO:gurobipy:Thread count was 4 (of 4 available processors)\n"
     ]
    },
    {
     "name": "stdout",
     "output_type": "stream",
     "text": [
      "\n"
     ]
    },
    {
     "name": "stderr",
     "output_type": "stream",
     "text": [
      "INFO:gurobipy:\n"
     ]
    },
    {
     "name": "stdout",
     "output_type": "stream",
     "text": [
      "Solution count 1: 7.2279e+09 \n"
     ]
    },
    {
     "name": "stderr",
     "output_type": "stream",
     "text": [
      "INFO:gurobipy:Solution count 1: 7.2279e+09 \n"
     ]
    },
    {
     "name": "stdout",
     "output_type": "stream",
     "text": [
      "\n"
     ]
    },
    {
     "name": "stderr",
     "output_type": "stream",
     "text": [
      "INFO:gurobipy:\n"
     ]
    },
    {
     "name": "stdout",
     "output_type": "stream",
     "text": [
      "Optimal solution found (tolerance 1.00e-04)\n"
     ]
    },
    {
     "name": "stderr",
     "output_type": "stream",
     "text": [
      "INFO:gurobipy:Optimal solution found (tolerance 1.00e-04)\n"
     ]
    },
    {
     "name": "stdout",
     "output_type": "stream",
     "text": [
      "Best objective 7.227901456197e+09, best bound 7.227901456197e+09, gap 0.0000%\n"
     ]
    },
    {
     "name": "stderr",
     "output_type": "stream",
     "text": [
      "INFO:gurobipy:Best objective 7.227901456197e+09, best bound 7.227901456197e+09, gap 0.0000%\n",
      "WARNING:linopy.solvers:Dual values of MILP couldn't be parsed\n",
      "INFO:linopy.constants: Optimization successful: \n",
      "Status: ok\n",
      "Termination condition: optimal\n",
      "Solution: 183960 primals, 0 duals\n",
      "Objective: 7.23e+09\n",
      "Solver model: available\n",
      "Solver message: 2\n",
      "\n"
     ]
    },
    {
     "name": "stdout",
     "output_type": "stream",
     "text": [
      "('ok', 'optimal')\n"
     ]
    }
   ],
   "source": [
    "result = network.optimize(solver_name=\"gurobi\")\n",
    "print(result)   "
   ],
   "metadata": {
    "collapsed": false,
    "ExecuteTime": {
     "end_time": "2023-11-21T15:24:40.671740003Z",
     "start_time": "2023-11-21T15:24:35.373513614Z"
    }
   },
   "id": "69e8f1ddc0a04de"
  },
  {
   "cell_type": "code",
   "execution_count": 129,
   "outputs": [
    {
     "data": {
      "text/plain": "<Axes: xlabel='Generator', ylabel='GW'>"
     },
     "execution_count": 129,
     "metadata": {},
     "output_type": "execute_result"
    },
    {
     "data": {
      "text/plain": "<Figure size 800x300 with 1 Axes>",
      "image/png": "[encoded data removed]"
     },
     "metadata": {},
     "output_type": "display_data"
    }
   ],
   "source": [
    "network.generators.p_nom_opt.div(1e3).plot.bar(ylabel=\"GW\", figsize=(8, 3))"
   ],
   "metadata": {
    "collapsed": false,
    "ExecuteTime": {
     "end_time": "2023-11-21T15:24:41.113265498Z",
     "start_time": "2023-11-21T15:24:40.651717556Z"
    }
   },
   "id": "bcebf8404d4f0eab"
  },
  {
   "cell_type": "code",
   "execution_count": 130,
   "outputs": [
    {
     "data": {
      "text/plain": "<Axes: xlabel='snapshot', ylabel='GW'>"
     },
     "execution_count": 130,
     "metadata": {},
     "output_type": "execute_result"
    },
    {
     "data": {
      "text/plain": "<Figure size 640x480 with 1 Axes>",
      "image/png": "[encoded data removed]"
     },
     "metadata": {},
     "output_type": "display_data"
    }
   ],
   "source": [
    "network.generators_t.p.div(1e3).plot.area(subplots=False, ylabel=\"GW\")"
   ],
   "metadata": {
    "collapsed": false,
    "ExecuteTime": {
     "end_time": "2023-11-21T15:24:42.252866588Z",
     "start_time": "2023-11-21T15:24:41.113619802Z"
    }
   },
   "id": "7a0ab5cb1fca4841"
  },
  {
   "cell_type": "code",
   "execution_count": 131,
   "outputs": [
    {
     "data": {
      "text/plain": "{'p_min_pu': Empty DataFrame\n Columns: []\n Index: [1900-01-01 00:00:00, 1900-01-01 01:00:00, 1900-01-01 02:00:00, 1900-01-01 03:00:00, 1900-01-01 04:00:00, 1900-01-01 05:00:00, 1900-01-01 06:00:00, 1900-01-01 07:00:00, 1900-01-01 08:00:00, 1900-01-01 09:00:00, 1900-01-01 10:00:00, 1900-01-01 11:00:00, 1900-01-01 12:00:00, 1900-01-01 13:00:00, 1900-01-01 14:00:00, 1900-01-01 15:00:00, 1900-01-01 16:00:00, 1900-01-01 17:00:00, 1900-01-01 18:00:00, 1900-01-01 19:00:00, 1900-01-01 20:00:00, 1900-01-01 21:00:00, 1900-01-01 22:00:00, 1900-01-01 23:00:00, 1900-01-02 00:00:00, 1900-01-02 01:00:00, 1900-01-02 02:00:00, 1900-01-02 03:00:00, 1900-01-02 04:00:00, 1900-01-02 05:00:00, 1900-01-02 06:00:00, 1900-01-02 07:00:00, 1900-01-02 08:00:00, 1900-01-02 09:00:00, 1900-01-02 10:00:00, 1900-01-02 11:00:00, 1900-01-02 12:00:00, 1900-01-02 13:00:00, 1900-01-02 14:00:00, 1900-01-02 15:00:00, 1900-01-02 16:00:00, 1900-01-02 17:00:00, 1900-01-02 18:00:00, 1900-01-02 19:00:00, 1900-01-02 20:00:00, 1900-01-02 21:00:00, 1900-01-02 22:00:00, 1900-01-02 23:00:00, 1900-01-03 00:00:00, 1900-01-03 01:00:00, 1900-01-03 02:00:00, 1900-01-03 03:00:00, 1900-01-03 04:00:00, 1900-01-03 05:00:00, 1900-01-03 06:00:00, 1900-01-03 07:00:00, 1900-01-03 08:00:00, 1900-01-03 09:00:00, 1900-01-03 10:00:00, 1900-01-03 11:00:00, 1900-01-03 12:00:00, 1900-01-03 13:00:00, 1900-01-03 14:00:00, 1900-01-03 15:00:00, 1900-01-03 16:00:00, 1900-01-03 17:00:00, 1900-01-03 18:00:00, 1900-01-03 19:00:00, 1900-01-03 20:00:00, 1900-01-03 21:00:00, 1900-01-03 22:00:00, 1900-01-03 23:00:00, 1900-01-04 00:00:00, 1900-01-04 01:00:00, 1900-01-04 02:00:00, 1900-01-04 03:00:00, 1900-01-04 04:00:00, 1900-01-04 05:00:00, 1900-01-04 06:00:00, 1900-01-04 07:00:00, 1900-01-04 08:00:00, 1900-01-04 09:00:00, 1900-01-04 10:00:00, 1900-01-04 11:00:00, 1900-01-04 12:00:00, 1900-01-04 13:00:00, 1900-01-04 14:00:00, 1900-01-04 15:00:00, 1900-01-04 16:00:00, 1900-01-04 17:00:00, 1900-01-04 18:00:00, 1900-01-04 19:00:00, 1900-01-04 20:00:00, 1900-01-04 21:00:00, 1900-01-04 22:00:00, 1900-01-04 23:00:00, 1900-01-05 00:00:00, 1900-01-05 01:00:00, 1900-01-05 02:00:00, 1900-01-05 03:00:00, ...]\n \n [8760 rows x 0 columns],\n 'p_max_pu': Empty DataFrame\n Columns: []\n Index: [1900-01-01 00:00:00, 1900-01-01 01:00:00, 1900-01-01 02:00:00, 1900-01-01 03:00:00, 1900-01-01 04:00:00, 1900-01-01 05:00:00, 1900-01-01 06:00:00, 1900-01-01 07:00:00, 1900-01-01 08:00:00, 1900-01-01 09:00:00, 1900-01-01 10:00:00, 1900-01-01 11:00:00, 1900-01-01 12:00:00, 1900-01-01 13:00:00, 1900-01-01 14:00:00, 1900-01-01 15:00:00, 1900-01-01 16:00:00, 1900-01-01 17:00:00, 1900-01-01 18:00:00, 1900-01-01 19:00:00, 1900-01-01 20:00:00, 1900-01-01 21:00:00, 1900-01-01 22:00:00, 1900-01-01 23:00:00, 1900-01-02 00:00:00, 1900-01-02 01:00:00, 1900-01-02 02:00:00, 1900-01-02 03:00:00, 1900-01-02 04:00:00, 1900-01-02 05:00:00, 1900-01-02 06:00:00, 1900-01-02 07:00:00, 1900-01-02 08:00:00, 1900-01-02 09:00:00, 1900-01-02 10:00:00, 1900-01-02 11:00:00, 1900-01-02 12:00:00, 1900-01-02 13:00:00, 1900-01-02 14:00:00, 1900-01-02 15:00:00, 1900-01-02 16:00:00, 1900-01-02 17:00:00, 1900-01-02 18:00:00, 1900-01-02 19:00:00, 1900-01-02 20:00:00, 1900-01-02 21:00:00, 1900-01-02 22:00:00, 1900-01-02 23:00:00, 1900-01-03 00:00:00, 1900-01-03 01:00:00, 1900-01-03 02:00:00, 1900-01-03 03:00:00, 1900-01-03 04:00:00, 1900-01-03 05:00:00, 1900-01-03 06:00:00, 1900-01-03 07:00:00, 1900-01-03 08:00:00, 1900-01-03 09:00:00, 1900-01-03 10:00:00, 1900-01-03 11:00:00, 1900-01-03 12:00:00, 1900-01-03 13:00:00, 1900-01-03 14:00:00, 1900-01-03 15:00:00, 1900-01-03 16:00:00, 1900-01-03 17:00:00, 1900-01-03 18:00:00, 1900-01-03 19:00:00, 1900-01-03 20:00:00, 1900-01-03 21:00:00, 1900-01-03 22:00:00, 1900-01-03 23:00:00, 1900-01-04 00:00:00, 1900-01-04 01:00:00, 1900-01-04 02:00:00, 1900-01-04 03:00:00, 1900-01-04 04:00:00, 1900-01-04 05:00:00, 1900-01-04 06:00:00, 1900-01-04 07:00:00, 1900-01-04 08:00:00, 1900-01-04 09:00:00, 1900-01-04 10:00:00, 1900-01-04 11:00:00, 1900-01-04 12:00:00, 1900-01-04 13:00:00, 1900-01-04 14:00:00, 1900-01-04 15:00:00, 1900-01-04 16:00:00, 1900-01-04 17:00:00, 1900-01-04 18:00:00, 1900-01-04 19:00:00, 1900-01-04 20:00:00, 1900-01-04 21:00:00, 1900-01-04 22:00:00, 1900-01-04 23:00:00, 1900-01-05 00:00:00, 1900-01-05 01:00:00, 1900-01-05 02:00:00, 1900-01-05 03:00:00, ...]\n \n [8760 rows x 0 columns],\n 'p_set': Empty DataFrame\n Columns: []\n Index: [1900-01-01 00:00:00, 1900-01-01 01:00:00, 1900-01-01 02:00:00, 1900-01-01 03:00:00, 1900-01-01 04:00:00, 1900-01-01 05:00:00, 1900-01-01 06:00:00, 1900-01-01 07:00:00, 1900-01-01 08:00:00, 1900-01-01 09:00:00, 1900-01-01 10:00:00, 1900-01-01 11:00:00, 1900-01-01 12:00:00, 1900-01-01 13:00:00, 1900-01-01 14:00:00, 1900-01-01 15:00:00, 1900-01-01 16:00:00, 1900-01-01 17:00:00, 1900-01-01 18:00:00, 1900-01-01 19:00:00, 1900-01-01 20:00:00, 1900-01-01 21:00:00, 1900-01-01 22:00:00, 1900-01-01 23:00:00, 1900-01-02 00:00:00, 1900-01-02 01:00:00, 1900-01-02 02:00:00, 1900-01-02 03:00:00, 1900-01-02 04:00:00, 1900-01-02 05:00:00, 1900-01-02 06:00:00, 1900-01-02 07:00:00, 1900-01-02 08:00:00, 1900-01-02 09:00:00, 1900-01-02 10:00:00, 1900-01-02 11:00:00, 1900-01-02 12:00:00, 1900-01-02 13:00:00, 1900-01-02 14:00:00, 1900-01-02 15:00:00, 1900-01-02 16:00:00, 1900-01-02 17:00:00, 1900-01-02 18:00:00, 1900-01-02 19:00:00, 1900-01-02 20:00:00, 1900-01-02 21:00:00, 1900-01-02 22:00:00, 1900-01-02 23:00:00, 1900-01-03 00:00:00, 1900-01-03 01:00:00, 1900-01-03 02:00:00, 1900-01-03 03:00:00, 1900-01-03 04:00:00, 1900-01-03 05:00:00, 1900-01-03 06:00:00, 1900-01-03 07:00:00, 1900-01-03 08:00:00, 1900-01-03 09:00:00, 1900-01-03 10:00:00, 1900-01-03 11:00:00, 1900-01-03 12:00:00, 1900-01-03 13:00:00, 1900-01-03 14:00:00, 1900-01-03 15:00:00, 1900-01-03 16:00:00, 1900-01-03 17:00:00, 1900-01-03 18:00:00, 1900-01-03 19:00:00, 1900-01-03 20:00:00, 1900-01-03 21:00:00, 1900-01-03 22:00:00, 1900-01-03 23:00:00, 1900-01-04 00:00:00, 1900-01-04 01:00:00, 1900-01-04 02:00:00, 1900-01-04 03:00:00, 1900-01-04 04:00:00, 1900-01-04 05:00:00, 1900-01-04 06:00:00, 1900-01-04 07:00:00, 1900-01-04 08:00:00, 1900-01-04 09:00:00, 1900-01-04 10:00:00, 1900-01-04 11:00:00, 1900-01-04 12:00:00, 1900-01-04 13:00:00, 1900-01-04 14:00:00, 1900-01-04 15:00:00, 1900-01-04 16:00:00, 1900-01-04 17:00:00, 1900-01-04 18:00:00, 1900-01-04 19:00:00, 1900-01-04 20:00:00, 1900-01-04 21:00:00, 1900-01-04 22:00:00, 1900-01-04 23:00:00, 1900-01-05 00:00:00, 1900-01-05 01:00:00, 1900-01-05 02:00:00, 1900-01-05 03:00:00, ...]\n \n [8760 rows x 0 columns],\n 'q_set': Empty DataFrame\n Columns: []\n Index: [1900-01-01 00:00:00, 1900-01-01 01:00:00, 1900-01-01 02:00:00, 1900-01-01 03:00:00, 1900-01-01 04:00:00, 1900-01-01 05:00:00, 1900-01-01 06:00:00, 1900-01-01 07:00:00, 1900-01-01 08:00:00, 1900-01-01 09:00:00, 1900-01-01 10:00:00, 1900-01-01 11:00:00, 1900-01-01 12:00:00, 1900-01-01 13:00:00, 1900-01-01 14:00:00, 1900-01-01 15:00:00, 1900-01-01 16:00:00, 1900-01-01 17:00:00, 1900-01-01 18:00:00, 1900-01-01 19:00:00, 1900-01-01 20:00:00, 1900-01-01 21:00:00, 1900-01-01 22:00:00, 1900-01-01 23:00:00, 1900-01-02 00:00:00, 1900-01-02 01:00:00, 1900-01-02 02:00:00, 1900-01-02 03:00:00, 1900-01-02 04:00:00, 1900-01-02 05:00:00, 1900-01-02 06:00:00, 1900-01-02 07:00:00, 1900-01-02 08:00:00, 1900-01-02 09:00:00, 1900-01-02 10:00:00, 1900-01-02 11:00:00, 1900-01-02 12:00:00, 1900-01-02 13:00:00, 1900-01-02 14:00:00, 1900-01-02 15:00:00, 1900-01-02 16:00:00, 1900-01-02 17:00:00, 1900-01-02 18:00:00, 1900-01-02 19:00:00, 1900-01-02 20:00:00, 1900-01-02 21:00:00, 1900-01-02 22:00:00, 1900-01-02 23:00:00, 1900-01-03 00:00:00, 1900-01-03 01:00:00, 1900-01-03 02:00:00, 1900-01-03 03:00:00, 1900-01-03 04:00:00, 1900-01-03 05:00:00, 1900-01-03 06:00:00, 1900-01-03 07:00:00, 1900-01-03 08:00:00, 1900-01-03 09:00:00, 1900-01-03 10:00:00, 1900-01-03 11:00:00, 1900-01-03 12:00:00, 1900-01-03 13:00:00, 1900-01-03 14:00:00, 1900-01-03 15:00:00, 1900-01-03 16:00:00, 1900-01-03 17:00:00, 1900-01-03 18:00:00, 1900-01-03 19:00:00, 1900-01-03 20:00:00, 1900-01-03 21:00:00, 1900-01-03 22:00:00, 1900-01-03 23:00:00, 1900-01-04 00:00:00, 1900-01-04 01:00:00, 1900-01-04 02:00:00, 1900-01-04 03:00:00, 1900-01-04 04:00:00, 1900-01-04 05:00:00, 1900-01-04 06:00:00, 1900-01-04 07:00:00, 1900-01-04 08:00:00, 1900-01-04 09:00:00, 1900-01-04 10:00:00, 1900-01-04 11:00:00, 1900-01-04 12:00:00, 1900-01-04 13:00:00, 1900-01-04 14:00:00, 1900-01-04 15:00:00, 1900-01-04 16:00:00, 1900-01-04 17:00:00, 1900-01-04 18:00:00, 1900-01-04 19:00:00, 1900-01-04 20:00:00, 1900-01-04 21:00:00, 1900-01-04 22:00:00, 1900-01-04 23:00:00, 1900-01-05 00:00:00, 1900-01-05 01:00:00, 1900-01-05 02:00:00, 1900-01-05 03:00:00, ...]\n \n [8760 rows x 0 columns],\n 'marginal_cost': Empty DataFrame\n Columns: []\n Index: [1900-01-01 00:00:00, 1900-01-01 01:00:00, 1900-01-01 02:00:00, 1900-01-01 03:00:00, 1900-01-01 04:00:00, 1900-01-01 05:00:00, 1900-01-01 06:00:00, 1900-01-01 07:00:00, 1900-01-01 08:00:00, 1900-01-01 09:00:00, 1900-01-01 10:00:00, 1900-01-01 11:00:00, 1900-01-01 12:00:00, 1900-01-01 13:00:00, 1900-01-01 14:00:00, 1900-01-01 15:00:00, 1900-01-01 16:00:00, 1900-01-01 17:00:00, 1900-01-01 18:00:00, 1900-01-01 19:00:00, 1900-01-01 20:00:00, 1900-01-01 21:00:00, 1900-01-01 22:00:00, 1900-01-01 23:00:00, 1900-01-02 00:00:00, 1900-01-02 01:00:00, 1900-01-02 02:00:00, 1900-01-02 03:00:00, 1900-01-02 04:00:00, 1900-01-02 05:00:00, 1900-01-02 06:00:00, 1900-01-02 07:00:00, 1900-01-02 08:00:00, 1900-01-02 09:00:00, 1900-01-02 10:00:00, 1900-01-02 11:00:00, 1900-01-02 12:00:00, 1900-01-02 13:00:00, 1900-01-02 14:00:00, 1900-01-02 15:00:00, 1900-01-02 16:00:00, 1900-01-02 17:00:00, 1900-01-02 18:00:00, 1900-01-02 19:00:00, 1900-01-02 20:00:00, 1900-01-02 21:00:00, 1900-01-02 22:00:00, 1900-01-02 23:00:00, 1900-01-03 00:00:00, 1900-01-03 01:00:00, 1900-01-03 02:00:00, 1900-01-03 03:00:00, 1900-01-03 04:00:00, 1900-01-03 05:00:00, 1900-01-03 06:00:00, 1900-01-03 07:00:00, 1900-01-03 08:00:00, 1900-01-03 09:00:00, 1900-01-03 10:00:00, 1900-01-03 11:00:00, 1900-01-03 12:00:00, 1900-01-03 13:00:00, 1900-01-03 14:00:00, 1900-01-03 15:00:00, 1900-01-03 16:00:00, 1900-01-03 17:00:00, 1900-01-03 18:00:00, 1900-01-03 19:00:00, 1900-01-03 20:00:00, 1900-01-03 21:00:00, 1900-01-03 22:00:00, 1900-01-03 23:00:00, 1900-01-04 00:00:00, 1900-01-04 01:00:00, 1900-01-04 02:00:00, 1900-01-04 03:00:00, 1900-01-04 04:00:00, 1900-01-04 05:00:00, 1900-01-04 06:00:00, 1900-01-04 07:00:00, 1900-01-04 08:00:00, 1900-01-04 09:00:00, 1900-01-04 10:00:00, 1900-01-04 11:00:00, 1900-01-04 12:00:00, 1900-01-04 13:00:00, 1900-01-04 14:00:00, 1900-01-04 15:00:00, 1900-01-04 16:00:00, 1900-01-04 17:00:00, 1900-01-04 18:00:00, 1900-01-04 19:00:00, 1900-01-04 20:00:00, 1900-01-04 21:00:00, 1900-01-04 22:00:00, 1900-01-04 23:00:00, 1900-01-05 00:00:00, 1900-01-05 01:00:00, 1900-01-05 02:00:00, 1900-01-05 03:00:00, ...]\n \n [8760 rows x 0 columns],\n 'marginal_cost_quadratic': Empty DataFrame\n Columns: []\n Index: [1900-01-01 00:00:00, 1900-01-01 01:00:00, 1900-01-01 02:00:00, 1900-01-01 03:00:00, 1900-01-01 04:00:00, 1900-01-01 05:00:00, 1900-01-01 06:00:00, 1900-01-01 07:00:00, 1900-01-01 08:00:00, 1900-01-01 09:00:00, 1900-01-01 10:00:00, 1900-01-01 11:00:00, 1900-01-01 12:00:00, 1900-01-01 13:00:00, 1900-01-01 14:00:00, 1900-01-01 15:00:00, 1900-01-01 16:00:00, 1900-01-01 17:00:00, 1900-01-01 18:00:00, 1900-01-01 19:00:00, 1900-01-01 20:00:00, 1900-01-01 21:00:00, 1900-01-01 22:00:00, 1900-01-01 23:00:00, 1900-01-02 00:00:00, 1900-01-02 01:00:00, 1900-01-02 02:00:00, 1900-01-02 03:00:00, 1900-01-02 04:00:00, 1900-01-02 05:00:00, 1900-01-02 06:00:00, 1900-01-02 07:00:00, 1900-01-02 08:00:00, 1900-01-02 09:00:00, 1900-01-02 10:00:00, 1900-01-02 11:00:00, 1900-01-02 12:00:00, 1900-01-02 13:00:00, 1900-01-02 14:00:00, 1900-01-02 15:00:00, 1900-01-02 16:00:00, 1900-01-02 17:00:00, 1900-01-02 18:00:00, 1900-01-02 19:00:00, 1900-01-02 20:00:00, 1900-01-02 21:00:00, 1900-01-02 22:00:00, 1900-01-02 23:00:00, 1900-01-03 00:00:00, 1900-01-03 01:00:00, 1900-01-03 02:00:00, 1900-01-03 03:00:00, 1900-01-03 04:00:00, 1900-01-03 05:00:00, 1900-01-03 06:00:00, 1900-01-03 07:00:00, 1900-01-03 08:00:00, 1900-01-03 09:00:00, 1900-01-03 10:00:00, 1900-01-03 11:00:00, 1900-01-03 12:00:00, 1900-01-03 13:00:00, 1900-01-03 14:00:00, 1900-01-03 15:00:00, 1900-01-03 16:00:00, 1900-01-03 17:00:00, 1900-01-03 18:00:00, 1900-01-03 19:00:00, 1900-01-03 20:00:00, 1900-01-03 21:00:00, 1900-01-03 22:00:00, 1900-01-03 23:00:00, 1900-01-04 00:00:00, 1900-01-04 01:00:00, 1900-01-04 02:00:00, 1900-01-04 03:00:00, 1900-01-04 04:00:00, 1900-01-04 05:00:00, 1900-01-04 06:00:00, 1900-01-04 07:00:00, 1900-01-04 08:00:00, 1900-01-04 09:00:00, 1900-01-04 10:00:00, 1900-01-04 11:00:00, 1900-01-04 12:00:00, 1900-01-04 13:00:00, 1900-01-04 14:00:00, 1900-01-04 15:00:00, 1900-01-04 16:00:00, 1900-01-04 17:00:00, 1900-01-04 18:00:00, 1900-01-04 19:00:00, 1900-01-04 20:00:00, 1900-01-04 21:00:00, 1900-01-04 22:00:00, 1900-01-04 23:00:00, 1900-01-05 00:00:00, 1900-01-05 01:00:00, 1900-01-05 02:00:00, 1900-01-05 03:00:00, ...]\n \n [8760 rows x 0 columns],\n 'efficiency': Empty DataFrame\n Columns: []\n Index: [1900-01-01 00:00:00, 1900-01-01 01:00:00, 1900-01-01 02:00:00, 1900-01-01 03:00:00, 1900-01-01 04:00:00, 1900-01-01 05:00:00, 1900-01-01 06:00:00, 1900-01-01 07:00:00, 1900-01-01 08:00:00, 1900-01-01 09:00:00, 1900-01-01 10:00:00, 1900-01-01 11:00:00, 1900-01-01 12:00:00, 1900-01-01 13:00:00, 1900-01-01 14:00:00, 1900-01-01 15:00:00, 1900-01-01 16:00:00, 1900-01-01 17:00:00, 1900-01-01 18:00:00, 1900-01-01 19:00:00, 1900-01-01 20:00:00, 1900-01-01 21:00:00, 1900-01-01 22:00:00, 1900-01-01 23:00:00, 1900-01-02 00:00:00, 1900-01-02 01:00:00, 1900-01-02 02:00:00, 1900-01-02 03:00:00, 1900-01-02 04:00:00, 1900-01-02 05:00:00, 1900-01-02 06:00:00, 1900-01-02 07:00:00, 1900-01-02 08:00:00, 1900-01-02 09:00:00, 1900-01-02 10:00:00, 1900-01-02 11:00:00, 1900-01-02 12:00:00, 1900-01-02 13:00:00, 1900-01-02 14:00:00, 1900-01-02 15:00:00, 1900-01-02 16:00:00, 1900-01-02 17:00:00, 1900-01-02 18:00:00, 1900-01-02 19:00:00, 1900-01-02 20:00:00, 1900-01-02 21:00:00, 1900-01-02 22:00:00, 1900-01-02 23:00:00, 1900-01-03 00:00:00, 1900-01-03 01:00:00, 1900-01-03 02:00:00, 1900-01-03 03:00:00, 1900-01-03 04:00:00, 1900-01-03 05:00:00, 1900-01-03 06:00:00, 1900-01-03 07:00:00, 1900-01-03 08:00:00, 1900-01-03 09:00:00, 1900-01-03 10:00:00, 1900-01-03 11:00:00, 1900-01-03 12:00:00, 1900-01-03 13:00:00, 1900-01-03 14:00:00, 1900-01-03 15:00:00, 1900-01-03 16:00:00, 1900-01-03 17:00:00, 1900-01-03 18:00:00, 1900-01-03 19:00:00, 1900-01-03 20:00:00, 1900-01-03 21:00:00, 1900-01-03 22:00:00, 1900-01-03 23:00:00, 1900-01-04 00:00:00, 1900-01-04 01:00:00, 1900-01-04 02:00:00, 1900-01-04 03:00:00, 1900-01-04 04:00:00, 1900-01-04 05:00:00, 1900-01-04 06:00:00, 1900-01-04 07:00:00, 1900-01-04 08:00:00, 1900-01-04 09:00:00, 1900-01-04 10:00:00, 1900-01-04 11:00:00, 1900-01-04 12:00:00, 1900-01-04 13:00:00, 1900-01-04 14:00:00, 1900-01-04 15:00:00, 1900-01-04 16:00:00, 1900-01-04 17:00:00, 1900-01-04 18:00:00, 1900-01-04 19:00:00, 1900-01-04 20:00:00, 1900-01-04 21:00:00, 1900-01-04 22:00:00, 1900-01-04 23:00:00, 1900-01-05 00:00:00, 1900-01-05 01:00:00, 1900-01-05 02:00:00, 1900-01-05 03:00:00, ...]\n \n [8760 rows x 0 columns],\n 'stand_by_cost': Empty DataFrame\n Columns: []\n Index: [1900-01-01 00:00:00, 1900-01-01 01:00:00, 1900-01-01 02:00:00, 1900-01-01 03:00:00, 1900-01-01 04:00:00, 1900-01-01 05:00:00, 1900-01-01 06:00:00, 1900-01-01 07:00:00, 1900-01-01 08:00:00, 1900-01-01 09:00:00, 1900-01-01 10:00:00, 1900-01-01 11:00:00, 1900-01-01 12:00:00, 1900-01-01 13:00:00, 1900-01-01 14:00:00, 1900-01-01 15:00:00, 1900-01-01 16:00:00, 1900-01-01 17:00:00, 1900-01-01 18:00:00, 1900-01-01 19:00:00, 1900-01-01 20:00:00, 1900-01-01 21:00:00, 1900-01-01 22:00:00, 1900-01-01 23:00:00, 1900-01-02 00:00:00, 1900-01-02 01:00:00, 1900-01-02 02:00:00, 1900-01-02 03:00:00, 1900-01-02 04:00:00, 1900-01-02 05:00:00, 1900-01-02 06:00:00, 1900-01-02 07:00:00, 1900-01-02 08:00:00, 1900-01-02 09:00:00, 1900-01-02 10:00:00, 1900-01-02 11:00:00, 1900-01-02 12:00:00, 1900-01-02 13:00:00, 1900-01-02 14:00:00, 1900-01-02 15:00:00, 1900-01-02 16:00:00, 1900-01-02 17:00:00, 1900-01-02 18:00:00, 1900-01-02 19:00:00, 1900-01-02 20:00:00, 1900-01-02 21:00:00, 1900-01-02 22:00:00, 1900-01-02 23:00:00, 1900-01-03 00:00:00, 1900-01-03 01:00:00, 1900-01-03 02:00:00, 1900-01-03 03:00:00, 1900-01-03 04:00:00, 1900-01-03 05:00:00, 1900-01-03 06:00:00, 1900-01-03 07:00:00, 1900-01-03 08:00:00, 1900-01-03 09:00:00, 1900-01-03 10:00:00, 1900-01-03 11:00:00, 1900-01-03 12:00:00, 1900-01-03 13:00:00, 1900-01-03 14:00:00, 1900-01-03 15:00:00, 1900-01-03 16:00:00, 1900-01-03 17:00:00, 1900-01-03 18:00:00, 1900-01-03 19:00:00, 1900-01-03 20:00:00, 1900-01-03 21:00:00, 1900-01-03 22:00:00, 1900-01-03 23:00:00, 1900-01-04 00:00:00, 1900-01-04 01:00:00, 1900-01-04 02:00:00, 1900-01-04 03:00:00, 1900-01-04 04:00:00, 1900-01-04 05:00:00, 1900-01-04 06:00:00, 1900-01-04 07:00:00, 1900-01-04 08:00:00, 1900-01-04 09:00:00, 1900-01-04 10:00:00, 1900-01-04 11:00:00, 1900-01-04 12:00:00, 1900-01-04 13:00:00, 1900-01-04 14:00:00, 1900-01-04 15:00:00, 1900-01-04 16:00:00, 1900-01-04 17:00:00, 1900-01-04 18:00:00, 1900-01-04 19:00:00, 1900-01-04 20:00:00, 1900-01-04 21:00:00, 1900-01-04 22:00:00, 1900-01-04 23:00:00, 1900-01-05 00:00:00, 1900-01-05 01:00:00, 1900-01-05 02:00:00, 1900-01-05 03:00:00, ...]\n \n [8760 rows x 0 columns],\n 'p': Generator            Stinky-Coal  Stinky-Gas  Stinky-Oil  Biomass  \\\n snapshot                                                            \n 1900-01-01 00:00:00     12207.42       255.5         0.0      0.0   \n 1900-01-01 01:00:00     11929.71       255.5         0.0      0.0   \n 1900-01-01 02:00:00     11825.86       255.5         0.0      0.0   \n 1900-01-01 03:00:00     12323.26       255.5         0.0      0.0   \n 1900-01-01 04:00:00     11621.81       255.5         0.0      0.0   \n ...                          ...         ...         ...      ...   \n 1900-12-31 19:00:00     15994.98       255.5         0.0      0.0   \n 1900-12-31 20:00:00     14984.06       255.5         0.0      0.0   \n 1900-12-31 21:00:00     14398.04       255.5         0.0      0.0   \n 1900-12-31 22:00:00     13505.76       255.5         0.0      0.0   \n 1900-12-31 23:00:00     13505.76       255.5         0.0      0.0   \n \n Generator            Hydroelectric    Wind  \n snapshot                                    \n 1900-01-01 00:00:00          395.0  1760.0  \n 1900-01-01 01:00:00          395.0  1760.0  \n 1900-01-01 02:00:00          395.0  1760.0  \n 1900-01-01 03:00:00          395.0  1760.0  \n 1900-01-01 04:00:00          395.0  1760.0  \n ...                            ...     ...  \n 1900-12-31 19:00:00          395.0  1760.0  \n 1900-12-31 20:00:00          395.0  1760.0  \n 1900-12-31 21:00:00          395.0  1760.0  \n 1900-12-31 22:00:00          395.0  1760.0  \n 1900-12-31 23:00:00          395.0  1760.0  \n \n [8760 rows x 6 columns],\n 'q': Empty DataFrame\n Columns: []\n Index: [1900-01-01 00:00:00, 1900-01-01 01:00:00, 1900-01-01 02:00:00, 1900-01-01 03:00:00, 1900-01-01 04:00:00, 1900-01-01 05:00:00, 1900-01-01 06:00:00, 1900-01-01 07:00:00, 1900-01-01 08:00:00, 1900-01-01 09:00:00, 1900-01-01 10:00:00, 1900-01-01 11:00:00, 1900-01-01 12:00:00, 1900-01-01 13:00:00, 1900-01-01 14:00:00, 1900-01-01 15:00:00, 1900-01-01 16:00:00, 1900-01-01 17:00:00, 1900-01-01 18:00:00, 1900-01-01 19:00:00, 1900-01-01 20:00:00, 1900-01-01 21:00:00, 1900-01-01 22:00:00, 1900-01-01 23:00:00, 1900-01-02 00:00:00, 1900-01-02 01:00:00, 1900-01-02 02:00:00, 1900-01-02 03:00:00, 1900-01-02 04:00:00, 1900-01-02 05:00:00, 1900-01-02 06:00:00, 1900-01-02 07:00:00, 1900-01-02 08:00:00, 1900-01-02 09:00:00, 1900-01-02 10:00:00, 1900-01-02 11:00:00, 1900-01-02 12:00:00, 1900-01-02 13:00:00, 1900-01-02 14:00:00, 1900-01-02 15:00:00, 1900-01-02 16:00:00, 1900-01-02 17:00:00, 1900-01-02 18:00:00, 1900-01-02 19:00:00, 1900-01-02 20:00:00, 1900-01-02 21:00:00, 1900-01-02 22:00:00, 1900-01-02 23:00:00, 1900-01-03 00:00:00, 1900-01-03 01:00:00, 1900-01-03 02:00:00, 1900-01-03 03:00:00, 1900-01-03 04:00:00, 1900-01-03 05:00:00, 1900-01-03 06:00:00, 1900-01-03 07:00:00, 1900-01-03 08:00:00, 1900-01-03 09:00:00, 1900-01-03 10:00:00, 1900-01-03 11:00:00, 1900-01-03 12:00:00, 1900-01-03 13:00:00, 1900-01-03 14:00:00, 1900-01-03 15:00:00, 1900-01-03 16:00:00, 1900-01-03 17:00:00, 1900-01-03 18:00:00, 1900-01-03 19:00:00, 1900-01-03 20:00:00, 1900-01-03 21:00:00, 1900-01-03 22:00:00, 1900-01-03 23:00:00, 1900-01-04 00:00:00, 1900-01-04 01:00:00, 1900-01-04 02:00:00, 1900-01-04 03:00:00, 1900-01-04 04:00:00, 1900-01-04 05:00:00, 1900-01-04 06:00:00, 1900-01-04 07:00:00, 1900-01-04 08:00:00, 1900-01-04 09:00:00, 1900-01-04 10:00:00, 1900-01-04 11:00:00, 1900-01-04 12:00:00, 1900-01-04 13:00:00, 1900-01-04 14:00:00, 1900-01-04 15:00:00, 1900-01-04 16:00:00, 1900-01-04 17:00:00, 1900-01-04 18:00:00, 1900-01-04 19:00:00, 1900-01-04 20:00:00, 1900-01-04 21:00:00, 1900-01-04 22:00:00, 1900-01-04 23:00:00, 1900-01-05 00:00:00, 1900-01-05 01:00:00, 1900-01-05 02:00:00, 1900-01-05 03:00:00, ...]\n \n [8760 rows x 0 columns],\n 'status': Generator-com        Stinky-Coal  Stinky-Gas  Stinky-Oil  Biomass  \\\n snapshot                                                            \n 1900-01-01 00:00:00          1.0         1.0         0.0      0.0   \n 1900-01-01 01:00:00          1.0         1.0         0.0      0.0   \n 1900-01-01 02:00:00          1.0         1.0         0.0      0.0   \n 1900-01-01 03:00:00          1.0         1.0         0.0      0.0   \n 1900-01-01 04:00:00          1.0         1.0         0.0      0.0   \n ...                          ...         ...         ...      ...   \n 1900-12-31 19:00:00          1.0         1.0         0.0      0.0   \n 1900-12-31 20:00:00          1.0         1.0         0.0      0.0   \n 1900-12-31 21:00:00          1.0         1.0         0.0      0.0   \n 1900-12-31 22:00:00          1.0         1.0         0.0      0.0   \n 1900-12-31 23:00:00          1.0         1.0         0.0      0.0   \n \n Generator-com        Hydroelectric  \n snapshot                            \n 1900-01-01 00:00:00            1.0  \n 1900-01-01 01:00:00            1.0  \n 1900-01-01 02:00:00            1.0  \n 1900-01-01 03:00:00            1.0  \n 1900-01-01 04:00:00            1.0  \n ...                            ...  \n 1900-12-31 19:00:00            1.0  \n 1900-12-31 20:00:00            1.0  \n 1900-12-31 21:00:00            1.0  \n 1900-12-31 22:00:00            1.0  \n 1900-12-31 23:00:00            1.0  \n \n [8760 rows x 5 columns],\n 'mu_upper': Empty DataFrame\n Columns: []\n Index: [1900-01-01 00:00:00, 1900-01-01 01:00:00, 1900-01-01 02:00:00, 1900-01-01 03:00:00, 1900-01-01 04:00:00, 1900-01-01 05:00:00, 1900-01-01 06:00:00, 1900-01-01 07:00:00, 1900-01-01 08:00:00, 1900-01-01 09:00:00, 1900-01-01 10:00:00, 1900-01-01 11:00:00, 1900-01-01 12:00:00, 1900-01-01 13:00:00, 1900-01-01 14:00:00, 1900-01-01 15:00:00, 1900-01-01 16:00:00, 1900-01-01 17:00:00, 1900-01-01 18:00:00, 1900-01-01 19:00:00, 1900-01-01 20:00:00, 1900-01-01 21:00:00, 1900-01-01 22:00:00, 1900-01-01 23:00:00, 1900-01-02 00:00:00, 1900-01-02 01:00:00, 1900-01-02 02:00:00, 1900-01-02 03:00:00, 1900-01-02 04:00:00, 1900-01-02 05:00:00, 1900-01-02 06:00:00, 1900-01-02 07:00:00, 1900-01-02 08:00:00, 1900-01-02 09:00:00, 1900-01-02 10:00:00, 1900-01-02 11:00:00, 1900-01-02 12:00:00, 1900-01-02 13:00:00, 1900-01-02 14:00:00, 1900-01-02 15:00:00, 1900-01-02 16:00:00, 1900-01-02 17:00:00, 1900-01-02 18:00:00, 1900-01-02 19:00:00, 1900-01-02 20:00:00, 1900-01-02 21:00:00, 1900-01-02 22:00:00, 1900-01-02 23:00:00, 1900-01-03 00:00:00, 1900-01-03 01:00:00, 1900-01-03 02:00:00, 1900-01-03 03:00:00, 1900-01-03 04:00:00, 1900-01-03 05:00:00, 1900-01-03 06:00:00, 1900-01-03 07:00:00, 1900-01-03 08:00:00, 1900-01-03 09:00:00, 1900-01-03 10:00:00, 1900-01-03 11:00:00, 1900-01-03 12:00:00, 1900-01-03 13:00:00, 1900-01-03 14:00:00, 1900-01-03 15:00:00, 1900-01-03 16:00:00, 1900-01-03 17:00:00, 1900-01-03 18:00:00, 1900-01-03 19:00:00, 1900-01-03 20:00:00, 1900-01-03 21:00:00, 1900-01-03 22:00:00, 1900-01-03 23:00:00, 1900-01-04 00:00:00, 1900-01-04 01:00:00, 1900-01-04 02:00:00, 1900-01-04 03:00:00, 1900-01-04 04:00:00, 1900-01-04 05:00:00, 1900-01-04 06:00:00, 1900-01-04 07:00:00, 1900-01-04 08:00:00, 1900-01-04 09:00:00, 1900-01-04 10:00:00, 1900-01-04 11:00:00, 1900-01-04 12:00:00, 1900-01-04 13:00:00, 1900-01-04 14:00:00, 1900-01-04 15:00:00, 1900-01-04 16:00:00, 1900-01-04 17:00:00, 1900-01-04 18:00:00, 1900-01-04 19:00:00, 1900-01-04 20:00:00, 1900-01-04 21:00:00, 1900-01-04 22:00:00, 1900-01-04 23:00:00, 1900-01-05 00:00:00, 1900-01-05 01:00:00, 1900-01-05 02:00:00, 1900-01-05 03:00:00, ...]\n \n [8760 rows x 0 columns],\n 'mu_lower': Empty DataFrame\n Columns: []\n Index: [1900-01-01 00:00:00, 1900-01-01 01:00:00, 1900-01-01 02:00:00, 1900-01-01 03:00:00, 1900-01-01 04:00:00, 1900-01-01 05:00:00, 1900-01-01 06:00:00, 1900-01-01 07:00:00, 1900-01-01 08:00:00, 1900-01-01 09:00:00, 1900-01-01 10:00:00, 1900-01-01 11:00:00, 1900-01-01 12:00:00, 1900-01-01 13:00:00, 1900-01-01 14:00:00, 1900-01-01 15:00:00, 1900-01-01 16:00:00, 1900-01-01 17:00:00, 1900-01-01 18:00:00, 1900-01-01 19:00:00, 1900-01-01 20:00:00, 1900-01-01 21:00:00, 1900-01-01 22:00:00, 1900-01-01 23:00:00, 1900-01-02 00:00:00, 1900-01-02 01:00:00, 1900-01-02 02:00:00, 1900-01-02 03:00:00, 1900-01-02 04:00:00, 1900-01-02 05:00:00, 1900-01-02 06:00:00, 1900-01-02 07:00:00, 1900-01-02 08:00:00, 1900-01-02 09:00:00, 1900-01-02 10:00:00, 1900-01-02 11:00:00, 1900-01-02 12:00:00, 1900-01-02 13:00:00, 1900-01-02 14:00:00, 1900-01-02 15:00:00, 1900-01-02 16:00:00, 1900-01-02 17:00:00, 1900-01-02 18:00:00, 1900-01-02 19:00:00, 1900-01-02 20:00:00, 1900-01-02 21:00:00, 1900-01-02 22:00:00, 1900-01-02 23:00:00, 1900-01-03 00:00:00, 1900-01-03 01:00:00, 1900-01-03 02:00:00, 1900-01-03 03:00:00, 1900-01-03 04:00:00, 1900-01-03 05:00:00, 1900-01-03 06:00:00, 1900-01-03 07:00:00, 1900-01-03 08:00:00, 1900-01-03 09:00:00, 1900-01-03 10:00:00, 1900-01-03 11:00:00, 1900-01-03 12:00:00, 1900-01-03 13:00:00, 1900-01-03 14:00:00, 1900-01-03 15:00:00, 1900-01-03 16:00:00, 1900-01-03 17:00:00, 1900-01-03 18:00:00, 1900-01-03 19:00:00, 1900-01-03 20:00:00, 1900-01-03 21:00:00, 1900-01-03 22:00:00, 1900-01-03 23:00:00, 1900-01-04 00:00:00, 1900-01-04 01:00:00, 1900-01-04 02:00:00, 1900-01-04 03:00:00, 1900-01-04 04:00:00, 1900-01-04 05:00:00, 1900-01-04 06:00:00, 1900-01-04 07:00:00, 1900-01-04 08:00:00, 1900-01-04 09:00:00, 1900-01-04 10:00:00, 1900-01-04 11:00:00, 1900-01-04 12:00:00, 1900-01-04 13:00:00, 1900-01-04 14:00:00, 1900-01-04 15:00:00, 1900-01-04 16:00:00, 1900-01-04 17:00:00, 1900-01-04 18:00:00, 1900-01-04 19:00:00, 1900-01-04 20:00:00, 1900-01-04 21:00:00, 1900-01-04 22:00:00, 1900-01-04 23:00:00, 1900-01-05 00:00:00, 1900-01-05 01:00:00, 1900-01-05 02:00:00, 1900-01-05 03:00:00, ...]\n \n [8760 rows x 0 columns],\n 'mu_p_set': Empty DataFrame\n Columns: []\n Index: [1900-01-01 00:00:00, 1900-01-01 01:00:00, 1900-01-01 02:00:00, 1900-01-01 03:00:00, 1900-01-01 04:00:00, 1900-01-01 05:00:00, 1900-01-01 06:00:00, 1900-01-01 07:00:00, 1900-01-01 08:00:00, 1900-01-01 09:00:00, 1900-01-01 10:00:00, 1900-01-01 11:00:00, 1900-01-01 12:00:00, 1900-01-01 13:00:00, 1900-01-01 14:00:00, 1900-01-01 15:00:00, 1900-01-01 16:00:00, 1900-01-01 17:00:00, 1900-01-01 18:00:00, 1900-01-01 19:00:00, 1900-01-01 20:00:00, 1900-01-01 21:00:00, 1900-01-01 22:00:00, 1900-01-01 23:00:00, 1900-01-02 00:00:00, 1900-01-02 01:00:00, 1900-01-02 02:00:00, 1900-01-02 03:00:00, 1900-01-02 04:00:00, 1900-01-02 05:00:00, 1900-01-02 06:00:00, 1900-01-02 07:00:00, 1900-01-02 08:00:00, 1900-01-02 09:00:00, 1900-01-02 10:00:00, 1900-01-02 11:00:00, 1900-01-02 12:00:00, 1900-01-02 13:00:00, 1900-01-02 14:00:00, 1900-01-02 15:00:00, 1900-01-02 16:00:00, 1900-01-02 17:00:00, 1900-01-02 18:00:00, 1900-01-02 19:00:00, 1900-01-02 20:00:00, 1900-01-02 21:00:00, 1900-01-02 22:00:00, 1900-01-02 23:00:00, 1900-01-03 00:00:00, 1900-01-03 01:00:00, 1900-01-03 02:00:00, 1900-01-03 03:00:00, 1900-01-03 04:00:00, 1900-01-03 05:00:00, 1900-01-03 06:00:00, 1900-01-03 07:00:00, 1900-01-03 08:00:00, 1900-01-03 09:00:00, 1900-01-03 10:00:00, 1900-01-03 11:00:00, 1900-01-03 12:00:00, 1900-01-03 13:00:00, 1900-01-03 14:00:00, 1900-01-03 15:00:00, 1900-01-03 16:00:00, 1900-01-03 17:00:00, 1900-01-03 18:00:00, 1900-01-03 19:00:00, 1900-01-03 20:00:00, 1900-01-03 21:00:00, 1900-01-03 22:00:00, 1900-01-03 23:00:00, 1900-01-04 00:00:00, 1900-01-04 01:00:00, 1900-01-04 02:00:00, 1900-01-04 03:00:00, 1900-01-04 04:00:00, 1900-01-04 05:00:00, 1900-01-04 06:00:00, 1900-01-04 07:00:00, 1900-01-04 08:00:00, 1900-01-04 09:00:00, 1900-01-04 10:00:00, 1900-01-04 11:00:00, 1900-01-04 12:00:00, 1900-01-04 13:00:00, 1900-01-04 14:00:00, 1900-01-04 15:00:00, 1900-01-04 16:00:00, 1900-01-04 17:00:00, 1900-01-04 18:00:00, 1900-01-04 19:00:00, 1900-01-04 20:00:00, 1900-01-04 21:00:00, 1900-01-04 22:00:00, 1900-01-04 23:00:00, 1900-01-05 00:00:00, 1900-01-05 01:00:00, 1900-01-05 02:00:00, 1900-01-05 03:00:00, ...]\n \n [8760 rows x 0 columns],\n 'mu_ramp_limit_up': Empty DataFrame\n Columns: []\n Index: [1900-01-01 00:00:00, 1900-01-01 01:00:00, 1900-01-01 02:00:00, 1900-01-01 03:00:00, 1900-01-01 04:00:00, 1900-01-01 05:00:00, 1900-01-01 06:00:00, 1900-01-01 07:00:00, 1900-01-01 08:00:00, 1900-01-01 09:00:00, 1900-01-01 10:00:00, 1900-01-01 11:00:00, 1900-01-01 12:00:00, 1900-01-01 13:00:00, 1900-01-01 14:00:00, 1900-01-01 15:00:00, 1900-01-01 16:00:00, 1900-01-01 17:00:00, 1900-01-01 18:00:00, 1900-01-01 19:00:00, 1900-01-01 20:00:00, 1900-01-01 21:00:00, 1900-01-01 22:00:00, 1900-01-01 23:00:00, 1900-01-02 00:00:00, 1900-01-02 01:00:00, 1900-01-02 02:00:00, 1900-01-02 03:00:00, 1900-01-02 04:00:00, 1900-01-02 05:00:00, 1900-01-02 06:00:00, 1900-01-02 07:00:00, 1900-01-02 08:00:00, 1900-01-02 09:00:00, 1900-01-02 10:00:00, 1900-01-02 11:00:00, 1900-01-02 12:00:00, 1900-01-02 13:00:00, 1900-01-02 14:00:00, 1900-01-02 15:00:00, 1900-01-02 16:00:00, 1900-01-02 17:00:00, 1900-01-02 18:00:00, 1900-01-02 19:00:00, 1900-01-02 20:00:00, 1900-01-02 21:00:00, 1900-01-02 22:00:00, 1900-01-02 23:00:00, 1900-01-03 00:00:00, 1900-01-03 01:00:00, 1900-01-03 02:00:00, 1900-01-03 03:00:00, 1900-01-03 04:00:00, 1900-01-03 05:00:00, 1900-01-03 06:00:00, 1900-01-03 07:00:00, 1900-01-03 08:00:00, 1900-01-03 09:00:00, 1900-01-03 10:00:00, 1900-01-03 11:00:00, 1900-01-03 12:00:00, 1900-01-03 13:00:00, 1900-01-03 14:00:00, 1900-01-03 15:00:00, 1900-01-03 16:00:00, 1900-01-03 17:00:00, 1900-01-03 18:00:00, 1900-01-03 19:00:00, 1900-01-03 20:00:00, 1900-01-03 21:00:00, 1900-01-03 22:00:00, 1900-01-03 23:00:00, 1900-01-04 00:00:00, 1900-01-04 01:00:00, 1900-01-04 02:00:00, 1900-01-04 03:00:00, 1900-01-04 04:00:00, 1900-01-04 05:00:00, 1900-01-04 06:00:00, 1900-01-04 07:00:00, 1900-01-04 08:00:00, 1900-01-04 09:00:00, 1900-01-04 10:00:00, 1900-01-04 11:00:00, 1900-01-04 12:00:00, 1900-01-04 13:00:00, 1900-01-04 14:00:00, 1900-01-04 15:00:00, 1900-01-04 16:00:00, 1900-01-04 17:00:00, 1900-01-04 18:00:00, 1900-01-04 19:00:00, 1900-01-04 20:00:00, 1900-01-04 21:00:00, 1900-01-04 22:00:00, 1900-01-04 23:00:00, 1900-01-05 00:00:00, 1900-01-05 01:00:00, 1900-01-05 02:00:00, 1900-01-05 03:00:00, ...]\n \n [8760 rows x 0 columns],\n 'mu_ramp_limit_down': Empty DataFrame\n Columns: []\n Index: [1900-01-01 00:00:00, 1900-01-01 01:00:00, 1900-01-01 02:00:00, 1900-01-01 03:00:00, 1900-01-01 04:00:00, 1900-01-01 05:00:00, 1900-01-01 06:00:00, 1900-01-01 07:00:00, 1900-01-01 08:00:00, 1900-01-01 09:00:00, 1900-01-01 10:00:00, 1900-01-01 11:00:00, 1900-01-01 12:00:00, 1900-01-01 13:00:00, 1900-01-01 14:00:00, 1900-01-01 15:00:00, 1900-01-01 16:00:00, 1900-01-01 17:00:00, 1900-01-01 18:00:00, 1900-01-01 19:00:00, 1900-01-01 20:00:00, 1900-01-01 21:00:00, 1900-01-01 22:00:00, 1900-01-01 23:00:00, 1900-01-02 00:00:00, 1900-01-02 01:00:00, 1900-01-02 02:00:00, 1900-01-02 03:00:00, 1900-01-02 04:00:00, 1900-01-02 05:00:00, 1900-01-02 06:00:00, 1900-01-02 07:00:00, 1900-01-02 08:00:00, 1900-01-02 09:00:00, 1900-01-02 10:00:00, 1900-01-02 11:00:00, 1900-01-02 12:00:00, 1900-01-02 13:00:00, 1900-01-02 14:00:00, 1900-01-02 15:00:00, 1900-01-02 16:00:00, 1900-01-02 17:00:00, 1900-01-02 18:00:00, 1900-01-02 19:00:00, 1900-01-02 20:00:00, 1900-01-02 21:00:00, 1900-01-02 22:00:00, 1900-01-02 23:00:00, 1900-01-03 00:00:00, 1900-01-03 01:00:00, 1900-01-03 02:00:00, 1900-01-03 03:00:00, 1900-01-03 04:00:00, 1900-01-03 05:00:00, 1900-01-03 06:00:00, 1900-01-03 07:00:00, 1900-01-03 08:00:00, 1900-01-03 09:00:00, 1900-01-03 10:00:00, 1900-01-03 11:00:00, 1900-01-03 12:00:00, 1900-01-03 13:00:00, 1900-01-03 14:00:00, 1900-01-03 15:00:00, 1900-01-03 16:00:00, 1900-01-03 17:00:00, 1900-01-03 18:00:00, 1900-01-03 19:00:00, 1900-01-03 20:00:00, 1900-01-03 21:00:00, 1900-01-03 22:00:00, 1900-01-03 23:00:00, 1900-01-04 00:00:00, 1900-01-04 01:00:00, 1900-01-04 02:00:00, 1900-01-04 03:00:00, 1900-01-04 04:00:00, 1900-01-04 05:00:00, 1900-01-04 06:00:00, 1900-01-04 07:00:00, 1900-01-04 08:00:00, 1900-01-04 09:00:00, 1900-01-04 10:00:00, 1900-01-04 11:00:00, 1900-01-04 12:00:00, 1900-01-04 13:00:00, 1900-01-04 14:00:00, 1900-01-04 15:00:00, 1900-01-04 16:00:00, 1900-01-04 17:00:00, 1900-01-04 18:00:00, 1900-01-04 19:00:00, 1900-01-04 20:00:00, 1900-01-04 21:00:00, 1900-01-04 22:00:00, 1900-01-04 23:00:00, 1900-01-05 00:00:00, 1900-01-05 01:00:00, 1900-01-05 02:00:00, 1900-01-05 03:00:00, ...]\n \n [8760 rows x 0 columns],\n 'start_up': Generator-com        Stinky-Coal  Stinky-Gas  Stinky-Oil  Biomass  \\\n snapshot                                                            \n 1900-01-01 00:00:00          1.0         1.0         1.0      1.0   \n 1900-01-01 01:00:00          0.0         1.0         0.0      0.0   \n 1900-01-01 02:00:00          0.0         1.0         0.0      0.0   \n 1900-01-01 03:00:00          0.0         1.0         0.0      0.0   \n 1900-01-01 04:00:00          0.0         1.0         0.0      0.0   \n ...                          ...         ...         ...      ...   \n 1900-12-31 19:00:00          0.0         1.0         0.0      0.0   \n 1900-12-31 20:00:00          0.0         1.0         0.0      0.0   \n 1900-12-31 21:00:00          0.0         1.0         0.0      0.0   \n 1900-12-31 22:00:00          0.0         1.0         0.0      0.0   \n 1900-12-31 23:00:00          0.0         1.0         0.0      0.0   \n \n Generator-com        Hydroelectric  \n snapshot                            \n 1900-01-01 00:00:00            0.0  \n 1900-01-01 01:00:00            0.0  \n 1900-01-01 02:00:00            0.0  \n 1900-01-01 03:00:00            0.0  \n 1900-01-01 04:00:00            0.0  \n ...                            ...  \n 1900-12-31 19:00:00            0.0  \n 1900-12-31 20:00:00            0.0  \n 1900-12-31 21:00:00            0.0  \n 1900-12-31 22:00:00            0.0  \n 1900-12-31 23:00:00            1.0  \n \n [8760 rows x 5 columns],\n 'shut_down': Generator-com        Stinky-Coal  Stinky-Gas  Stinky-Oil  Biomass  \\\n snapshot                                                            \n 1900-01-01 00:00:00          0.0         1.0         1.0      1.0   \n 1900-01-01 01:00:00          0.0         0.0         1.0      1.0   \n 1900-01-01 02:00:00          0.0         0.0         1.0      1.0   \n 1900-01-01 03:00:00          0.0         0.0         1.0      1.0   \n 1900-01-01 04:00:00          0.0         0.0         1.0      1.0   \n ...                          ...         ...         ...      ...   \n 1900-12-31 19:00:00          0.0         0.0         1.0      1.0   \n 1900-12-31 20:00:00          0.0         0.0         1.0      1.0   \n 1900-12-31 21:00:00          0.0         0.0         1.0      1.0   \n 1900-12-31 22:00:00          0.0         0.0         1.0      1.0   \n 1900-12-31 23:00:00          0.0         0.0         1.0      1.0   \n \n Generator-com        Hydroelectric  \n snapshot                            \n 1900-01-01 00:00:00            0.0  \n 1900-01-01 01:00:00            0.0  \n 1900-01-01 02:00:00            0.0  \n 1900-01-01 03:00:00            0.0  \n 1900-01-01 04:00:00            0.0  \n ...                            ...  \n 1900-12-31 19:00:00            0.0  \n 1900-12-31 20:00:00            0.0  \n 1900-12-31 21:00:00            0.0  \n 1900-12-31 22:00:00            0.0  \n 1900-12-31 23:00:00            0.0  \n \n [8760 rows x 5 columns]}"
     },
     "execution_count": 131,
     "metadata": {},
     "output_type": "execute_result"
    }
   ],
   "source": [
    "network.generators_t"
   ],
   "metadata": {
    "collapsed": false,
    "ExecuteTime": {
     "end_time": "2023-11-21T15:24:42.392012790Z",
     "start_time": "2023-11-21T15:24:42.243686597Z"
    }
   },
   "id": "aa0d38feb972787d"
  },
  {
   "cell_type": "code",
   "execution_count": 131,
   "outputs": [],
   "source": [],
   "metadata": {
    "collapsed": false,
    "ExecuteTime": {
     "end_time": "2023-11-21T15:24:42.397226014Z",
     "start_time": "2023-11-21T15:24:42.391720824Z"
    }
   },
   "id": "704f5949bc93b02f"
  }
 ],
 "metadata": {
  "kernelspec": {
   "display_name": "Python 3",
   "language": "python",
   "name": "python3"
  },
  "language_info": {
   "codemirror_mode": {
    "name": "ipython",
    "version": 2
   },
   "file_extension": ".py",
   "mimetype": "text/x-python",
   "name": "python",
   "nbconvert_exporter": "python",
   "pygments_lexer": "ipython2",
   "version": "2.7.6"
  }
 },
 "nbformat": 4,
 "nbformat_minor": 5
}
