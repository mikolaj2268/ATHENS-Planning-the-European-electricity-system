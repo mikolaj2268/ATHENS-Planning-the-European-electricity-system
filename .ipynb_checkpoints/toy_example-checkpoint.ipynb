{
 "cells": [
  {
   "cell_type": "code",
   "execution_count": 1,
   "id": "initial_id",
   "metadata": {
    "ExecuteTime": {
     "end_time": "2023-11-22T09:41:43.047484210Z",
     "start_time": "2023-11-22T09:41:43.046981413Z"
    }
   },
   "outputs": [],
   "source": [
    "%load_ext autoreload\n",
    "%autoreload 2"
   ]
  },
  {
   "cell_type": "code",
   "execution_count": 2,
   "id": "bf131124",
   "metadata": {},
   "outputs": [
    {
     "name": "stdout",
     "output_type": "stream",
     "text": [
      "Set parameter Username\n",
      "Academic license - for non-commercial use only - expires 2024-11-21\n"
     ]
    },
    {
     "data": {
      "text/plain": [
       "<gurobi.Model Continuous instance Unnamed: 0 constrs, 0 vars, Parameter changes: Username=(user-defined)>"
      ]
     },
     "execution_count": 2,
     "metadata": {},
     "output_type": "execute_result"
    }
   ],
   "source": [
    "import gurobipy\n",
    "gurobipy.Model()"
   ]
  },
  {
   "cell_type": "code",
   "execution_count": 3,
   "id": "b326e366",
   "metadata": {},
   "outputs": [
    {
     "name": "stdout",
     "output_type": "stream",
     "text": [
      "Requirement already satisfied: gurobipy in /Users/alexandrerebiere/Documents/anaconda3/lib/python3.10/site-packages (10.0.3)\n",
      "Note: you may need to restart the kernel to use updated packages.\n"
     ]
    }
   ],
   "source": [
    "%pip install gurobipy"
   ]
  },
  {
   "cell_type": "code",
   "execution_count": 4,
   "id": "ede4897f",
   "metadata": {},
   "outputs": [],
   "source": [
    "from gurobipy import *"
   ]
  },
  {
   "cell_type": "code",
   "execution_count": 5,
   "id": "cab8eda05b8bc062",
   "metadata": {
    "ExecuteTime": {
     "end_time": "2023-11-21T15:24:34.770974016Z",
     "start_time": "2023-11-21T15:24:34.677333523Z"
    }
   },
   "outputs": [],
   "source": [
    "import pypsa\n",
    "import pandas as pd\n",
    "from dataclasses import dataclass"
   ]
  },
  {
   "cell_type": "code",
   "execution_count": 6,
   "id": "c812a915bdf9860a",
   "metadata": {
    "ExecuteTime": {
     "end_time": "2023-11-21T15:24:34.860397105Z",
     "start_time": "2023-11-21T15:24:34.677527722Z"
    }
   },
   "outputs": [],
   "source": [
    "full_demand = pd.read_csv(\"./data/demand_2025_scandinavia.csv\", sep=\";\", index_col=1, parse_dates=True).groupby(pd.Grouper(key=\"climatic_year\"))\n",
    "full_wind_on_shore = pd.read_csv(\"./data/capa_factor_2025_scandinavia_onshore.csv\", index_col=1, parse_dates=True, sep=\";\").groupby(pd.Grouper(key=\"climatic_year\"))\n",
    "full_solar = pd.read_csv(\"./data/capa_factor_2025_scandinavia_solar.csv\", index_col=1, parse_dates=True, sep=\";\").groupby(pd.Grouper(key=\"climatic_year\"))\n",
    "full_wind_off_shore = pd.read_csv(\"./data/capa_factor_2025_scandinavia_offshore.csv\", index_col=1, parse_dates=True, sep=\";\").groupby(pd.Grouper(key=\"climatic_year\"))\n",
    "\n",
    "\n"
   ]
  },
  {
   "cell_type": "code",
   "execution_count": 7,
   "id": "c20c664f48edee17",
   "metadata": {
    "ExecuteTime": {
     "end_time": "2023-11-21T15:24:34.860895406Z",
     "start_time": "2023-11-21T15:24:34.800996804Z"
    }
   },
   "outputs": [],
   "source": [
    "climatic_year = 2000\n",
    "time_horizon_in_hours = 365 * 24"
   ]
  },
  {
   "cell_type": "code",
   "execution_count": 8,
   "id": "918747cd9007aef1",
   "metadata": {
    "ExecuteTime": {
     "end_time": "2023-11-21T15:24:34.862149936Z",
     "start_time": "2023-11-21T15:24:34.824339092Z"
    }
   },
   "outputs": [],
   "source": [
    "demand = full_demand.get_group(climatic_year)\n",
    "solar = full_solar.get_group(climatic_year)\n",
    "wind_on_shore = full_wind_on_shore.get_group(climatic_year)\n",
    "wind_off_shore = full_wind_off_shore.get_group(climatic_year)"
   ]
  },
  {
   "cell_type": "code",
   "execution_count": 9,
   "id": "f603f923cf15991b",
   "metadata": {
    "ExecuteTime": {
     "end_time": "2023-11-21T15:24:35.050796241Z",
     "start_time": "2023-11-21T15:24:34.853422507Z"
    }
   },
   "outputs": [],
   "source": [
    "network = pypsa.Network(snapshots=demand.index[0:time_horizon_in_hours])"
   ]
  },
  {
   "cell_type": "code",
   "execution_count": 10,
   "id": "e29ac64e2b19e0c4",
   "metadata": {
    "ExecuteTime": {
     "end_time": "2023-11-21T15:24:35.137686486Z",
     "start_time": "2023-11-21T15:24:35.093780275Z"
    }
   },
   "outputs": [],
   "source": [
    "network.add(\"Bus\", name=\"Scandinavia\", x=15.255119, y=60.128161)\n",
    "network.add(\"Bus\", name=\"Curtailment\", x=10, y=20)"
   ]
  },
  {
   "cell_type": "code",
   "execution_count": 11,
   "id": "44d2a543bc4746b8",
   "metadata": {},
   "outputs": [],
   "source": [
    "@dataclass\n",
    "class Carriers:\n",
    "    Battery = 0\n",
    "    Biomass = 230\n",
    "    Coal = 760\n",
    "    Gas = 370\n",
    "    Oil = 406\n",
    "    Hydrogen = 490\n",
    "    Hydro = 24\n",
    "    Nuclear = 12\n",
    "    Pumped = 0\n",
    "    Reservoir = 0\n",
    "    Solar = 45\n",
    "    Wind = 11"
   ]
  },
  {
   "cell_type": "code",
   "execution_count": 12,
   "id": "3d1dec97aca1d16a",
   "metadata": {
    "ExecuteTime": {
     "end_time": "2023-11-21T15:24:35.188299405Z",
     "start_time": "2023-11-21T15:24:35.137902357Z"
    }
   },
   "outputs": [],
   "source": [
    "for name, co2_emission in Carriers().__dict__.items():\n",
    "    network.add(\"Carrier\", name=name, co2_emissions=co2_emission)"
   ]
  },
  {
   "cell_type": "code",
   "execution_count": 13,
   "id": "5b92b1a3eefe4b11",
   "metadata": {
    "ExecuteTime": {
     "end_time": "2023-11-21T15:24:35.207541658Z",
     "start_time": "2023-11-21T15:24:35.184069630Z"
    }
   },
   "outputs": [],
   "source": [
    "#???\n",
    "coal_marginal_costs = 160\n",
    "gas_marginal_costs = 120\n",
    "oil_marginal_costs = 100\n",
    "nuclear_marginal_costs = 10\n",
    "hydro_marginal_costs = 0\n",
    "wind_marginal_costs = 0\n",
    "solar_marginal_costs = 0\n",
    "biomass_marginal_costs = 0\n",
    "\n",
    "\n",
    "#coal_marginal_costs = 128 / 7 / 0.37 \n",
    "#gas_marginal_costs = 2.65 * 26.4 * 0.75 / 14.9 / 0.5\n",
    "#oil_marginal_costs = 73 * 0.119 / 12.5 / 0.40"
   ]
  },
  {
   "cell_type": "code",
   "execution_count": 14,
   "id": "54d77c7a69a4c5ab",
   "metadata": {
    "ExecuteTime": {
     "end_time": "2023-11-21T15:24:35.235604753Z",
     "start_time": "2023-11-21T15:24:35.207788497Z"
    }
   },
   "outputs": [],
   "source": [
    "generators = [\n",
    "    {\"name\": \"Coal\", \"carrier\": \"Coal\", \"p_nom\": 2112, \"p_min_pu\": 0, \"p_max_pu\": 1, \"marginal_cost\": coal_marginal_costs, \"efficiency\": 0.37, \"committable\": True, \"min_up_time\": 1, \"min_down_time\": 1},\n",
    "    {\"name\": \"Gas\", \"carrier\": \"Gas\", \"p_nom\": 2640, \"p_min_pu\": 0, \"p_max_pu\": 1, \"marginal_cost\": gas_marginal_costs, \"efficiency\": 0.5,\n",
    "     \"committable\": True, \"min_up_time\": 1, \"min_down_time\": 1},\n",
    "    {\"name\": \"Oil\", \"carrier\": \"Oil\", \"p_nom\": 0, \"p_min_pu\": 0, \"p_max_pu\": 1, \"marginal_cost\": oil_marginal_costs, \"efficiency\": 0.4,\n",
    "     \"committable\": True, \"min_up_time\": 1, \"min_down_time\": 1},\n",
    "    {\"name\": \"BioEnergies\", \"carrier\": \"BioEnergies\", \"p_nom\":2540, \"p_min_pu\": 0, \"p_max_pu\": 1, \"marginal_cost\": biomass_marginal_costs, \"efficiency\": 0.5, \n",
    "     \"committable\": True, \"min_up_time\": 1, \"min_down_time\": 1},\n",
    "    {\"name\": \"Hydroelectric\", \"carrier\":\"Hydro\", \"p_nom\": 38561, \"p_min_pu\": 0, \"p_max_pu\": 1, \"marginal_cost\": hydro_marginal_costs, \"efficiency\": 1, \"committable\": True,\n",
    "     \"min_up_time\": 1, \"min_down_time\": 1},\n",
    "    {\"name\": \"Wind\", \"carrier\": \"Wind\", \"p_nom\": 22783, \"p_min_pu\":1, \"p_max_pu\": 1, \"marginal_cost\": wind_marginal_costs, \"efficiency\":1, \"committable\": False,\n",
    "     \"min_up_time\": 1, \"min_down_time\": 1},\n",
    "    {\"name\": \"Nuclear\", \"carrier\": \"Nuclear\", \"p_nom\": 9727, \"p_min_pu\":1, \"p_max_pu\": 1, \"marginal_cost\": nuclear_marginal_costs, \"efficiency\":1, \"committable\": True,\n",
    "     \"min_up_time\": 1, \"min_down_time\": 1},\n",
    "    {\"name\": \"Solar\", \"carrier\": \"Solar\", \"p_nom\": 889, \"p_min_pu\":1, \"p_max_pu\": 1, \"marginal_cost\": solar_marginal_costs, \"efficiency\":1, \"committable\": False,\n",
    "     \"min_up_time\": 1, \"min_down_time\": 1},\n",
    "    {\"name\": \"Failure\", \"carrier\": \"Failure\", \"p_nom\": 100000, \"p_min_pu\":1, \"p_max_pu\": 1, \"marginal_cost\": 100000, \"efficiency\":1, \"committable\": True,\n",
    "     \"min_up_time\": 1, \"min_down_time\": 1},\n",
    "    #{\"name\": \"Curtailment\", \"carrier\": \"Curtailment\", \"p_nom\": 100000, \"p_min_pu\":1, \"p_max_pu\": 1, \"marginal_cost\": 0, \"efficiency\":1, \"committable\": True,\n",
    "     #\"min_up_time\": 1, \"min_down_time\": 1},\n",
    "]\n",
    "\n",
    "storage_units = []\n",
    "\n",
    "links = []"
   ]
  },
  {
   "cell_type": "code",
   "execution_count": 15,
   "id": "839b7d9152f30e16",
   "metadata": {
    "ExecuteTime": {
     "end_time": "2023-11-21T15:24:35.284198819Z",
     "start_time": "2023-11-21T15:24:35.235502784Z"
    }
   },
   "outputs": [],
   "source": [
    "for generator in generators:\n",
    "    network.add(\"Generator\", bus=\"Scandinavia\", **generator,)"
   ]
  },
  {
   "cell_type": "code",
   "execution_count": 16,
   "id": "da70eddf",
   "metadata": {},
   "outputs": [
    {
     "data": {
      "text/plain": [
       "[{'name': 'Coal',\n",
       "  'carrier': 'Coal',\n",
       "  'p_nom': 2112,\n",
       "  'p_min_pu': 0,\n",
       "  'p_max_pu': 1,\n",
       "  'marginal_cost': 160,\n",
       "  'efficiency': 0.37,\n",
       "  'committable': True,\n",
       "  'min_up_time': 1,\n",
       "  'min_down_time': 1},\n",
       " {'name': 'Gas',\n",
       "  'carrier': 'Gas',\n",
       "  'p_nom': 2640,\n",
       "  'p_min_pu': 0,\n",
       "  'p_max_pu': 1,\n",
       "  'marginal_cost': 120,\n",
       "  'efficiency': 0.5,\n",
       "  'committable': True,\n",
       "  'min_up_time': 1,\n",
       "  'min_down_time': 1},\n",
       " {'name': 'Oil',\n",
       "  'carrier': 'Oil',\n",
       "  'p_nom': 0,\n",
       "  'p_min_pu': 0,\n",
       "  'p_max_pu': 1,\n",
       "  'marginal_cost': 100,\n",
       "  'efficiency': 0.4,\n",
       "  'committable': True,\n",
       "  'min_up_time': 1,\n",
       "  'min_down_time': 1},\n",
       " {'name': 'BioEnergies',\n",
       "  'carrier': 'BioEnergies',\n",
       "  'p_nom': 2540,\n",
       "  'p_min_pu': 0,\n",
       "  'p_max_pu': 1,\n",
       "  'marginal_cost': 0,\n",
       "  'efficiency': 0.5,\n",
       "  'committable': True,\n",
       "  'min_up_time': 1,\n",
       "  'min_down_time': 1},\n",
       " {'name': 'Hydroelectric',\n",
       "  'carrier': 'Hydro',\n",
       "  'p_nom': 38561,\n",
       "  'p_min_pu': 0,\n",
       "  'p_max_pu': 1,\n",
       "  'marginal_cost': 0,\n",
       "  'efficiency': 1,\n",
       "  'committable': True,\n",
       "  'min_up_time': 1,\n",
       "  'min_down_time': 1},\n",
       " {'name': 'Wind',\n",
       "  'carrier': 'Wind',\n",
       "  'p_nom': 22783,\n",
       "  'p_min_pu': 1,\n",
       "  'p_max_pu': 1,\n",
       "  'marginal_cost': 0,\n",
       "  'efficiency': 1,\n",
       "  'committable': False,\n",
       "  'min_up_time': 1,\n",
       "  'min_down_time': 1},\n",
       " {'name': 'Nuclear',\n",
       "  'carrier': 'Nuclear',\n",
       "  'p_nom': 9727,\n",
       "  'p_min_pu': 1,\n",
       "  'p_max_pu': 1,\n",
       "  'marginal_cost': 10,\n",
       "  'efficiency': 1,\n",
       "  'committable': True,\n",
       "  'min_up_time': 1,\n",
       "  'min_down_time': 1},\n",
       " {'name': 'Solar',\n",
       "  'carrier': 'Solar',\n",
       "  'p_nom': 889,\n",
       "  'p_min_pu': 1,\n",
       "  'p_max_pu': 1,\n",
       "  'marginal_cost': 0,\n",
       "  'efficiency': 1,\n",
       "  'committable': False,\n",
       "  'min_up_time': 1,\n",
       "  'min_down_time': 1},\n",
       " {'name': 'Failure',\n",
       "  'carrier': 'Failure',\n",
       "  'p_nom': 100000,\n",
       "  'p_min_pu': 1,\n",
       "  'p_max_pu': 1,\n",
       "  'marginal_cost': 100000,\n",
       "  'efficiency': 1,\n",
       "  'committable': True,\n",
       "  'min_up_time': 1,\n",
       "  'min_down_time': 1}]"
      ]
     },
     "execution_count": 16,
     "metadata": {},
     "output_type": "execute_result"
    }
   ],
   "source": [
    "generators"
   ]
  },
  {
   "cell_type": "code",
   "execution_count": 17,
   "id": "7ee363d9bc8aae92",
   "metadata": {
    "ExecuteTime": {
     "end_time": "2023-11-21T15:24:35.329671095Z",
     "start_time": "2023-11-21T15:24:35.292711206Z"
    }
   },
   "outputs": [],
   "source": [
    "#'carrier', \"AC\" ?? \n",
    "\n",
    "loads = [\n",
    "    {\"name\": \"Scandinavia-load\", \"bus\": \"Scandinavia\", \"carrier\": \"AC\",\"p_set\": demand[0:time_horizon_in_hours][\"value\"].values},\n",
    "]   "
   ]
  },
  {
   "cell_type": "code",
   "execution_count": 18,
   "id": "d409d8fc4b9ce066",
   "metadata": {
    "ExecuteTime": {
     "end_time": "2023-11-21T15:24:35.373745756Z",
     "start_time": "2023-11-21T15:24:35.329551603Z"
    }
   },
   "outputs": [],
   "source": [
    "for load in loads:\n",
    "    network.add(\"Load\", **load)"
   ]
  },
  {
   "cell_type": "code",
   "execution_count": 19,
   "id": "cd03bd1ea87454ce",
   "metadata": {
    "ExecuteTime": {
     "end_time": "2023-11-21T15:24:35.374151875Z",
     "start_time": "2023-11-21T15:24:35.373365062Z"
    }
   },
   "outputs": [
    {
     "data": {
      "text/plain": [
       "PyPSA Network\n",
       "Components:\n",
       " - Bus: 2\n",
       " - Generator: 9\n",
       " - Load: 1\n",
       "Snapshots: 8760"
      ]
     },
     "execution_count": 19,
     "metadata": {},
     "output_type": "execute_result"
    }
   ],
   "source": [
    "network"
   ]
  },
  {
   "cell_type": "code",
   "execution_count": 20,
   "id": "69e8f1ddc0a04de",
   "metadata": {
    "ExecuteTime": {
     "end_time": "2023-11-21T15:24:40.671740003Z",
     "start_time": "2023-11-21T15:24:35.373513614Z"
    }
   },
   "outputs": [
    {
     "name": "stderr",
     "output_type": "stream",
     "text": [
      "WARNING:pypsa.components:The following buses have no attached components, which can break the lopf:\n",
      "{'Curtailment'}\n",
      "WARNING:pypsa.components:The following buses have no attached components, which can break the lopf:\n",
      "{'Curtailment'}\n",
      "INFO:linopy.model: Solve problem using Gurobi solver\n"
     ]
    },
    {
     "name": "stdout",
     "output_type": "stream",
     "text": [
      "Set parameter Username\n"
     ]
    },
    {
     "name": "stderr",
     "output_type": "stream",
     "text": [
      "INFO:gurobipy.gurobipy:Set parameter Username\n"
     ]
    },
    {
     "name": "stdout",
     "output_type": "stream",
     "text": [
      "Academic license - for non-commercial use only - expires 2024-11-21\n"
     ]
    },
    {
     "name": "stderr",
     "output_type": "stream",
     "text": [
      "INFO:gurobipy.gurobipy:Academic license - for non-commercial use only - expires 2024-11-21\n",
      "INFO:linopy.io:Writing objective.\n",
      "Writing constraints.: 100%|\u001b[38;2;128;191;255m████████████████████████████████████████████\u001b[0m| 10/10 [00:02<00:00,  3.92it/s]\u001b[0m\n",
      "Writing continuous variables.: 100%|\u001b[38;2;128;191;255m█████████████████████████████████████\u001b[0m| 1/1 [00:00<00:00,  6.75it/s]\u001b[0m\n",
      "Writing binary variables.: 100%|\u001b[38;2;128;191;255m█████████████████████████████████████████\u001b[0m| 3/3 [00:00<00:00, 23.17it/s]\u001b[0m\n",
      "INFO:linopy.io: Writing time: 2.93s\n"
     ]
    },
    {
     "name": "stdout",
     "output_type": "stream",
     "text": [
      "Read LP format model from file /private/var/folders/ms/4_rjwj4n1h1gg3k7zdvmsv5m0000gn/T/linopy-problem-3qd25xdw.lp\n"
     ]
    },
    {
     "name": "stderr",
     "output_type": "stream",
     "text": [
      "INFO:gurobipy.gurobipy:Read LP format model from file /private/var/folders/ms/4_rjwj4n1h1gg3k7zdvmsv5m0000gn/T/linopy-problem-3qd25xdw.lp\n"
     ]
    },
    {
     "name": "stdout",
     "output_type": "stream",
     "text": [
      "Reading time = 0.94 seconds\n"
     ]
    },
    {
     "name": "stderr",
     "output_type": "stream",
     "text": [
      "INFO:gurobipy.gurobipy:Reading time = 0.94 seconds\n"
     ]
    },
    {
     "name": "stdout",
     "output_type": "stream",
     "text": [
      "obj: 411706 rows, 262800 columns, 919758 nonzeros\n"
     ]
    },
    {
     "name": "stderr",
     "output_type": "stream",
     "text": [
      "INFO:gurobipy.gurobipy:obj: 411706 rows, 262800 columns, 919758 nonzeros\n"
     ]
    },
    {
     "name": "stdout",
     "output_type": "stream",
     "text": [
      "Gurobi Optimizer version 10.0.3 build v10.0.3rc0 (mac64[x86])\n"
     ]
    },
    {
     "name": "stderr",
     "output_type": "stream",
     "text": [
      "INFO:gurobipy.gurobipy:Gurobi Optimizer version 10.0.3 build v10.0.3rc0 (mac64[x86])\n"
     ]
    },
    {
     "name": "stdout",
     "output_type": "stream",
     "text": [
      "\n"
     ]
    },
    {
     "name": "stderr",
     "output_type": "stream",
     "text": [
      "INFO:gurobipy.gurobipy:\n"
     ]
    },
    {
     "name": "stdout",
     "output_type": "stream",
     "text": [
      "CPU model: Intel(R) Core(TM) i5-8259U CPU @ 2.30GHz\n"
     ]
    },
    {
     "name": "stderr",
     "output_type": "stream",
     "text": [
      "INFO:gurobipy.gurobipy:CPU model: Intel(R) Core(TM) i5-8259U CPU @ 2.30GHz\n"
     ]
    },
    {
     "name": "stdout",
     "output_type": "stream",
     "text": [
      "Thread count: 4 physical cores, 8 logical processors, using up to 8 threads\n"
     ]
    },
    {
     "name": "stderr",
     "output_type": "stream",
     "text": [
      "INFO:gurobipy.gurobipy:Thread count: 4 physical cores, 8 logical processors, using up to 8 threads\n"
     ]
    },
    {
     "name": "stdout",
     "output_type": "stream",
     "text": [
      "\n"
     ]
    },
    {
     "name": "stderr",
     "output_type": "stream",
     "text": [
      "INFO:gurobipy.gurobipy:\n"
     ]
    },
    {
     "name": "stdout",
     "output_type": "stream",
     "text": [
      "Optimize a model with 411706 rows, 262800 columns and 919758 nonzeros\n"
     ]
    },
    {
     "name": "stderr",
     "output_type": "stream",
     "text": [
      "INFO:gurobipy.gurobipy:Optimize a model with 411706 rows, 262800 columns and 919758 nonzeros\n"
     ]
    },
    {
     "name": "stdout",
     "output_type": "stream",
     "text": [
      "Model fingerprint: 0xcc206a36\n"
     ]
    },
    {
     "name": "stderr",
     "output_type": "stream",
     "text": [
      "INFO:gurobipy.gurobipy:Model fingerprint: 0xcc206a36\n"
     ]
    },
    {
     "name": "stdout",
     "output_type": "stream",
     "text": [
      "Variable types: 78840 continuous, 183960 integer (183960 binary)\n"
     ]
    },
    {
     "name": "stderr",
     "output_type": "stream",
     "text": [
      "INFO:gurobipy.gurobipy:Variable types: 78840 continuous, 183960 integer (183960 binary)\n"
     ]
    },
    {
     "name": "stdout",
     "output_type": "stream",
     "text": [
      "Coefficient statistics:\n"
     ]
    },
    {
     "name": "stderr",
     "output_type": "stream",
     "text": [
      "INFO:gurobipy.gurobipy:Coefficient statistics:\n"
     ]
    },
    {
     "name": "stdout",
     "output_type": "stream",
     "text": [
      "  Matrix range     [1e+00, 1e+05]\n"
     ]
    },
    {
     "name": "stderr",
     "output_type": "stream",
     "text": [
      "INFO:gurobipy.gurobipy:  Matrix range     [1e+00, 1e+05]\n"
     ]
    },
    {
     "name": "stdout",
     "output_type": "stream",
     "text": [
      "  Objective range  [1e+01, 1e+05]\n"
     ]
    },
    {
     "name": "stderr",
     "output_type": "stream",
     "text": [
      "INFO:gurobipy.gurobipy:  Objective range  [1e+01, 1e+05]\n"
     ]
    },
    {
     "name": "stdout",
     "output_type": "stream",
     "text": [
      "  Bounds range     [1e+00, 1e+00]\n"
     ]
    },
    {
     "name": "stderr",
     "output_type": "stream",
     "text": [
      "INFO:gurobipy.gurobipy:  Bounds range     [1e+00, 1e+00]\n"
     ]
    },
    {
     "name": "stdout",
     "output_type": "stream",
     "text": [
      "  RHS range        [1e+00, 7e+04]\n"
     ]
    },
    {
     "name": "stderr",
     "output_type": "stream",
     "text": [
      "INFO:gurobipy.gurobipy:  RHS range        [1e+00, 7e+04]\n"
     ]
    },
    {
     "name": "stdout",
     "output_type": "stream",
     "text": [
      "Presolve removed 411705 rows and 262797 columns\n"
     ]
    },
    {
     "name": "stderr",
     "output_type": "stream",
     "text": [
      "INFO:gurobipy.gurobipy:Presolve removed 411705 rows and 262797 columns\n"
     ]
    },
    {
     "name": "stdout",
     "output_type": "stream",
     "text": [
      "Presolve time: 0.81s\n"
     ]
    },
    {
     "name": "stderr",
     "output_type": "stream",
     "text": [
      "INFO:gurobipy.gurobipy:Presolve time: 0.81s\n"
     ]
    },
    {
     "name": "stdout",
     "output_type": "stream",
     "text": [
      "Presolved: 1 rows, 3 columns, 3 nonzeros\n"
     ]
    },
    {
     "name": "stderr",
     "output_type": "stream",
     "text": [
      "INFO:gurobipy.gurobipy:Presolved: 1 rows, 3 columns, 3 nonzeros\n"
     ]
    },
    {
     "name": "stdout",
     "output_type": "stream",
     "text": [
      "Variable types: 2 continuous, 1 integer (1 binary)\n"
     ]
    },
    {
     "name": "stderr",
     "output_type": "stream",
     "text": [
      "INFO:gurobipy.gurobipy:Variable types: 2 continuous, 1 integer (1 binary)\n"
     ]
    },
    {
     "name": "stdout",
     "output_type": "stream",
     "text": [
      "Found heuristic solution: objective 1.985029e+07\n"
     ]
    },
    {
     "name": "stderr",
     "output_type": "stream",
     "text": [
      "INFO:gurobipy.gurobipy:Found heuristic solution: objective 1.985029e+07\n"
     ]
    },
    {
     "name": "stdout",
     "output_type": "stream",
     "text": [
      "\n"
     ]
    },
    {
     "name": "stderr",
     "output_type": "stream",
     "text": [
      "INFO:gurobipy.gurobipy:\n"
     ]
    },
    {
     "name": "stdout",
     "output_type": "stream",
     "text": [
      "Explored 0 nodes (0 simplex iterations) in 1.10 seconds (0.79 work units)\n"
     ]
    },
    {
     "name": "stderr",
     "output_type": "stream",
     "text": [
      "INFO:gurobipy.gurobipy:Explored 0 nodes (0 simplex iterations) in 1.10 seconds (0.79 work units)\n"
     ]
    },
    {
     "name": "stdout",
     "output_type": "stream",
     "text": [
      "Thread count was 8 (of 8 available processors)\n"
     ]
    },
    {
     "name": "stderr",
     "output_type": "stream",
     "text": [
      "INFO:gurobipy.gurobipy:Thread count was 8 (of 8 available processors)\n"
     ]
    },
    {
     "name": "stdout",
     "output_type": "stream",
     "text": [
      "\n"
     ]
    },
    {
     "name": "stderr",
     "output_type": "stream",
     "text": [
      "INFO:gurobipy.gurobipy:\n"
     ]
    },
    {
     "name": "stdout",
     "output_type": "stream",
     "text": [
      "Solution count 1: 1.98503e+07 \n"
     ]
    },
    {
     "name": "stderr",
     "output_type": "stream",
     "text": [
      "INFO:gurobipy.gurobipy:Solution count 1: 1.98503e+07 \n"
     ]
    },
    {
     "name": "stdout",
     "output_type": "stream",
     "text": [
      "\n"
     ]
    },
    {
     "name": "stderr",
     "output_type": "stream",
     "text": [
      "INFO:gurobipy.gurobipy:\n"
     ]
    },
    {
     "name": "stdout",
     "output_type": "stream",
     "text": [
      "Optimal solution found (tolerance 1.00e-04)\n"
     ]
    },
    {
     "name": "stderr",
     "output_type": "stream",
     "text": [
      "INFO:gurobipy.gurobipy:Optimal solution found (tolerance 1.00e-04)\n"
     ]
    },
    {
     "name": "stdout",
     "output_type": "stream",
     "text": [
      "Best objective 1.985029120000e+07, best bound 1.985029120000e+07, gap 0.0000%\n"
     ]
    },
    {
     "name": "stderr",
     "output_type": "stream",
     "text": [
      "INFO:gurobipy.gurobipy:Best objective 1.985029120000e+07, best bound 1.985029120000e+07, gap 0.0000%\n",
      "WARNING:linopy.solvers:Dual values of MILP couldn't be parsed\n",
      "INFO:linopy.constants: Optimization successful: \n",
      "Status: ok\n",
      "Termination condition: optimal\n",
      "Solution: 262800 primals, 0 duals\n",
      "Objective: 1.99e+07\n",
      "Solver model: available\n",
      "Solver message: 2\n",
      "\n"
     ]
    },
    {
     "name": "stdout",
     "output_type": "stream",
     "text": [
      "('ok', 'optimal')\n"
     ]
    }
   ],
   "source": [
    "result = network.optimize(solver_name=\"gurobi\")\n",
    "print(result)   "
   ]
  },
  {
   "cell_type": "code",
   "execution_count": 21,
   "id": "bcebf8404d4f0eab",
   "metadata": {
    "ExecuteTime": {
     "end_time": "2023-11-21T15:24:41.113265498Z",
     "start_time": "2023-11-21T15:24:40.651717556Z"
    }
   },
   "outputs": [
    {
     "data": {
      "text/plain": [
       "<Axes: xlabel='Generator', ylabel='GW'>"
      ]
     },
     "execution_count": 21,
     "metadata": {},
     "output_type": "execute_result"
    },
    {
     "data": {
      "image/png": "[encoded data removed]",
      "text/plain": [
       "<Figure size 800x300 with 1 Axes>"
      ]
     },
     "metadata": {},
     "output_type": "display_data"
    }
   ],
   "source": [
    "network.generators.p_nom_opt.div(1e3).plot.bar(ylabel=\"GW\", figsize=(8, 3))"
   ]
  },
  {
   "cell_type": "code",
   "execution_count": 22,
   "id": "7a0ab5cb1fca4841",
   "metadata": {
    "ExecuteTime": {
     "end_time": "2023-11-21T15:24:42.252866588Z",
     "start_time": "2023-11-21T15:24:41.113619802Z"
    }
   },
   "outputs": [
    {
     "data": {
      "text/plain": [
       "<Axes: xlabel='snapshot', ylabel='GW'>"
      ]
     },
     "execution_count": 22,
     "metadata": {},
     "output_type": "execute_result"
    },
    {
     "data": {
      "image/png": "[encoded data removed]",
      "text/plain": [
       "<Figure size 640x480 with 1 Axes>"
      ]
     },
     "metadata": {},
     "output_type": "display_data"
    }
   ],
   "source": [
    "network.generators_t.p.div(1e3).plot.area(subplots=False, ylabel=\"GW\")"
   ]
  },
  {
   "cell_type": "code",
   "execution_count": 23,
   "id": "aa0d38feb972787d",
   "metadata": {
    "ExecuteTime": {
     "end_time": "2023-11-21T15:24:42.392012790Z",
     "start_time": "2023-11-21T15:24:42.243686597Z"
    }
   },
   "outputs": [
    {
     "data": {
      "text/plain": [
       "{'p_min_pu': Empty DataFrame\n",
       " Columns: []\n",
       " Index: [1900-01-01 00:00:00, 1900-01-01 01:00:00, 1900-01-01 02:00:00, 1900-01-01 03:00:00, 1900-01-01 04:00:00, 1900-01-01 05:00:00, 1900-01-01 06:00:00, 1900-01-01 07:00:00, 1900-01-01 08:00:00, 1900-01-01 09:00:00, 1900-01-01 10:00:00, 1900-01-01 11:00:00, 1900-01-01 12:00:00, 1900-01-01 13:00:00, 1900-01-01 14:00:00, 1900-01-01 15:00:00, 1900-01-01 16:00:00, 1900-01-01 17:00:00, 1900-01-01 18:00:00, 1900-01-01 19:00:00, 1900-01-01 20:00:00, 1900-01-01 21:00:00, 1900-01-01 22:00:00, 1900-01-01 23:00:00, 1900-01-02 00:00:00, 1900-01-02 01:00:00, 1900-01-02 02:00:00, 1900-01-02 03:00:00, 1900-01-02 04:00:00, 1900-01-02 05:00:00, 1900-01-02 06:00:00, 1900-01-02 07:00:00, 1900-01-02 08:00:00, 1900-01-02 09:00:00, 1900-01-02 10:00:00, 1900-01-02 11:00:00, 1900-01-02 12:00:00, 1900-01-02 13:00:00, 1900-01-02 14:00:00, 1900-01-02 15:00:00, 1900-01-02 16:00:00, 1900-01-02 17:00:00, 1900-01-02 18:00:00, 1900-01-02 19:00:00, 1900-01-02 20:00:00, 1900-01-02 21:00:00, 1900-01-02 22:00:00, 1900-01-02 23:00:00, 1900-01-03 00:00:00, 1900-01-03 01:00:00, 1900-01-03 02:00:00, 1900-01-03 03:00:00, 1900-01-03 04:00:00, 1900-01-03 05:00:00, 1900-01-03 06:00:00, 1900-01-03 07:00:00, 1900-01-03 08:00:00, 1900-01-03 09:00:00, 1900-01-03 10:00:00, 1900-01-03 11:00:00, 1900-01-03 12:00:00, 1900-01-03 13:00:00, 1900-01-03 14:00:00, 1900-01-03 15:00:00, 1900-01-03 16:00:00, 1900-01-03 17:00:00, 1900-01-03 18:00:00, 1900-01-03 19:00:00, 1900-01-03 20:00:00, 1900-01-03 21:00:00, 1900-01-03 22:00:00, 1900-01-03 23:00:00, 1900-01-04 00:00:00, 1900-01-04 01:00:00, 1900-01-04 02:00:00, 1900-01-04 03:00:00, 1900-01-04 04:00:00, 1900-01-04 05:00:00, 1900-01-04 06:00:00, 1900-01-04 07:00:00, 1900-01-04 08:00:00, 1900-01-04 09:00:00, 1900-01-04 10:00:00, 1900-01-04 11:00:00, 1900-01-04 12:00:00, 1900-01-04 13:00:00, 1900-01-04 14:00:00, 1900-01-04 15:00:00, 1900-01-04 16:00:00, 1900-01-04 17:00:00, 1900-01-04 18:00:00, 1900-01-04 19:00:00, 1900-01-04 20:00:00, 1900-01-04 21:00:00, 1900-01-04 22:00:00, 1900-01-04 23:00:00, 1900-01-05 00:00:00, 1900-01-05 01:00:00, 1900-01-05 02:00:00, 1900-01-05 03:00:00, ...]\n",
       " \n",
       " [8760 rows x 0 columns],\n",
       " 'p_max_pu': Empty DataFrame\n",
       " Columns: []\n",
       " Index: [1900-01-01 00:00:00, 1900-01-01 01:00:00, 1900-01-01 02:00:00, 1900-01-01 03:00:00, 1900-01-01 04:00:00, 1900-01-01 05:00:00, 1900-01-01 06:00:00, 1900-01-01 07:00:00, 1900-01-01 08:00:00, 1900-01-01 09:00:00, 1900-01-01 10:00:00, 1900-01-01 11:00:00, 1900-01-01 12:00:00, 1900-01-01 13:00:00, 1900-01-01 14:00:00, 1900-01-01 15:00:00, 1900-01-01 16:00:00, 1900-01-01 17:00:00, 1900-01-01 18:00:00, 1900-01-01 19:00:00, 1900-01-01 20:00:00, 1900-01-01 21:00:00, 1900-01-01 22:00:00, 1900-01-01 23:00:00, 1900-01-02 00:00:00, 1900-01-02 01:00:00, 1900-01-02 02:00:00, 1900-01-02 03:00:00, 1900-01-02 04:00:00, 1900-01-02 05:00:00, 1900-01-02 06:00:00, 1900-01-02 07:00:00, 1900-01-02 08:00:00, 1900-01-02 09:00:00, 1900-01-02 10:00:00, 1900-01-02 11:00:00, 1900-01-02 12:00:00, 1900-01-02 13:00:00, 1900-01-02 14:00:00, 1900-01-02 15:00:00, 1900-01-02 16:00:00, 1900-01-02 17:00:00, 1900-01-02 18:00:00, 1900-01-02 19:00:00, 1900-01-02 20:00:00, 1900-01-02 21:00:00, 1900-01-02 22:00:00, 1900-01-02 23:00:00, 1900-01-03 00:00:00, 1900-01-03 01:00:00, 1900-01-03 02:00:00, 1900-01-03 03:00:00, 1900-01-03 04:00:00, 1900-01-03 05:00:00, 1900-01-03 06:00:00, 1900-01-03 07:00:00, 1900-01-03 08:00:00, 1900-01-03 09:00:00, 1900-01-03 10:00:00, 1900-01-03 11:00:00, 1900-01-03 12:00:00, 1900-01-03 13:00:00, 1900-01-03 14:00:00, 1900-01-03 15:00:00, 1900-01-03 16:00:00, 1900-01-03 17:00:00, 1900-01-03 18:00:00, 1900-01-03 19:00:00, 1900-01-03 20:00:00, 1900-01-03 21:00:00, 1900-01-03 22:00:00, 1900-01-03 23:00:00, 1900-01-04 00:00:00, 1900-01-04 01:00:00, 1900-01-04 02:00:00, 1900-01-04 03:00:00, 1900-01-04 04:00:00, 1900-01-04 05:00:00, 1900-01-04 06:00:00, 1900-01-04 07:00:00, 1900-01-04 08:00:00, 1900-01-04 09:00:00, 1900-01-04 10:00:00, 1900-01-04 11:00:00, 1900-01-04 12:00:00, 1900-01-04 13:00:00, 1900-01-04 14:00:00, 1900-01-04 15:00:00, 1900-01-04 16:00:00, 1900-01-04 17:00:00, 1900-01-04 18:00:00, 1900-01-04 19:00:00, 1900-01-04 20:00:00, 1900-01-04 21:00:00, 1900-01-04 22:00:00, 1900-01-04 23:00:00, 1900-01-05 00:00:00, 1900-01-05 01:00:00, 1900-01-05 02:00:00, 1900-01-05 03:00:00, ...]\n",
       " \n",
       " [8760 rows x 0 columns],\n",
       " 'p_set': Empty DataFrame\n",
       " Columns: []\n",
       " Index: [1900-01-01 00:00:00, 1900-01-01 01:00:00, 1900-01-01 02:00:00, 1900-01-01 03:00:00, 1900-01-01 04:00:00, 1900-01-01 05:00:00, 1900-01-01 06:00:00, 1900-01-01 07:00:00, 1900-01-01 08:00:00, 1900-01-01 09:00:00, 1900-01-01 10:00:00, 1900-01-01 11:00:00, 1900-01-01 12:00:00, 1900-01-01 13:00:00, 1900-01-01 14:00:00, 1900-01-01 15:00:00, 1900-01-01 16:00:00, 1900-01-01 17:00:00, 1900-01-01 18:00:00, 1900-01-01 19:00:00, 1900-01-01 20:00:00, 1900-01-01 21:00:00, 1900-01-01 22:00:00, 1900-01-01 23:00:00, 1900-01-02 00:00:00, 1900-01-02 01:00:00, 1900-01-02 02:00:00, 1900-01-02 03:00:00, 1900-01-02 04:00:00, 1900-01-02 05:00:00, 1900-01-02 06:00:00, 1900-01-02 07:00:00, 1900-01-02 08:00:00, 1900-01-02 09:00:00, 1900-01-02 10:00:00, 1900-01-02 11:00:00, 1900-01-02 12:00:00, 1900-01-02 13:00:00, 1900-01-02 14:00:00, 1900-01-02 15:00:00, 1900-01-02 16:00:00, 1900-01-02 17:00:00, 1900-01-02 18:00:00, 1900-01-02 19:00:00, 1900-01-02 20:00:00, 1900-01-02 21:00:00, 1900-01-02 22:00:00, 1900-01-02 23:00:00, 1900-01-03 00:00:00, 1900-01-03 01:00:00, 1900-01-03 02:00:00, 1900-01-03 03:00:00, 1900-01-03 04:00:00, 1900-01-03 05:00:00, 1900-01-03 06:00:00, 1900-01-03 07:00:00, 1900-01-03 08:00:00, 1900-01-03 09:00:00, 1900-01-03 10:00:00, 1900-01-03 11:00:00, 1900-01-03 12:00:00, 1900-01-03 13:00:00, 1900-01-03 14:00:00, 1900-01-03 15:00:00, 1900-01-03 16:00:00, 1900-01-03 17:00:00, 1900-01-03 18:00:00, 1900-01-03 19:00:00, 1900-01-03 20:00:00, 1900-01-03 21:00:00, 1900-01-03 22:00:00, 1900-01-03 23:00:00, 1900-01-04 00:00:00, 1900-01-04 01:00:00, 1900-01-04 02:00:00, 1900-01-04 03:00:00, 1900-01-04 04:00:00, 1900-01-04 05:00:00, 1900-01-04 06:00:00, 1900-01-04 07:00:00, 1900-01-04 08:00:00, 1900-01-04 09:00:00, 1900-01-04 10:00:00, 1900-01-04 11:00:00, 1900-01-04 12:00:00, 1900-01-04 13:00:00, 1900-01-04 14:00:00, 1900-01-04 15:00:00, 1900-01-04 16:00:00, 1900-01-04 17:00:00, 1900-01-04 18:00:00, 1900-01-04 19:00:00, 1900-01-04 20:00:00, 1900-01-04 21:00:00, 1900-01-04 22:00:00, 1900-01-04 23:00:00, 1900-01-05 00:00:00, 1900-01-05 01:00:00, 1900-01-05 02:00:00, 1900-01-05 03:00:00, ...]\n",
       " \n",
       " [8760 rows x 0 columns],\n",
       " 'q_set': Empty DataFrame\n",
       " Columns: []\n",
       " Index: [1900-01-01 00:00:00, 1900-01-01 01:00:00, 1900-01-01 02:00:00, 1900-01-01 03:00:00, 1900-01-01 04:00:00, 1900-01-01 05:00:00, 1900-01-01 06:00:00, 1900-01-01 07:00:00, 1900-01-01 08:00:00, 1900-01-01 09:00:00, 1900-01-01 10:00:00, 1900-01-01 11:00:00, 1900-01-01 12:00:00, 1900-01-01 13:00:00, 1900-01-01 14:00:00, 1900-01-01 15:00:00, 1900-01-01 16:00:00, 1900-01-01 17:00:00, 1900-01-01 18:00:00, 1900-01-01 19:00:00, 1900-01-01 20:00:00, 1900-01-01 21:00:00, 1900-01-01 22:00:00, 1900-01-01 23:00:00, 1900-01-02 00:00:00, 1900-01-02 01:00:00, 1900-01-02 02:00:00, 1900-01-02 03:00:00, 1900-01-02 04:00:00, 1900-01-02 05:00:00, 1900-01-02 06:00:00, 1900-01-02 07:00:00, 1900-01-02 08:00:00, 1900-01-02 09:00:00, 1900-01-02 10:00:00, 1900-01-02 11:00:00, 1900-01-02 12:00:00, 1900-01-02 13:00:00, 1900-01-02 14:00:00, 1900-01-02 15:00:00, 1900-01-02 16:00:00, 1900-01-02 17:00:00, 1900-01-02 18:00:00, 1900-01-02 19:00:00, 1900-01-02 20:00:00, 1900-01-02 21:00:00, 1900-01-02 22:00:00, 1900-01-02 23:00:00, 1900-01-03 00:00:00, 1900-01-03 01:00:00, 1900-01-03 02:00:00, 1900-01-03 03:00:00, 1900-01-03 04:00:00, 1900-01-03 05:00:00, 1900-01-03 06:00:00, 1900-01-03 07:00:00, 1900-01-03 08:00:00, 1900-01-03 09:00:00, 1900-01-03 10:00:00, 1900-01-03 11:00:00, 1900-01-03 12:00:00, 1900-01-03 13:00:00, 1900-01-03 14:00:00, 1900-01-03 15:00:00, 1900-01-03 16:00:00, 1900-01-03 17:00:00, 1900-01-03 18:00:00, 1900-01-03 19:00:00, 1900-01-03 20:00:00, 1900-01-03 21:00:00, 1900-01-03 22:00:00, 1900-01-03 23:00:00, 1900-01-04 00:00:00, 1900-01-04 01:00:00, 1900-01-04 02:00:00, 1900-01-04 03:00:00, 1900-01-04 04:00:00, 1900-01-04 05:00:00, 1900-01-04 06:00:00, 1900-01-04 07:00:00, 1900-01-04 08:00:00, 1900-01-04 09:00:00, 1900-01-04 10:00:00, 1900-01-04 11:00:00, 1900-01-04 12:00:00, 1900-01-04 13:00:00, 1900-01-04 14:00:00, 1900-01-04 15:00:00, 1900-01-04 16:00:00, 1900-01-04 17:00:00, 1900-01-04 18:00:00, 1900-01-04 19:00:00, 1900-01-04 20:00:00, 1900-01-04 21:00:00, 1900-01-04 22:00:00, 1900-01-04 23:00:00, 1900-01-05 00:00:00, 1900-01-05 01:00:00, 1900-01-05 02:00:00, 1900-01-05 03:00:00, ...]\n",
       " \n",
       " [8760 rows x 0 columns],\n",
       " 'marginal_cost': Empty DataFrame\n",
       " Columns: []\n",
       " Index: [1900-01-01 00:00:00, 1900-01-01 01:00:00, 1900-01-01 02:00:00, 1900-01-01 03:00:00, 1900-01-01 04:00:00, 1900-01-01 05:00:00, 1900-01-01 06:00:00, 1900-01-01 07:00:00, 1900-01-01 08:00:00, 1900-01-01 09:00:00, 1900-01-01 10:00:00, 1900-01-01 11:00:00, 1900-01-01 12:00:00, 1900-01-01 13:00:00, 1900-01-01 14:00:00, 1900-01-01 15:00:00, 1900-01-01 16:00:00, 1900-01-01 17:00:00, 1900-01-01 18:00:00, 1900-01-01 19:00:00, 1900-01-01 20:00:00, 1900-01-01 21:00:00, 1900-01-01 22:00:00, 1900-01-01 23:00:00, 1900-01-02 00:00:00, 1900-01-02 01:00:00, 1900-01-02 02:00:00, 1900-01-02 03:00:00, 1900-01-02 04:00:00, 1900-01-02 05:00:00, 1900-01-02 06:00:00, 1900-01-02 07:00:00, 1900-01-02 08:00:00, 1900-01-02 09:00:00, 1900-01-02 10:00:00, 1900-01-02 11:00:00, 1900-01-02 12:00:00, 1900-01-02 13:00:00, 1900-01-02 14:00:00, 1900-01-02 15:00:00, 1900-01-02 16:00:00, 1900-01-02 17:00:00, 1900-01-02 18:00:00, 1900-01-02 19:00:00, 1900-01-02 20:00:00, 1900-01-02 21:00:00, 1900-01-02 22:00:00, 1900-01-02 23:00:00, 1900-01-03 00:00:00, 1900-01-03 01:00:00, 1900-01-03 02:00:00, 1900-01-03 03:00:00, 1900-01-03 04:00:00, 1900-01-03 05:00:00, 1900-01-03 06:00:00, 1900-01-03 07:00:00, 1900-01-03 08:00:00, 1900-01-03 09:00:00, 1900-01-03 10:00:00, 1900-01-03 11:00:00, 1900-01-03 12:00:00, 1900-01-03 13:00:00, 1900-01-03 14:00:00, 1900-01-03 15:00:00, 1900-01-03 16:00:00, 1900-01-03 17:00:00, 1900-01-03 18:00:00, 1900-01-03 19:00:00, 1900-01-03 20:00:00, 1900-01-03 21:00:00, 1900-01-03 22:00:00, 1900-01-03 23:00:00, 1900-01-04 00:00:00, 1900-01-04 01:00:00, 1900-01-04 02:00:00, 1900-01-04 03:00:00, 1900-01-04 04:00:00, 1900-01-04 05:00:00, 1900-01-04 06:00:00, 1900-01-04 07:00:00, 1900-01-04 08:00:00, 1900-01-04 09:00:00, 1900-01-04 10:00:00, 1900-01-04 11:00:00, 1900-01-04 12:00:00, 1900-01-04 13:00:00, 1900-01-04 14:00:00, 1900-01-04 15:00:00, 1900-01-04 16:00:00, 1900-01-04 17:00:00, 1900-01-04 18:00:00, 1900-01-04 19:00:00, 1900-01-04 20:00:00, 1900-01-04 21:00:00, 1900-01-04 22:00:00, 1900-01-04 23:00:00, 1900-01-05 00:00:00, 1900-01-05 01:00:00, 1900-01-05 02:00:00, 1900-01-05 03:00:00, ...]\n",
       " \n",
       " [8760 rows x 0 columns],\n",
       " 'marginal_cost_quadratic': Empty DataFrame\n",
       " Columns: []\n",
       " Index: [1900-01-01 00:00:00, 1900-01-01 01:00:00, 1900-01-01 02:00:00, 1900-01-01 03:00:00, 1900-01-01 04:00:00, 1900-01-01 05:00:00, 1900-01-01 06:00:00, 1900-01-01 07:00:00, 1900-01-01 08:00:00, 1900-01-01 09:00:00, 1900-01-01 10:00:00, 1900-01-01 11:00:00, 1900-01-01 12:00:00, 1900-01-01 13:00:00, 1900-01-01 14:00:00, 1900-01-01 15:00:00, 1900-01-01 16:00:00, 1900-01-01 17:00:00, 1900-01-01 18:00:00, 1900-01-01 19:00:00, 1900-01-01 20:00:00, 1900-01-01 21:00:00, 1900-01-01 22:00:00, 1900-01-01 23:00:00, 1900-01-02 00:00:00, 1900-01-02 01:00:00, 1900-01-02 02:00:00, 1900-01-02 03:00:00, 1900-01-02 04:00:00, 1900-01-02 05:00:00, 1900-01-02 06:00:00, 1900-01-02 07:00:00, 1900-01-02 08:00:00, 1900-01-02 09:00:00, 1900-01-02 10:00:00, 1900-01-02 11:00:00, 1900-01-02 12:00:00, 1900-01-02 13:00:00, 1900-01-02 14:00:00, 1900-01-02 15:00:00, 1900-01-02 16:00:00, 1900-01-02 17:00:00, 1900-01-02 18:00:00, 1900-01-02 19:00:00, 1900-01-02 20:00:00, 1900-01-02 21:00:00, 1900-01-02 22:00:00, 1900-01-02 23:00:00, 1900-01-03 00:00:00, 1900-01-03 01:00:00, 1900-01-03 02:00:00, 1900-01-03 03:00:00, 1900-01-03 04:00:00, 1900-01-03 05:00:00, 1900-01-03 06:00:00, 1900-01-03 07:00:00, 1900-01-03 08:00:00, 1900-01-03 09:00:00, 1900-01-03 10:00:00, 1900-01-03 11:00:00, 1900-01-03 12:00:00, 1900-01-03 13:00:00, 1900-01-03 14:00:00, 1900-01-03 15:00:00, 1900-01-03 16:00:00, 1900-01-03 17:00:00, 1900-01-03 18:00:00, 1900-01-03 19:00:00, 1900-01-03 20:00:00, 1900-01-03 21:00:00, 1900-01-03 22:00:00, 1900-01-03 23:00:00, 1900-01-04 00:00:00, 1900-01-04 01:00:00, 1900-01-04 02:00:00, 1900-01-04 03:00:00, 1900-01-04 04:00:00, 1900-01-04 05:00:00, 1900-01-04 06:00:00, 1900-01-04 07:00:00, 1900-01-04 08:00:00, 1900-01-04 09:00:00, 1900-01-04 10:00:00, 1900-01-04 11:00:00, 1900-01-04 12:00:00, 1900-01-04 13:00:00, 1900-01-04 14:00:00, 1900-01-04 15:00:00, 1900-01-04 16:00:00, 1900-01-04 17:00:00, 1900-01-04 18:00:00, 1900-01-04 19:00:00, 1900-01-04 20:00:00, 1900-01-04 21:00:00, 1900-01-04 22:00:00, 1900-01-04 23:00:00, 1900-01-05 00:00:00, 1900-01-05 01:00:00, 1900-01-05 02:00:00, 1900-01-05 03:00:00, ...]\n",
       " \n",
       " [8760 rows x 0 columns],\n",
       " 'efficiency': Empty DataFrame\n",
       " Columns: []\n",
       " Index: [1900-01-01 00:00:00, 1900-01-01 01:00:00, 1900-01-01 02:00:00, 1900-01-01 03:00:00, 1900-01-01 04:00:00, 1900-01-01 05:00:00, 1900-01-01 06:00:00, 1900-01-01 07:00:00, 1900-01-01 08:00:00, 1900-01-01 09:00:00, 1900-01-01 10:00:00, 1900-01-01 11:00:00, 1900-01-01 12:00:00, 1900-01-01 13:00:00, 1900-01-01 14:00:00, 1900-01-01 15:00:00, 1900-01-01 16:00:00, 1900-01-01 17:00:00, 1900-01-01 18:00:00, 1900-01-01 19:00:00, 1900-01-01 20:00:00, 1900-01-01 21:00:00, 1900-01-01 22:00:00, 1900-01-01 23:00:00, 1900-01-02 00:00:00, 1900-01-02 01:00:00, 1900-01-02 02:00:00, 1900-01-02 03:00:00, 1900-01-02 04:00:00, 1900-01-02 05:00:00, 1900-01-02 06:00:00, 1900-01-02 07:00:00, 1900-01-02 08:00:00, 1900-01-02 09:00:00, 1900-01-02 10:00:00, 1900-01-02 11:00:00, 1900-01-02 12:00:00, 1900-01-02 13:00:00, 1900-01-02 14:00:00, 1900-01-02 15:00:00, 1900-01-02 16:00:00, 1900-01-02 17:00:00, 1900-01-02 18:00:00, 1900-01-02 19:00:00, 1900-01-02 20:00:00, 1900-01-02 21:00:00, 1900-01-02 22:00:00, 1900-01-02 23:00:00, 1900-01-03 00:00:00, 1900-01-03 01:00:00, 1900-01-03 02:00:00, 1900-01-03 03:00:00, 1900-01-03 04:00:00, 1900-01-03 05:00:00, 1900-01-03 06:00:00, 1900-01-03 07:00:00, 1900-01-03 08:00:00, 1900-01-03 09:00:00, 1900-01-03 10:00:00, 1900-01-03 11:00:00, 1900-01-03 12:00:00, 1900-01-03 13:00:00, 1900-01-03 14:00:00, 1900-01-03 15:00:00, 1900-01-03 16:00:00, 1900-01-03 17:00:00, 1900-01-03 18:00:00, 1900-01-03 19:00:00, 1900-01-03 20:00:00, 1900-01-03 21:00:00, 1900-01-03 22:00:00, 1900-01-03 23:00:00, 1900-01-04 00:00:00, 1900-01-04 01:00:00, 1900-01-04 02:00:00, 1900-01-04 03:00:00, 1900-01-04 04:00:00, 1900-01-04 05:00:00, 1900-01-04 06:00:00, 1900-01-04 07:00:00, 1900-01-04 08:00:00, 1900-01-04 09:00:00, 1900-01-04 10:00:00, 1900-01-04 11:00:00, 1900-01-04 12:00:00, 1900-01-04 13:00:00, 1900-01-04 14:00:00, 1900-01-04 15:00:00, 1900-01-04 16:00:00, 1900-01-04 17:00:00, 1900-01-04 18:00:00, 1900-01-04 19:00:00, 1900-01-04 20:00:00, 1900-01-04 21:00:00, 1900-01-04 22:00:00, 1900-01-04 23:00:00, 1900-01-05 00:00:00, 1900-01-05 01:00:00, 1900-01-05 02:00:00, 1900-01-05 03:00:00, ...]\n",
       " \n",
       " [8760 rows x 0 columns],\n",
       " 'stand_by_cost': Empty DataFrame\n",
       " Columns: []\n",
       " Index: [1900-01-01 00:00:00, 1900-01-01 01:00:00, 1900-01-01 02:00:00, 1900-01-01 03:00:00, 1900-01-01 04:00:00, 1900-01-01 05:00:00, 1900-01-01 06:00:00, 1900-01-01 07:00:00, 1900-01-01 08:00:00, 1900-01-01 09:00:00, 1900-01-01 10:00:00, 1900-01-01 11:00:00, 1900-01-01 12:00:00, 1900-01-01 13:00:00, 1900-01-01 14:00:00, 1900-01-01 15:00:00, 1900-01-01 16:00:00, 1900-01-01 17:00:00, 1900-01-01 18:00:00, 1900-01-01 19:00:00, 1900-01-01 20:00:00, 1900-01-01 21:00:00, 1900-01-01 22:00:00, 1900-01-01 23:00:00, 1900-01-02 00:00:00, 1900-01-02 01:00:00, 1900-01-02 02:00:00, 1900-01-02 03:00:00, 1900-01-02 04:00:00, 1900-01-02 05:00:00, 1900-01-02 06:00:00, 1900-01-02 07:00:00, 1900-01-02 08:00:00, 1900-01-02 09:00:00, 1900-01-02 10:00:00, 1900-01-02 11:00:00, 1900-01-02 12:00:00, 1900-01-02 13:00:00, 1900-01-02 14:00:00, 1900-01-02 15:00:00, 1900-01-02 16:00:00, 1900-01-02 17:00:00, 1900-01-02 18:00:00, 1900-01-02 19:00:00, 1900-01-02 20:00:00, 1900-01-02 21:00:00, 1900-01-02 22:00:00, 1900-01-02 23:00:00, 1900-01-03 00:00:00, 1900-01-03 01:00:00, 1900-01-03 02:00:00, 1900-01-03 03:00:00, 1900-01-03 04:00:00, 1900-01-03 05:00:00, 1900-01-03 06:00:00, 1900-01-03 07:00:00, 1900-01-03 08:00:00, 1900-01-03 09:00:00, 1900-01-03 10:00:00, 1900-01-03 11:00:00, 1900-01-03 12:00:00, 1900-01-03 13:00:00, 1900-01-03 14:00:00, 1900-01-03 15:00:00, 1900-01-03 16:00:00, 1900-01-03 17:00:00, 1900-01-03 18:00:00, 1900-01-03 19:00:00, 1900-01-03 20:00:00, 1900-01-03 21:00:00, 1900-01-03 22:00:00, 1900-01-03 23:00:00, 1900-01-04 00:00:00, 1900-01-04 01:00:00, 1900-01-04 02:00:00, 1900-01-04 03:00:00, 1900-01-04 04:00:00, 1900-01-04 05:00:00, 1900-01-04 06:00:00, 1900-01-04 07:00:00, 1900-01-04 08:00:00, 1900-01-04 09:00:00, 1900-01-04 10:00:00, 1900-01-04 11:00:00, 1900-01-04 12:00:00, 1900-01-04 13:00:00, 1900-01-04 14:00:00, 1900-01-04 15:00:00, 1900-01-04 16:00:00, 1900-01-04 17:00:00, 1900-01-04 18:00:00, 1900-01-04 19:00:00, 1900-01-04 20:00:00, 1900-01-04 21:00:00, 1900-01-04 22:00:00, 1900-01-04 23:00:00, 1900-01-05 00:00:00, 1900-01-05 01:00:00, 1900-01-05 02:00:00, 1900-01-05 03:00:00, ...]\n",
       " \n",
       " [8760 rows x 0 columns],\n",
       " 'p': Generator            Coal  Gas  Oil  BioEnergies  Hydroelectric     Wind  \\\n",
       " snapshot                                                                   \n",
       " 1900-01-01 00:00:00   0.0  0.0  0.0          0.0       28835.77  22783.0   \n",
       " 1900-01-01 01:00:00   0.0  0.0  0.0          0.0       26726.55  22783.0   \n",
       " 1900-01-01 02:00:00   0.0  0.0  0.0          0.0       26319.45  22783.0   \n",
       " 1900-01-01 03:00:00   0.0  0.0  0.0          0.0       26605.04  22783.0   \n",
       " 1900-01-01 04:00:00   0.0  0.0  0.0          0.0       27736.94  22783.0   \n",
       " ...                   ...  ...  ...          ...            ...      ...   \n",
       " 1900-12-31 19:00:00   0.0  0.0  0.0       2540.0       36069.71  22783.0   \n",
       " 1900-12-31 20:00:00   0.0  0.0  0.0          0.0       37205.62  22783.0   \n",
       " 1900-12-31 21:00:00   0.0  0.0  0.0          0.0       35222.44  22783.0   \n",
       " 1900-12-31 22:00:00   0.0  0.0  0.0          0.0       33333.42  22783.0   \n",
       " 1900-12-31 23:00:00   0.0  0.0  0.0          0.0       31437.52  22783.0   \n",
       " \n",
       " Generator            Nuclear  Solar  Failure  \n",
       " snapshot                                      \n",
       " 1900-01-01 00:00:00      0.0  889.0      0.0  \n",
       " 1900-01-01 01:00:00      0.0  889.0      0.0  \n",
       " 1900-01-01 02:00:00      0.0  889.0      0.0  \n",
       " 1900-01-01 03:00:00      0.0  889.0      0.0  \n",
       " 1900-01-01 04:00:00      0.0  889.0      0.0  \n",
       " ...                      ...    ...      ...  \n",
       " 1900-12-31 19:00:00      0.0  889.0      0.0  \n",
       " 1900-12-31 20:00:00      0.0  889.0      0.0  \n",
       " 1900-12-31 21:00:00      0.0  889.0      0.0  \n",
       " 1900-12-31 22:00:00      0.0  889.0      0.0  \n",
       " 1900-12-31 23:00:00      0.0  889.0      0.0  \n",
       " \n",
       " [8760 rows x 9 columns],\n",
       " 'q': Empty DataFrame\n",
       " Columns: []\n",
       " Index: [1900-01-01 00:00:00, 1900-01-01 01:00:00, 1900-01-01 02:00:00, 1900-01-01 03:00:00, 1900-01-01 04:00:00, 1900-01-01 05:00:00, 1900-01-01 06:00:00, 1900-01-01 07:00:00, 1900-01-01 08:00:00, 1900-01-01 09:00:00, 1900-01-01 10:00:00, 1900-01-01 11:00:00, 1900-01-01 12:00:00, 1900-01-01 13:00:00, 1900-01-01 14:00:00, 1900-01-01 15:00:00, 1900-01-01 16:00:00, 1900-01-01 17:00:00, 1900-01-01 18:00:00, 1900-01-01 19:00:00, 1900-01-01 20:00:00, 1900-01-01 21:00:00, 1900-01-01 22:00:00, 1900-01-01 23:00:00, 1900-01-02 00:00:00, 1900-01-02 01:00:00, 1900-01-02 02:00:00, 1900-01-02 03:00:00, 1900-01-02 04:00:00, 1900-01-02 05:00:00, 1900-01-02 06:00:00, 1900-01-02 07:00:00, 1900-01-02 08:00:00, 1900-01-02 09:00:00, 1900-01-02 10:00:00, 1900-01-02 11:00:00, 1900-01-02 12:00:00, 1900-01-02 13:00:00, 1900-01-02 14:00:00, 1900-01-02 15:00:00, 1900-01-02 16:00:00, 1900-01-02 17:00:00, 1900-01-02 18:00:00, 1900-01-02 19:00:00, 1900-01-02 20:00:00, 1900-01-02 21:00:00, 1900-01-02 22:00:00, 1900-01-02 23:00:00, 1900-01-03 00:00:00, 1900-01-03 01:00:00, 1900-01-03 02:00:00, 1900-01-03 03:00:00, 1900-01-03 04:00:00, 1900-01-03 05:00:00, 1900-01-03 06:00:00, 1900-01-03 07:00:00, 1900-01-03 08:00:00, 1900-01-03 09:00:00, 1900-01-03 10:00:00, 1900-01-03 11:00:00, 1900-01-03 12:00:00, 1900-01-03 13:00:00, 1900-01-03 14:00:00, 1900-01-03 15:00:00, 1900-01-03 16:00:00, 1900-01-03 17:00:00, 1900-01-03 18:00:00, 1900-01-03 19:00:00, 1900-01-03 20:00:00, 1900-01-03 21:00:00, 1900-01-03 22:00:00, 1900-01-03 23:00:00, 1900-01-04 00:00:00, 1900-01-04 01:00:00, 1900-01-04 02:00:00, 1900-01-04 03:00:00, 1900-01-04 04:00:00, 1900-01-04 05:00:00, 1900-01-04 06:00:00, 1900-01-04 07:00:00, 1900-01-04 08:00:00, 1900-01-04 09:00:00, 1900-01-04 10:00:00, 1900-01-04 11:00:00, 1900-01-04 12:00:00, 1900-01-04 13:00:00, 1900-01-04 14:00:00, 1900-01-04 15:00:00, 1900-01-04 16:00:00, 1900-01-04 17:00:00, 1900-01-04 18:00:00, 1900-01-04 19:00:00, 1900-01-04 20:00:00, 1900-01-04 21:00:00, 1900-01-04 22:00:00, 1900-01-04 23:00:00, 1900-01-05 00:00:00, 1900-01-05 01:00:00, 1900-01-05 02:00:00, 1900-01-05 03:00:00, ...]\n",
       " \n",
       " [8760 rows x 0 columns],\n",
       " 'status': Generator-com        Coal  Gas  Oil  BioEnergies  Hydroelectric  Nuclear  \\\n",
       " snapshot                                                                   \n",
       " 1900-01-01 00:00:00   0.0  0.0  0.0          0.0            1.0      0.0   \n",
       " 1900-01-01 01:00:00   0.0  0.0  0.0          0.0            1.0      0.0   \n",
       " 1900-01-01 02:00:00   0.0  0.0  0.0          0.0            1.0      0.0   \n",
       " 1900-01-01 03:00:00   0.0  0.0  0.0          0.0            1.0      0.0   \n",
       " 1900-01-01 04:00:00   0.0  0.0  0.0          0.0            1.0      0.0   \n",
       " ...                   ...  ...  ...          ...            ...      ...   \n",
       " 1900-12-31 19:00:00   1.0  1.0  0.0          1.0            1.0      0.0   \n",
       " 1900-12-31 20:00:00   0.0  0.0  0.0          0.0            1.0      0.0   \n",
       " 1900-12-31 21:00:00   0.0  0.0  0.0          0.0            1.0      0.0   \n",
       " 1900-12-31 22:00:00   0.0  0.0  0.0          0.0            1.0      0.0   \n",
       " 1900-12-31 23:00:00   0.0  0.0  0.0          0.0            1.0      0.0   \n",
       " \n",
       " Generator-com        Failure  \n",
       " snapshot                      \n",
       " 1900-01-01 00:00:00      0.0  \n",
       " 1900-01-01 01:00:00      0.0  \n",
       " 1900-01-01 02:00:00      0.0  \n",
       " 1900-01-01 03:00:00      0.0  \n",
       " 1900-01-01 04:00:00      0.0  \n",
       " ...                      ...  \n",
       " 1900-12-31 19:00:00      0.0  \n",
       " 1900-12-31 20:00:00      0.0  \n",
       " 1900-12-31 21:00:00      0.0  \n",
       " 1900-12-31 22:00:00      0.0  \n",
       " 1900-12-31 23:00:00      0.0  \n",
       " \n",
       " [8760 rows x 7 columns],\n",
       " 'mu_upper': Empty DataFrame\n",
       " Columns: []\n",
       " Index: [1900-01-01 00:00:00, 1900-01-01 01:00:00, 1900-01-01 02:00:00, 1900-01-01 03:00:00, 1900-01-01 04:00:00, 1900-01-01 05:00:00, 1900-01-01 06:00:00, 1900-01-01 07:00:00, 1900-01-01 08:00:00, 1900-01-01 09:00:00, 1900-01-01 10:00:00, 1900-01-01 11:00:00, 1900-01-01 12:00:00, 1900-01-01 13:00:00, 1900-01-01 14:00:00, 1900-01-01 15:00:00, 1900-01-01 16:00:00, 1900-01-01 17:00:00, 1900-01-01 18:00:00, 1900-01-01 19:00:00, 1900-01-01 20:00:00, 1900-01-01 21:00:00, 1900-01-01 22:00:00, 1900-01-01 23:00:00, 1900-01-02 00:00:00, 1900-01-02 01:00:00, 1900-01-02 02:00:00, 1900-01-02 03:00:00, 1900-01-02 04:00:00, 1900-01-02 05:00:00, 1900-01-02 06:00:00, 1900-01-02 07:00:00, 1900-01-02 08:00:00, 1900-01-02 09:00:00, 1900-01-02 10:00:00, 1900-01-02 11:00:00, 1900-01-02 12:00:00, 1900-01-02 13:00:00, 1900-01-02 14:00:00, 1900-01-02 15:00:00, 1900-01-02 16:00:00, 1900-01-02 17:00:00, 1900-01-02 18:00:00, 1900-01-02 19:00:00, 1900-01-02 20:00:00, 1900-01-02 21:00:00, 1900-01-02 22:00:00, 1900-01-02 23:00:00, 1900-01-03 00:00:00, 1900-01-03 01:00:00, 1900-01-03 02:00:00, 1900-01-03 03:00:00, 1900-01-03 04:00:00, 1900-01-03 05:00:00, 1900-01-03 06:00:00, 1900-01-03 07:00:00, 1900-01-03 08:00:00, 1900-01-03 09:00:00, 1900-01-03 10:00:00, 1900-01-03 11:00:00, 1900-01-03 12:00:00, 1900-01-03 13:00:00, 1900-01-03 14:00:00, 1900-01-03 15:00:00, 1900-01-03 16:00:00, 1900-01-03 17:00:00, 1900-01-03 18:00:00, 1900-01-03 19:00:00, 1900-01-03 20:00:00, 1900-01-03 21:00:00, 1900-01-03 22:00:00, 1900-01-03 23:00:00, 1900-01-04 00:00:00, 1900-01-04 01:00:00, 1900-01-04 02:00:00, 1900-01-04 03:00:00, 1900-01-04 04:00:00, 1900-01-04 05:00:00, 1900-01-04 06:00:00, 1900-01-04 07:00:00, 1900-01-04 08:00:00, 1900-01-04 09:00:00, 1900-01-04 10:00:00, 1900-01-04 11:00:00, 1900-01-04 12:00:00, 1900-01-04 13:00:00, 1900-01-04 14:00:00, 1900-01-04 15:00:00, 1900-01-04 16:00:00, 1900-01-04 17:00:00, 1900-01-04 18:00:00, 1900-01-04 19:00:00, 1900-01-04 20:00:00, 1900-01-04 21:00:00, 1900-01-04 22:00:00, 1900-01-04 23:00:00, 1900-01-05 00:00:00, 1900-01-05 01:00:00, 1900-01-05 02:00:00, 1900-01-05 03:00:00, ...]\n",
       " \n",
       " [8760 rows x 0 columns],\n",
       " 'mu_lower': Empty DataFrame\n",
       " Columns: []\n",
       " Index: [1900-01-01 00:00:00, 1900-01-01 01:00:00, 1900-01-01 02:00:00, 1900-01-01 03:00:00, 1900-01-01 04:00:00, 1900-01-01 05:00:00, 1900-01-01 06:00:00, 1900-01-01 07:00:00, 1900-01-01 08:00:00, 1900-01-01 09:00:00, 1900-01-01 10:00:00, 1900-01-01 11:00:00, 1900-01-01 12:00:00, 1900-01-01 13:00:00, 1900-01-01 14:00:00, 1900-01-01 15:00:00, 1900-01-01 16:00:00, 1900-01-01 17:00:00, 1900-01-01 18:00:00, 1900-01-01 19:00:00, 1900-01-01 20:00:00, 1900-01-01 21:00:00, 1900-01-01 22:00:00, 1900-01-01 23:00:00, 1900-01-02 00:00:00, 1900-01-02 01:00:00, 1900-01-02 02:00:00, 1900-01-02 03:00:00, 1900-01-02 04:00:00, 1900-01-02 05:00:00, 1900-01-02 06:00:00, 1900-01-02 07:00:00, 1900-01-02 08:00:00, 1900-01-02 09:00:00, 1900-01-02 10:00:00, 1900-01-02 11:00:00, 1900-01-02 12:00:00, 1900-01-02 13:00:00, 1900-01-02 14:00:00, 1900-01-02 15:00:00, 1900-01-02 16:00:00, 1900-01-02 17:00:00, 1900-01-02 18:00:00, 1900-01-02 19:00:00, 1900-01-02 20:00:00, 1900-01-02 21:00:00, 1900-01-02 22:00:00, 1900-01-02 23:00:00, 1900-01-03 00:00:00, 1900-01-03 01:00:00, 1900-01-03 02:00:00, 1900-01-03 03:00:00, 1900-01-03 04:00:00, 1900-01-03 05:00:00, 1900-01-03 06:00:00, 1900-01-03 07:00:00, 1900-01-03 08:00:00, 1900-01-03 09:00:00, 1900-01-03 10:00:00, 1900-01-03 11:00:00, 1900-01-03 12:00:00, 1900-01-03 13:00:00, 1900-01-03 14:00:00, 1900-01-03 15:00:00, 1900-01-03 16:00:00, 1900-01-03 17:00:00, 1900-01-03 18:00:00, 1900-01-03 19:00:00, 1900-01-03 20:00:00, 1900-01-03 21:00:00, 1900-01-03 22:00:00, 1900-01-03 23:00:00, 1900-01-04 00:00:00, 1900-01-04 01:00:00, 1900-01-04 02:00:00, 1900-01-04 03:00:00, 1900-01-04 04:00:00, 1900-01-04 05:00:00, 1900-01-04 06:00:00, 1900-01-04 07:00:00, 1900-01-04 08:00:00, 1900-01-04 09:00:00, 1900-01-04 10:00:00, 1900-01-04 11:00:00, 1900-01-04 12:00:00, 1900-01-04 13:00:00, 1900-01-04 14:00:00, 1900-01-04 15:00:00, 1900-01-04 16:00:00, 1900-01-04 17:00:00, 1900-01-04 18:00:00, 1900-01-04 19:00:00, 1900-01-04 20:00:00, 1900-01-04 21:00:00, 1900-01-04 22:00:00, 1900-01-04 23:00:00, 1900-01-05 00:00:00, 1900-01-05 01:00:00, 1900-01-05 02:00:00, 1900-01-05 03:00:00, ...]\n",
       " \n",
       " [8760 rows x 0 columns],\n",
       " 'mu_p_set': Empty DataFrame\n",
       " Columns: []\n",
       " Index: [1900-01-01 00:00:00, 1900-01-01 01:00:00, 1900-01-01 02:00:00, 1900-01-01 03:00:00, 1900-01-01 04:00:00, 1900-01-01 05:00:00, 1900-01-01 06:00:00, 1900-01-01 07:00:00, 1900-01-01 08:00:00, 1900-01-01 09:00:00, 1900-01-01 10:00:00, 1900-01-01 11:00:00, 1900-01-01 12:00:00, 1900-01-01 13:00:00, 1900-01-01 14:00:00, 1900-01-01 15:00:00, 1900-01-01 16:00:00, 1900-01-01 17:00:00, 1900-01-01 18:00:00, 1900-01-01 19:00:00, 1900-01-01 20:00:00, 1900-01-01 21:00:00, 1900-01-01 22:00:00, 1900-01-01 23:00:00, 1900-01-02 00:00:00, 1900-01-02 01:00:00, 1900-01-02 02:00:00, 1900-01-02 03:00:00, 1900-01-02 04:00:00, 1900-01-02 05:00:00, 1900-01-02 06:00:00, 1900-01-02 07:00:00, 1900-01-02 08:00:00, 1900-01-02 09:00:00, 1900-01-02 10:00:00, 1900-01-02 11:00:00, 1900-01-02 12:00:00, 1900-01-02 13:00:00, 1900-01-02 14:00:00, 1900-01-02 15:00:00, 1900-01-02 16:00:00, 1900-01-02 17:00:00, 1900-01-02 18:00:00, 1900-01-02 19:00:00, 1900-01-02 20:00:00, 1900-01-02 21:00:00, 1900-01-02 22:00:00, 1900-01-02 23:00:00, 1900-01-03 00:00:00, 1900-01-03 01:00:00, 1900-01-03 02:00:00, 1900-01-03 03:00:00, 1900-01-03 04:00:00, 1900-01-03 05:00:00, 1900-01-03 06:00:00, 1900-01-03 07:00:00, 1900-01-03 08:00:00, 1900-01-03 09:00:00, 1900-01-03 10:00:00, 1900-01-03 11:00:00, 1900-01-03 12:00:00, 1900-01-03 13:00:00, 1900-01-03 14:00:00, 1900-01-03 15:00:00, 1900-01-03 16:00:00, 1900-01-03 17:00:00, 1900-01-03 18:00:00, 1900-01-03 19:00:00, 1900-01-03 20:00:00, 1900-01-03 21:00:00, 1900-01-03 22:00:00, 1900-01-03 23:00:00, 1900-01-04 00:00:00, 1900-01-04 01:00:00, 1900-01-04 02:00:00, 1900-01-04 03:00:00, 1900-01-04 04:00:00, 1900-01-04 05:00:00, 1900-01-04 06:00:00, 1900-01-04 07:00:00, 1900-01-04 08:00:00, 1900-01-04 09:00:00, 1900-01-04 10:00:00, 1900-01-04 11:00:00, 1900-01-04 12:00:00, 1900-01-04 13:00:00, 1900-01-04 14:00:00, 1900-01-04 15:00:00, 1900-01-04 16:00:00, 1900-01-04 17:00:00, 1900-01-04 18:00:00, 1900-01-04 19:00:00, 1900-01-04 20:00:00, 1900-01-04 21:00:00, 1900-01-04 22:00:00, 1900-01-04 23:00:00, 1900-01-05 00:00:00, 1900-01-05 01:00:00, 1900-01-05 02:00:00, 1900-01-05 03:00:00, ...]\n",
       " \n",
       " [8760 rows x 0 columns],\n",
       " 'mu_ramp_limit_up': Empty DataFrame\n",
       " Columns: []\n",
       " Index: [1900-01-01 00:00:00, 1900-01-01 01:00:00, 1900-01-01 02:00:00, 1900-01-01 03:00:00, 1900-01-01 04:00:00, 1900-01-01 05:00:00, 1900-01-01 06:00:00, 1900-01-01 07:00:00, 1900-01-01 08:00:00, 1900-01-01 09:00:00, 1900-01-01 10:00:00, 1900-01-01 11:00:00, 1900-01-01 12:00:00, 1900-01-01 13:00:00, 1900-01-01 14:00:00, 1900-01-01 15:00:00, 1900-01-01 16:00:00, 1900-01-01 17:00:00, 1900-01-01 18:00:00, 1900-01-01 19:00:00, 1900-01-01 20:00:00, 1900-01-01 21:00:00, 1900-01-01 22:00:00, 1900-01-01 23:00:00, 1900-01-02 00:00:00, 1900-01-02 01:00:00, 1900-01-02 02:00:00, 1900-01-02 03:00:00, 1900-01-02 04:00:00, 1900-01-02 05:00:00, 1900-01-02 06:00:00, 1900-01-02 07:00:00, 1900-01-02 08:00:00, 1900-01-02 09:00:00, 1900-01-02 10:00:00, 1900-01-02 11:00:00, 1900-01-02 12:00:00, 1900-01-02 13:00:00, 1900-01-02 14:00:00, 1900-01-02 15:00:00, 1900-01-02 16:00:00, 1900-01-02 17:00:00, 1900-01-02 18:00:00, 1900-01-02 19:00:00, 1900-01-02 20:00:00, 1900-01-02 21:00:00, 1900-01-02 22:00:00, 1900-01-02 23:00:00, 1900-01-03 00:00:00, 1900-01-03 01:00:00, 1900-01-03 02:00:00, 1900-01-03 03:00:00, 1900-01-03 04:00:00, 1900-01-03 05:00:00, 1900-01-03 06:00:00, 1900-01-03 07:00:00, 1900-01-03 08:00:00, 1900-01-03 09:00:00, 1900-01-03 10:00:00, 1900-01-03 11:00:00, 1900-01-03 12:00:00, 1900-01-03 13:00:00, 1900-01-03 14:00:00, 1900-01-03 15:00:00, 1900-01-03 16:00:00, 1900-01-03 17:00:00, 1900-01-03 18:00:00, 1900-01-03 19:00:00, 1900-01-03 20:00:00, 1900-01-03 21:00:00, 1900-01-03 22:00:00, 1900-01-03 23:00:00, 1900-01-04 00:00:00, 1900-01-04 01:00:00, 1900-01-04 02:00:00, 1900-01-04 03:00:00, 1900-01-04 04:00:00, 1900-01-04 05:00:00, 1900-01-04 06:00:00, 1900-01-04 07:00:00, 1900-01-04 08:00:00, 1900-01-04 09:00:00, 1900-01-04 10:00:00, 1900-01-04 11:00:00, 1900-01-04 12:00:00, 1900-01-04 13:00:00, 1900-01-04 14:00:00, 1900-01-04 15:00:00, 1900-01-04 16:00:00, 1900-01-04 17:00:00, 1900-01-04 18:00:00, 1900-01-04 19:00:00, 1900-01-04 20:00:00, 1900-01-04 21:00:00, 1900-01-04 22:00:00, 1900-01-04 23:00:00, 1900-01-05 00:00:00, 1900-01-05 01:00:00, 1900-01-05 02:00:00, 1900-01-05 03:00:00, ...]\n",
       " \n",
       " [8760 rows x 0 columns],\n",
       " 'mu_ramp_limit_down': Empty DataFrame\n",
       " Columns: []\n",
       " Index: [1900-01-01 00:00:00, 1900-01-01 01:00:00, 1900-01-01 02:00:00, 1900-01-01 03:00:00, 1900-01-01 04:00:00, 1900-01-01 05:00:00, 1900-01-01 06:00:00, 1900-01-01 07:00:00, 1900-01-01 08:00:00, 1900-01-01 09:00:00, 1900-01-01 10:00:00, 1900-01-01 11:00:00, 1900-01-01 12:00:00, 1900-01-01 13:00:00, 1900-01-01 14:00:00, 1900-01-01 15:00:00, 1900-01-01 16:00:00, 1900-01-01 17:00:00, 1900-01-01 18:00:00, 1900-01-01 19:00:00, 1900-01-01 20:00:00, 1900-01-01 21:00:00, 1900-01-01 22:00:00, 1900-01-01 23:00:00, 1900-01-02 00:00:00, 1900-01-02 01:00:00, 1900-01-02 02:00:00, 1900-01-02 03:00:00, 1900-01-02 04:00:00, 1900-01-02 05:00:00, 1900-01-02 06:00:00, 1900-01-02 07:00:00, 1900-01-02 08:00:00, 1900-01-02 09:00:00, 1900-01-02 10:00:00, 1900-01-02 11:00:00, 1900-01-02 12:00:00, 1900-01-02 13:00:00, 1900-01-02 14:00:00, 1900-01-02 15:00:00, 1900-01-02 16:00:00, 1900-01-02 17:00:00, 1900-01-02 18:00:00, 1900-01-02 19:00:00, 1900-01-02 20:00:00, 1900-01-02 21:00:00, 1900-01-02 22:00:00, 1900-01-02 23:00:00, 1900-01-03 00:00:00, 1900-01-03 01:00:00, 1900-01-03 02:00:00, 1900-01-03 03:00:00, 1900-01-03 04:00:00, 1900-01-03 05:00:00, 1900-01-03 06:00:00, 1900-01-03 07:00:00, 1900-01-03 08:00:00, 1900-01-03 09:00:00, 1900-01-03 10:00:00, 1900-01-03 11:00:00, 1900-01-03 12:00:00, 1900-01-03 13:00:00, 1900-01-03 14:00:00, 1900-01-03 15:00:00, 1900-01-03 16:00:00, 1900-01-03 17:00:00, 1900-01-03 18:00:00, 1900-01-03 19:00:00, 1900-01-03 20:00:00, 1900-01-03 21:00:00, 1900-01-03 22:00:00, 1900-01-03 23:00:00, 1900-01-04 00:00:00, 1900-01-04 01:00:00, 1900-01-04 02:00:00, 1900-01-04 03:00:00, 1900-01-04 04:00:00, 1900-01-04 05:00:00, 1900-01-04 06:00:00, 1900-01-04 07:00:00, 1900-01-04 08:00:00, 1900-01-04 09:00:00, 1900-01-04 10:00:00, 1900-01-04 11:00:00, 1900-01-04 12:00:00, 1900-01-04 13:00:00, 1900-01-04 14:00:00, 1900-01-04 15:00:00, 1900-01-04 16:00:00, 1900-01-04 17:00:00, 1900-01-04 18:00:00, 1900-01-04 19:00:00, 1900-01-04 20:00:00, 1900-01-04 21:00:00, 1900-01-04 22:00:00, 1900-01-04 23:00:00, 1900-01-05 00:00:00, 1900-01-05 01:00:00, 1900-01-05 02:00:00, 1900-01-05 03:00:00, ...]\n",
       " \n",
       " [8760 rows x 0 columns],\n",
       " 'start_up': Generator-com        Coal  Gas  Oil  BioEnergies  Hydroelectric  Nuclear  \\\n",
       " snapshot                                                                   \n",
       " 1900-01-01 00:00:00   1.0  1.0  1.0          1.0            1.0      1.0   \n",
       " 1900-01-01 01:00:00   0.0  0.0  0.0          0.0            0.0      0.0   \n",
       " 1900-01-01 02:00:00   0.0  0.0  0.0          0.0            0.0      0.0   \n",
       " 1900-01-01 03:00:00   0.0  0.0  0.0          0.0            0.0      0.0   \n",
       " 1900-01-01 04:00:00   0.0  0.0  0.0          0.0            0.0      0.0   \n",
       " ...                   ...  ...  ...          ...            ...      ...   \n",
       " 1900-12-31 19:00:00   1.0  1.0  0.0          1.0            0.0      0.0   \n",
       " 1900-12-31 20:00:00   0.0  0.0  0.0          0.0            0.0      0.0   \n",
       " 1900-12-31 21:00:00   0.0  0.0  0.0          0.0            0.0      0.0   \n",
       " 1900-12-31 22:00:00   0.0  0.0  0.0          0.0            0.0      0.0   \n",
       " 1900-12-31 23:00:00   0.0  0.0  0.0          0.0            0.0      0.0   \n",
       " \n",
       " Generator-com        Failure  \n",
       " snapshot                      \n",
       " 1900-01-01 00:00:00      1.0  \n",
       " 1900-01-01 01:00:00      0.0  \n",
       " 1900-01-01 02:00:00      0.0  \n",
       " 1900-01-01 03:00:00      0.0  \n",
       " 1900-01-01 04:00:00      0.0  \n",
       " ...                      ...  \n",
       " 1900-12-31 19:00:00      0.0  \n",
       " 1900-12-31 20:00:00      0.0  \n",
       " 1900-12-31 21:00:00      0.0  \n",
       " 1900-12-31 22:00:00      0.0  \n",
       " 1900-12-31 23:00:00      0.0  \n",
       " \n",
       " [8760 rows x 7 columns],\n",
       " 'shut_down': Generator-com        Coal  Gas  Oil  BioEnergies  Hydroelectric  Nuclear  \\\n",
       " snapshot                                                                   \n",
       " 1900-01-01 00:00:00   1.0  1.0  1.0          1.0            1.0      1.0   \n",
       " 1900-01-01 01:00:00   1.0  1.0  1.0          1.0            0.0      1.0   \n",
       " 1900-01-01 02:00:00   1.0  1.0  1.0          1.0            0.0      1.0   \n",
       " 1900-01-01 03:00:00   1.0  1.0  1.0          1.0            0.0      1.0   \n",
       " 1900-01-01 04:00:00   1.0  1.0  1.0          1.0            0.0      1.0   \n",
       " ...                   ...  ...  ...          ...            ...      ...   \n",
       " 1900-12-31 19:00:00   0.0  0.0  1.0          0.0            0.0      1.0   \n",
       " 1900-12-31 20:00:00   1.0  1.0  1.0          1.0            0.0      1.0   \n",
       " 1900-12-31 21:00:00   1.0  1.0  1.0          1.0            0.0      1.0   \n",
       " 1900-12-31 22:00:00   1.0  1.0  1.0          1.0            0.0      1.0   \n",
       " 1900-12-31 23:00:00   1.0  1.0  1.0          1.0            0.0      1.0   \n",
       " \n",
       " Generator-com        Failure  \n",
       " snapshot                      \n",
       " 1900-01-01 00:00:00      1.0  \n",
       " 1900-01-01 01:00:00      0.0  \n",
       " 1900-01-01 02:00:00      0.0  \n",
       " 1900-01-01 03:00:00      0.0  \n",
       " 1900-01-01 04:00:00      0.0  \n",
       " ...                      ...  \n",
       " 1900-12-31 19:00:00      0.0  \n",
       " 1900-12-31 20:00:00      0.0  \n",
       " 1900-12-31 21:00:00      0.0  \n",
       " 1900-12-31 22:00:00      0.0  \n",
       " 1900-12-31 23:00:00      0.0  \n",
       " \n",
       " [8760 rows x 7 columns]}"
      ]
     },
     "execution_count": 23,
     "metadata": {},
     "output_type": "execute_result"
    }
   ],
   "source": [
    "network.generators_t"
   ]
  },
  {
   "cell_type": "code",
   "execution_count": null,
   "id": "704f5949bc93b02f",
   "metadata": {
    "ExecuteTime": {
     "end_time": "2023-11-21T15:24:42.397226014Z",
     "start_time": "2023-11-21T15:24:42.391720824Z"
    }
   },
   "outputs": [],
   "source": []
  }
 ],
 "metadata": {
  "kernelspec": {
   "display_name": "Python 3 (ipykernel)",
   "language": "python",
   "name": "python3"
  },
  "language_info": {
   "codemirror_mode": {
    "name": "ipython",
    "version": 3
   },
   "file_extension": ".py",
   "mimetype": "text/x-python",
   "name": "python",
   "nbconvert_exporter": "python",
   "pygments_lexer": "ipython3",
   "version": "3.10.9"
  }
 },
 "nbformat": 4,
 "nbformat_minor": 5
}
