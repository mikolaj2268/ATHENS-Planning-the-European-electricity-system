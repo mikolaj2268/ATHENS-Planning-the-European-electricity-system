{
 "cells": [
  {
   "cell_type": "code",
   "execution_count": 1,
   "id": "initial_id",
   "metadata": {
    "ExecuteTime": {
     "end_time": "2023-11-22T09:41:43.047484210Z",
     "start_time": "2023-11-22T09:41:43.046981413Z"
    }
   },
   "outputs": [],
   "source": [
    "%load_ext autoreload\n",
    "%autoreload 2"
   ]
  },
  {
   "cell_type": "code",
   "execution_count": 2,
   "id": "cbf1bd01",
   "metadata": {},
   "outputs": [],
   "source": [
    "import gurobipy"
   ]
  },
  {
   "cell_type": "code",
   "execution_count": 3,
   "id": "17e96eb0",
   "metadata": {},
   "outputs": [],
   "source": [
    "from gurobipy import *"
   ]
  },
  {
   "cell_type": "code",
   "execution_count": 4,
   "id": "cab8eda05b8bc062",
   "metadata": {
    "ExecuteTime": {
     "end_time": "2023-11-21T15:24:34.770974016Z",
     "start_time": "2023-11-21T15:24:34.677333523Z"
    }
   },
   "outputs": [],
   "source": [
    "import pypsa\n",
    "import pandas as pd\n",
    "from dataclasses import dataclass"
   ]
  },
  {
   "cell_type": "code",
   "execution_count": 5,
   "id": "c812a915bdf9860a",
   "metadata": {
    "ExecuteTime": {
     "end_time": "2023-11-21T15:24:34.860397105Z",
     "start_time": "2023-11-21T15:24:34.677527722Z"
    }
   },
   "outputs": [],
   "source": [
    "full_demand = pd.read_csv(\"./data/demand_2030_scandinavia.csv\", sep=\";\", index_col=1, parse_dates=True).groupby(pd.Grouper(key=\"climatic_year\"))\n",
    "full_wind_on_shore = pd.read_csv(\"./data/capa_factor_2030_scandinavia_onshore.csv\", index_col=1, parse_dates=True, sep=\";\").groupby(pd.Grouper(key=\"climatic_year\"))\n",
    "full_solar = pd.read_csv(\"./data/capa_factor_2030_scandinavia_solar.csv\", index_col=1, parse_dates=True, sep=\";\").groupby(pd.Grouper(key=\"climatic_year\"))\n",
    "full_wind_off_shore = pd.read_csv(\"./data/capa_factor_2030_scandinavia_offshore.csv\", index_col=1, parse_dates=True, sep=\";\").groupby(pd.Grouper(key=\"climatic_year\"))\n",
    "\n",
    "\n"
   ]
  },
  {
   "cell_type": "code",
   "execution_count": 6,
   "id": "c20c664f48edee17",
   "metadata": {
    "ExecuteTime": {
     "end_time": "2023-11-21T15:24:34.860895406Z",
     "start_time": "2023-11-21T15:24:34.800996804Z"
    }
   },
   "outputs": [],
   "source": [
    "climatic_year = 2000\n",
    "time_horizon_in_hours = 365 * 24"
   ]
  },
  {
   "cell_type": "code",
   "execution_count": 7,
   "id": "918747cd9007aef1",
   "metadata": {
    "ExecuteTime": {
     "end_time": "2023-11-21T15:24:34.862149936Z",
     "start_time": "2023-11-21T15:24:34.824339092Z"
    }
   },
   "outputs": [],
   "source": [
    "demand = full_demand.get_group(climatic_year)\n",
    "solar = full_solar.get_group(climatic_year)\n",
    "wind_on_shore = full_wind_on_shore.get_group(climatic_year)\n",
    "wind_off_shore = full_wind_off_shore.get_group(climatic_year)"
   ]
  },
  {
   "cell_type": "code",
   "execution_count": 8,
   "id": "e63f94fa",
   "metadata": {},
   "outputs": [
    {
     "data": {
      "text/plain": [
       "date\n",
       "1900-01-01 00:00:00    0.0\n",
       "1900-01-01 01:00:00    0.0\n",
       "1900-01-01 02:00:00    0.0\n",
       "1900-01-01 03:00:00    0.0\n",
       "1900-01-01 04:00:00    0.0\n",
       "                      ... \n",
       "1900-12-31 19:00:00    0.0\n",
       "1900-12-31 20:00:00    0.0\n",
       "1900-12-31 21:00:00    0.0\n",
       "1900-12-31 22:00:00    0.0\n",
       "1900-12-31 23:00:00    0.0\n",
       "Name: value, Length: 8760, dtype: float64"
      ]
     },
     "execution_count": 8,
     "metadata": {},
     "output_type": "execute_result"
    }
   ],
   "source": [
    "solar.value"
   ]
  },
  {
   "cell_type": "code",
   "execution_count": 9,
   "id": "f603f923cf15991b",
   "metadata": {
    "ExecuteTime": {
     "end_time": "2023-11-21T15:24:35.050796241Z",
     "start_time": "2023-11-21T15:24:34.853422507Z"
    }
   },
   "outputs": [],
   "source": [
    "network = pypsa.Network(snapshots=demand.index[0:time_horizon_in_hours])"
   ]
  },
  {
   "cell_type": "code",
   "execution_count": 10,
   "id": "e29ac64e2b19e0c4",
   "metadata": {
    "ExecuteTime": {
     "end_time": "2023-11-21T15:24:35.137686486Z",
     "start_time": "2023-11-21T15:24:35.093780275Z"
    }
   },
   "outputs": [],
   "source": [
    "network.add(\"Bus\", name=\"Scandinavia\", x=15.255119, y=60.128161)\n",
    "network.add(\"Bus\", name=\"Curtailment\", x=10, y=20)"
   ]
  },
  {
   "cell_type": "code",
   "execution_count": 11,
   "id": "44d2a543bc4746b8",
   "metadata": {},
   "outputs": [],
   "source": [
    "@dataclass\n",
    "class Carriers:\n",
    "    Battery = 0\n",
    "    Biomass = 230\n",
    "    Coal = 760\n",
    "    Gas = 370\n",
    "    Oil = 406\n",
    "    Hydrogen = 490\n",
    "    Hydro = 24\n",
    "    Nuclear = 12\n",
    "    Pumped = 0\n",
    "    Reservoir = 0\n",
    "    Solar = 45\n",
    "    Wind = 11"
   ]
  },
  {
   "cell_type": "code",
   "execution_count": 12,
   "id": "3d1dec97aca1d16a",
   "metadata": {
    "ExecuteTime": {
     "end_time": "2023-11-21T15:24:35.188299405Z",
     "start_time": "2023-11-21T15:24:35.137902357Z"
    }
   },
   "outputs": [],
   "source": [
    "for name, co2_emission in Carriers().__dict__.items():\n",
    "    network.add(\"Carrier\", name=name, co2_emissions=co2_emission)"
   ]
  },
  {
   "cell_type": "code",
   "execution_count": 13,
   "id": "5b92b1a3eefe4b11",
   "metadata": {
    "ExecuteTime": {
     "end_time": "2023-11-21T15:24:35.207541658Z",
     "start_time": "2023-11-21T15:24:35.184069630Z"
    }
   },
   "outputs": [],
   "source": [
    "#???\n",
    "coal_marginal_costs = 160\n",
    "gas_marginal_costs = 120\n",
    "oil_marginal_costs = 100\n",
    "nuclear_marginal_costs = 10\n",
    "hydro_marginal_costs = 5\n",
    "wind_marginal_costs = 5\n",
    "solar_marginal_costs = 5\n",
    "biomass_marginal_costs = 5\n",
    "\n",
    "\n",
    "reservoir_max_hours = 365*24\n",
    "pumped_max_hours = 100\n",
    "battery_max_hours = 200\n",
    "H2_max_hours = 300\n",
    "\n",
    "\n",
    "\n",
    "#coal_marginal_costs = 128 / 7 / 0.37 \n",
    "#gas_marginal_costs = 2.65 * 26.4 * 0.75 / 14.9 / 0.5\n",
    "#oil_marginal_costs = 73 * 0.119 / 12.5 / 0.40"
   ]
  },
  {
   "cell_type": "code",
   "execution_count": 14,
   "id": "54d77c7a69a4c5ab",
   "metadata": {
    "ExecuteTime": {
     "end_time": "2023-11-21T15:24:35.235604753Z",
     "start_time": "2023-11-21T15:24:35.207788497Z"
    }
   },
   "outputs": [],
   "source": [
    "generators = [\n",
    "    #{\"name\": \"Coal\", \"carrier\": \"Coal\", \"p_nom\": 2112, \"p_min_pu\": 0, \"p_max_pu\": 1, \"marginal_cost\": coal_marginal_costs, \"efficiency\": 0.37, \"committable\": True, \"min_up_time\": 1, \"min_down_time\": 1},\n",
    "    #{\"name\": \"Gas\", \"carrier\": \"Gas\", \"p_nom\": 2640, \"p_min_pu\": 0, \"p_max_pu\": 1, \"marginal_cost\": gas_marginal_costs, \"efficiency\": 0.5,\n",
    "    # \"committable\": True, \"min_up_time\": 1, \"min_down_time\": 1},\n",
    "    #{\"name\": \"Oil\", \"carrier\": \"Oil\", \"p_nom\": 0, \"p_min_pu\": 0, \"p_max_pu\": 1, \"marginal_cost\": oil_marginal_costs, \"efficiency\": 0.4,\n",
    "    # \"committable\": True, \"min_up_time\": 1, \"min_down_time\": 1},\n",
    "    {\"name\": \"Fossils\", \"carrier\": \"Fossils\", \"p_nom\": 5000, \"p_min_pu\": 0, \"p_max_pu\": 1, \"marginal_cost\": gas_marginal_costs, \"efficiency\": 0.4,\n",
    "     \"committable\": True, \"min_up_time\": 1, \"min_down_time\": 1},\n",
    "    {\"name\": \"BioEnergies\", \"carrier\": \"BioEnergies\", \"p_nom\":11000, \"p_min_pu\": 0, \"p_max_pu\": 1, \"marginal_cost\": biomass_marginal_costs, \"efficiency\": 0.5, \n",
    "     \"committable\": True, \"min_up_time\": 1, \"min_down_time\": 1},\n",
    "    {\"name\": \"Hydroelectric\", \"carrier\":\"Hydro\", \"p_nom\": 57000, \"p_min_pu\": 0, \"p_max_pu\": 1, \"marginal_cost\": hydro_marginal_costs, \"efficiency\": 1, \"committable\": True,\n",
    "     \"min_up_time\": 1, \"min_down_time\": 1},\n",
    "    {\"name\": \"Wind_on_shore\", \"carrier\": \"Wind_on_shore\", \"p_nom\": 43000, \"p_min_pu\":wind_on_shore.value, \"p_max_pu\": wind_on_shore.value, \"marginal_cost\": wind_marginal_costs, \"efficiency\":1, \"committable\": False,\n",
    "     \"min_up_time\": 1, \"min_down_time\": 1},\n",
    "    {\"name\": \"Wind_off_shore\", \"carrier\": \"Wind_off_shore\", \"p_nom\": 17000, \"p_min_pu\":wind_off_shore.value, \"p_max_pu\": wind_off_shore.value, \"marginal_cost\": wind_marginal_costs, \"efficiency\":1, \"committable\": False,\n",
    "     \"min_up_time\": 1, \"min_down_time\": 1},\n",
    "    {\"name\": \"Nuclear\", \"carrier\": \"Nuclear\", \"p_nom\": 11000, \"p_min_pu\":0, \"p_max_pu\": 1, \"marginal_cost\": nuclear_marginal_costs, \"efficiency\":1, \"committable\": True,\n",
    "     \"min_up_time\": 24, \"min_down_time\": 24},\n",
    "    {\"name\": \"Solar\", \"carrier\": \"Solar\", \"p_nom\": 19000, \"p_min_pu\":solar.value, \"p_max_pu\": solar.value, \"marginal_cost\": solar_marginal_costs, \"efficiency\":1, \"committable\": False,\n",
    "     \"min_up_time\": 1, \"min_down_time\": 1},\n",
    "    {\"name\": \"Failure\", \"carrier\": \"Failure\", \"p_nom\": 100000, \"p_min_pu\":0, \"p_max_pu\": 1, \"marginal_cost\": 100000, \"efficiency\":1, \"committable\": True,\n",
    "     \"min_up_time\": 1, \"min_down_time\": 1},\n",
    "    #{\"name\": \"Curtailment\", \"carrier\": \"Curtailment\", \"p_nom\": 100000, \"p_min_pu\":1, \"p_max_pu\": 1, \"marginal_cost\": 0, \"efficiency\":1, \"committable\": True,\n",
    "     #\"min_up_time\": 1, \"min_down_time\": 1},\n",
    "]\n",
    "\n",
    "fictive_generator = [\n",
    "    {\"name\": \"Curtailment\", \"carrier\": \"Curtailment\", \"p_nom\": 100000, \"p_min_pu\":0, \"p_max_pu\": 1, \"marginal_cost\": 0.0001, \"efficiency\":1, \"committable\": True,\n",
    "     \"min_up_time\": 1, \"min_down_time\": 1}\n",
    "]\n",
    "\n",
    "\n",
    "storage_units = [\n",
    "        {\"name\": \"Reservoir\", \"carrier\": \"Reservoir\", \"p_nom\": 100000, \"p_min_pu\": 0, \"p_max_pu\": 1, \"max_hours\": reservoir_max_hours, \"efficiency\": 1, \"cyclic_state_of_charge\": True, \"p_nom_discharge\" : 100, \"p_nom_charge\" : 100},\n",
    "        {\"name\": \"Pumped\", \"carrier\": \"Pumped\", \"p_nom\": 100000, \"p_min_pu\": 0, \"p_max_pu\": 1, \"max_hours\": pumped_max_hours, \"efficiency\": 1, \"cyclic_state_of_charge\": True, \"p_nom_discharge\" : 100, \"p_nom_charge\" : 100},\n",
    "        {\"name\": \"Battery\", \"carrier\": \"Battery\", \"p_nom\": 100000, \"p_min_pu\": 0, \"p_max_pu\": 1, \"max_hours\": battery_max_hours, \"efficiency\": 1, \"cyclic_state_of_charge\": True, \"p_nom_discharge\" : 100, \"p_nom_charge\" : 100},\n",
    "        {\"name\": \"H2\", \"carrier\": \"H2\", \"p_nom\": 100000, \"p_min_pu\": 0, \"p_max_pu\": 1, \"max_hours\": H2_max_hours, \"efficiency\": 1, \"cyclic_state_of_charge\": True, \"p_nom_discharge\" :100, \"p_nom_charge\" : 100},\n",
    "]\n",
    "\n"
   ]
  },
  {
   "cell_type": "code",
   "execution_count": null,
   "id": "ed59f042",
   "metadata": {},
   "outputs": [],
   "source": []
  },
  {
   "cell_type": "code",
   "execution_count": 15,
   "id": "839b7d9152f30e16",
   "metadata": {
    "ExecuteTime": {
     "end_time": "2023-11-21T15:24:35.284198819Z",
     "start_time": "2023-11-21T15:24:35.235502784Z"
    }
   },
   "outputs": [],
   "source": [
    "for generator in generators:\n",
    "    network.add(\"Generator\", bus=\"Scandinavia\", **generator,)\n",
    "    \n",
    "for generator in fictive_generator:\n",
    "    network.add(\"Generator\", bus=\"Curtailment\", **generator,)\n",
    "#for storage in storage_units:\n",
    "#    network.add(\"Store\", bus=\"Scandinavia\", **storage,)"
   ]
  },
  {
   "cell_type": "code",
   "execution_count": 16,
   "id": "7ee363d9bc8aae92",
   "metadata": {
    "ExecuteTime": {
     "end_time": "2023-11-21T15:24:35.329671095Z",
     "start_time": "2023-11-21T15:24:35.292711206Z"
    }
   },
   "outputs": [],
   "source": [
    "#'carrier', \"AC\" ?? \n",
    "\n",
    "loads = [\n",
    "    {\"name\": \"Scandinavia-load\", \"bus\": \"Scandinavia\", \"carrier\": \"AC\",\"p_set\": demand[0:time_horizon_in_hours][\"value\"].values*1},\n",
    "    {\"name\": \"Curtailment-load\", \"bus\": \"Curtailment\", \"carrier\": \"AC\",\"p_set\": 10000},\n",
    "]   "
   ]
  },
  {
   "cell_type": "code",
   "execution_count": 17,
   "id": "d409d8fc4b9ce066",
   "metadata": {
    "ExecuteTime": {
     "end_time": "2023-11-21T15:24:35.373745756Z",
     "start_time": "2023-11-21T15:24:35.329551603Z"
    }
   },
   "outputs": [],
   "source": [
    "for load in loads:\n",
    "    network.add(\"Load\", **load)"
   ]
  },
  {
   "cell_type": "code",
   "execution_count": 18,
   "id": "a5e95a28",
   "metadata": {},
   "outputs": [],
   "source": [
    "network.add(\"Link\",\n",
    "            \"Link_SCA_Curtailment\",  # Unique identifier for the link\n",
    "            bus0=\"Scandinavia\",    # Name of the first country/bus\n",
    "            bus1=\"Curtailment\",    # Name of the second country/bus\n",
    "            p_nom=700000,           # Transmission capacity in MW (adjust as needed)\n",
    "            efficiency=0.95,      # Transmission efficiency (adjust as needed)\n",
    "           )"
   ]
  },
  {
   "cell_type": "code",
   "execution_count": 19,
   "id": "eaec8f62",
   "metadata": {},
   "outputs": [
    {
     "data": {
      "text/plain": [
       "[{'name': 'Fossils',\n",
       "  'carrier': 'Fossils',\n",
       "  'p_nom': 5000,\n",
       "  'p_min_pu': 0,\n",
       "  'p_max_pu': 1,\n",
       "  'marginal_cost': 120,\n",
       "  'efficiency': 0.4,\n",
       "  'committable': True,\n",
       "  'min_up_time': 1,\n",
       "  'min_down_time': 1},\n",
       " {'name': 'BioEnergies',\n",
       "  'carrier': 'BioEnergies',\n",
       "  'p_nom': 11000,\n",
       "  'p_min_pu': 0,\n",
       "  'p_max_pu': 1,\n",
       "  'marginal_cost': 5,\n",
       "  'efficiency': 0.5,\n",
       "  'committable': True,\n",
       "  'min_up_time': 1,\n",
       "  'min_down_time': 1},\n",
       " {'name': 'Hydroelectric',\n",
       "  'carrier': 'Hydro',\n",
       "  'p_nom': 57000,\n",
       "  'p_min_pu': 0,\n",
       "  'p_max_pu': 1,\n",
       "  'marginal_cost': 5,\n",
       "  'efficiency': 1,\n",
       "  'committable': True,\n",
       "  'min_up_time': 1,\n",
       "  'min_down_time': 1},\n",
       " {'name': 'Wind_on_shore',\n",
       "  'carrier': 'Wind_on_shore',\n",
       "  'p_nom': 43000,\n",
       "  'p_min_pu': date\n",
       "  1900-01-01 00:00:00    0.24\n",
       "  1900-01-01 01:00:00    0.25\n",
       "  1900-01-01 02:00:00    0.27\n",
       "  1900-01-01 03:00:00    0.28\n",
       "  1900-01-01 04:00:00    0.29\n",
       "                         ... \n",
       "  1900-12-31 19:00:00    0.20\n",
       "  1900-12-31 20:00:00    0.20\n",
       "  1900-12-31 21:00:00    0.20\n",
       "  1900-12-31 22:00:00    0.20\n",
       "  1900-12-31 23:00:00    0.20\n",
       "  Name: value, Length: 8760, dtype: float64,\n",
       "  'p_max_pu': date\n",
       "  1900-01-01 00:00:00    0.24\n",
       "  1900-01-01 01:00:00    0.25\n",
       "  1900-01-01 02:00:00    0.27\n",
       "  1900-01-01 03:00:00    0.28\n",
       "  1900-01-01 04:00:00    0.29\n",
       "                         ... \n",
       "  1900-12-31 19:00:00    0.20\n",
       "  1900-12-31 20:00:00    0.20\n",
       "  1900-12-31 21:00:00    0.20\n",
       "  1900-12-31 22:00:00    0.20\n",
       "  1900-12-31 23:00:00    0.20\n",
       "  Name: value, Length: 8760, dtype: float64,\n",
       "  'marginal_cost': 5,\n",
       "  'efficiency': 1,\n",
       "  'committable': False,\n",
       "  'min_up_time': 1,\n",
       "  'min_down_time': 1},\n",
       " {'name': 'Wind_off_shore',\n",
       "  'carrier': 'Wind_off_shore',\n",
       "  'p_nom': 17000,\n",
       "  'p_min_pu': date\n",
       "  1900-01-01 00:00:00    0.33\n",
       "  1900-01-01 01:00:00    0.35\n",
       "  1900-01-01 02:00:00    0.37\n",
       "  1900-01-01 03:00:00    0.38\n",
       "  1900-01-01 04:00:00    0.38\n",
       "                         ... \n",
       "  1900-12-31 19:00:00    0.22\n",
       "  1900-12-31 20:00:00    0.21\n",
       "  1900-12-31 21:00:00    0.21\n",
       "  1900-12-31 22:00:00    0.22\n",
       "  1900-12-31 23:00:00    0.22\n",
       "  Name: value, Length: 8760, dtype: float64,\n",
       "  'p_max_pu': date\n",
       "  1900-01-01 00:00:00    0.33\n",
       "  1900-01-01 01:00:00    0.35\n",
       "  1900-01-01 02:00:00    0.37\n",
       "  1900-01-01 03:00:00    0.38\n",
       "  1900-01-01 04:00:00    0.38\n",
       "                         ... \n",
       "  1900-12-31 19:00:00    0.22\n",
       "  1900-12-31 20:00:00    0.21\n",
       "  1900-12-31 21:00:00    0.21\n",
       "  1900-12-31 22:00:00    0.22\n",
       "  1900-12-31 23:00:00    0.22\n",
       "  Name: value, Length: 8760, dtype: float64,\n",
       "  'marginal_cost': 5,\n",
       "  'efficiency': 1,\n",
       "  'committable': False,\n",
       "  'min_up_time': 1,\n",
       "  'min_down_time': 1},\n",
       " {'name': 'Nuclear',\n",
       "  'carrier': 'Nuclear',\n",
       "  'p_nom': 11000,\n",
       "  'p_min_pu': 0,\n",
       "  'p_max_pu': 1,\n",
       "  'marginal_cost': 10,\n",
       "  'efficiency': 1,\n",
       "  'committable': True,\n",
       "  'min_up_time': 24,\n",
       "  'min_down_time': 24},\n",
       " {'name': 'Solar',\n",
       "  'carrier': 'Solar',\n",
       "  'p_nom': 19000,\n",
       "  'p_min_pu': date\n",
       "  1900-01-01 00:00:00    0.0\n",
       "  1900-01-01 01:00:00    0.0\n",
       "  1900-01-01 02:00:00    0.0\n",
       "  1900-01-01 03:00:00    0.0\n",
       "  1900-01-01 04:00:00    0.0\n",
       "                        ... \n",
       "  1900-12-31 19:00:00    0.0\n",
       "  1900-12-31 20:00:00    0.0\n",
       "  1900-12-31 21:00:00    0.0\n",
       "  1900-12-31 22:00:00    0.0\n",
       "  1900-12-31 23:00:00    0.0\n",
       "  Name: value, Length: 8760, dtype: float64,\n",
       "  'p_max_pu': date\n",
       "  1900-01-01 00:00:00    0.0\n",
       "  1900-01-01 01:00:00    0.0\n",
       "  1900-01-01 02:00:00    0.0\n",
       "  1900-01-01 03:00:00    0.0\n",
       "  1900-01-01 04:00:00    0.0\n",
       "                        ... \n",
       "  1900-12-31 19:00:00    0.0\n",
       "  1900-12-31 20:00:00    0.0\n",
       "  1900-12-31 21:00:00    0.0\n",
       "  1900-12-31 22:00:00    0.0\n",
       "  1900-12-31 23:00:00    0.0\n",
       "  Name: value, Length: 8760, dtype: float64,\n",
       "  'marginal_cost': 5,\n",
       "  'efficiency': 1,\n",
       "  'committable': False,\n",
       "  'min_up_time': 1,\n",
       "  'min_down_time': 1},\n",
       " {'name': 'Failure',\n",
       "  'carrier': 'Failure',\n",
       "  'p_nom': 100000,\n",
       "  'p_min_pu': 0,\n",
       "  'p_max_pu': 1,\n",
       "  'marginal_cost': 100000,\n",
       "  'efficiency': 1,\n",
       "  'committable': True,\n",
       "  'min_up_time': 1,\n",
       "  'min_down_time': 1}]"
      ]
     },
     "execution_count": 19,
     "metadata": {},
     "output_type": "execute_result"
    }
   ],
   "source": [
    "generators"
   ]
  },
  {
   "cell_type": "code",
   "execution_count": 20,
   "id": "cd03bd1ea87454ce",
   "metadata": {
    "ExecuteTime": {
     "end_time": "2023-11-21T15:24:35.374151875Z",
     "start_time": "2023-11-21T15:24:35.373365062Z"
    }
   },
   "outputs": [
    {
     "data": {
      "text/plain": [
       "PyPSA Network\n",
       "Components:\n",
       " - Bus: 2\n",
       " - Generator: 9\n",
       " - Link: 1\n",
       " - Load: 2\n",
       "Snapshots: 8760"
      ]
     },
     "execution_count": 20,
     "metadata": {},
     "output_type": "execute_result"
    }
   ],
   "source": [
    "network"
   ]
  },
  {
   "cell_type": "code",
   "execution_count": 21,
   "id": "69e8f1ddc0a04de",
   "metadata": {
    "ExecuteTime": {
     "end_time": "2023-11-21T15:24:40.671740003Z",
     "start_time": "2023-11-21T15:24:35.373513614Z"
    }
   },
   "outputs": [
    {
     "name": "stderr",
     "output_type": "stream",
     "text": [
      "INFO:linopy.model: Solve problem using Gurobi solver\n"
     ]
    },
    {
     "name": "stdout",
     "output_type": "stream",
     "text": [
      "Set parameter Username\n"
     ]
    },
    {
     "name": "stderr",
     "output_type": "stream",
     "text": [
      "INFO:gurobipy.gurobipy:Set parameter Username\n"
     ]
    },
    {
     "name": "stdout",
     "output_type": "stream",
     "text": [
      "Academic license - for non-commercial use only - expires 2024-11-21\n"
     ]
    },
    {
     "name": "stderr",
     "output_type": "stream",
     "text": [
      "INFO:gurobipy.gurobipy:Academic license - for non-commercial use only - expires 2024-11-21\n",
      "INFO:linopy.io:Writing objective.\n",
      "Writing constraints.: 100%|\u001b[38;2;128;191;255m████████████████████████████████████████████\u001b[0m| 12/12 [00:03<00:00,  3.59it/s]\u001b[0m\n",
      "Writing continuous variables.: 100%|\u001b[38;2;128;191;255m█████████████████████████████████████\u001b[0m| 2/2 [00:00<00:00, 11.97it/s]\u001b[0m\n",
      "Writing binary variables.: 100%|\u001b[38;2;128;191;255m█████████████████████████████████████████\u001b[0m| 3/3 [00:00<00:00, 22.35it/s]\u001b[0m\n",
      "INFO:linopy.io: Writing time: 3.8s\n"
     ]
    },
    {
     "name": "stdout",
     "output_type": "stream",
     "text": [
      "Read LP format model from file /private/var/folders/ms/4_rjwj4n1h1gg3k7zdvmsv5m0000gn/T/linopy-problem-sjlh6ykh.lp\n"
     ]
    },
    {
     "name": "stderr",
     "output_type": "stream",
     "text": [
      "INFO:gurobipy.gurobipy:Read LP format model from file /private/var/folders/ms/4_rjwj4n1h1gg3k7zdvmsv5m0000gn/T/linopy-problem-sjlh6ykh.lp\n"
     ]
    },
    {
     "name": "stdout",
     "output_type": "stream",
     "text": [
      "Reading time = 1.00 seconds\n"
     ]
    },
    {
     "name": "stderr",
     "output_type": "stream",
     "text": [
      "INFO:gurobipy.gurobipy:Reading time = 1.00 seconds\n"
     ]
    },
    {
     "name": "stdout",
     "output_type": "stream",
     "text": [
      "obj: 402971 rows, 245280 columns, 1252115 nonzeros\n"
     ]
    },
    {
     "name": "stderr",
     "output_type": "stream",
     "text": [
      "INFO:gurobipy.gurobipy:obj: 402971 rows, 245280 columns, 1252115 nonzeros\n"
     ]
    },
    {
     "name": "stdout",
     "output_type": "stream",
     "text": [
      "Gurobi Optimizer version 10.0.3 build v10.0.3rc0 (mac64[x86])\n"
     ]
    },
    {
     "name": "stderr",
     "output_type": "stream",
     "text": [
      "INFO:gurobipy.gurobipy:Gurobi Optimizer version 10.0.3 build v10.0.3rc0 (mac64[x86])\n"
     ]
    },
    {
     "name": "stdout",
     "output_type": "stream",
     "text": [
      "\n"
     ]
    },
    {
     "name": "stderr",
     "output_type": "stream",
     "text": [
      "INFO:gurobipy.gurobipy:\n"
     ]
    },
    {
     "name": "stdout",
     "output_type": "stream",
     "text": [
      "CPU model: Intel(R) Core(TM) i5-8259U CPU @ 2.30GHz\n"
     ]
    },
    {
     "name": "stderr",
     "output_type": "stream",
     "text": [
      "INFO:gurobipy.gurobipy:CPU model: Intel(R) Core(TM) i5-8259U CPU @ 2.30GHz\n"
     ]
    },
    {
     "name": "stdout",
     "output_type": "stream",
     "text": [
      "Thread count: 4 physical cores, 8 logical processors, using up to 8 threads\n"
     ]
    },
    {
     "name": "stderr",
     "output_type": "stream",
     "text": [
      "INFO:gurobipy.gurobipy:Thread count: 4 physical cores, 8 logical processors, using up to 8 threads\n"
     ]
    },
    {
     "name": "stdout",
     "output_type": "stream",
     "text": [
      "\n"
     ]
    },
    {
     "name": "stderr",
     "output_type": "stream",
     "text": [
      "INFO:gurobipy.gurobipy:\n"
     ]
    },
    {
     "name": "stdout",
     "output_type": "stream",
     "text": [
      "Optimize a model with 402971 rows, 245280 columns and 1252115 nonzeros\n"
     ]
    },
    {
     "name": "stderr",
     "output_type": "stream",
     "text": [
      "INFO:gurobipy.gurobipy:Optimize a model with 402971 rows, 245280 columns and 1252115 nonzeros\n"
     ]
    },
    {
     "name": "stdout",
     "output_type": "stream",
     "text": [
      "Model fingerprint: 0x7951eb16\n"
     ]
    },
    {
     "name": "stderr",
     "output_type": "stream",
     "text": [
      "INFO:gurobipy.gurobipy:Model fingerprint: 0x7951eb16\n"
     ]
    },
    {
     "name": "stdout",
     "output_type": "stream",
     "text": [
      "Variable types: 87600 continuous, 157680 integer (157680 binary)\n"
     ]
    },
    {
     "name": "stderr",
     "output_type": "stream",
     "text": [
      "INFO:gurobipy.gurobipy:Variable types: 87600 continuous, 157680 integer (157680 binary)\n"
     ]
    },
    {
     "name": "stdout",
     "output_type": "stream",
     "text": [
      "Coefficient statistics:\n"
     ]
    },
    {
     "name": "stderr",
     "output_type": "stream",
     "text": [
      "INFO:gurobipy.gurobipy:Coefficient statistics:\n"
     ]
    },
    {
     "name": "stdout",
     "output_type": "stream",
     "text": [
      "  Matrix range     [9e-01, 1e+05]\n"
     ]
    },
    {
     "name": "stderr",
     "output_type": "stream",
     "text": [
      "INFO:gurobipy.gurobipy:  Matrix range     [9e-01, 1e+05]\n"
     ]
    },
    {
     "name": "stdout",
     "output_type": "stream",
     "text": [
      "  Objective range  [1e-04, 1e+05]\n"
     ]
    },
    {
     "name": "stderr",
     "output_type": "stream",
     "text": [
      "INFO:gurobipy.gurobipy:  Objective range  [1e-04, 1e+05]\n"
     ]
    },
    {
     "name": "stdout",
     "output_type": "stream",
     "text": [
      "  Bounds range     [1e+00, 1e+00]\n"
     ]
    },
    {
     "name": "stderr",
     "output_type": "stream",
     "text": [
      "INFO:gurobipy.gurobipy:  Bounds range     [1e+00, 1e+00]\n"
     ]
    },
    {
     "name": "stdout",
     "output_type": "stream",
     "text": [
      "  RHS range        [1e+00, 7e+05]\n"
     ]
    },
    {
     "name": "stderr",
     "output_type": "stream",
     "text": [
      "INFO:gurobipy.gurobipy:  RHS range        [1e+00, 7e+05]\n"
     ]
    },
    {
     "name": "stdout",
     "output_type": "stream",
     "text": [
      "Presolve removed 366825 rows and 245276 columns (presolve time = 6s) ...\n"
     ]
    },
    {
     "name": "stderr",
     "output_type": "stream",
     "text": [
      "INFO:gurobipy.gurobipy:Presolve removed 366825 rows and 245276 columns (presolve time = 6s) ...\n"
     ]
    },
    {
     "name": "stdout",
     "output_type": "stream",
     "text": [
      "Presolve removed 402969 rows and 245276 columns\n"
     ]
    },
    {
     "name": "stderr",
     "output_type": "stream",
     "text": [
      "INFO:gurobipy.gurobipy:Presolve removed 402969 rows and 245276 columns\n"
     ]
    },
    {
     "name": "stdout",
     "output_type": "stream",
     "text": [
      "Presolve time: 6.04s\n"
     ]
    },
    {
     "name": "stderr",
     "output_type": "stream",
     "text": [
      "INFO:gurobipy.gurobipy:Presolve time: 6.04s\n"
     ]
    },
    {
     "name": "stdout",
     "output_type": "stream",
     "text": [
      "Presolved: 2 rows, 4 columns, 5 nonzeros\n"
     ]
    },
    {
     "name": "stderr",
     "output_type": "stream",
     "text": [
      "INFO:gurobipy.gurobipy:Presolved: 2 rows, 4 columns, 5 nonzeros\n"
     ]
    },
    {
     "name": "stdout",
     "output_type": "stream",
     "text": [
      "Variable types: 3 continuous, 1 integer (1 binary)\n"
     ]
    },
    {
     "name": "stderr",
     "output_type": "stream",
     "text": [
      "INFO:gurobipy.gurobipy:Variable types: 3 continuous, 1 integer (1 binary)\n"
     ]
    },
    {
     "name": "stdout",
     "output_type": "stream",
     "text": [
      "\n"
     ]
    },
    {
     "name": "stderr",
     "output_type": "stream",
     "text": [
      "INFO:gurobipy.gurobipy:\n"
     ]
    },
    {
     "name": "stdout",
     "output_type": "stream",
     "text": [
      "Root simplex log...\n"
     ]
    },
    {
     "name": "stderr",
     "output_type": "stream",
     "text": [
      "INFO:gurobipy.gurobipy:Root simplex log...\n"
     ]
    },
    {
     "name": "stdout",
     "output_type": "stream",
     "text": [
      "\n"
     ]
    },
    {
     "name": "stderr",
     "output_type": "stream",
     "text": [
      "INFO:gurobipy.gurobipy:\n"
     ]
    },
    {
     "name": "stdout",
     "output_type": "stream",
     "text": [
      "Iteration    Objective       Primal Inf.    Dual Inf.      Time\n"
     ]
    },
    {
     "name": "stderr",
     "output_type": "stream",
     "text": [
      "INFO:gurobipy.gurobipy:Iteration    Objective       Primal Inf.    Dual Inf.      Time\n"
     ]
    },
    {
     "name": "stdout",
     "output_type": "stream",
     "text": [
      "       0    3.3077589e+09   2.612500e+03   0.000000e+00      6s\n"
     ]
    },
    {
     "name": "stderr",
     "output_type": "stream",
     "text": [
      "INFO:gurobipy.gurobipy:       0    3.3077589e+09   2.612500e+03   0.000000e+00      6s\n"
     ]
    },
    {
     "name": "stdout",
     "output_type": "stream",
     "text": [
      "       1    3.3078139e+09   0.000000e+00   0.000000e+00      6s\n"
     ]
    },
    {
     "name": "stderr",
     "output_type": "stream",
     "text": [
      "INFO:gurobipy.gurobipy:       1    3.3078139e+09   0.000000e+00   0.000000e+00      6s\n"
     ]
    },
    {
     "name": "stdout",
     "output_type": "stream",
     "text": [
      "\n"
     ]
    },
    {
     "name": "stderr",
     "output_type": "stream",
     "text": [
      "INFO:gurobipy.gurobipy:\n"
     ]
    },
    {
     "name": "stdout",
     "output_type": "stream",
     "text": [
      "Root relaxation: objective 3.307814e+09, 1 iterations, 0.01 seconds (0.00 work units)\n"
     ]
    },
    {
     "name": "stderr",
     "output_type": "stream",
     "text": [
      "INFO:gurobipy.gurobipy:Root relaxation: objective 3.307814e+09, 1 iterations, 0.01 seconds (0.00 work units)\n"
     ]
    },
    {
     "name": "stdout",
     "output_type": "stream",
     "text": [
      "\n"
     ]
    },
    {
     "name": "stderr",
     "output_type": "stream",
     "text": [
      "INFO:gurobipy.gurobipy:\n"
     ]
    },
    {
     "name": "stdout",
     "output_type": "stream",
     "text": [
      "    Nodes    |    Current Node    |     Objective Bounds      |     Work\n"
     ]
    },
    {
     "name": "stderr",
     "output_type": "stream",
     "text": [
      "INFO:gurobipy.gurobipy:    Nodes    |    Current Node    |     Objective Bounds      |     Work\n"
     ]
    },
    {
     "name": "stdout",
     "output_type": "stream",
     "text": [
      " Expl Unexpl |  Obj  Depth IntInf | Incumbent    BestBd   Gap | It/Node Time\n"
     ]
    },
    {
     "name": "stderr",
     "output_type": "stream",
     "text": [
      "INFO:gurobipy.gurobipy: Expl Unexpl |  Obj  Depth IntInf | Incumbent    BestBd   Gap | It/Node Time\n"
     ]
    },
    {
     "name": "stdout",
     "output_type": "stream",
     "text": [
      "\n"
     ]
    },
    {
     "name": "stderr",
     "output_type": "stream",
     "text": [
      "INFO:gurobipy.gurobipy:\n"
     ]
    },
    {
     "name": "stdout",
     "output_type": "stream",
     "text": [
      "*    0     0               0    3.307814e+09 3.3078e+09  0.00%     -    6s\n"
     ]
    },
    {
     "name": "stderr",
     "output_type": "stream",
     "text": [
      "INFO:gurobipy.gurobipy:*    0     0               0    3.307814e+09 3.3078e+09  0.00%     -    6s\n"
     ]
    },
    {
     "name": "stdout",
     "output_type": "stream",
     "text": [
      "\n"
     ]
    },
    {
     "name": "stderr",
     "output_type": "stream",
     "text": [
      "INFO:gurobipy.gurobipy:\n"
     ]
    },
    {
     "name": "stdout",
     "output_type": "stream",
     "text": [
      "Explored 1 nodes (1 simplex iterations) in 6.46 seconds (7.43 work units)\n"
     ]
    },
    {
     "name": "stderr",
     "output_type": "stream",
     "text": [
      "INFO:gurobipy.gurobipy:Explored 1 nodes (1 simplex iterations) in 6.46 seconds (7.43 work units)\n"
     ]
    },
    {
     "name": "stdout",
     "output_type": "stream",
     "text": [
      "Thread count was 8 (of 8 available processors)\n"
     ]
    },
    {
     "name": "stderr",
     "output_type": "stream",
     "text": [
      "INFO:gurobipy.gurobipy:Thread count was 8 (of 8 available processors)\n"
     ]
    },
    {
     "name": "stdout",
     "output_type": "stream",
     "text": [
      "\n"
     ]
    },
    {
     "name": "stderr",
     "output_type": "stream",
     "text": [
      "INFO:gurobipy.gurobipy:\n"
     ]
    },
    {
     "name": "stdout",
     "output_type": "stream",
     "text": [
      "Solution count 1: 3.30781e+09 \n"
     ]
    },
    {
     "name": "stderr",
     "output_type": "stream",
     "text": [
      "INFO:gurobipy.gurobipy:Solution count 1: 3.30781e+09 \n"
     ]
    },
    {
     "name": "stdout",
     "output_type": "stream",
     "text": [
      "No other solutions better than 3.30781e+09\n"
     ]
    },
    {
     "name": "stderr",
     "output_type": "stream",
     "text": [
      "INFO:gurobipy.gurobipy:No other solutions better than 3.30781e+09\n"
     ]
    },
    {
     "name": "stdout",
     "output_type": "stream",
     "text": [
      "\n"
     ]
    },
    {
     "name": "stderr",
     "output_type": "stream",
     "text": [
      "INFO:gurobipy.gurobipy:\n"
     ]
    },
    {
     "name": "stdout",
     "output_type": "stream",
     "text": [
      "Optimal solution found (tolerance 1.00e-04)\n"
     ]
    },
    {
     "name": "stderr",
     "output_type": "stream",
     "text": [
      "INFO:gurobipy.gurobipy:Optimal solution found (tolerance 1.00e-04)\n"
     ]
    },
    {
     "name": "stdout",
     "output_type": "stream",
     "text": [
      "Best objective 3.307813861849e+09, best bound 3.307813861849e+09, gap 0.0000%\n"
     ]
    },
    {
     "name": "stderr",
     "output_type": "stream",
     "text": [
      "INFO:gurobipy.gurobipy:Best objective 3.307813861849e+09, best bound 3.307813861849e+09, gap 0.0000%\n",
      "WARNING:linopy.solvers:Dual values of MILP couldn't be parsed\n",
      "INFO:linopy.constants: Optimization successful: \n",
      "Status: ok\n",
      "Termination condition: optimal\n",
      "Solution: 245280 primals, 0 duals\n",
      "Objective: 3.31e+09\n",
      "Solver model: available\n",
      "Solver message: 2\n",
      "\n"
     ]
    },
    {
     "name": "stdout",
     "output_type": "stream",
     "text": [
      "('ok', 'optimal')\n"
     ]
    }
   ],
   "source": [
    "result = network.optimize(solver_name=\"gurobi\")\n",
    "print(result)   "
   ]
  },
  {
   "cell_type": "code",
   "execution_count": 22,
   "id": "bcebf8404d4f0eab",
   "metadata": {
    "ExecuteTime": {
     "end_time": "2023-11-21T15:24:41.113265498Z",
     "start_time": "2023-11-21T15:24:40.651717556Z"
    }
   },
   "outputs": [
    {
     "data": {
      "text/plain": [
       "<Axes: xlabel='Generator', ylabel='GW'>"
      ]
     },
     "execution_count": 22,
     "metadata": {},
     "output_type": "execute_result"
    },
    {
     "data": {
      "image/png": "[encoded data removed]",
      "text/plain": [
       "<Figure size 800x300 with 1 Axes>"
      ]
     },
     "metadata": {},
     "output_type": "display_data"
    }
   ],
   "source": [
    "network.generators.p_nom_opt.div(1e3).plot.bar(ylabel=\"GW\", figsize=(8, 3))"
   ]
  },
  {
   "cell_type": "code",
   "execution_count": 38,
   "id": "7a0ab5cb1fca4841",
   "metadata": {
    "ExecuteTime": {
     "end_time": "2023-11-21T15:24:42.252866588Z",
     "start_time": "2023-11-21T15:24:41.113619802Z"
    }
   },
   "outputs": [
    {
     "ename": "ValueError",
     "evalue": "When stacked is True, each column must be either all positive or all negative. Column 'Failure' contains both positive and negative values",
     "output_type": "error",
     "traceback": [
      "\u001b[0;31m---------------------------------------------------------------------------\u001b[0m",
      "\u001b[0;31mValueError\u001b[0m                                Traceback (most recent call last)",
      "Cell \u001b[0;32mIn[38], line 1\u001b[0m\n\u001b[0;32m----> 1\u001b[0m \u001b[43mnetwork\u001b[49m\u001b[38;5;241;43m.\u001b[39;49m\u001b[43mgenerators_t\u001b[49m\u001b[38;5;241;43m.\u001b[39;49m\u001b[43mp\u001b[49m\u001b[38;5;241;43m.\u001b[39;49m\u001b[43mresample\u001b[49m\u001b[43m(\u001b[49m\u001b[38;5;124;43m'\u001b[39;49m\u001b[38;5;124;43mD\u001b[39;49m\u001b[38;5;124;43m'\u001b[39;49m\u001b[43m)\u001b[49m\u001b[38;5;241;43m.\u001b[39;49m\u001b[43mmean\u001b[49m\u001b[43m(\u001b[49m\u001b[43m)\u001b[49m\u001b[38;5;241;43m.\u001b[39;49m\u001b[43mdiv\u001b[49m\u001b[43m(\u001b[49m\u001b[38;5;241;43m1e3\u001b[39;49m\u001b[43m)\u001b[49m\u001b[38;5;241;43m.\u001b[39;49m\u001b[43mplot\u001b[49m\u001b[38;5;241;43m.\u001b[39;49m\u001b[43marea\u001b[49m\u001b[43m(\u001b[49m\u001b[43msubplots\u001b[49m\u001b[38;5;241;43m=\u001b[39;49m\u001b[38;5;28;43;01mFalse\u001b[39;49;00m\u001b[43m,\u001b[49m\u001b[43m \u001b[49m\u001b[43mylabel\u001b[49m\u001b[38;5;241;43m=\u001b[39;49m\u001b[38;5;124;43m\"\u001b[39;49m\u001b[38;5;124;43mGW\u001b[39;49m\u001b[38;5;124;43m\"\u001b[39;49m\u001b[43m)\u001b[49m\n",
      "File \u001b[0;32m~/Documents/anaconda3/lib/python3.10/site-packages/pandas/plotting/_core.py:1557\u001b[0m, in \u001b[0;36mPlotAccessor.area\u001b[0;34m(self, x, y, **kwargs)\u001b[0m\n\u001b[1;32m   1486\u001b[0m \u001b[38;5;28;01mdef\u001b[39;00m \u001b[38;5;21marea\u001b[39m(\u001b[38;5;28mself\u001b[39m, x\u001b[38;5;241m=\u001b[39m\u001b[38;5;28;01mNone\u001b[39;00m, y\u001b[38;5;241m=\u001b[39m\u001b[38;5;28;01mNone\u001b[39;00m, \u001b[38;5;241m*\u001b[39m\u001b[38;5;241m*\u001b[39mkwargs) \u001b[38;5;241m-\u001b[39m\u001b[38;5;241m>\u001b[39m PlotAccessor:\n\u001b[1;32m   1487\u001b[0m     \u001b[38;5;124;03m\"\"\"\u001b[39;00m\n\u001b[1;32m   1488\u001b[0m \u001b[38;5;124;03m    Draw a stacked area plot.\u001b[39;00m\n\u001b[1;32m   1489\u001b[0m \n\u001b[0;32m   (...)\u001b[0m\n\u001b[1;32m   1555\u001b[0m \u001b[38;5;124;03m        >>> ax = df.plot.area(x='day')\u001b[39;00m\n\u001b[1;32m   1556\u001b[0m \u001b[38;5;124;03m    \"\"\"\u001b[39;00m\n\u001b[0;32m-> 1557\u001b[0m     \u001b[38;5;28;01mreturn\u001b[39;00m \u001b[38;5;28;43mself\u001b[39;49m\u001b[43m(\u001b[49m\u001b[43mkind\u001b[49m\u001b[38;5;241;43m=\u001b[39;49m\u001b[38;5;124;43m\"\u001b[39;49m\u001b[38;5;124;43marea\u001b[39;49m\u001b[38;5;124;43m\"\u001b[39;49m\u001b[43m,\u001b[49m\u001b[43m \u001b[49m\u001b[43mx\u001b[49m\u001b[38;5;241;43m=\u001b[39;49m\u001b[43mx\u001b[49m\u001b[43m,\u001b[49m\u001b[43m \u001b[49m\u001b[43my\u001b[49m\u001b[38;5;241;43m=\u001b[39;49m\u001b[43my\u001b[49m\u001b[43m,\u001b[49m\u001b[43m \u001b[49m\u001b[38;5;241;43m*\u001b[39;49m\u001b[38;5;241;43m*\u001b[39;49m\u001b[43mkwargs\u001b[49m\u001b[43m)\u001b[49m\n",
      "File \u001b[0;32m~/Documents/anaconda3/lib/python3.10/site-packages/pandas/plotting/_core.py:1000\u001b[0m, in \u001b[0;36mPlotAccessor.__call__\u001b[0;34m(self, *args, **kwargs)\u001b[0m\n\u001b[1;32m    997\u001b[0m             label_name \u001b[38;5;241m=\u001b[39m label_kw \u001b[38;5;129;01mor\u001b[39;00m data\u001b[38;5;241m.\u001b[39mcolumns\n\u001b[1;32m    998\u001b[0m             data\u001b[38;5;241m.\u001b[39mcolumns \u001b[38;5;241m=\u001b[39m label_name\n\u001b[0;32m-> 1000\u001b[0m \u001b[38;5;28;01mreturn\u001b[39;00m \u001b[43mplot_backend\u001b[49m\u001b[38;5;241;43m.\u001b[39;49m\u001b[43mplot\u001b[49m\u001b[43m(\u001b[49m\u001b[43mdata\u001b[49m\u001b[43m,\u001b[49m\u001b[43m \u001b[49m\u001b[43mkind\u001b[49m\u001b[38;5;241;43m=\u001b[39;49m\u001b[43mkind\u001b[49m\u001b[43m,\u001b[49m\u001b[43m \u001b[49m\u001b[38;5;241;43m*\u001b[39;49m\u001b[38;5;241;43m*\u001b[39;49m\u001b[43mkwargs\u001b[49m\u001b[43m)\u001b[49m\n",
      "File \u001b[0;32m~/Documents/anaconda3/lib/python3.10/site-packages/pandas/plotting/_matplotlib/__init__.py:71\u001b[0m, in \u001b[0;36mplot\u001b[0;34m(data, kind, **kwargs)\u001b[0m\n\u001b[1;32m     69\u001b[0m         kwargs[\u001b[38;5;124m\"\u001b[39m\u001b[38;5;124max\u001b[39m\u001b[38;5;124m\"\u001b[39m] \u001b[38;5;241m=\u001b[39m \u001b[38;5;28mgetattr\u001b[39m(ax, \u001b[38;5;124m\"\u001b[39m\u001b[38;5;124mleft_ax\u001b[39m\u001b[38;5;124m\"\u001b[39m, ax)\n\u001b[1;32m     70\u001b[0m plot_obj \u001b[38;5;241m=\u001b[39m PLOT_CLASSES[kind](data, \u001b[38;5;241m*\u001b[39m\u001b[38;5;241m*\u001b[39mkwargs)\n\u001b[0;32m---> 71\u001b[0m \u001b[43mplot_obj\u001b[49m\u001b[38;5;241;43m.\u001b[39;49m\u001b[43mgenerate\u001b[49m\u001b[43m(\u001b[49m\u001b[43m)\u001b[49m\n\u001b[1;32m     72\u001b[0m plot_obj\u001b[38;5;241m.\u001b[39mdraw()\n\u001b[1;32m     73\u001b[0m \u001b[38;5;28;01mreturn\u001b[39;00m plot_obj\u001b[38;5;241m.\u001b[39mresult\n",
      "File \u001b[0;32m~/Documents/anaconda3/lib/python3.10/site-packages/pandas/plotting/_matplotlib/core.py:452\u001b[0m, in \u001b[0;36mMPLPlot.generate\u001b[0;34m(self)\u001b[0m\n\u001b[1;32m    450\u001b[0m \u001b[38;5;28mself\u001b[39m\u001b[38;5;241m.\u001b[39m_compute_plot_data()\n\u001b[1;32m    451\u001b[0m \u001b[38;5;28mself\u001b[39m\u001b[38;5;241m.\u001b[39m_setup_subplots()\n\u001b[0;32m--> 452\u001b[0m \u001b[38;5;28;43mself\u001b[39;49m\u001b[38;5;241;43m.\u001b[39;49m\u001b[43m_make_plot\u001b[49m\u001b[43m(\u001b[49m\u001b[43m)\u001b[49m\n\u001b[1;32m    453\u001b[0m \u001b[38;5;28mself\u001b[39m\u001b[38;5;241m.\u001b[39m_add_table()\n\u001b[1;32m    454\u001b[0m \u001b[38;5;28mself\u001b[39m\u001b[38;5;241m.\u001b[39m_make_legend()\n",
      "File \u001b[0;32m~/Documents/anaconda3/lib/python3.10/site-packages/pandas/plotting/_matplotlib/core.py:1382\u001b[0m, in \u001b[0;36mLinePlot._make_plot\u001b[0;34m(self)\u001b[0m\n\u001b[1;32m   1379\u001b[0m label \u001b[38;5;241m=\u001b[39m \u001b[38;5;28mself\u001b[39m\u001b[38;5;241m.\u001b[39m_mark_right_label(label, index\u001b[38;5;241m=\u001b[39mi)\n\u001b[1;32m   1380\u001b[0m kwds[\u001b[38;5;124m\"\u001b[39m\u001b[38;5;124mlabel\u001b[39m\u001b[38;5;124m\"\u001b[39m] \u001b[38;5;241m=\u001b[39m label\n\u001b[0;32m-> 1382\u001b[0m newlines \u001b[38;5;241m=\u001b[39m \u001b[43mplotf\u001b[49m\u001b[43m(\u001b[49m\n\u001b[1;32m   1383\u001b[0m \u001b[43m    \u001b[49m\u001b[43max\u001b[49m\u001b[43m,\u001b[49m\n\u001b[1;32m   1384\u001b[0m \u001b[43m    \u001b[49m\u001b[43mx\u001b[49m\u001b[43m,\u001b[49m\n\u001b[1;32m   1385\u001b[0m \u001b[43m    \u001b[49m\u001b[43my\u001b[49m\u001b[43m,\u001b[49m\n\u001b[1;32m   1386\u001b[0m \u001b[43m    \u001b[49m\u001b[43mstyle\u001b[49m\u001b[38;5;241;43m=\u001b[39;49m\u001b[43mstyle\u001b[49m\u001b[43m,\u001b[49m\n\u001b[1;32m   1387\u001b[0m \u001b[43m    \u001b[49m\u001b[43mcolumn_num\u001b[49m\u001b[38;5;241;43m=\u001b[39;49m\u001b[43mi\u001b[49m\u001b[43m,\u001b[49m\n\u001b[1;32m   1388\u001b[0m \u001b[43m    \u001b[49m\u001b[43mstacking_id\u001b[49m\u001b[38;5;241;43m=\u001b[39;49m\u001b[43mstacking_id\u001b[49m\u001b[43m,\u001b[49m\n\u001b[1;32m   1389\u001b[0m \u001b[43m    \u001b[49m\u001b[43mis_errorbar\u001b[49m\u001b[38;5;241;43m=\u001b[39;49m\u001b[43mis_errorbar\u001b[49m\u001b[43m,\u001b[49m\n\u001b[1;32m   1390\u001b[0m \u001b[43m    \u001b[49m\u001b[38;5;241;43m*\u001b[39;49m\u001b[38;5;241;43m*\u001b[39;49m\u001b[43mkwds\u001b[49m\u001b[43m,\u001b[49m\n\u001b[1;32m   1391\u001b[0m \u001b[43m\u001b[49m\u001b[43m)\u001b[49m\n\u001b[1;32m   1392\u001b[0m \u001b[38;5;28mself\u001b[39m\u001b[38;5;241m.\u001b[39m_append_legend_handles_labels(newlines[\u001b[38;5;241m0\u001b[39m], label)\n\u001b[1;32m   1394\u001b[0m \u001b[38;5;28;01mif\u001b[39;00m \u001b[38;5;28mself\u001b[39m\u001b[38;5;241m.\u001b[39m_is_ts_plot():\n\u001b[1;32m   1395\u001b[0m \n\u001b[1;32m   1396\u001b[0m     \u001b[38;5;66;03m# reset of xlim should be used for ts data\u001b[39;00m\n\u001b[1;32m   1397\u001b[0m     \u001b[38;5;66;03m# TODO: GH28021, should find a way to change view limit on xaxis\u001b[39;00m\n",
      "File \u001b[0;32m~/Documents/anaconda3/lib/python3.10/site-packages/pandas/plotting/_matplotlib/core.py:1431\u001b[0m, in \u001b[0;36mLinePlot._ts_plot\u001b[0;34m(self, ax, x, data, style, **kwds)\u001b[0m\n\u001b[1;32m   1428\u001b[0m     decorate_axes(ax\u001b[38;5;241m.\u001b[39mright_ax, freq, kwds)\n\u001b[1;32m   1429\u001b[0m ax\u001b[38;5;241m.\u001b[39m_plot_data\u001b[38;5;241m.\u001b[39mappend((data, \u001b[38;5;28mself\u001b[39m\u001b[38;5;241m.\u001b[39m_kind, kwds))\n\u001b[0;32m-> 1431\u001b[0m lines \u001b[38;5;241m=\u001b[39m \u001b[38;5;28;43mself\u001b[39;49m\u001b[38;5;241;43m.\u001b[39;49m\u001b[43m_plot\u001b[49m\u001b[43m(\u001b[49m\u001b[43max\u001b[49m\u001b[43m,\u001b[49m\u001b[43m \u001b[49m\u001b[43mdata\u001b[49m\u001b[38;5;241;43m.\u001b[39;49m\u001b[43mindex\u001b[49m\u001b[43m,\u001b[49m\u001b[43m \u001b[49m\u001b[43mdata\u001b[49m\u001b[38;5;241;43m.\u001b[39;49m\u001b[43mvalues\u001b[49m\u001b[43m,\u001b[49m\u001b[43m \u001b[49m\u001b[43mstyle\u001b[49m\u001b[38;5;241;43m=\u001b[39;49m\u001b[43mstyle\u001b[49m\u001b[43m,\u001b[49m\u001b[43m \u001b[49m\u001b[38;5;241;43m*\u001b[39;49m\u001b[38;5;241;43m*\u001b[39;49m\u001b[43mkwds\u001b[49m\u001b[43m)\u001b[49m\n\u001b[1;32m   1432\u001b[0m \u001b[38;5;66;03m# set date formatter, locators and rescale limits\u001b[39;00m\n\u001b[1;32m   1433\u001b[0m format_dateaxis(ax, ax\u001b[38;5;241m.\u001b[39mfreq, data\u001b[38;5;241m.\u001b[39mindex)\n",
      "File \u001b[0;32m~/Documents/anaconda3/lib/python3.10/site-packages/pandas/plotting/_matplotlib/core.py:1555\u001b[0m, in \u001b[0;36mAreaPlot._plot\u001b[0;34m(cls, ax, x, y, style, column_num, stacking_id, is_errorbar, **kwds)\u001b[0m\n\u001b[1;32m   1553\u001b[0m \u001b[38;5;28;01mif\u001b[39;00m column_num \u001b[38;5;241m==\u001b[39m \u001b[38;5;241m0\u001b[39m:\n\u001b[1;32m   1554\u001b[0m     \u001b[38;5;28mcls\u001b[39m\u001b[38;5;241m.\u001b[39m_initialize_stacker(ax, stacking_id, \u001b[38;5;28mlen\u001b[39m(y))\n\u001b[0;32m-> 1555\u001b[0m y_values \u001b[38;5;241m=\u001b[39m \u001b[38;5;28;43mcls\u001b[39;49m\u001b[38;5;241;43m.\u001b[39;49m\u001b[43m_get_stacked_values\u001b[49m\u001b[43m(\u001b[49m\u001b[43max\u001b[49m\u001b[43m,\u001b[49m\u001b[43m \u001b[49m\u001b[43mstacking_id\u001b[49m\u001b[43m,\u001b[49m\u001b[43m \u001b[49m\u001b[43my\u001b[49m\u001b[43m,\u001b[49m\u001b[43m \u001b[49m\u001b[43mkwds\u001b[49m\u001b[43m[\u001b[49m\u001b[38;5;124;43m\"\u001b[39;49m\u001b[38;5;124;43mlabel\u001b[39;49m\u001b[38;5;124;43m\"\u001b[39;49m\u001b[43m]\u001b[49m\u001b[43m)\u001b[49m\n\u001b[1;32m   1557\u001b[0m \u001b[38;5;66;03m# need to remove label, because subplots uses mpl legend as it is\u001b[39;00m\n\u001b[1;32m   1558\u001b[0m line_kwds \u001b[38;5;241m=\u001b[39m kwds\u001b[38;5;241m.\u001b[39mcopy()\n",
      "File \u001b[0;32m~/Documents/anaconda3/lib/python3.10/site-packages/pandas/plotting/_matplotlib/core.py:1466\u001b[0m, in \u001b[0;36mLinePlot._get_stacked_values\u001b[0;34m(cls, ax, stacking_id, values, label)\u001b[0m\n\u001b[1;32m   1463\u001b[0m \u001b[38;5;28;01melif\u001b[39;00m (values \u001b[38;5;241m<\u001b[39m\u001b[38;5;241m=\u001b[39m \u001b[38;5;241m0\u001b[39m)\u001b[38;5;241m.\u001b[39mall():\n\u001b[1;32m   1464\u001b[0m     \u001b[38;5;28;01mreturn\u001b[39;00m ax\u001b[38;5;241m.\u001b[39m_stacker_neg_prior[stacking_id] \u001b[38;5;241m+\u001b[39m values\n\u001b[0;32m-> 1466\u001b[0m \u001b[38;5;28;01mraise\u001b[39;00m \u001b[38;5;167;01mValueError\u001b[39;00m(\n\u001b[1;32m   1467\u001b[0m     \u001b[38;5;124m\"\u001b[39m\u001b[38;5;124mWhen stacked is True, each column must be either \u001b[39m\u001b[38;5;124m\"\u001b[39m\n\u001b[1;32m   1468\u001b[0m     \u001b[38;5;124m\"\u001b[39m\u001b[38;5;124mall positive or all negative. \u001b[39m\u001b[38;5;124m\"\u001b[39m\n\u001b[1;32m   1469\u001b[0m     \u001b[38;5;124mf\u001b[39m\u001b[38;5;124m\"\u001b[39m\u001b[38;5;124mColumn \u001b[39m\u001b[38;5;124m'\u001b[39m\u001b[38;5;132;01m{\u001b[39;00mlabel\u001b[38;5;132;01m}\u001b[39;00m\u001b[38;5;124m'\u001b[39m\u001b[38;5;124m contains both positive and negative values\u001b[39m\u001b[38;5;124m\"\u001b[39m\n\u001b[1;32m   1470\u001b[0m )\n",
      "\u001b[0;31mValueError\u001b[0m: When stacked is True, each column must be either all positive or all negative. Column 'Failure' contains both positive and negative values"
     ]
    },
    {
     "data": {
      "image/png": "[encoded data removed]",
      "text/plain": [
       "<Figure size 640x480 with 1 Axes>"
      ]
     },
     "metadata": {},
     "output_type": "display_data"
    }
   ],
   "source": [
    "network.generators_t.p.resample('D').mean().div(1e3).plot.area(subplots=False, ylabel=\"GW\")"
   ]
  },
  {
   "cell_type": "code",
   "execution_count": 35,
   "id": "868cda1d",
   "metadata": {},
   "outputs": [
    {
     "data": {
      "text/plain": [
       "array([<Axes: xlabel='snapshot', ylabel='GW'>,\n",
       "       <Axes: xlabel='snapshot', ylabel='GW'>,\n",
       "       <Axes: xlabel='snapshot', ylabel='GW'>,\n",
       "       <Axes: xlabel='snapshot', ylabel='GW'>,\n",
       "       <Axes: xlabel='snapshot', ylabel='GW'>,\n",
       "       <Axes: xlabel='snapshot', ylabel='GW'>,\n",
       "       <Axes: xlabel='snapshot', ylabel='GW'>,\n",
       "       <Axes: xlabel='snapshot', ylabel='GW'>,\n",
       "       <Axes: xlabel='snapshot', ylabel='GW'>], dtype=object)"
      ]
     },
     "execution_count": 35,
     "metadata": {},
     "output_type": "execute_result"
    },
    {
     "data": {
      "image/png": "[encoded data removed]",
      "text/plain": [
       "<Figure size 640x480 with 9 Axes>"
      ]
     },
     "metadata": {},
     "output_type": "display_data"
    }
   ],
   "source": [
    "network.generators_t.p.head().div(1e3).plot.area(subplots=True, ylabel=\"GW\")"
   ]
  },
  {
   "cell_type": "code",
   "execution_count": 26,
   "id": "aa0d38feb972787d",
   "metadata": {
    "ExecuteTime": {
     "end_time": "2023-11-21T15:24:42.392012790Z",
     "start_time": "2023-11-21T15:24:42.243686597Z"
    }
   },
   "outputs": [
    {
     "data": {
      "text/plain": [
       "Generator\n",
       "Fossils           0.000000e+00\n",
       "BioEnergies       0.000000e+00\n",
       "Hydroelectric     1.303190e+03\n",
       "Wind_on_shore     8.600000e+02\n",
       "Wind_off_shore    6.800000e+02\n",
       "Nuclear           0.000000e+00\n",
       "Solar             0.000000e+00\n",
       "Failure          -3.637979e-12\n",
       "Curtailment       1.000000e+04\n",
       "dtype: float64"
      ]
     },
     "execution_count": 26,
     "metadata": {},
     "output_type": "execute_result"
    }
   ],
   "source": [
    "network.generators_t.p.min()"
   ]
  },
  {
   "cell_type": "code",
   "execution_count": 29,
   "id": "a61587a8",
   "metadata": {},
   "outputs": [
    {
     "data": {
      "text/plain": [
       "Generator\n",
       "Fossils          1900-01-01 00:00:00\n",
       "BioEnergies      1900-01-01 00:00:00\n",
       "Hydroelectric    1900-06-03 12:00:00\n",
       "Wind_on_shore    1900-09-02 00:00:00\n",
       "Wind_off_shore   1900-09-01 21:00:00\n",
       "Nuclear          1900-01-01 00:00:00\n",
       "Solar            1900-01-01 00:00:00\n",
       "Failure          1900-01-01 00:00:00\n",
       "Curtailment      1900-01-01 00:00:00\n",
       "dtype: datetime64[ns]"
      ]
     },
     "execution_count": 29,
     "metadata": {},
     "output_type": "execute_result"
    }
   ],
   "source": [
    "network.generators_t.p.idxmin()"
   ]
  },
  {
   "cell_type": "code",
   "execution_count": 34,
   "id": "1acdf31e",
   "metadata": {},
   "outputs": [
    {
     "data": {
      "text/plain": [
       "snapshot\n",
       "1900-01-01 00:00:00   -3.637979e-12\n",
       "1900-01-01 01:00:00   -3.637979e-12\n",
       "1900-01-01 02:00:00   -3.637979e-12\n",
       "1900-01-01 03:00:00   -3.637979e-12\n",
       "1900-01-01 04:00:00   -3.637979e-12\n",
       "1900-01-01 05:00:00   -3.637979e-12\n",
       "1900-01-01 06:00:00   -3.637979e-12\n",
       "1900-01-01 07:00:00   -3.637979e-12\n",
       "1900-01-01 08:00:00   -3.637979e-12\n",
       "1900-01-01 09:00:00   -3.637979e-12\n",
       "1900-01-01 10:00:00   -3.637979e-12\n",
       "1900-01-01 11:00:00   -3.637979e-12\n",
       "1900-01-01 12:00:00   -3.637979e-12\n",
       "1900-01-01 13:00:00   -3.637979e-12\n",
       "1900-01-01 14:00:00   -3.637979e-12\n",
       "1900-01-01 15:00:00   -3.637979e-12\n",
       "1900-01-01 16:00:00   -3.637979e-12\n",
       "1900-01-01 17:00:00   -3.637979e-12\n",
       "1900-01-01 18:00:00   -3.637979e-12\n",
       "1900-01-01 19:00:00   -3.637979e-12\n",
       "1900-01-01 20:00:00   -3.637979e-12\n",
       "1900-01-01 21:00:00   -3.637979e-12\n",
       "1900-01-01 22:00:00    0.000000e+00\n",
       "1900-01-01 23:00:00    0.000000e+00\n",
       "1900-01-02 00:00:00    0.000000e+00\n",
       "1900-01-02 01:00:00    0.000000e+00\n",
       "1900-01-02 02:00:00    0.000000e+00\n",
       "1900-01-02 03:00:00    0.000000e+00\n",
       "1900-01-02 04:00:00    0.000000e+00\n",
       "1900-01-02 05:00:00    0.000000e+00\n",
       "Name: Failure, dtype: float64"
      ]
     },
     "execution_count": 34,
     "metadata": {},
     "output_type": "execute_result"
    }
   ],
   "source": [
    "network.generators_t.p['Failure'].head(30)"
   ]
  },
  {
   "cell_type": "code",
   "execution_count": null,
   "id": "1932ad9c",
   "metadata": {},
   "outputs": [],
   "source": []
  },
  {
   "cell_type": "code",
   "execution_count": null,
   "id": "03df4b74",
   "metadata": {},
   "outputs": [],
   "source": []
  },
  {
   "cell_type": "code",
   "execution_count": null,
   "id": "ba9c68ea",
   "metadata": {},
   "outputs": [],
   "source": []
  },
  {
   "cell_type": "code",
   "execution_count": null,
   "id": "e93194f1",
   "metadata": {},
   "outputs": [],
   "source": []
  },
  {
   "cell_type": "code",
   "execution_count": null,
   "id": "6aa22cc9",
   "metadata": {},
   "outputs": [],
   "source": []
  },
  {
   "cell_type": "code",
   "execution_count": null,
   "id": "c48de2f7",
   "metadata": {},
   "outputs": [],
   "source": []
  },
  {
   "cell_type": "code",
   "execution_count": null,
   "id": "f0ba2fc1",
   "metadata": {},
   "outputs": [],
   "source": []
  }
 ],
 "metadata": {
  "kernelspec": {
   "display_name": "Python 3 (ipykernel)",
   "language": "python",
   "name": "python3"
  },
  "language_info": {
   "codemirror_mode": {
    "name": "ipython",
    "version": 3
   },
   "file_extension": ".py",
   "mimetype": "text/x-python",
   "name": "python",
   "nbconvert_exporter": "python",
   "pygments_lexer": "ipython3",
   "version": "3.10.9"
  }
 },
 "nbformat": 4,
 "nbformat_minor": 5
}
