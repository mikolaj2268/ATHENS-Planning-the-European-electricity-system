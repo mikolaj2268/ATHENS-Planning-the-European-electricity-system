{
 "cells": [
  {
   "cell_type": "code",
   "execution_count": 6,
   "id": "initial_id",
   "metadata": {
    "ExecuteTime": {
     "end_time": "2023-11-22T09:41:43.047484210Z",
     "start_time": "2023-11-22T09:41:43.046981413Z"
    }
   },
   "outputs": [
    {
     "name": "stdout",
     "output_type": "stream",
     "text": [
      "The autoreload extension is already loaded. To reload it, use:\n",
      "  %reload_ext autoreload\n"
     ]
    }
   ],
   "source": [
    "%load_ext autoreload\n",
    "%autoreload 2"
   ]
  },
  {
   "cell_type": "code",
   "execution_count": 7,
   "id": "75507805",
   "metadata": {},
   "outputs": [],
   "source": [
    "import gurobipy"
   ]
  },
  {
   "cell_type": "code",
   "execution_count": 8,
   "id": "77b8a7de",
   "metadata": {},
   "outputs": [],
   "source": [
    "from gurobipy import *"
   ]
  },
  {
   "cell_type": "code",
   "execution_count": 9,
   "id": "cab8eda05b8bc062",
   "metadata": {
    "ExecuteTime": {
     "end_time": "2023-11-21T15:24:34.770974016Z",
     "start_time": "2023-11-21T15:24:34.677333523Z"
    }
   },
   "outputs": [],
   "source": [
    "import pypsa\n",
    "import pandas as pd\n",
    "from dataclasses import dataclass"
   ]
  },
  {
   "cell_type": "code",
   "execution_count": 10,
   "id": "c812a915bdf9860a",
   "metadata": {
    "ExecuteTime": {
     "end_time": "2023-11-21T15:24:34.860397105Z",
     "start_time": "2023-11-21T15:24:34.677527722Z"
    }
   },
   "outputs": [],
   "source": [
    "full_demand = pd.read_csv(\"./data/demand_2025_scandinavia.csv\", sep=\";\", index_col=1, parse_dates=True).groupby(pd.Grouper(key=\"climatic_year\"))\n",
    "full_wind_on_shore = pd.read_csv(\"./data/capa_factor_2025_scandinavia_onshore.csv\", index_col=1, parse_dates=True, sep=\";\").groupby(pd.Grouper(key=\"climatic_year\"))\n",
    "full_solar = pd.read_csv(\"./data/capa_factor_2025_scandinavia_solar.csv\", index_col=1, parse_dates=True, sep=\";\").groupby(pd.Grouper(key=\"climatic_year\"))\n",
    "full_wind_off_shore = pd.read_csv(\"./data/capa_factor_2025_scandinavia_offshore.csv\", index_col=1, parse_dates=True, sep=\";\").groupby(pd.Grouper(key=\"climatic_year\"))\n",
    "\n",
    "\n"
   ]
  },
  {
   "cell_type": "code",
   "execution_count": 11,
   "id": "c20c664f48edee17",
   "metadata": {
    "ExecuteTime": {
     "end_time": "2023-11-21T15:24:34.860895406Z",
     "start_time": "2023-11-21T15:24:34.800996804Z"
    }
   },
   "outputs": [],
   "source": [
    "climatic_year = 2000\n",
    "time_horizon_in_hours = 365 * 24"
   ]
  },
  {
   "cell_type": "code",
   "execution_count": 12,
   "id": "918747cd9007aef1",
   "metadata": {
    "ExecuteTime": {
     "end_time": "2023-11-21T15:24:34.862149936Z",
     "start_time": "2023-11-21T15:24:34.824339092Z"
    }
   },
   "outputs": [],
   "source": [
    "demand = full_demand.get_group(climatic_year)\n",
    "solar = full_solar.get_group(climatic_year)\n",
    "wind_on_shore = full_wind_on_shore.get_group(climatic_year)\n",
    "wind_off_shore = full_wind_off_shore.get_group(climatic_year)"
   ]
  },
  {
   "cell_type": "code",
   "execution_count": 13,
   "id": "f603f923cf15991b",
   "metadata": {
    "ExecuteTime": {
     "end_time": "2023-11-21T15:24:35.050796241Z",
     "start_time": "2023-11-21T15:24:34.853422507Z"
    }
   },
   "outputs": [],
   "source": [
    "network = pypsa.Network(snapshots=demand.index[0:time_horizon_in_hours])"
   ]
  },
  {
   "cell_type": "code",
   "execution_count": 14,
   "id": "e29ac64e2b19e0c4",
   "metadata": {
    "ExecuteTime": {
     "end_time": "2023-11-21T15:24:35.137686486Z",
     "start_time": "2023-11-21T15:24:35.093780275Z"
    }
   },
   "outputs": [],
   "source": [
    "network.add(\"Bus\", name=\"Scandinavia\", x=15.255119, y=60.128161)\n",
    "network.add(\"Bus\", name=\"Curtailment\", x=10, y=20)"
   ]
  },
  {
   "cell_type": "code",
   "execution_count": 15,
   "id": "44d2a543bc4746b8",
   "metadata": {},
   "outputs": [],
   "source": [
    "@dataclass\n",
    "class Carriers:\n",
    "    Battery = 0\n",
    "    Biomass = 230\n",
    "    Coal = 760\n",
    "    Gas = 370\n",
    "    Oil = 406\n",
    "    Hydrogen = 490\n",
    "    Hydro = 24\n",
    "    Nuclear = 12\n",
    "    Pumped = 0\n",
    "    Reservoir = 0\n",
    "    Solar = 45\n",
    "    Wind = 11"
   ]
  },
  {
   "cell_type": "code",
   "execution_count": 16,
   "id": "3d1dec97aca1d16a",
   "metadata": {
    "ExecuteTime": {
     "end_time": "2023-11-21T15:24:35.188299405Z",
     "start_time": "2023-11-21T15:24:35.137902357Z"
    }
   },
   "outputs": [],
   "source": [
    "for name, co2_emission in Carriers().__dict__.items():\n",
    "    network.add(\"Carrier\", name=name, co2_emissions=co2_emission)"
   ]
  },
  {
   "cell_type": "code",
   "execution_count": 17,
   "id": "5b92b1a3eefe4b11",
   "metadata": {
    "ExecuteTime": {
     "end_time": "2023-11-21T15:24:35.207541658Z",
     "start_time": "2023-11-21T15:24:35.184069630Z"
    }
   },
   "outputs": [],
   "source": [
    "#???\n",
    "coal_marginal_costs = 160\n",
    "gas_marginal_costs = 120\n",
    "oil_marginal_costs = 100\n",
    "nuclear_marginal_costs = 10\n",
    "hydro_marginal_costs = 5\n",
    "wind_marginal_costs = 5\n",
    "solar_marginal_costs = 5\n",
    "biomass_marginal_costs = 5\n",
    "\n",
    "\n",
    "reservoir_max_hours = 365*24\n",
    "pumped_max_hours = 100\n",
    "battery_max_hours = 200\n",
    "H2_max_hours = 300\n",
    "\n",
    "\n",
    "\n",
    "#coal_marginal_costs = 128 / 7 / 0.37 \n",
    "#gas_marginal_costs = 2.65 * 26.4 * 0.75 / 14.9 / 0.5\n",
    "#oil_marginal_costs = 73 * 0.119 / 12.5 / 0.40"
   ]
  },
  {
   "cell_type": "code",
   "execution_count": 18,
   "id": "54d77c7a69a4c5ab",
   "metadata": {
    "ExecuteTime": {
     "end_time": "2023-11-21T15:24:35.235604753Z",
     "start_time": "2023-11-21T15:24:35.207788497Z"
    }
   },
   "outputs": [],
   "source": [
    "generators = [\n",
    "    #{\"name\": \"Coal\", \"carrier\": \"Coal\", \"p_nom\": 2112, \"p_min_pu\": 0, \"p_max_pu\": 1, \"marginal_cost\": coal_marginal_costs, \"efficiency\": 0.37, \"committable\": True, \"min_up_time\": 1, \"min_down_time\": 1},\n",
    "    #{\"name\": \"Gas\", \"carrier\": \"Gas\", \"p_nom\": 2640, \"p_min_pu\": 0, \"p_max_pu\": 1, \"marginal_cost\": gas_marginal_costs, \"efficiency\": 0.5,\n",
    "    # \"committable\": True, \"min_up_time\": 1, \"min_down_time\": 1},\n",
    "    #{\"name\": \"Oil\", \"carrier\": \"Oil\", \"p_nom\": 0, \"p_min_pu\": 0, \"p_max_pu\": 1, \"marginal_cost\": oil_marginal_costs, \"efficiency\": 0.4,\n",
    "    # \"committable\": True, \"min_up_time\": 1, \"min_down_time\": 1},\n",
    "    {\"name\": \"Fossils\", \"carrier\": \"Fossils\", \"p_nom\": 5000, \"p_min_pu\": 0, \"p_max_pu\": 1, \"marginal_cost\": gas_marginal_costs, \"efficiency\": 0.4,\n",
    "     \"committable\": True, \"min_up_time\": 1, \"min_down_time\": 1},\n",
    "    {\"name\": \"BioEnergies\", \"carrier\": \"BioEnergies\", \"p_nom\":11000, \"p_min_pu\": 0, \"p_max_pu\": 1, \"marginal_cost\": biomass_marginal_costs, \"efficiency\": 0.5, \n",
    "     \"committable\": True, \"min_up_time\": 1, \"min_down_time\": 1},\n",
    "    {\"name\": \"Hydroelectric\", \"carrier\":\"Hydro\", \"p_nom\": 57000, \"p_min_pu\": 0, \"p_max_pu\": 1, \"marginal_cost\": hydro_marginal_costs, \"efficiency\": 1, \"committable\": True,\n",
    "     \"min_up_time\": 1, \"min_down_time\": 1},\n",
    "    {\"name\": \"Wind_on_shore\", \"carrier\": \"Wind_on_shore\", \"p_nom\": 43000, \"p_min_pu\":0, \"p_max_pu\": 1, \"marginal_cost\": wind_marginal_costs, \"efficiency\":1, \"committable\": False,\n",
    "     \"min_up_time\": 1, \"min_down_time\": 1},\n",
    "    {\"name\": \"Wind_off_shore\", \"carrier\": \"Wind_off_shore\", \"p_nom\": 17000, \"p_min_pu\":0, \"p_max_pu\": 1, \"marginal_cost\": wind_marginal_costs, \"efficiency\":1, \"committable\": False,\n",
    "     \"min_up_time\": 1, \"min_down_time\": 1},\n",
    "    {\"name\": \"Nuclear\", \"carrier\": \"Nuclear\", \"p_nom\": 11000, \"p_min_pu\":0, \"p_max_pu\": 1, \"marginal_cost\": nuclear_marginal_costs, \"efficiency\":1, \"committable\": True,\n",
    "     \"min_up_time\": 24, \"min_down_time\": 24},\n",
    "    {\"name\": \"Solar\", \"carrier\": \"Solar\", \"p_nom\": 19000, \"p_min_pu\":0, \"p_max_pu\": 1, \"marginal_cost\": solar_marginal_costs, \"efficiency\":1, \"committable\": False,\n",
    "     \"min_up_time\": 1, \"min_down_time\": 1},\n",
    "    {\"name\": \"Failure\", \"carrier\": \"Failure\", \"p_nom\": 100000, \"p_min_pu\":0, \"p_max_pu\": 1, \"marginal_cost\": 100000, \"efficiency\":1, \"committable\": True,\n",
    "     \"min_up_time\": 1, \"min_down_time\": 1},\n",
    "    #{\"name\": \"Curtailment\", \"carrier\": \"Curtailment\", \"p_nom\": 100000, \"p_min_pu\":1, \"p_max_pu\": 1, \"marginal_cost\": 0, \"efficiency\":1, \"committable\": True,\n",
    "     #\"min_up_time\": 1, \"min_down_time\": 1},\n",
    "]\n",
    "\n",
    "fictive_generator = [\n",
    "    {\"name\": \"Curtailment\", \"carrier\": \"Curtailment\", \"p_nom\": 100000, \"p_min_pu\":0, \"p_max_pu\": 1, \"marginal_cost\": 0.0001, \"efficiency\":1, \"committable\": True,\n",
    "     \"min_up_time\": 1, \"min_down_time\": 1}\n",
    "]\n",
    "\n",
    "\n",
    "storage_units = [\n",
    "        {\"name\": \"Reservoir\", \"carrier\": \"Reservoir\", \"p_nom\": 100000, \"p_min_pu\": 0, \"p_max_pu\": 1, \"max_hours\": reservoir_max_hours, \"efficiency\": 1, \"cyclic_state_of_charge\": True, \"p_nom_discharge\" : 100, \"p_nom_charge\" : 100},\n",
    "        {\"name\": \"Pumped\", \"carrier\": \"Pumped\", \"p_nom\": 100000, \"p_min_pu\": 0, \"p_max_pu\": 1, \"max_hours\": pumped_max_hours, \"efficiency\": 1, \"cyclic_state_of_charge\": True, \"p_nom_discharge\" : 100, \"p_nom_charge\" : 100},\n",
    "        {\"name\": \"Battery\", \"carrier\": \"Battery\", \"p_nom\": 100000, \"p_min_pu\": 0, \"p_max_pu\": 1, \"max_hours\": battery_max_hours, \"efficiency\": 1, \"cyclic_state_of_charge\": True, \"p_nom_discharge\" : 100, \"p_nom_charge\" : 100},\n",
    "        {\"name\": \"H2\", \"carrier\": \"H2\", \"p_nom\": 100000, \"p_min_pu\": 0, \"p_max_pu\": 1, \"max_hours\": H2_max_hours, \"efficiency\": 1, \"cyclic_state_of_charge\": True, \"p_nom_discharge\" :100, \"p_nom_charge\" : 100},\n",
    "]\n",
    "\n"
   ]
  },
  {
   "cell_type": "code",
   "execution_count": null,
   "id": "15328899",
   "metadata": {},
   "outputs": [],
   "source": []
  },
  {
   "cell_type": "code",
   "execution_count": 19,
   "id": "839b7d9152f30e16",
   "metadata": {
    "ExecuteTime": {
     "end_time": "2023-11-21T15:24:35.284198819Z",
     "start_time": "2023-11-21T15:24:35.235502784Z"
    }
   },
   "outputs": [],
   "source": [
    "for generator in generators:\n",
    "    network.add(\"Generator\", bus=\"Scandinavia\", **generator,)\n",
    "    \n",
    "for generator in fictive_generator:\n",
    "    network.add(\"Generator\", bus=\"Curtailment\", **generator,)\n",
    "#for storage in storage_units:\n",
    "#    network.add(\"Store\", bus=\"Scandinavia\", **storage,)"
   ]
  },
  {
   "cell_type": "code",
   "execution_count": 20,
   "id": "7ee363d9bc8aae92",
   "metadata": {
    "ExecuteTime": {
     "end_time": "2023-11-21T15:24:35.329671095Z",
     "start_time": "2023-11-21T15:24:35.292711206Z"
    }
   },
   "outputs": [],
   "source": [
    "#'carrier', \"AC\" ?? \n",
    "\n",
    "loads = [\n",
    "    {\"name\": \"Scandinavia-load\", \"bus\": \"Scandinavia\", \"carrier\": \"AC\",\"p_set\": demand[0:time_horizon_in_hours][\"value\"].values*1.5},\n",
    "    {\"name\": \"Curtailment-load\", \"bus\": \"Curtailment\", \"carrier\": \"AC\",\"p_set\": 10000},\n",
    "]   "
   ]
  },
  {
   "cell_type": "code",
   "execution_count": 21,
   "id": "d409d8fc4b9ce066",
   "metadata": {
    "ExecuteTime": {
     "end_time": "2023-11-21T15:24:35.373745756Z",
     "start_time": "2023-11-21T15:24:35.329551603Z"
    }
   },
   "outputs": [],
   "source": [
    "for load in loads:\n",
    "    network.add(\"Load\", **load)"
   ]
  },
  {
   "cell_type": "code",
   "execution_count": 22,
   "id": "eeb810ad",
   "metadata": {},
   "outputs": [],
   "source": [
    "network.add(\"Link\",\n",
    "            \"Link_SCA_Curtailment\",  # Unique identifier for the link\n",
    "            bus0=\"Scandinavia\",    # Name of the first country/bus\n",
    "            bus1=\"Curtailment\",    # Name of the second country/bus\n",
    "            p_nom=700000,           # Transmission capacity in MW (adjust as needed)\n",
    "            efficiency=0.95,      # Transmission efficiency (adjust as needed)\n",
    "           )"
   ]
  },
  {
   "cell_type": "code",
   "execution_count": 23,
   "id": "fb4e8a9c",
   "metadata": {},
   "outputs": [
    {
     "data": {
      "text/plain": [
       "[{'name': 'Fossils',\n",
       "  'carrier': 'Fossils',\n",
       "  'p_nom': 5000,\n",
       "  'p_min_pu': 0,\n",
       "  'p_max_pu': 1,\n",
       "  'marginal_cost': 120,\n",
       "  'efficiency': 0.4,\n",
       "  'committable': True,\n",
       "  'min_up_time': 1,\n",
       "  'min_down_time': 1},\n",
       " {'name': 'BioEnergies',\n",
       "  'carrier': 'BioEnergies',\n",
       "  'p_nom': 11000,\n",
       "  'p_min_pu': 0,\n",
       "  'p_max_pu': 1,\n",
       "  'marginal_cost': 5,\n",
       "  'efficiency': 0.5,\n",
       "  'committable': True,\n",
       "  'min_up_time': 1,\n",
       "  'min_down_time': 1},\n",
       " {'name': 'Hydroelectric',\n",
       "  'carrier': 'Hydro',\n",
       "  'p_nom': 57000,\n",
       "  'p_min_pu': 0,\n",
       "  'p_max_pu': 1,\n",
       "  'marginal_cost': 5,\n",
       "  'efficiency': 1,\n",
       "  'committable': True,\n",
       "  'min_up_time': 1,\n",
       "  'min_down_time': 1},\n",
       " {'name': 'Wind_on_shore',\n",
       "  'carrier': 'Wind_on_shore',\n",
       "  'p_nom': 43000,\n",
       "  'p_min_pu': 0,\n",
       "  'p_max_pu': 1,\n",
       "  'marginal_cost': 5,\n",
       "  'efficiency': 1,\n",
       "  'committable': False,\n",
       "  'min_up_time': 1,\n",
       "  'min_down_time': 1},\n",
       " {'name': 'Wind_off_shore',\n",
       "  'carrier': 'Wind_off_shore',\n",
       "  'p_nom': 17000,\n",
       "  'p_min_pu': 0,\n",
       "  'p_max_pu': 1,\n",
       "  'marginal_cost': 5,\n",
       "  'efficiency': 1,\n",
       "  'committable': False,\n",
       "  'min_up_time': 1,\n",
       "  'min_down_time': 1},\n",
       " {'name': 'Nuclear',\n",
       "  'carrier': 'Nuclear',\n",
       "  'p_nom': 11000,\n",
       "  'p_min_pu': 0,\n",
       "  'p_max_pu': 1,\n",
       "  'marginal_cost': 10,\n",
       "  'efficiency': 1,\n",
       "  'committable': True,\n",
       "  'min_up_time': 1,\n",
       "  'min_down_time': 1},\n",
       " {'name': 'Solar',\n",
       "  'carrier': 'Solar',\n",
       "  'p_nom': 19000,\n",
       "  'p_min_pu': 0,\n",
       "  'p_max_pu': 1,\n",
       "  'marginal_cost': 5,\n",
       "  'efficiency': 1,\n",
       "  'committable': False,\n",
       "  'min_up_time': 1,\n",
       "  'min_down_time': 1},\n",
       " {'name': 'Failure',\n",
       "  'carrier': 'Failure',\n",
       "  'p_nom': 100000,\n",
       "  'p_min_pu': 0,\n",
       "  'p_max_pu': 1,\n",
       "  'marginal_cost': 100000,\n",
       "  'efficiency': 1,\n",
       "  'committable': True,\n",
       "  'min_up_time': 1,\n",
       "  'min_down_time': 1}]"
      ]
     },
     "execution_count": 23,
     "metadata": {},
     "output_type": "execute_result"
    }
   ],
   "source": [
    "generators"
   ]
  },
  {
   "cell_type": "code",
   "execution_count": 24,
   "id": "cd03bd1ea87454ce",
   "metadata": {
    "ExecuteTime": {
     "end_time": "2023-11-21T15:24:35.374151875Z",
     "start_time": "2023-11-21T15:24:35.373365062Z"
    }
   },
   "outputs": [
    {
     "data": {
      "text/plain": [
       "PyPSA Network\n",
       "Components:\n",
       " - Bus: 2\n",
       " - Generator: 9\n",
       " - Link: 1\n",
       " - Load: 2\n",
       "Snapshots: 8760"
      ]
     },
     "execution_count": 24,
     "metadata": {},
     "output_type": "execute_result"
    }
   ],
   "source": [
    "network"
   ]
  },
  {
   "cell_type": "code",
   "execution_count": 25,
   "id": "69e8f1ddc0a04de",
   "metadata": {
    "ExecuteTime": {
     "end_time": "2023-11-21T15:24:40.671740003Z",
     "start_time": "2023-11-21T15:24:35.373513614Z"
    }
   },
   "outputs": [
    {
     "name": "stderr",
     "output_type": "stream",
     "text": [
      "INFO:linopy.model: Solve problem using Gurobi solver\n"
     ]
    },
    {
     "name": "stdout",
     "output_type": "stream",
     "text": [
      "Set parameter Username\n"
     ]
    },
    {
     "name": "stderr",
     "output_type": "stream",
     "text": [
      "INFO:gurobipy.gurobipy:Set parameter Username\n"
     ]
    },
    {
     "name": "stdout",
     "output_type": "stream",
     "text": [
      "Academic license - for non-commercial use only - expires 2024-11-21\n"
     ]
    },
    {
     "name": "stderr",
     "output_type": "stream",
     "text": [
      "INFO:gurobipy.gurobipy:Academic license - for non-commercial use only - expires 2024-11-21\n",
      "INFO:linopy.io:Writing objective.\n",
      "Writing constraints.: 100%|\u001b[38;2;128;191;255m████████████████████████████████████████████\u001b[0m| 12/12 [00:02<00:00,  5.67it/s]\u001b[0m\n",
      "Writing continuous variables.: 100%|\u001b[38;2;128;191;255m█████████████████████████████████████\u001b[0m| 2/2 [00:00<00:00, 13.31it/s]\u001b[0m\n",
      "Writing binary variables.: 100%|\u001b[38;2;128;191;255m█████████████████████████████████████████\u001b[0m| 3/3 [00:00<00:00, 32.16it/s]\u001b[0m\n",
      "INFO:linopy.io: Writing time: 2.52s\n"
     ]
    },
    {
     "name": "stdout",
     "output_type": "stream",
     "text": [
      "Read LP format model from file /private/var/folders/ms/4_rjwj4n1h1gg3k7zdvmsv5m0000gn/T/linopy-problem-ey1972a2.lp\n"
     ]
    },
    {
     "name": "stderr",
     "output_type": "stream",
     "text": [
      "INFO:gurobipy.gurobipy:Read LP format model from file /private/var/folders/ms/4_rjwj4n1h1gg3k7zdvmsv5m0000gn/T/linopy-problem-ey1972a2.lp\n"
     ]
    },
    {
     "name": "stdout",
     "output_type": "stream",
     "text": [
      "Reading time = 0.82 seconds\n"
     ]
    },
    {
     "name": "stderr",
     "output_type": "stream",
     "text": [
      "INFO:gurobipy.gurobipy:Reading time = 0.82 seconds\n"
     ]
    },
    {
     "name": "stdout",
     "output_type": "stream",
     "text": [
      "obj: 402948 rows, 245280 columns, 849684 nonzeros\n"
     ]
    },
    {
     "name": "stderr",
     "output_type": "stream",
     "text": [
      "INFO:gurobipy.gurobipy:obj: 402948 rows, 245280 columns, 849684 nonzeros\n"
     ]
    },
    {
     "name": "stdout",
     "output_type": "stream",
     "text": [
      "Gurobi Optimizer version 10.0.3 build v10.0.3rc0 (mac64[x86])\n"
     ]
    },
    {
     "name": "stderr",
     "output_type": "stream",
     "text": [
      "INFO:gurobipy.gurobipy:Gurobi Optimizer version 10.0.3 build v10.0.3rc0 (mac64[x86])\n"
     ]
    },
    {
     "name": "stdout",
     "output_type": "stream",
     "text": [
      "\n"
     ]
    },
    {
     "name": "stderr",
     "output_type": "stream",
     "text": [
      "INFO:gurobipy.gurobipy:\n"
     ]
    },
    {
     "name": "stdout",
     "output_type": "stream",
     "text": [
      "CPU model: Intel(R) Core(TM) i5-8259U CPU @ 2.30GHz\n"
     ]
    },
    {
     "name": "stderr",
     "output_type": "stream",
     "text": [
      "INFO:gurobipy.gurobipy:CPU model: Intel(R) Core(TM) i5-8259U CPU @ 2.30GHz\n"
     ]
    },
    {
     "name": "stdout",
     "output_type": "stream",
     "text": [
      "Thread count: 4 physical cores, 8 logical processors, using up to 8 threads\n"
     ]
    },
    {
     "name": "stderr",
     "output_type": "stream",
     "text": [
      "INFO:gurobipy.gurobipy:Thread count: 4 physical cores, 8 logical processors, using up to 8 threads\n"
     ]
    },
    {
     "name": "stdout",
     "output_type": "stream",
     "text": [
      "\n"
     ]
    },
    {
     "name": "stderr",
     "output_type": "stream",
     "text": [
      "INFO:gurobipy.gurobipy:\n"
     ]
    },
    {
     "name": "stdout",
     "output_type": "stream",
     "text": [
      "Optimize a model with 402948 rows, 245280 columns and 849684 nonzeros\n"
     ]
    },
    {
     "name": "stderr",
     "output_type": "stream",
     "text": [
      "INFO:gurobipy.gurobipy:Optimize a model with 402948 rows, 245280 columns and 849684 nonzeros\n"
     ]
    },
    {
     "name": "stdout",
     "output_type": "stream",
     "text": [
      "Model fingerprint: 0x2ea792b2\n"
     ]
    },
    {
     "name": "stderr",
     "output_type": "stream",
     "text": [
      "INFO:gurobipy.gurobipy:Model fingerprint: 0x2ea792b2\n"
     ]
    },
    {
     "name": "stdout",
     "output_type": "stream",
     "text": [
      "Variable types: 87600 continuous, 157680 integer (157680 binary)\n"
     ]
    },
    {
     "name": "stderr",
     "output_type": "stream",
     "text": [
      "INFO:gurobipy.gurobipy:Variable types: 87600 continuous, 157680 integer (157680 binary)\n"
     ]
    },
    {
     "name": "stdout",
     "output_type": "stream",
     "text": [
      "Coefficient statistics:\n"
     ]
    },
    {
     "name": "stderr",
     "output_type": "stream",
     "text": [
      "INFO:gurobipy.gurobipy:Coefficient statistics:\n"
     ]
    },
    {
     "name": "stdout",
     "output_type": "stream",
     "text": [
      "  Matrix range     [9e-01, 1e+05]\n"
     ]
    },
    {
     "name": "stderr",
     "output_type": "stream",
     "text": [
      "INFO:gurobipy.gurobipy:  Matrix range     [9e-01, 1e+05]\n"
     ]
    },
    {
     "name": "stdout",
     "output_type": "stream",
     "text": [
      "  Objective range  [1e-04, 1e+05]\n"
     ]
    },
    {
     "name": "stderr",
     "output_type": "stream",
     "text": [
      "INFO:gurobipy.gurobipy:  Objective range  [1e-04, 1e+05]\n"
     ]
    },
    {
     "name": "stdout",
     "output_type": "stream",
     "text": [
      "  Bounds range     [1e+00, 1e+00]\n"
     ]
    },
    {
     "name": "stderr",
     "output_type": "stream",
     "text": [
      "INFO:gurobipy.gurobipy:  Bounds range     [1e+00, 1e+00]\n"
     ]
    },
    {
     "name": "stdout",
     "output_type": "stream",
     "text": [
      "  RHS range        [1e+00, 7e+05]\n"
     ]
    },
    {
     "name": "stderr",
     "output_type": "stream",
     "text": [
      "INFO:gurobipy.gurobipy:  RHS range        [1e+00, 7e+05]\n"
     ]
    },
    {
     "name": "stdout",
     "output_type": "stream",
     "text": [
      "Found heuristic solution: objective 1.321717e+12\n"
     ]
    },
    {
     "name": "stderr",
     "output_type": "stream",
     "text": [
      "INFO:gurobipy.gurobipy:Found heuristic solution: objective 1.321717e+12\n"
     ]
    },
    {
     "name": "stdout",
     "output_type": "stream",
     "text": [
      "Presolve removed 402948 rows and 245280 columns\n"
     ]
    },
    {
     "name": "stderr",
     "output_type": "stream",
     "text": [
      "INFO:gurobipy.gurobipy:Presolve removed 402948 rows and 245280 columns\n"
     ]
    },
    {
     "name": "stdout",
     "output_type": "stream",
     "text": [
      "Presolve time: 0.64s\n"
     ]
    },
    {
     "name": "stderr",
     "output_type": "stream",
     "text": [
      "INFO:gurobipy.gurobipy:Presolve time: 0.64s\n"
     ]
    },
    {
     "name": "stdout",
     "output_type": "stream",
     "text": [
      "Presolve: All rows and columns removed\n"
     ]
    },
    {
     "name": "stderr",
     "output_type": "stream",
     "text": [
      "INFO:gurobipy.gurobipy:Presolve: All rows and columns removed\n"
     ]
    },
    {
     "name": "stdout",
     "output_type": "stream",
     "text": [
      "\n"
     ]
    },
    {
     "name": "stderr",
     "output_type": "stream",
     "text": [
      "INFO:gurobipy.gurobipy:\n"
     ]
    },
    {
     "name": "stdout",
     "output_type": "stream",
     "text": [
      "Explored 0 nodes (0 simplex iterations) in 0.87 seconds (0.75 work units)\n"
     ]
    },
    {
     "name": "stderr",
     "output_type": "stream",
     "text": [
      "INFO:gurobipy.gurobipy:Explored 0 nodes (0 simplex iterations) in 0.87 seconds (0.75 work units)\n"
     ]
    },
    {
     "name": "stdout",
     "output_type": "stream",
     "text": [
      "Thread count was 1 (of 8 available processors)\n"
     ]
    },
    {
     "name": "stderr",
     "output_type": "stream",
     "text": [
      "INFO:gurobipy.gurobipy:Thread count was 1 (of 8 available processors)\n"
     ]
    },
    {
     "name": "stdout",
     "output_type": "stream",
     "text": [
      "\n"
     ]
    },
    {
     "name": "stderr",
     "output_type": "stream",
     "text": [
      "INFO:gurobipy.gurobipy:\n"
     ]
    },
    {
     "name": "stdout",
     "output_type": "stream",
     "text": [
      "Solution count 3: 3.16746e+09 3.16746e+09 1.32172e+12 \n"
     ]
    },
    {
     "name": "stderr",
     "output_type": "stream",
     "text": [
      "INFO:gurobipy.gurobipy:Solution count 3: 3.16746e+09 3.16746e+09 1.32172e+12 \n"
     ]
    },
    {
     "name": "stdout",
     "output_type": "stream",
     "text": [
      "\n"
     ]
    },
    {
     "name": "stderr",
     "output_type": "stream",
     "text": [
      "INFO:gurobipy.gurobipy:\n"
     ]
    },
    {
     "name": "stdout",
     "output_type": "stream",
     "text": [
      "Optimal solution found (tolerance 1.00e-04)\n"
     ]
    },
    {
     "name": "stderr",
     "output_type": "stream",
     "text": [
      "INFO:gurobipy.gurobipy:Optimal solution found (tolerance 1.00e-04)\n"
     ]
    },
    {
     "name": "stdout",
     "output_type": "stream",
     "text": [
      "Best objective 3.167462851348e+09, best bound 3.167462851348e+09, gap 0.0000%\n"
     ]
    },
    {
     "name": "stderr",
     "output_type": "stream",
     "text": [
      "INFO:gurobipy.gurobipy:Best objective 3.167462851348e+09, best bound 3.167462851348e+09, gap 0.0000%\n",
      "WARNING:linopy.solvers:Dual values of MILP couldn't be parsed\n",
      "INFO:linopy.constants: Optimization successful: \n",
      "Status: ok\n",
      "Termination condition: optimal\n",
      "Solution: 245280 primals, 0 duals\n",
      "Objective: 3.17e+09\n",
      "Solver model: available\n",
      "Solver message: 2\n",
      "\n"
     ]
    },
    {
     "name": "stdout",
     "output_type": "stream",
     "text": [
      "('ok', 'optimal')\n"
     ]
    }
   ],
   "source": [
    "result = network.optimize(solver_name=\"gurobi\")\n",
    "print(result)   "
   ]
  },
  {
   "cell_type": "code",
   "execution_count": 26,
   "id": "bcebf8404d4f0eab",
   "metadata": {
    "ExecuteTime": {
     "end_time": "2023-11-21T15:24:41.113265498Z",
     "start_time": "2023-11-21T15:24:40.651717556Z"
    }
   },
   "outputs": [
    {
     "data": {
      "text/plain": [
       "<Axes: xlabel='Generator', ylabel='GW'>"
      ]
     },
     "execution_count": 26,
     "metadata": {},
     "output_type": "execute_result"
    },
    {
     "data": {
      "image/png": "[encoded data removed]",
      "text/plain": [
       "<Figure size 800x300 with 1 Axes>"
      ]
     },
     "metadata": {},
     "output_type": "display_data"
    }
   ],
   "source": [
    "network.generators.p_nom_opt.div(1e3).plot.bar(ylabel=\"GW\", figsize=(8, 3))"
   ]
  },
  {
   "cell_type": "code",
   "execution_count": 27,
   "id": "7a0ab5cb1fca4841",
   "metadata": {
    "ExecuteTime": {
     "end_time": "2023-11-21T15:24:42.252866588Z",
     "start_time": "2023-11-21T15:24:41.113619802Z"
    }
   },
   "outputs": [
    {
     "data": {
      "text/plain": [
       "<Axes: xlabel='snapshot', ylabel='GW'>"
      ]
     },
     "execution_count": 27,
     "metadata": {},
     "output_type": "execute_result"
    },
    {
     "data": {
      "image/png": "[encoded data removed]",
      "text/plain": [
       "<Figure size 640x480 with 1 Axes>"
      ]
     },
     "metadata": {},
     "output_type": "display_data"
    }
   ],
   "source": [
    "network.generators_t.p.div(1e3).plot.area(subplots=False, ylabel=\"GW\")"
   ]
  },
  {
   "cell_type": "code",
   "execution_count": 28,
   "id": "aa307c5a",
   "metadata": {},
   "outputs": [
    {
     "data": {
      "text/plain": [
       "array([<Axes: xlabel='snapshot', ylabel='GW'>,\n",
       "       <Axes: xlabel='snapshot', ylabel='GW'>,\n",
       "       <Axes: xlabel='snapshot', ylabel='GW'>,\n",
       "       <Axes: xlabel='snapshot', ylabel='GW'>,\n",
       "       <Axes: xlabel='snapshot', ylabel='GW'>,\n",
       "       <Axes: xlabel='snapshot', ylabel='GW'>,\n",
       "       <Axes: xlabel='snapshot', ylabel='GW'>,\n",
       "       <Axes: xlabel='snapshot', ylabel='GW'>,\n",
       "       <Axes: xlabel='snapshot', ylabel='GW'>], dtype=object)"
      ]
     },
     "execution_count": 28,
     "metadata": {},
     "output_type": "execute_result"
    },
    {
     "data": {
      "image/png": "[encoded data removed]",
      "text/plain": [
       "<Figure size 640x480 with 9 Axes>"
      ]
     },
     "metadata": {},
     "output_type": "display_data"
    }
   ],
   "source": [
    "network.generators_t.p.div(1e3).plot.area(subplots=True, ylabel=\"GW\")"
   ]
  },
  {
   "cell_type": "code",
   "execution_count": 29,
   "id": "aa0d38feb972787d",
   "metadata": {
    "ExecuteTime": {
     "end_time": "2023-11-21T15:24:42.392012790Z",
     "start_time": "2023-11-21T15:24:42.243686597Z"
    }
   },
   "outputs": [
    {
     "data": {
      "text/plain": [
       "{'p_min_pu': Empty DataFrame\n",
       " Columns: []\n",
       " Index: [1900-01-01 00:00:00, 1900-01-01 01:00:00, 1900-01-01 02:00:00, 1900-01-01 03:00:00, 1900-01-01 04:00:00, 1900-01-01 05:00:00, 1900-01-01 06:00:00, 1900-01-01 07:00:00, 1900-01-01 08:00:00, 1900-01-01 09:00:00, 1900-01-01 10:00:00, 1900-01-01 11:00:00, 1900-01-01 12:00:00, 1900-01-01 13:00:00, 1900-01-01 14:00:00, 1900-01-01 15:00:00, 1900-01-01 16:00:00, 1900-01-01 17:00:00, 1900-01-01 18:00:00, 1900-01-01 19:00:00, 1900-01-01 20:00:00, 1900-01-01 21:00:00, 1900-01-01 22:00:00, 1900-01-01 23:00:00, 1900-01-02 00:00:00, 1900-01-02 01:00:00, 1900-01-02 02:00:00, 1900-01-02 03:00:00, 1900-01-02 04:00:00, 1900-01-02 05:00:00, 1900-01-02 06:00:00, 1900-01-02 07:00:00, 1900-01-02 08:00:00, 1900-01-02 09:00:00, 1900-01-02 10:00:00, 1900-01-02 11:00:00, 1900-01-02 12:00:00, 1900-01-02 13:00:00, 1900-01-02 14:00:00, 1900-01-02 15:00:00, 1900-01-02 16:00:00, 1900-01-02 17:00:00, 1900-01-02 18:00:00, 1900-01-02 19:00:00, 1900-01-02 20:00:00, 1900-01-02 21:00:00, 1900-01-02 22:00:00, 1900-01-02 23:00:00, 1900-01-03 00:00:00, 1900-01-03 01:00:00, 1900-01-03 02:00:00, 1900-01-03 03:00:00, 1900-01-03 04:00:00, 1900-01-03 05:00:00, 1900-01-03 06:00:00, 1900-01-03 07:00:00, 1900-01-03 08:00:00, 1900-01-03 09:00:00, 1900-01-03 10:00:00, 1900-01-03 11:00:00, 1900-01-03 12:00:00, 1900-01-03 13:00:00, 1900-01-03 14:00:00, 1900-01-03 15:00:00, 1900-01-03 16:00:00, 1900-01-03 17:00:00, 1900-01-03 18:00:00, 1900-01-03 19:00:00, 1900-01-03 20:00:00, 1900-01-03 21:00:00, 1900-01-03 22:00:00, 1900-01-03 23:00:00, 1900-01-04 00:00:00, 1900-01-04 01:00:00, 1900-01-04 02:00:00, 1900-01-04 03:00:00, 1900-01-04 04:00:00, 1900-01-04 05:00:00, 1900-01-04 06:00:00, 1900-01-04 07:00:00, 1900-01-04 08:00:00, 1900-01-04 09:00:00, 1900-01-04 10:00:00, 1900-01-04 11:00:00, 1900-01-04 12:00:00, 1900-01-04 13:00:00, 1900-01-04 14:00:00, 1900-01-04 15:00:00, 1900-01-04 16:00:00, 1900-01-04 17:00:00, 1900-01-04 18:00:00, 1900-01-04 19:00:00, 1900-01-04 20:00:00, 1900-01-04 21:00:00, 1900-01-04 22:00:00, 1900-01-04 23:00:00, 1900-01-05 00:00:00, 1900-01-05 01:00:00, 1900-01-05 02:00:00, 1900-01-05 03:00:00, ...]\n",
       " \n",
       " [8760 rows x 0 columns],\n",
       " 'p_max_pu': Empty DataFrame\n",
       " Columns: []\n",
       " Index: [1900-01-01 00:00:00, 1900-01-01 01:00:00, 1900-01-01 02:00:00, 1900-01-01 03:00:00, 1900-01-01 04:00:00, 1900-01-01 05:00:00, 1900-01-01 06:00:00, 1900-01-01 07:00:00, 1900-01-01 08:00:00, 1900-01-01 09:00:00, 1900-01-01 10:00:00, 1900-01-01 11:00:00, 1900-01-01 12:00:00, 1900-01-01 13:00:00, 1900-01-01 14:00:00, 1900-01-01 15:00:00, 1900-01-01 16:00:00, 1900-01-01 17:00:00, 1900-01-01 18:00:00, 1900-01-01 19:00:00, 1900-01-01 20:00:00, 1900-01-01 21:00:00, 1900-01-01 22:00:00, 1900-01-01 23:00:00, 1900-01-02 00:00:00, 1900-01-02 01:00:00, 1900-01-02 02:00:00, 1900-01-02 03:00:00, 1900-01-02 04:00:00, 1900-01-02 05:00:00, 1900-01-02 06:00:00, 1900-01-02 07:00:00, 1900-01-02 08:00:00, 1900-01-02 09:00:00, 1900-01-02 10:00:00, 1900-01-02 11:00:00, 1900-01-02 12:00:00, 1900-01-02 13:00:00, 1900-01-02 14:00:00, 1900-01-02 15:00:00, 1900-01-02 16:00:00, 1900-01-02 17:00:00, 1900-01-02 18:00:00, 1900-01-02 19:00:00, 1900-01-02 20:00:00, 1900-01-02 21:00:00, 1900-01-02 22:00:00, 1900-01-02 23:00:00, 1900-01-03 00:00:00, 1900-01-03 01:00:00, 1900-01-03 02:00:00, 1900-01-03 03:00:00, 1900-01-03 04:00:00, 1900-01-03 05:00:00, 1900-01-03 06:00:00, 1900-01-03 07:00:00, 1900-01-03 08:00:00, 1900-01-03 09:00:00, 1900-01-03 10:00:00, 1900-01-03 11:00:00, 1900-01-03 12:00:00, 1900-01-03 13:00:00, 1900-01-03 14:00:00, 1900-01-03 15:00:00, 1900-01-03 16:00:00, 1900-01-03 17:00:00, 1900-01-03 18:00:00, 1900-01-03 19:00:00, 1900-01-03 20:00:00, 1900-01-03 21:00:00, 1900-01-03 22:00:00, 1900-01-03 23:00:00, 1900-01-04 00:00:00, 1900-01-04 01:00:00, 1900-01-04 02:00:00, 1900-01-04 03:00:00, 1900-01-04 04:00:00, 1900-01-04 05:00:00, 1900-01-04 06:00:00, 1900-01-04 07:00:00, 1900-01-04 08:00:00, 1900-01-04 09:00:00, 1900-01-04 10:00:00, 1900-01-04 11:00:00, 1900-01-04 12:00:00, 1900-01-04 13:00:00, 1900-01-04 14:00:00, 1900-01-04 15:00:00, 1900-01-04 16:00:00, 1900-01-04 17:00:00, 1900-01-04 18:00:00, 1900-01-04 19:00:00, 1900-01-04 20:00:00, 1900-01-04 21:00:00, 1900-01-04 22:00:00, 1900-01-04 23:00:00, 1900-01-05 00:00:00, 1900-01-05 01:00:00, 1900-01-05 02:00:00, 1900-01-05 03:00:00, ...]\n",
       " \n",
       " [8760 rows x 0 columns],\n",
       " 'p_set': Empty DataFrame\n",
       " Columns: []\n",
       " Index: [1900-01-01 00:00:00, 1900-01-01 01:00:00, 1900-01-01 02:00:00, 1900-01-01 03:00:00, 1900-01-01 04:00:00, 1900-01-01 05:00:00, 1900-01-01 06:00:00, 1900-01-01 07:00:00, 1900-01-01 08:00:00, 1900-01-01 09:00:00, 1900-01-01 10:00:00, 1900-01-01 11:00:00, 1900-01-01 12:00:00, 1900-01-01 13:00:00, 1900-01-01 14:00:00, 1900-01-01 15:00:00, 1900-01-01 16:00:00, 1900-01-01 17:00:00, 1900-01-01 18:00:00, 1900-01-01 19:00:00, 1900-01-01 20:00:00, 1900-01-01 21:00:00, 1900-01-01 22:00:00, 1900-01-01 23:00:00, 1900-01-02 00:00:00, 1900-01-02 01:00:00, 1900-01-02 02:00:00, 1900-01-02 03:00:00, 1900-01-02 04:00:00, 1900-01-02 05:00:00, 1900-01-02 06:00:00, 1900-01-02 07:00:00, 1900-01-02 08:00:00, 1900-01-02 09:00:00, 1900-01-02 10:00:00, 1900-01-02 11:00:00, 1900-01-02 12:00:00, 1900-01-02 13:00:00, 1900-01-02 14:00:00, 1900-01-02 15:00:00, 1900-01-02 16:00:00, 1900-01-02 17:00:00, 1900-01-02 18:00:00, 1900-01-02 19:00:00, 1900-01-02 20:00:00, 1900-01-02 21:00:00, 1900-01-02 22:00:00, 1900-01-02 23:00:00, 1900-01-03 00:00:00, 1900-01-03 01:00:00, 1900-01-03 02:00:00, 1900-01-03 03:00:00, 1900-01-03 04:00:00, 1900-01-03 05:00:00, 1900-01-03 06:00:00, 1900-01-03 07:00:00, 1900-01-03 08:00:00, 1900-01-03 09:00:00, 1900-01-03 10:00:00, 1900-01-03 11:00:00, 1900-01-03 12:00:00, 1900-01-03 13:00:00, 1900-01-03 14:00:00, 1900-01-03 15:00:00, 1900-01-03 16:00:00, 1900-01-03 17:00:00, 1900-01-03 18:00:00, 1900-01-03 19:00:00, 1900-01-03 20:00:00, 1900-01-03 21:00:00, 1900-01-03 22:00:00, 1900-01-03 23:00:00, 1900-01-04 00:00:00, 1900-01-04 01:00:00, 1900-01-04 02:00:00, 1900-01-04 03:00:00, 1900-01-04 04:00:00, 1900-01-04 05:00:00, 1900-01-04 06:00:00, 1900-01-04 07:00:00, 1900-01-04 08:00:00, 1900-01-04 09:00:00, 1900-01-04 10:00:00, 1900-01-04 11:00:00, 1900-01-04 12:00:00, 1900-01-04 13:00:00, 1900-01-04 14:00:00, 1900-01-04 15:00:00, 1900-01-04 16:00:00, 1900-01-04 17:00:00, 1900-01-04 18:00:00, 1900-01-04 19:00:00, 1900-01-04 20:00:00, 1900-01-04 21:00:00, 1900-01-04 22:00:00, 1900-01-04 23:00:00, 1900-01-05 00:00:00, 1900-01-05 01:00:00, 1900-01-05 02:00:00, 1900-01-05 03:00:00, ...]\n",
       " \n",
       " [8760 rows x 0 columns],\n",
       " 'q_set': Empty DataFrame\n",
       " Columns: []\n",
       " Index: [1900-01-01 00:00:00, 1900-01-01 01:00:00, 1900-01-01 02:00:00, 1900-01-01 03:00:00, 1900-01-01 04:00:00, 1900-01-01 05:00:00, 1900-01-01 06:00:00, 1900-01-01 07:00:00, 1900-01-01 08:00:00, 1900-01-01 09:00:00, 1900-01-01 10:00:00, 1900-01-01 11:00:00, 1900-01-01 12:00:00, 1900-01-01 13:00:00, 1900-01-01 14:00:00, 1900-01-01 15:00:00, 1900-01-01 16:00:00, 1900-01-01 17:00:00, 1900-01-01 18:00:00, 1900-01-01 19:00:00, 1900-01-01 20:00:00, 1900-01-01 21:00:00, 1900-01-01 22:00:00, 1900-01-01 23:00:00, 1900-01-02 00:00:00, 1900-01-02 01:00:00, 1900-01-02 02:00:00, 1900-01-02 03:00:00, 1900-01-02 04:00:00, 1900-01-02 05:00:00, 1900-01-02 06:00:00, 1900-01-02 07:00:00, 1900-01-02 08:00:00, 1900-01-02 09:00:00, 1900-01-02 10:00:00, 1900-01-02 11:00:00, 1900-01-02 12:00:00, 1900-01-02 13:00:00, 1900-01-02 14:00:00, 1900-01-02 15:00:00, 1900-01-02 16:00:00, 1900-01-02 17:00:00, 1900-01-02 18:00:00, 1900-01-02 19:00:00, 1900-01-02 20:00:00, 1900-01-02 21:00:00, 1900-01-02 22:00:00, 1900-01-02 23:00:00, 1900-01-03 00:00:00, 1900-01-03 01:00:00, 1900-01-03 02:00:00, 1900-01-03 03:00:00, 1900-01-03 04:00:00, 1900-01-03 05:00:00, 1900-01-03 06:00:00, 1900-01-03 07:00:00, 1900-01-03 08:00:00, 1900-01-03 09:00:00, 1900-01-03 10:00:00, 1900-01-03 11:00:00, 1900-01-03 12:00:00, 1900-01-03 13:00:00, 1900-01-03 14:00:00, 1900-01-03 15:00:00, 1900-01-03 16:00:00, 1900-01-03 17:00:00, 1900-01-03 18:00:00, 1900-01-03 19:00:00, 1900-01-03 20:00:00, 1900-01-03 21:00:00, 1900-01-03 22:00:00, 1900-01-03 23:00:00, 1900-01-04 00:00:00, 1900-01-04 01:00:00, 1900-01-04 02:00:00, 1900-01-04 03:00:00, 1900-01-04 04:00:00, 1900-01-04 05:00:00, 1900-01-04 06:00:00, 1900-01-04 07:00:00, 1900-01-04 08:00:00, 1900-01-04 09:00:00, 1900-01-04 10:00:00, 1900-01-04 11:00:00, 1900-01-04 12:00:00, 1900-01-04 13:00:00, 1900-01-04 14:00:00, 1900-01-04 15:00:00, 1900-01-04 16:00:00, 1900-01-04 17:00:00, 1900-01-04 18:00:00, 1900-01-04 19:00:00, 1900-01-04 20:00:00, 1900-01-04 21:00:00, 1900-01-04 22:00:00, 1900-01-04 23:00:00, 1900-01-05 00:00:00, 1900-01-05 01:00:00, 1900-01-05 02:00:00, 1900-01-05 03:00:00, ...]\n",
       " \n",
       " [8760 rows x 0 columns],\n",
       " 'marginal_cost': Empty DataFrame\n",
       " Columns: []\n",
       " Index: [1900-01-01 00:00:00, 1900-01-01 01:00:00, 1900-01-01 02:00:00, 1900-01-01 03:00:00, 1900-01-01 04:00:00, 1900-01-01 05:00:00, 1900-01-01 06:00:00, 1900-01-01 07:00:00, 1900-01-01 08:00:00, 1900-01-01 09:00:00, 1900-01-01 10:00:00, 1900-01-01 11:00:00, 1900-01-01 12:00:00, 1900-01-01 13:00:00, 1900-01-01 14:00:00, 1900-01-01 15:00:00, 1900-01-01 16:00:00, 1900-01-01 17:00:00, 1900-01-01 18:00:00, 1900-01-01 19:00:00, 1900-01-01 20:00:00, 1900-01-01 21:00:00, 1900-01-01 22:00:00, 1900-01-01 23:00:00, 1900-01-02 00:00:00, 1900-01-02 01:00:00, 1900-01-02 02:00:00, 1900-01-02 03:00:00, 1900-01-02 04:00:00, 1900-01-02 05:00:00, 1900-01-02 06:00:00, 1900-01-02 07:00:00, 1900-01-02 08:00:00, 1900-01-02 09:00:00, 1900-01-02 10:00:00, 1900-01-02 11:00:00, 1900-01-02 12:00:00, 1900-01-02 13:00:00, 1900-01-02 14:00:00, 1900-01-02 15:00:00, 1900-01-02 16:00:00, 1900-01-02 17:00:00, 1900-01-02 18:00:00, 1900-01-02 19:00:00, 1900-01-02 20:00:00, 1900-01-02 21:00:00, 1900-01-02 22:00:00, 1900-01-02 23:00:00, 1900-01-03 00:00:00, 1900-01-03 01:00:00, 1900-01-03 02:00:00, 1900-01-03 03:00:00, 1900-01-03 04:00:00, 1900-01-03 05:00:00, 1900-01-03 06:00:00, 1900-01-03 07:00:00, 1900-01-03 08:00:00, 1900-01-03 09:00:00, 1900-01-03 10:00:00, 1900-01-03 11:00:00, 1900-01-03 12:00:00, 1900-01-03 13:00:00, 1900-01-03 14:00:00, 1900-01-03 15:00:00, 1900-01-03 16:00:00, 1900-01-03 17:00:00, 1900-01-03 18:00:00, 1900-01-03 19:00:00, 1900-01-03 20:00:00, 1900-01-03 21:00:00, 1900-01-03 22:00:00, 1900-01-03 23:00:00, 1900-01-04 00:00:00, 1900-01-04 01:00:00, 1900-01-04 02:00:00, 1900-01-04 03:00:00, 1900-01-04 04:00:00, 1900-01-04 05:00:00, 1900-01-04 06:00:00, 1900-01-04 07:00:00, 1900-01-04 08:00:00, 1900-01-04 09:00:00, 1900-01-04 10:00:00, 1900-01-04 11:00:00, 1900-01-04 12:00:00, 1900-01-04 13:00:00, 1900-01-04 14:00:00, 1900-01-04 15:00:00, 1900-01-04 16:00:00, 1900-01-04 17:00:00, 1900-01-04 18:00:00, 1900-01-04 19:00:00, 1900-01-04 20:00:00, 1900-01-04 21:00:00, 1900-01-04 22:00:00, 1900-01-04 23:00:00, 1900-01-05 00:00:00, 1900-01-05 01:00:00, 1900-01-05 02:00:00, 1900-01-05 03:00:00, ...]\n",
       " \n",
       " [8760 rows x 0 columns],\n",
       " 'marginal_cost_quadratic': Empty DataFrame\n",
       " Columns: []\n",
       " Index: [1900-01-01 00:00:00, 1900-01-01 01:00:00, 1900-01-01 02:00:00, 1900-01-01 03:00:00, 1900-01-01 04:00:00, 1900-01-01 05:00:00, 1900-01-01 06:00:00, 1900-01-01 07:00:00, 1900-01-01 08:00:00, 1900-01-01 09:00:00, 1900-01-01 10:00:00, 1900-01-01 11:00:00, 1900-01-01 12:00:00, 1900-01-01 13:00:00, 1900-01-01 14:00:00, 1900-01-01 15:00:00, 1900-01-01 16:00:00, 1900-01-01 17:00:00, 1900-01-01 18:00:00, 1900-01-01 19:00:00, 1900-01-01 20:00:00, 1900-01-01 21:00:00, 1900-01-01 22:00:00, 1900-01-01 23:00:00, 1900-01-02 00:00:00, 1900-01-02 01:00:00, 1900-01-02 02:00:00, 1900-01-02 03:00:00, 1900-01-02 04:00:00, 1900-01-02 05:00:00, 1900-01-02 06:00:00, 1900-01-02 07:00:00, 1900-01-02 08:00:00, 1900-01-02 09:00:00, 1900-01-02 10:00:00, 1900-01-02 11:00:00, 1900-01-02 12:00:00, 1900-01-02 13:00:00, 1900-01-02 14:00:00, 1900-01-02 15:00:00, 1900-01-02 16:00:00, 1900-01-02 17:00:00, 1900-01-02 18:00:00, 1900-01-02 19:00:00, 1900-01-02 20:00:00, 1900-01-02 21:00:00, 1900-01-02 22:00:00, 1900-01-02 23:00:00, 1900-01-03 00:00:00, 1900-01-03 01:00:00, 1900-01-03 02:00:00, 1900-01-03 03:00:00, 1900-01-03 04:00:00, 1900-01-03 05:00:00, 1900-01-03 06:00:00, 1900-01-03 07:00:00, 1900-01-03 08:00:00, 1900-01-03 09:00:00, 1900-01-03 10:00:00, 1900-01-03 11:00:00, 1900-01-03 12:00:00, 1900-01-03 13:00:00, 1900-01-03 14:00:00, 1900-01-03 15:00:00, 1900-01-03 16:00:00, 1900-01-03 17:00:00, 1900-01-03 18:00:00, 1900-01-03 19:00:00, 1900-01-03 20:00:00, 1900-01-03 21:00:00, 1900-01-03 22:00:00, 1900-01-03 23:00:00, 1900-01-04 00:00:00, 1900-01-04 01:00:00, 1900-01-04 02:00:00, 1900-01-04 03:00:00, 1900-01-04 04:00:00, 1900-01-04 05:00:00, 1900-01-04 06:00:00, 1900-01-04 07:00:00, 1900-01-04 08:00:00, 1900-01-04 09:00:00, 1900-01-04 10:00:00, 1900-01-04 11:00:00, 1900-01-04 12:00:00, 1900-01-04 13:00:00, 1900-01-04 14:00:00, 1900-01-04 15:00:00, 1900-01-04 16:00:00, 1900-01-04 17:00:00, 1900-01-04 18:00:00, 1900-01-04 19:00:00, 1900-01-04 20:00:00, 1900-01-04 21:00:00, 1900-01-04 22:00:00, 1900-01-04 23:00:00, 1900-01-05 00:00:00, 1900-01-05 01:00:00, 1900-01-05 02:00:00, 1900-01-05 03:00:00, ...]\n",
       " \n",
       " [8760 rows x 0 columns],\n",
       " 'efficiency': Empty DataFrame\n",
       " Columns: []\n",
       " Index: [1900-01-01 00:00:00, 1900-01-01 01:00:00, 1900-01-01 02:00:00, 1900-01-01 03:00:00, 1900-01-01 04:00:00, 1900-01-01 05:00:00, 1900-01-01 06:00:00, 1900-01-01 07:00:00, 1900-01-01 08:00:00, 1900-01-01 09:00:00, 1900-01-01 10:00:00, 1900-01-01 11:00:00, 1900-01-01 12:00:00, 1900-01-01 13:00:00, 1900-01-01 14:00:00, 1900-01-01 15:00:00, 1900-01-01 16:00:00, 1900-01-01 17:00:00, 1900-01-01 18:00:00, 1900-01-01 19:00:00, 1900-01-01 20:00:00, 1900-01-01 21:00:00, 1900-01-01 22:00:00, 1900-01-01 23:00:00, 1900-01-02 00:00:00, 1900-01-02 01:00:00, 1900-01-02 02:00:00, 1900-01-02 03:00:00, 1900-01-02 04:00:00, 1900-01-02 05:00:00, 1900-01-02 06:00:00, 1900-01-02 07:00:00, 1900-01-02 08:00:00, 1900-01-02 09:00:00, 1900-01-02 10:00:00, 1900-01-02 11:00:00, 1900-01-02 12:00:00, 1900-01-02 13:00:00, 1900-01-02 14:00:00, 1900-01-02 15:00:00, 1900-01-02 16:00:00, 1900-01-02 17:00:00, 1900-01-02 18:00:00, 1900-01-02 19:00:00, 1900-01-02 20:00:00, 1900-01-02 21:00:00, 1900-01-02 22:00:00, 1900-01-02 23:00:00, 1900-01-03 00:00:00, 1900-01-03 01:00:00, 1900-01-03 02:00:00, 1900-01-03 03:00:00, 1900-01-03 04:00:00, 1900-01-03 05:00:00, 1900-01-03 06:00:00, 1900-01-03 07:00:00, 1900-01-03 08:00:00, 1900-01-03 09:00:00, 1900-01-03 10:00:00, 1900-01-03 11:00:00, 1900-01-03 12:00:00, 1900-01-03 13:00:00, 1900-01-03 14:00:00, 1900-01-03 15:00:00, 1900-01-03 16:00:00, 1900-01-03 17:00:00, 1900-01-03 18:00:00, 1900-01-03 19:00:00, 1900-01-03 20:00:00, 1900-01-03 21:00:00, 1900-01-03 22:00:00, 1900-01-03 23:00:00, 1900-01-04 00:00:00, 1900-01-04 01:00:00, 1900-01-04 02:00:00, 1900-01-04 03:00:00, 1900-01-04 04:00:00, 1900-01-04 05:00:00, 1900-01-04 06:00:00, 1900-01-04 07:00:00, 1900-01-04 08:00:00, 1900-01-04 09:00:00, 1900-01-04 10:00:00, 1900-01-04 11:00:00, 1900-01-04 12:00:00, 1900-01-04 13:00:00, 1900-01-04 14:00:00, 1900-01-04 15:00:00, 1900-01-04 16:00:00, 1900-01-04 17:00:00, 1900-01-04 18:00:00, 1900-01-04 19:00:00, 1900-01-04 20:00:00, 1900-01-04 21:00:00, 1900-01-04 22:00:00, 1900-01-04 23:00:00, 1900-01-05 00:00:00, 1900-01-05 01:00:00, 1900-01-05 02:00:00, 1900-01-05 03:00:00, ...]\n",
       " \n",
       " [8760 rows x 0 columns],\n",
       " 'stand_by_cost': Empty DataFrame\n",
       " Columns: []\n",
       " Index: [1900-01-01 00:00:00, 1900-01-01 01:00:00, 1900-01-01 02:00:00, 1900-01-01 03:00:00, 1900-01-01 04:00:00, 1900-01-01 05:00:00, 1900-01-01 06:00:00, 1900-01-01 07:00:00, 1900-01-01 08:00:00, 1900-01-01 09:00:00, 1900-01-01 10:00:00, 1900-01-01 11:00:00, 1900-01-01 12:00:00, 1900-01-01 13:00:00, 1900-01-01 14:00:00, 1900-01-01 15:00:00, 1900-01-01 16:00:00, 1900-01-01 17:00:00, 1900-01-01 18:00:00, 1900-01-01 19:00:00, 1900-01-01 20:00:00, 1900-01-01 21:00:00, 1900-01-01 22:00:00, 1900-01-01 23:00:00, 1900-01-02 00:00:00, 1900-01-02 01:00:00, 1900-01-02 02:00:00, 1900-01-02 03:00:00, 1900-01-02 04:00:00, 1900-01-02 05:00:00, 1900-01-02 06:00:00, 1900-01-02 07:00:00, 1900-01-02 08:00:00, 1900-01-02 09:00:00, 1900-01-02 10:00:00, 1900-01-02 11:00:00, 1900-01-02 12:00:00, 1900-01-02 13:00:00, 1900-01-02 14:00:00, 1900-01-02 15:00:00, 1900-01-02 16:00:00, 1900-01-02 17:00:00, 1900-01-02 18:00:00, 1900-01-02 19:00:00, 1900-01-02 20:00:00, 1900-01-02 21:00:00, 1900-01-02 22:00:00, 1900-01-02 23:00:00, 1900-01-03 00:00:00, 1900-01-03 01:00:00, 1900-01-03 02:00:00, 1900-01-03 03:00:00, 1900-01-03 04:00:00, 1900-01-03 05:00:00, 1900-01-03 06:00:00, 1900-01-03 07:00:00, 1900-01-03 08:00:00, 1900-01-03 09:00:00, 1900-01-03 10:00:00, 1900-01-03 11:00:00, 1900-01-03 12:00:00, 1900-01-03 13:00:00, 1900-01-03 14:00:00, 1900-01-03 15:00:00, 1900-01-03 16:00:00, 1900-01-03 17:00:00, 1900-01-03 18:00:00, 1900-01-03 19:00:00, 1900-01-03 20:00:00, 1900-01-03 21:00:00, 1900-01-03 22:00:00, 1900-01-03 23:00:00, 1900-01-04 00:00:00, 1900-01-04 01:00:00, 1900-01-04 02:00:00, 1900-01-04 03:00:00, 1900-01-04 04:00:00, 1900-01-04 05:00:00, 1900-01-04 06:00:00, 1900-01-04 07:00:00, 1900-01-04 08:00:00, 1900-01-04 09:00:00, 1900-01-04 10:00:00, 1900-01-04 11:00:00, 1900-01-04 12:00:00, 1900-01-04 13:00:00, 1900-01-04 14:00:00, 1900-01-04 15:00:00, 1900-01-04 16:00:00, 1900-01-04 17:00:00, 1900-01-04 18:00:00, 1900-01-04 19:00:00, 1900-01-04 20:00:00, 1900-01-04 21:00:00, 1900-01-04 22:00:00, 1900-01-04 23:00:00, 1900-01-05 00:00:00, 1900-01-05 01:00:00, 1900-01-05 02:00:00, 1900-01-05 03:00:00, ...]\n",
       " \n",
       " [8760 rows x 0 columns],\n",
       " 'p': Generator            Fossils  BioEnergies  Hydroelectric  Wind_on_shore  \\\n",
       " snapshot                                                                  \n",
       " 1900-01-01 00:00:00      0.0         0.00          0.000       43000.00   \n",
       " 1900-01-01 01:00:00      0.0         0.00          0.000       43000.00   \n",
       " 1900-01-01 02:00:00      0.0         0.00          0.000       43000.00   \n",
       " 1900-01-01 03:00:00      0.0         0.00          0.000       43000.00   \n",
       " 1900-01-01 04:00:00      0.0         0.00          0.000       43000.00   \n",
       " ...                      ...          ...            ...            ...   \n",
       " 1900-12-31 19:00:00      0.0         0.00      14422.565       43000.00   \n",
       " 1900-12-31 20:00:00      0.0         0.00      12316.430       43000.00   \n",
       " 1900-12-31 21:00:00      0.0         0.00      57000.000       31341.66   \n",
       " 1900-12-31 22:00:00      0.0         0.00       6508.130       43000.00   \n",
       " 1900-12-31 23:00:00      0.0      3664.28          0.000       43000.00   \n",
       " \n",
       " Generator            Wind_off_shore  Nuclear      Solar       Failure  \\\n",
       " snapshot                                                                \n",
       " 1900-01-01 00:00:00         17000.0      0.0  18761.655 -3.637979e-12   \n",
       " 1900-01-01 01:00:00         17000.0      0.0  15597.825 -3.637979e-12   \n",
       " 1900-01-01 02:00:00         17000.0      0.0  14987.175 -3.637979e-12   \n",
       " 1900-01-01 03:00:00         17000.0      0.0  15415.560 -3.637979e-12   \n",
       " 1900-01-01 04:00:00         17000.0      0.0  17113.410 -3.637979e-12   \n",
       " ...                             ...      ...        ...           ...   \n",
       " 1900-12-31 19:00:00         17000.0      0.0  19000.000  0.000000e+00   \n",
       " 1900-12-31 20:00:00         17000.0      0.0  19000.000  0.000000e+00   \n",
       " 1900-12-31 21:00:00             0.0      0.0      0.000 -3.637979e-12   \n",
       " 1900-12-31 22:00:00         17000.0      0.0  19000.000 -3.637979e-12   \n",
       " 1900-12-31 23:00:00         17000.0      0.0  19000.000 -3.637979e-12   \n",
       " \n",
       " Generator            Curtailment  \n",
       " snapshot                          \n",
       " 1900-01-01 00:00:00      10000.0  \n",
       " 1900-01-01 01:00:00      10000.0  \n",
       " 1900-01-01 02:00:00      10000.0  \n",
       " 1900-01-01 03:00:00      10000.0  \n",
       " 1900-01-01 04:00:00      10000.0  \n",
       " ...                          ...  \n",
       " 1900-12-31 19:00:00      10000.0  \n",
       " 1900-12-31 20:00:00      10000.0  \n",
       " 1900-12-31 21:00:00      10000.0  \n",
       " 1900-12-31 22:00:00      10000.0  \n",
       " 1900-12-31 23:00:00      10000.0  \n",
       " \n",
       " [8760 rows x 9 columns],\n",
       " 'q': Empty DataFrame\n",
       " Columns: []\n",
       " Index: [1900-01-01 00:00:00, 1900-01-01 01:00:00, 1900-01-01 02:00:00, 1900-01-01 03:00:00, 1900-01-01 04:00:00, 1900-01-01 05:00:00, 1900-01-01 06:00:00, 1900-01-01 07:00:00, 1900-01-01 08:00:00, 1900-01-01 09:00:00, 1900-01-01 10:00:00, 1900-01-01 11:00:00, 1900-01-01 12:00:00, 1900-01-01 13:00:00, 1900-01-01 14:00:00, 1900-01-01 15:00:00, 1900-01-01 16:00:00, 1900-01-01 17:00:00, 1900-01-01 18:00:00, 1900-01-01 19:00:00, 1900-01-01 20:00:00, 1900-01-01 21:00:00, 1900-01-01 22:00:00, 1900-01-01 23:00:00, 1900-01-02 00:00:00, 1900-01-02 01:00:00, 1900-01-02 02:00:00, 1900-01-02 03:00:00, 1900-01-02 04:00:00, 1900-01-02 05:00:00, 1900-01-02 06:00:00, 1900-01-02 07:00:00, 1900-01-02 08:00:00, 1900-01-02 09:00:00, 1900-01-02 10:00:00, 1900-01-02 11:00:00, 1900-01-02 12:00:00, 1900-01-02 13:00:00, 1900-01-02 14:00:00, 1900-01-02 15:00:00, 1900-01-02 16:00:00, 1900-01-02 17:00:00, 1900-01-02 18:00:00, 1900-01-02 19:00:00, 1900-01-02 20:00:00, 1900-01-02 21:00:00, 1900-01-02 22:00:00, 1900-01-02 23:00:00, 1900-01-03 00:00:00, 1900-01-03 01:00:00, 1900-01-03 02:00:00, 1900-01-03 03:00:00, 1900-01-03 04:00:00, 1900-01-03 05:00:00, 1900-01-03 06:00:00, 1900-01-03 07:00:00, 1900-01-03 08:00:00, 1900-01-03 09:00:00, 1900-01-03 10:00:00, 1900-01-03 11:00:00, 1900-01-03 12:00:00, 1900-01-03 13:00:00, 1900-01-03 14:00:00, 1900-01-03 15:00:00, 1900-01-03 16:00:00, 1900-01-03 17:00:00, 1900-01-03 18:00:00, 1900-01-03 19:00:00, 1900-01-03 20:00:00, 1900-01-03 21:00:00, 1900-01-03 22:00:00, 1900-01-03 23:00:00, 1900-01-04 00:00:00, 1900-01-04 01:00:00, 1900-01-04 02:00:00, 1900-01-04 03:00:00, 1900-01-04 04:00:00, 1900-01-04 05:00:00, 1900-01-04 06:00:00, 1900-01-04 07:00:00, 1900-01-04 08:00:00, 1900-01-04 09:00:00, 1900-01-04 10:00:00, 1900-01-04 11:00:00, 1900-01-04 12:00:00, 1900-01-04 13:00:00, 1900-01-04 14:00:00, 1900-01-04 15:00:00, 1900-01-04 16:00:00, 1900-01-04 17:00:00, 1900-01-04 18:00:00, 1900-01-04 19:00:00, 1900-01-04 20:00:00, 1900-01-04 21:00:00, 1900-01-04 22:00:00, 1900-01-04 23:00:00, 1900-01-05 00:00:00, 1900-01-05 01:00:00, 1900-01-05 02:00:00, 1900-01-05 03:00:00, ...]\n",
       " \n",
       " [8760 rows x 0 columns],\n",
       " 'status': Generator-com        Fossils  BioEnergies  Hydroelectric  Nuclear  Failure  \\\n",
       " snapshot                                                                     \n",
       " 1900-01-01 00:00:00      1.0          1.0            1.0      1.0      1.0   \n",
       " 1900-01-01 01:00:00      1.0          1.0            1.0      1.0      1.0   \n",
       " 1900-01-01 02:00:00      1.0          1.0            1.0      1.0      1.0   \n",
       " 1900-01-01 03:00:00      1.0          1.0            1.0      1.0      1.0   \n",
       " 1900-01-01 04:00:00      1.0          1.0            1.0      1.0      1.0   \n",
       " ...                      ...          ...            ...      ...      ...   \n",
       " 1900-12-31 19:00:00      1.0          1.0            1.0      1.0      1.0   \n",
       " 1900-12-31 20:00:00      1.0          1.0            1.0      1.0      1.0   \n",
       " 1900-12-31 21:00:00      1.0          1.0            1.0      1.0      1.0   \n",
       " 1900-12-31 22:00:00      1.0          1.0            1.0      1.0      1.0   \n",
       " 1900-12-31 23:00:00      1.0          1.0            1.0      1.0      1.0   \n",
       " \n",
       " Generator-com        Curtailment  \n",
       " snapshot                          \n",
       " 1900-01-01 00:00:00          1.0  \n",
       " 1900-01-01 01:00:00          1.0  \n",
       " 1900-01-01 02:00:00          1.0  \n",
       " 1900-01-01 03:00:00          1.0  \n",
       " 1900-01-01 04:00:00          1.0  \n",
       " ...                          ...  \n",
       " 1900-12-31 19:00:00          1.0  \n",
       " 1900-12-31 20:00:00          1.0  \n",
       " 1900-12-31 21:00:00          1.0  \n",
       " 1900-12-31 22:00:00          1.0  \n",
       " 1900-12-31 23:00:00          1.0  \n",
       " \n",
       " [8760 rows x 6 columns],\n",
       " 'mu_upper': Empty DataFrame\n",
       " Columns: []\n",
       " Index: [1900-01-01 00:00:00, 1900-01-01 01:00:00, 1900-01-01 02:00:00, 1900-01-01 03:00:00, 1900-01-01 04:00:00, 1900-01-01 05:00:00, 1900-01-01 06:00:00, 1900-01-01 07:00:00, 1900-01-01 08:00:00, 1900-01-01 09:00:00, 1900-01-01 10:00:00, 1900-01-01 11:00:00, 1900-01-01 12:00:00, 1900-01-01 13:00:00, 1900-01-01 14:00:00, 1900-01-01 15:00:00, 1900-01-01 16:00:00, 1900-01-01 17:00:00, 1900-01-01 18:00:00, 1900-01-01 19:00:00, 1900-01-01 20:00:00, 1900-01-01 21:00:00, 1900-01-01 22:00:00, 1900-01-01 23:00:00, 1900-01-02 00:00:00, 1900-01-02 01:00:00, 1900-01-02 02:00:00, 1900-01-02 03:00:00, 1900-01-02 04:00:00, 1900-01-02 05:00:00, 1900-01-02 06:00:00, 1900-01-02 07:00:00, 1900-01-02 08:00:00, 1900-01-02 09:00:00, 1900-01-02 10:00:00, 1900-01-02 11:00:00, 1900-01-02 12:00:00, 1900-01-02 13:00:00, 1900-01-02 14:00:00, 1900-01-02 15:00:00, 1900-01-02 16:00:00, 1900-01-02 17:00:00, 1900-01-02 18:00:00, 1900-01-02 19:00:00, 1900-01-02 20:00:00, 1900-01-02 21:00:00, 1900-01-02 22:00:00, 1900-01-02 23:00:00, 1900-01-03 00:00:00, 1900-01-03 01:00:00, 1900-01-03 02:00:00, 1900-01-03 03:00:00, 1900-01-03 04:00:00, 1900-01-03 05:00:00, 1900-01-03 06:00:00, 1900-01-03 07:00:00, 1900-01-03 08:00:00, 1900-01-03 09:00:00, 1900-01-03 10:00:00, 1900-01-03 11:00:00, 1900-01-03 12:00:00, 1900-01-03 13:00:00, 1900-01-03 14:00:00, 1900-01-03 15:00:00, 1900-01-03 16:00:00, 1900-01-03 17:00:00, 1900-01-03 18:00:00, 1900-01-03 19:00:00, 1900-01-03 20:00:00, 1900-01-03 21:00:00, 1900-01-03 22:00:00, 1900-01-03 23:00:00, 1900-01-04 00:00:00, 1900-01-04 01:00:00, 1900-01-04 02:00:00, 1900-01-04 03:00:00, 1900-01-04 04:00:00, 1900-01-04 05:00:00, 1900-01-04 06:00:00, 1900-01-04 07:00:00, 1900-01-04 08:00:00, 1900-01-04 09:00:00, 1900-01-04 10:00:00, 1900-01-04 11:00:00, 1900-01-04 12:00:00, 1900-01-04 13:00:00, 1900-01-04 14:00:00, 1900-01-04 15:00:00, 1900-01-04 16:00:00, 1900-01-04 17:00:00, 1900-01-04 18:00:00, 1900-01-04 19:00:00, 1900-01-04 20:00:00, 1900-01-04 21:00:00, 1900-01-04 22:00:00, 1900-01-04 23:00:00, 1900-01-05 00:00:00, 1900-01-05 01:00:00, 1900-01-05 02:00:00, 1900-01-05 03:00:00, ...]\n",
       " \n",
       " [8760 rows x 0 columns],\n",
       " 'mu_lower': Empty DataFrame\n",
       " Columns: []\n",
       " Index: [1900-01-01 00:00:00, 1900-01-01 01:00:00, 1900-01-01 02:00:00, 1900-01-01 03:00:00, 1900-01-01 04:00:00, 1900-01-01 05:00:00, 1900-01-01 06:00:00, 1900-01-01 07:00:00, 1900-01-01 08:00:00, 1900-01-01 09:00:00, 1900-01-01 10:00:00, 1900-01-01 11:00:00, 1900-01-01 12:00:00, 1900-01-01 13:00:00, 1900-01-01 14:00:00, 1900-01-01 15:00:00, 1900-01-01 16:00:00, 1900-01-01 17:00:00, 1900-01-01 18:00:00, 1900-01-01 19:00:00, 1900-01-01 20:00:00, 1900-01-01 21:00:00, 1900-01-01 22:00:00, 1900-01-01 23:00:00, 1900-01-02 00:00:00, 1900-01-02 01:00:00, 1900-01-02 02:00:00, 1900-01-02 03:00:00, 1900-01-02 04:00:00, 1900-01-02 05:00:00, 1900-01-02 06:00:00, 1900-01-02 07:00:00, 1900-01-02 08:00:00, 1900-01-02 09:00:00, 1900-01-02 10:00:00, 1900-01-02 11:00:00, 1900-01-02 12:00:00, 1900-01-02 13:00:00, 1900-01-02 14:00:00, 1900-01-02 15:00:00, 1900-01-02 16:00:00, 1900-01-02 17:00:00, 1900-01-02 18:00:00, 1900-01-02 19:00:00, 1900-01-02 20:00:00, 1900-01-02 21:00:00, 1900-01-02 22:00:00, 1900-01-02 23:00:00, 1900-01-03 00:00:00, 1900-01-03 01:00:00, 1900-01-03 02:00:00, 1900-01-03 03:00:00, 1900-01-03 04:00:00, 1900-01-03 05:00:00, 1900-01-03 06:00:00, 1900-01-03 07:00:00, 1900-01-03 08:00:00, 1900-01-03 09:00:00, 1900-01-03 10:00:00, 1900-01-03 11:00:00, 1900-01-03 12:00:00, 1900-01-03 13:00:00, 1900-01-03 14:00:00, 1900-01-03 15:00:00, 1900-01-03 16:00:00, 1900-01-03 17:00:00, 1900-01-03 18:00:00, 1900-01-03 19:00:00, 1900-01-03 20:00:00, 1900-01-03 21:00:00, 1900-01-03 22:00:00, 1900-01-03 23:00:00, 1900-01-04 00:00:00, 1900-01-04 01:00:00, 1900-01-04 02:00:00, 1900-01-04 03:00:00, 1900-01-04 04:00:00, 1900-01-04 05:00:00, 1900-01-04 06:00:00, 1900-01-04 07:00:00, 1900-01-04 08:00:00, 1900-01-04 09:00:00, 1900-01-04 10:00:00, 1900-01-04 11:00:00, 1900-01-04 12:00:00, 1900-01-04 13:00:00, 1900-01-04 14:00:00, 1900-01-04 15:00:00, 1900-01-04 16:00:00, 1900-01-04 17:00:00, 1900-01-04 18:00:00, 1900-01-04 19:00:00, 1900-01-04 20:00:00, 1900-01-04 21:00:00, 1900-01-04 22:00:00, 1900-01-04 23:00:00, 1900-01-05 00:00:00, 1900-01-05 01:00:00, 1900-01-05 02:00:00, 1900-01-05 03:00:00, ...]\n",
       " \n",
       " [8760 rows x 0 columns],\n",
       " 'mu_p_set': Empty DataFrame\n",
       " Columns: []\n",
       " Index: [1900-01-01 00:00:00, 1900-01-01 01:00:00, 1900-01-01 02:00:00, 1900-01-01 03:00:00, 1900-01-01 04:00:00, 1900-01-01 05:00:00, 1900-01-01 06:00:00, 1900-01-01 07:00:00, 1900-01-01 08:00:00, 1900-01-01 09:00:00, 1900-01-01 10:00:00, 1900-01-01 11:00:00, 1900-01-01 12:00:00, 1900-01-01 13:00:00, 1900-01-01 14:00:00, 1900-01-01 15:00:00, 1900-01-01 16:00:00, 1900-01-01 17:00:00, 1900-01-01 18:00:00, 1900-01-01 19:00:00, 1900-01-01 20:00:00, 1900-01-01 21:00:00, 1900-01-01 22:00:00, 1900-01-01 23:00:00, 1900-01-02 00:00:00, 1900-01-02 01:00:00, 1900-01-02 02:00:00, 1900-01-02 03:00:00, 1900-01-02 04:00:00, 1900-01-02 05:00:00, 1900-01-02 06:00:00, 1900-01-02 07:00:00, 1900-01-02 08:00:00, 1900-01-02 09:00:00, 1900-01-02 10:00:00, 1900-01-02 11:00:00, 1900-01-02 12:00:00, 1900-01-02 13:00:00, 1900-01-02 14:00:00, 1900-01-02 15:00:00, 1900-01-02 16:00:00, 1900-01-02 17:00:00, 1900-01-02 18:00:00, 1900-01-02 19:00:00, 1900-01-02 20:00:00, 1900-01-02 21:00:00, 1900-01-02 22:00:00, 1900-01-02 23:00:00, 1900-01-03 00:00:00, 1900-01-03 01:00:00, 1900-01-03 02:00:00, 1900-01-03 03:00:00, 1900-01-03 04:00:00, 1900-01-03 05:00:00, 1900-01-03 06:00:00, 1900-01-03 07:00:00, 1900-01-03 08:00:00, 1900-01-03 09:00:00, 1900-01-03 10:00:00, 1900-01-03 11:00:00, 1900-01-03 12:00:00, 1900-01-03 13:00:00, 1900-01-03 14:00:00, 1900-01-03 15:00:00, 1900-01-03 16:00:00, 1900-01-03 17:00:00, 1900-01-03 18:00:00, 1900-01-03 19:00:00, 1900-01-03 20:00:00, 1900-01-03 21:00:00, 1900-01-03 22:00:00, 1900-01-03 23:00:00, 1900-01-04 00:00:00, 1900-01-04 01:00:00, 1900-01-04 02:00:00, 1900-01-04 03:00:00, 1900-01-04 04:00:00, 1900-01-04 05:00:00, 1900-01-04 06:00:00, 1900-01-04 07:00:00, 1900-01-04 08:00:00, 1900-01-04 09:00:00, 1900-01-04 10:00:00, 1900-01-04 11:00:00, 1900-01-04 12:00:00, 1900-01-04 13:00:00, 1900-01-04 14:00:00, 1900-01-04 15:00:00, 1900-01-04 16:00:00, 1900-01-04 17:00:00, 1900-01-04 18:00:00, 1900-01-04 19:00:00, 1900-01-04 20:00:00, 1900-01-04 21:00:00, 1900-01-04 22:00:00, 1900-01-04 23:00:00, 1900-01-05 00:00:00, 1900-01-05 01:00:00, 1900-01-05 02:00:00, 1900-01-05 03:00:00, ...]\n",
       " \n",
       " [8760 rows x 0 columns],\n",
       " 'mu_ramp_limit_up': Empty DataFrame\n",
       " Columns: []\n",
       " Index: [1900-01-01 00:00:00, 1900-01-01 01:00:00, 1900-01-01 02:00:00, 1900-01-01 03:00:00, 1900-01-01 04:00:00, 1900-01-01 05:00:00, 1900-01-01 06:00:00, 1900-01-01 07:00:00, 1900-01-01 08:00:00, 1900-01-01 09:00:00, 1900-01-01 10:00:00, 1900-01-01 11:00:00, 1900-01-01 12:00:00, 1900-01-01 13:00:00, 1900-01-01 14:00:00, 1900-01-01 15:00:00, 1900-01-01 16:00:00, 1900-01-01 17:00:00, 1900-01-01 18:00:00, 1900-01-01 19:00:00, 1900-01-01 20:00:00, 1900-01-01 21:00:00, 1900-01-01 22:00:00, 1900-01-01 23:00:00, 1900-01-02 00:00:00, 1900-01-02 01:00:00, 1900-01-02 02:00:00, 1900-01-02 03:00:00, 1900-01-02 04:00:00, 1900-01-02 05:00:00, 1900-01-02 06:00:00, 1900-01-02 07:00:00, 1900-01-02 08:00:00, 1900-01-02 09:00:00, 1900-01-02 10:00:00, 1900-01-02 11:00:00, 1900-01-02 12:00:00, 1900-01-02 13:00:00, 1900-01-02 14:00:00, 1900-01-02 15:00:00, 1900-01-02 16:00:00, 1900-01-02 17:00:00, 1900-01-02 18:00:00, 1900-01-02 19:00:00, 1900-01-02 20:00:00, 1900-01-02 21:00:00, 1900-01-02 22:00:00, 1900-01-02 23:00:00, 1900-01-03 00:00:00, 1900-01-03 01:00:00, 1900-01-03 02:00:00, 1900-01-03 03:00:00, 1900-01-03 04:00:00, 1900-01-03 05:00:00, 1900-01-03 06:00:00, 1900-01-03 07:00:00, 1900-01-03 08:00:00, 1900-01-03 09:00:00, 1900-01-03 10:00:00, 1900-01-03 11:00:00, 1900-01-03 12:00:00, 1900-01-03 13:00:00, 1900-01-03 14:00:00, 1900-01-03 15:00:00, 1900-01-03 16:00:00, 1900-01-03 17:00:00, 1900-01-03 18:00:00, 1900-01-03 19:00:00, 1900-01-03 20:00:00, 1900-01-03 21:00:00, 1900-01-03 22:00:00, 1900-01-03 23:00:00, 1900-01-04 00:00:00, 1900-01-04 01:00:00, 1900-01-04 02:00:00, 1900-01-04 03:00:00, 1900-01-04 04:00:00, 1900-01-04 05:00:00, 1900-01-04 06:00:00, 1900-01-04 07:00:00, 1900-01-04 08:00:00, 1900-01-04 09:00:00, 1900-01-04 10:00:00, 1900-01-04 11:00:00, 1900-01-04 12:00:00, 1900-01-04 13:00:00, 1900-01-04 14:00:00, 1900-01-04 15:00:00, 1900-01-04 16:00:00, 1900-01-04 17:00:00, 1900-01-04 18:00:00, 1900-01-04 19:00:00, 1900-01-04 20:00:00, 1900-01-04 21:00:00, 1900-01-04 22:00:00, 1900-01-04 23:00:00, 1900-01-05 00:00:00, 1900-01-05 01:00:00, 1900-01-05 02:00:00, 1900-01-05 03:00:00, ...]\n",
       " \n",
       " [8760 rows x 0 columns],\n",
       " 'mu_ramp_limit_down': Empty DataFrame\n",
       " Columns: []\n",
       " Index: [1900-01-01 00:00:00, 1900-01-01 01:00:00, 1900-01-01 02:00:00, 1900-01-01 03:00:00, 1900-01-01 04:00:00, 1900-01-01 05:00:00, 1900-01-01 06:00:00, 1900-01-01 07:00:00, 1900-01-01 08:00:00, 1900-01-01 09:00:00, 1900-01-01 10:00:00, 1900-01-01 11:00:00, 1900-01-01 12:00:00, 1900-01-01 13:00:00, 1900-01-01 14:00:00, 1900-01-01 15:00:00, 1900-01-01 16:00:00, 1900-01-01 17:00:00, 1900-01-01 18:00:00, 1900-01-01 19:00:00, 1900-01-01 20:00:00, 1900-01-01 21:00:00, 1900-01-01 22:00:00, 1900-01-01 23:00:00, 1900-01-02 00:00:00, 1900-01-02 01:00:00, 1900-01-02 02:00:00, 1900-01-02 03:00:00, 1900-01-02 04:00:00, 1900-01-02 05:00:00, 1900-01-02 06:00:00, 1900-01-02 07:00:00, 1900-01-02 08:00:00, 1900-01-02 09:00:00, 1900-01-02 10:00:00, 1900-01-02 11:00:00, 1900-01-02 12:00:00, 1900-01-02 13:00:00, 1900-01-02 14:00:00, 1900-01-02 15:00:00, 1900-01-02 16:00:00, 1900-01-02 17:00:00, 1900-01-02 18:00:00, 1900-01-02 19:00:00, 1900-01-02 20:00:00, 1900-01-02 21:00:00, 1900-01-02 22:00:00, 1900-01-02 23:00:00, 1900-01-03 00:00:00, 1900-01-03 01:00:00, 1900-01-03 02:00:00, 1900-01-03 03:00:00, 1900-01-03 04:00:00, 1900-01-03 05:00:00, 1900-01-03 06:00:00, 1900-01-03 07:00:00, 1900-01-03 08:00:00, 1900-01-03 09:00:00, 1900-01-03 10:00:00, 1900-01-03 11:00:00, 1900-01-03 12:00:00, 1900-01-03 13:00:00, 1900-01-03 14:00:00, 1900-01-03 15:00:00, 1900-01-03 16:00:00, 1900-01-03 17:00:00, 1900-01-03 18:00:00, 1900-01-03 19:00:00, 1900-01-03 20:00:00, 1900-01-03 21:00:00, 1900-01-03 22:00:00, 1900-01-03 23:00:00, 1900-01-04 00:00:00, 1900-01-04 01:00:00, 1900-01-04 02:00:00, 1900-01-04 03:00:00, 1900-01-04 04:00:00, 1900-01-04 05:00:00, 1900-01-04 06:00:00, 1900-01-04 07:00:00, 1900-01-04 08:00:00, 1900-01-04 09:00:00, 1900-01-04 10:00:00, 1900-01-04 11:00:00, 1900-01-04 12:00:00, 1900-01-04 13:00:00, 1900-01-04 14:00:00, 1900-01-04 15:00:00, 1900-01-04 16:00:00, 1900-01-04 17:00:00, 1900-01-04 18:00:00, 1900-01-04 19:00:00, 1900-01-04 20:00:00, 1900-01-04 21:00:00, 1900-01-04 22:00:00, 1900-01-04 23:00:00, 1900-01-05 00:00:00, 1900-01-05 01:00:00, 1900-01-05 02:00:00, 1900-01-05 03:00:00, ...]\n",
       " \n",
       " [8760 rows x 0 columns],\n",
       " 'start_up': Generator-com        Fossils  BioEnergies  Hydroelectric  Nuclear  Failure  \\\n",
       " snapshot                                                                     \n",
       " 1900-01-01 00:00:00      1.0          1.0            1.0      1.0      1.0   \n",
       " 1900-01-01 01:00:00      1.0          1.0            1.0      1.0      1.0   \n",
       " 1900-01-01 02:00:00      1.0          1.0            1.0      1.0      1.0   \n",
       " 1900-01-01 03:00:00      1.0          1.0            1.0      1.0      1.0   \n",
       " 1900-01-01 04:00:00      1.0          1.0            1.0      1.0      1.0   \n",
       " ...                      ...          ...            ...      ...      ...   \n",
       " 1900-12-31 19:00:00      1.0          1.0            1.0      1.0      1.0   \n",
       " 1900-12-31 20:00:00      1.0          1.0            1.0      1.0      1.0   \n",
       " 1900-12-31 21:00:00      1.0          1.0            1.0      1.0      1.0   \n",
       " 1900-12-31 22:00:00      1.0          1.0            1.0      1.0      1.0   \n",
       " 1900-12-31 23:00:00      1.0          1.0            1.0      1.0      1.0   \n",
       " \n",
       " Generator-com        Curtailment  \n",
       " snapshot                          \n",
       " 1900-01-01 00:00:00          1.0  \n",
       " 1900-01-01 01:00:00          1.0  \n",
       " 1900-01-01 02:00:00          1.0  \n",
       " 1900-01-01 03:00:00          1.0  \n",
       " 1900-01-01 04:00:00          1.0  \n",
       " ...                          ...  \n",
       " 1900-12-31 19:00:00          1.0  \n",
       " 1900-12-31 20:00:00          1.0  \n",
       " 1900-12-31 21:00:00          1.0  \n",
       " 1900-12-31 22:00:00          1.0  \n",
       " 1900-12-31 23:00:00          1.0  \n",
       " \n",
       " [8760 rows x 6 columns],\n",
       " 'shut_down': Generator-com        Fossils  BioEnergies  Hydroelectric  Nuclear  Failure  \\\n",
       " snapshot                                                                     \n",
       " 1900-01-01 00:00:00      1.0          1.0            1.0      1.0      1.0   \n",
       " 1900-01-01 01:00:00      0.0          0.0            0.0      0.0      0.0   \n",
       " 1900-01-01 02:00:00      0.0          0.0            0.0      0.0      0.0   \n",
       " 1900-01-01 03:00:00      0.0          0.0            0.0      0.0      0.0   \n",
       " 1900-01-01 04:00:00      0.0          0.0            0.0      0.0      0.0   \n",
       " ...                      ...          ...            ...      ...      ...   \n",
       " 1900-12-31 19:00:00      0.0          0.0            0.0      0.0      0.0   \n",
       " 1900-12-31 20:00:00      0.0          0.0            0.0      0.0      0.0   \n",
       " 1900-12-31 21:00:00      0.0          0.0            0.0      0.0      0.0   \n",
       " 1900-12-31 22:00:00      0.0          0.0            0.0      0.0      0.0   \n",
       " 1900-12-31 23:00:00      0.0          0.0            0.0      0.0      0.0   \n",
       " \n",
       " Generator-com        Curtailment  \n",
       " snapshot                          \n",
       " 1900-01-01 00:00:00          1.0  \n",
       " 1900-01-01 01:00:00          0.0  \n",
       " 1900-01-01 02:00:00          0.0  \n",
       " 1900-01-01 03:00:00          0.0  \n",
       " 1900-01-01 04:00:00          0.0  \n",
       " ...                          ...  \n",
       " 1900-12-31 19:00:00          0.0  \n",
       " 1900-12-31 20:00:00          0.0  \n",
       " 1900-12-31 21:00:00          0.0  \n",
       " 1900-12-31 22:00:00          0.0  \n",
       " 1900-12-31 23:00:00          0.0  \n",
       " \n",
       " [8760 rows x 6 columns]}"
      ]
     },
     "execution_count": 29,
     "metadata": {},
     "output_type": "execute_result"
    }
   ],
   "source": [
    "network.generators_t"
   ]
  },
  {
   "cell_type": "code",
   "execution_count": null,
   "id": "704f5949bc93b02f",
   "metadata": {
    "ExecuteTime": {
     "end_time": "2023-11-21T15:24:42.397226014Z",
     "start_time": "2023-11-21T15:24:42.391720824Z"
    }
   },
   "outputs": [],
   "source": []
  },
  {
   "cell_type": "code",
   "execution_count": null,
   "id": "a03d89db",
   "metadata": {},
   "outputs": [],
   "source": []
  },
  {
   "cell_type": "code",
   "execution_count": null,
   "id": "59b0451f",
   "metadata": {},
   "outputs": [],
   "source": []
  },
  {
   "cell_type": "code",
   "execution_count": null,
   "id": "55e42e55",
   "metadata": {},
   "outputs": [],
   "source": []
  },
  {
   "cell_type": "code",
   "execution_count": null,
   "id": "24d23181",
   "metadata": {},
   "outputs": [],
   "source": []
  },
  {
   "cell_type": "code",
   "execution_count": null,
   "id": "8196fc60",
   "metadata": {},
   "outputs": [],
   "source": []
  },
  {
   "cell_type": "code",
   "execution_count": null,
   "id": "8f79cd71",
   "metadata": {},
   "outputs": [],
   "source": []
  },
  {
   "cell_type": "code",
   "execution_count": null,
   "id": "c9016ae5",
   "metadata": {},
   "outputs": [],
   "source": []
  },
  {
   "cell_type": "code",
   "execution_count": null,
   "id": "e9922c04",
   "metadata": {},
   "outputs": [],
   "source": []
  },
  {
   "cell_type": "code",
   "execution_count": null,
   "id": "5adc7808",
   "metadata": {},
   "outputs": [],
   "source": []
  }
 ],
 "metadata": {
  "kernelspec": {
   "display_name": "Python 3 (ipykernel)",
   "language": "python",
   "name": "python3"
  },
  "language_info": {
   "codemirror_mode": {
    "name": "ipython",
    "version": 3
   },
   "file_extension": ".py",
   "mimetype": "text/x-python",
   "name": "python",
   "nbconvert_exporter": "python",
   "pygments_lexer": "ipython3",
   "version": "3.10.9"
  }
 },
 "nbformat": 4,
 "nbformat_minor": 5
}
