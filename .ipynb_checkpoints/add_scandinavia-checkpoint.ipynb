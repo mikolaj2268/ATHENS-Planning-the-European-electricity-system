{
 "cells": [
  {
   "cell_type": "code",
   "execution_count": null,
   "id": "424e397a",
   "metadata": {},
   "outputs": [],
   "source": [
    "climatic_year = 2000\n",
    "time_horizon_in_hours = 365 * 24\n",
    "network = pypsa.Network(snapshots=demand.index[0:time_horizon_in_hours])"
   ]
  },
  {
   "cell_type": "code",
   "execution_count": 1,
   "id": "ffb39ec6",
   "metadata": {},
   "outputs": [
    {
     "ename": "IndentationError",
     "evalue": "expected an indented block (2542669934.py, line 1)",
     "output_type": "error",
     "traceback": [
      "\u001b[1;36m  File \u001b[1;32m\"C:\\Users\\Mikol\\AppData\\Local\\Temp\\ipykernel_31048\\2542669934.py\"\u001b[1;36m, line \u001b[1;32m1\u001b[0m\n\u001b[1;33m    def add_scandinavia(network: pypsa.Network, climatic_year: int, time_horizon_in_hours: int, co2_price: float):\u001b[0m\n\u001b[1;37m                                                                                                                  ^\u001b[0m\n\u001b[1;31mIndentationError\u001b[0m\u001b[1;31m:\u001b[0m expected an indented block\n"
     ]
    }
   ],
   "source": [
    "def add_scandinavia(network: pypsa.Network, climatic_year: int, time_horizon_in_hours: int):\n",
    "    full_demand = pd.read_csv(\"./data/demand_2030_scandinavia.csv\", sep=\";\", index_col=1, parse_dates=True).groupby(pd.Grouper(key=\"climatic_year\"))\n",
    "    full_wind_on_shore = pd.read_csv(\"./data/capa_factor_2030_scandinavia_onshore.csv\", index_col=1, parse_dates=True, sep=\";\").groupby(pd.Grouper(key=\"climatic_year\"))\n",
    "    full_solar = pd.read_csv(\"./data/capa_factor_2030_scandinavia_solar.csv\", index_col=1, parse_dates=True, sep=\";\").groupby(pd.Grouper(key=\"climatic_year\"))\n",
    "    full_wind_off_shore = pd.read_csv(\"./data/capa_factor_2030_scandinavia_offshore.csv\", index_col=1, parse_dates=True, sep=\";\").groupby(pd.Grouper(key=\"climatic_year\"))\n",
    "\n",
    "\n",
    "    demand = full_demand.get_group(climatic_year)\n",
    "    solar = full_solar.get_group(climatic_year)\n",
    "    wind_on_shore = full_wind_on_shore.get_group(climatic_year)\n",
    "    wind_off_shore = full_wind_off_shore.get_group(climatic_year)\n",
    "    \n",
    "    network.add(\"Bus\", name=\"Scandinavia\", x=15.255119, y=60.128161)\n",
    "    \n",
    "    coal_marginal_costs = 160\n",
    "    gas_marginal_costs = 120\n",
    "    oil_marginal_costs = 100\n",
    "    nuclear_marginal_costs = 10\n",
    "    hydro_marginal_costs = 5\n",
    "    wind_marginal_costs = 5\n",
    "    solar_marginal_costs = 5\n",
    "    biomass_marginal_costs = 5\n",
    "\n",
    "\n",
    "    reservoir_max_hours = 365*24\n",
    "    pumped_max_hours = 100\n",
    "    battery_max_hours = 200\n",
    "    H2_max_hours = 300\n",
    "    \n",
    "    generators = [\n",
    "    {\"name\": \"Fossils\", \"carrier\": \"Fossils\", \"p_nom\": 5000, \"p_min_pu\": 0, \"p_max_pu\": 1, \"marginal_cost\": gas_marginal_costs, \"efficiency\": 0.4,\n",
    "     \"committable\": True, \"min_up_time\": 1, \"min_down_time\": 1},\n",
    "    {\"name\": \"BioEnergies\", \"carrier\": \"BioEnergies\", \"p_nom\":11000, \"p_min_pu\": 0, \"p_max_pu\": 1, \"marginal_cost\": biomass_marginal_costs, \"efficiency\": 0.5, \n",
    "     \"committable\": True, \"min_up_time\": 1, \"min_down_time\": 1},\n",
    "    {\"name\": \"Hydroelectric\", \"carrier\":\"Hydro\", \"p_nom\": 57000, \"p_min_pu\": 0, \"p_max_pu\": 1, \"marginal_cost\": hydro_marginal_costs, \"efficiency\": 1, \"committable\": True,\n",
    "     \"min_up_time\": 1, \"min_down_time\": 1},\n",
    "    {\"name\": \"Wind_on_shore\", \"carrier\": \"Wind_on_shore\", \"p_nom\": 43000, \"p_min_pu\":wind_on_shore.value, \"p_max_pu\": wind_on_shore.value, \"marginal_cost\": wind_marginal_costs, \"efficiency\":1, \"committable\": False,\n",
    "     \"min_up_time\": 1, \"min_down_time\": 1},\n",
    "    {\"name\": \"Wind_off_shore\", \"carrier\": \"Wind_off_shore\", \"p_nom\": 17000, \"p_min_pu\":wind_off_shore.value, \"p_max_pu\": wind_off_shore.value, \"marginal_cost\": wind_marginal_costs, \"efficiency\":1, \"committable\": False,\n",
    "     \"min_up_time\": 1, \"min_down_time\": 1},\n",
    "    {\"name\": \"Nuclear\", \"carrier\": \"Nuclear\", \"p_nom\": 11000, \"p_min_pu\":0, \"p_max_pu\": 1, \"marginal_cost\": nuclear_marginal_costs, \"efficiency\":1, \"committable\": True,\n",
    "     \"min_up_time\": 24, \"min_down_time\": 24},\n",
    "    {\"name\": \"Solar\", \"carrier\": \"Solar\", \"p_nom\": 19000, \"p_min_pu\":solar.value, \"p_max_pu\": solar.value, \"marginal_cost\": solar_marginal_costs, \"efficiency\":1, \"committable\": False,\n",
    "     \"min_up_time\": 1, \"min_down_time\": 1},\n",
    "    {\"name\": \"Failure\", \"carrier\": \"Failure\", \"p_nom\": 100000, \"p_min_pu\":0, \"p_max_pu\": 1, \"marginal_cost\": 100000, \"efficiency\":1, \"committable\": True,\n",
    "     \"min_up_time\": 1, \"min_down_time\": 1}\n",
    "]\n",
    "    \n",
    "    storage_units = [\n",
    "        {\"name\": \"Reservoir\", \"carrier\": \"Reservoir\", \"p_nom\": 100000, \"p_min_pu\": 0, \"p_max_pu\": 1, \"max_hours\": reservoir_max_hours, \"efficiency\": 1, \"cyclic_state_of_charge\": True, \"p_nom_discharge\" : 100, \"p_nom_charge\" : 100},\n",
    "        {\"name\": \"Pumped\", \"carrier\": \"Pumped\", \"p_nom\": 100000, \"p_min_pu\": 0, \"p_max_pu\": 1, \"max_hours\": pumped_max_hours, \"efficiency\": 1, \"cyclic_state_of_charge\": True, \"p_nom_discharge\" : 100, \"p_nom_charge\" : 100},\n",
    "        {\"name\": \"Battery\", \"carrier\": \"Battery\", \"p_nom\": 100000, \"p_min_pu\": 0, \"p_max_pu\": 1, \"max_hours\": battery_max_hours, \"efficiency\": 1, \"cyclic_state_of_charge\": True, \"p_nom_discharge\" : 100, \"p_nom_charge\" : 100},\n",
    "        {\"name\": \"H2\", \"carrier\": \"H2\", \"p_nom\": 100000, \"p_min_pu\": 0, \"p_max_pu\": 1, \"max_hours\": H2_max_hours, \"efficiency\": 1, \"cyclic_state_of_charge\": True, \"p_nom_discharge\" :100, \"p_nom_charge\" : 100},\n",
    "]\n",
    "    \n",
    "    for generator in generators:\n",
    "        network.add(\"Generator\", bus=\"Scandinavia\", **generator,)\n",
    "    \n",
    "\n",
    "    for storage in storage_units:\n",
    "        network.add(\"Store\", bus=\"Scandinavia\", **storage,)\n",
    "\n",
    "\n",
    "    loads = [\n",
    "    {\"name\": \"Scandinavia-load\", \"bus\": \"Scandinavia\", \"carrier\": \"AC\",\"p_set\": demand[0:time_horizon_in_hours][\"value\"].values*1},\n",
    "    {\"name\": \"Curtailment-load\", \"bus\": \"Curtailment\", \"carrier\": \"AC\",\"p_set\": 10000},\n",
    "]\n",
    "    \n",
    "    for load in loads:\n",
    "    network.add(\"Load\", **load)"
   ]
  }
 ],
 "metadata": {
  "kernelspec": {
   "display_name": "Python 3 (ipykernel)",
   "language": "python",
   "name": "python3"
  },
  "language_info": {
   "codemirror_mode": {
    "name": "ipython",
    "version": 3
   },
   "file_extension": ".py",
   "mimetype": "text/x-python",
   "name": "python",
   "nbconvert_exporter": "python",
   "pygments_lexer": "ipython3",
   "version": "3.9.13"
  }
 },
 "nbformat": 4,
 "nbformat_minor": 5
}
