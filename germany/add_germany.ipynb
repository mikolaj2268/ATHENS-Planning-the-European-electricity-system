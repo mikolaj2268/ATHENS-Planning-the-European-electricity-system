{
 "cells": [
  {
   "cell_type": "code",
   "execution_count": 3,
   "id": "2bdf7812",
   "metadata": {},
   "outputs": [
    {
     "name": "stderr",
     "output_type": "stream",
     "text": [
      "C:\\Users\\Mikol\\anaconda3\\lib\\site-packages\\paramiko\\transport.py:219: CryptographyDeprecationWarning: Blowfish has been deprecated\n",
      "  \"class\": algorithms.Blowfish,\n"
     ]
    }
   ],
   "source": [
    "from gurobipy import *\n",
    "import pypsa\n",
    "import pandas as pd\n",
    "from dataclasses import dataclass"
   ]
  },
  {
   "cell_type": "code",
   "execution_count": 10,
   "id": "55a79ffa",
   "metadata": {},
   "outputs": [],
   "source": [
    "climatic_year = 2000\n",
    "time_horizon_in_hours = 365 * 24\n",
    "network = pypsa.Network()"
   ]
  },
  {
   "cell_type": "code",
   "execution_count": 11,
   "id": "b7117c7e",
   "metadata": {},
   "outputs": [],
   "source": [
    "def add_germanya(network: pypsa.Network(), climatic_year: int, time_horizon_in_hours: int):\n",
    "    full_demand = pd.read_csv(\"./data/demand_2030_germany.csv\", sep=\";\", index_col=1, parse_dates=True).groupby(pd.Grouper(key=\"climatic_year\"))\n",
    "    full_wind_on_shore = pd.read_csv(\"./data/capa_factor_2030_germany_onshore.csv\", index_col=1, parse_dates=True, sep=\";\").groupby(pd.Grouper(key=\"climatic_year\"))\n",
    "    full_solar = pd.read_csv(\"./data/capa_factor_2030_germany_solar.csv\", index_col=1, parse_dates=True, sep=\";\").groupby(pd.Grouper(key=\"climatic_year\"))\n",
    "    full_wind_off_shore = pd.read_csv(\"./data/capa_factor_2030_germany_offshore.csv\", index_col=1, parse_dates=True, sep=\";\").groupby(pd.Grouper(key=\"climatic_year\"))\n",
    "\n",
    "    demand = full_demand.get_group(climatic_year)\n",
    "    wind_on_shore = full_wind_on_shore.get_group(climatic_year)\n",
    "    wind_off_shore = full_wind_off_shore.get_group(climatic_year)\n",
    "    solar_pv = full_solar_pv.get_group(climatic_year)\n",
    "    \n",
    "    network.snapshots = demand.index[0:time_horizon_in_hours]\n",
    "    \n",
    "    network.add(\"Bus\", name=\"Germany\", x=13.404954, y=52.520008)\n",
    "    \n",
    "    @dataclass\n",
    "    class FuelSources:\n",
    "    name: str\n",
    "    co2_emissions: float\n",
    "    committable: bool\n",
    "    min_up_time: float\n",
    "    min_down_time: float\n",
    "    primary_cost: float = None  # € / MWh (multiply this by the efficiency of your power plant to get the marginal cost)\n",
    "\n",
    "    def return_as_dict(self, keys):\n",
    "        return {key: self.__dict__[key] for key in keys}\n",
    "\n",
    "    def carrier_characteristics(self):\n",
    "        return self.return_as_dict([\"name\", \"co2_emissions\"])\n",
    "\n",
    "    def generator_characteristics(self):\n",
    "        return self.return_as_dict([\"committable\", \"min_up_time\", \"min_down_time\"]) \n",
    "\n",
    "    fuel_sources = {\n",
    "    \"Coal\": FuelSources(\"Coal\", 760, False, 24, 24, 160),\n",
    "    \"Gas\": FuelSources(\"Gas\", 370, False, 0, 0, 120),\n",
    "    \"Oil\": FuelSources(\"Oil\", 406, False, 1, 1, 100),\n",
    "    \"Uranium\": FuelSources(\"Uranium\", 0, False, 48, 240, 10),\n",
    "    \"Solar\": FuelSources(\"Solar\", 0, False, 0, 0, 5),\n",
    "    \"Wind\": FuelSources(\"Wind\", 0, False, 0, 0, 5),\n",
    "    \"Hydro\": FuelSources(\"Hydro\", 0, False, 0, 0, 5),\n",
    "    \"Biomass\": FuelSources(\"Biomass\", 0, False, 12, 12, 10)\n",
    "    }\n",
    "\n",
    "    for fuel_source in fuel_sources.values():\n",
    "    network.add(\"Carrier\", **fuel_source.carrier_characteristics())\n",
    "\n",
    "    generators = [\n",
    "    {\"name\": \"GER-Hydro_ROR\",\"bus\": \"Germany\", \"carrier\": \"Hydro\", \"p_nom\": 3933, \"p_min_pu\": 0, \"p_max_pu\": 1,\n",
    "     \"marginal_cost\": fuel_sources[\"Hydro\"].primary_cost, \"efficiency\": 1,\n",
    "     **(fuel_sources[\"Hydro\"].generator_characteristics())},\n",
    "    {\"name\": \"GER-WindOnshore\",\"bus\": \"Germany\", \"carrier\": \"Wind\", \"p_nom\": 115000, \"p_min_pu\": 0, \"p_max_pu\": wind_on_shore[0:time_horizon_in_hours][\"value\"].values,\n",
    "     \"marginal_cost\": fuel_sources[\"Wind\"].primary_cost, \"efficiency\": 1,\n",
    "     **(fuel_sources[\"Wind\"].generator_characteristics())},\n",
    "    {\"name\": \"GER-WindOffshore\",\"bus\": \"Germany\", \"carrier\": \"Wind\", \"p_nom\": 30185, \"p_min_pu\": 0, \"p_max_pu\": wind_off_shore[0:time_horizon_in_hours][\"value\"].values,\n",
    "     \"marginal_cost\": fuel_sources[\"Wind\"].primary_cost, \"efficiency\": 1,\n",
    "     **(fuel_sources[\"Wind\"].generator_characteristics())},\n",
    "    {\"name\": \"GER-Solar\",\"bus\": \"Germany\", \"carrier\": \"Solar\", \"p_nom\": 215002, \"p_min_pu\": 0, \"p_max_pu\": solar_pv[0:time_horizon_in_hours][\"value\"].values,\n",
    "     \"marginal_cost\": fuel_sources[\"Solar\"].primary_cost, \"efficiency\": 1,\n",
    "     **(fuel_sources[\"Solar\"].generator_characteristics())},\n",
    "    {\"name\": \"GER-Coal\",\"bus\": \"Germany\", \"carrier\": \"Coal\", \"p_nom\": 0, \"p_min_pu\": 0, \"p_max_pu\": 1,\n",
    "     \"marginal_cost\": fuel_sources[\"Coal\"].primary_cost, \"efficiency\": 0.40,\n",
    "     **(fuel_sources[\"Coal\"].generator_characteristics())},\n",
    "    {\"name\": \"GER-Biomass\",\"bus\": \"Germany\", \"carrier\": \"Biomass\", \"p_nom\": 13067, \"p_min_pu\": 0, \"p_max_pu\": 1,\n",
    "     \"marginal_cost\": fuel_sources[\"Biomass\"].primary_cost, \"efficiency\": 0.3999,\n",
    "     **(fuel_sources[\"Biomass\"].generator_characteristics())},\n",
    "     {\"name\": \"GER-CCGT\",\"bus\": \"Germany\", \"carrier\": \"Gas\", \"p_nom\": 35504, \"p_min_pu\": 0, \"p_max_pu\": 1,\n",
    "     \"marginal_cost\": fuel_sources[\"Gas\"].primary_cost, \"efficiency\": 0.60,\n",
    "     **(fuel_sources[\"Gas\"].generator_characteristics())},\n",
    "    {\"name\": \"GER-Oil\",\"bus\": \"Germany\", \"carrier\": \"Oil\", \"p_nom\": 1885, \"p_min_pu\": 0, \"p_max_pu\": 1,\n",
    "     \"marginal_cost\": fuel_sources[\"Oil\"].primary_cost, \"efficiency\": 0.45,\n",
    "     **(fuel_sources[\"Oil\"].generator_characteristics())},\n",
    "         {\"name\": \"GER-Underproduction\",\"bus\": \"Germany\", \"carrier\": \"Gas\", \"p_nom\": 1000000, \"p_min_pu\": 0, \"p_max_pu\": 1,\n",
    "     \"marginal_cost\": 10000000, \"efficiency\": 0.45,\n",
    "     **(fuel_sources[\"Gas\"].generator_characteristics())},\n",
    "]\n",
    "\n",
    "    \n",
    "    storage_units = [\n",
    "        {\"name\": \"GER-PumpedHydroOL\", \"bus\": \"Germany\", \"carrier\": \"Hydro\", \"p_nom\": 2144.10, \"p_min_pu\": -0.8680, \"p_max_pu\": 1,\n",
    "    \"max_hours\": 204, \"efficiency_store\": 0.93, \"efficiency_dispatch\": 1, \"state_of_charge_initial\": 200000},\n",
    "        {\"name\": \"GER-PumpedHydroCL\", \"bus\": \"Germany\", \"carrier\": \"Hydro\", \"p_nom\": 7009.84, \"p_min_pu\": -1.0224, \"p_max_pu\": 1,\n",
    "    \"max_hours\": 39.39, \"efficiency_store\": 0.93, \"efficiency_dispatch\": 1, \"state_of_charge_initial\": 150000},\n",
    "        {\"name\": \"Battery\", \"bus\": \"Germany\", \"p_nom\": 3200.40, \"p_min_pu\": -1, \"p_max_pu\": 1,\n",
    "    \"max_hours\": 17.79, \"efficiency_store\": 0.90, \"efficiency_dispatch\": 0.90, \"state_of_charge_initial\":30000},\n",
    "    ]\n",
    "    \n",
    "    for generator in generators:\n",
    "    network.add(\"Generator\", **generator, )\n",
    "    \n",
    "\n",
    "    for storage_unit in storage_units:\n",
    "    network.add(\"StorageUnit\", **storage_unit, )\n",
    "\n",
    "\n",
    "    loads = [\n",
    "    {\"name\": \"Germany-load\", \"bus\": \"Germany\", \"carrier\": \"AC\", \"p_set\": demand[0:time_horizon_in_hours][\"value\"].values},\n",
    "    ]   \n",
    "    \n",
    "    for load in loads:\n",
    "    network.add(\"Load\", **load)"
   ]
  },
  {
   "cell_type": "code",
   "execution_count": 12,
   "id": "f7e4e66f",
   "metadata": {},
   "outputs": [
    {
     "name": "stderr",
     "output_type": "stream",
     "text": [
      "WARNING:pypsa.components:Store has no attribute p_nom, ignoring this passed value.\n",
      "WARNING:pypsa.components:Store has no attribute p_min_pu, ignoring this passed value.\n",
      "WARNING:pypsa.components:Store has no attribute p_max_pu, ignoring this passed value.\n",
      "WARNING:pypsa.components:Store has no attribute max_hours, ignoring this passed value.\n",
      "WARNING:pypsa.components:Store has no attribute efficiency, ignoring this passed value.\n",
      "WARNING:pypsa.components:Store has no attribute cyclic_state_of_charge, ignoring this passed value.\n",
      "WARNING:pypsa.components:Store has no attribute p_nom_discharge, ignoring this passed value.\n",
      "WARNING:pypsa.components:Store has no attribute p_nom_charge, ignoring this passed value.\n",
      "WARNING:pypsa.components:Store has no attribute p_nom, ignoring this passed value.\n",
      "WARNING:pypsa.components:Store has no attribute p_min_pu, ignoring this passed value.\n",
      "WARNING:pypsa.components:Store has no attribute p_max_pu, ignoring this passed value.\n",
      "WARNING:pypsa.components:Store has no attribute max_hours, ignoring this passed value.\n",
      "WARNING:pypsa.components:Store has no attribute efficiency, ignoring this passed value.\n",
      "WARNING:pypsa.components:Store has no attribute cyclic_state_of_charge, ignoring this passed value.\n",
      "WARNING:pypsa.components:Store has no attribute p_nom_discharge, ignoring this passed value.\n",
      "WARNING:pypsa.components:Store has no attribute p_nom_charge, ignoring this passed value.\n",
      "WARNING:pypsa.components:Store has no attribute p_nom, ignoring this passed value.\n",
      "WARNING:pypsa.components:Store has no attribute p_min_pu, ignoring this passed value.\n",
      "WARNING:pypsa.components:Store has no attribute p_max_pu, ignoring this passed value.\n",
      "WARNING:pypsa.components:Store has no attribute max_hours, ignoring this passed value.\n",
      "WARNING:pypsa.components:Store has no attribute efficiency, ignoring this passed value.\n",
      "WARNING:pypsa.components:Store has no attribute cyclic_state_of_charge, ignoring this passed value.\n",
      "WARNING:pypsa.components:Store has no attribute p_nom_discharge, ignoring this passed value.\n",
      "WARNING:pypsa.components:Store has no attribute p_nom_charge, ignoring this passed value.\n",
      "WARNING:pypsa.components:Store has no attribute p_nom, ignoring this passed value.\n",
      "WARNING:pypsa.components:Store has no attribute p_min_pu, ignoring this passed value.\n",
      "WARNING:pypsa.components:Store has no attribute p_max_pu, ignoring this passed value.\n",
      "WARNING:pypsa.components:Store has no attribute max_hours, ignoring this passed value.\n",
      "WARNING:pypsa.components:Store has no attribute efficiency, ignoring this passed value.\n",
      "WARNING:pypsa.components:Store has no attribute cyclic_state_of_charge, ignoring this passed value.\n",
      "WARNING:pypsa.components:Store has no attribute p_nom_discharge, ignoring this passed value.\n",
      "WARNING:pypsa.components:Store has no attribute p_nom_charge, ignoring this passed value.\n",
      "WARNING:pypsa.components:The bus name `Curtailment` given for bus of Load `Curtailment-load` does not appear in network.buses\n"
     ]
    }
   ],
   "source": [
    "add_scandinavia(network, climatic_year, time_horizon_in_hours)"
   ]
  },
  {
   "cell_type": "code",
   "execution_count": 13,
   "id": "27a98c78",
   "metadata": {},
   "outputs": [
    {
     "data": {
      "text/plain": [
       "PyPSA Network\n",
       "Components:\n",
       " - Bus: 1\n",
       " - Generator: 8\n",
       " - Load: 2\n",
       " - Store: 4\n",
       "Snapshots: 8760"
      ]
     },
     "execution_count": 13,
     "metadata": {},
     "output_type": "execute_result"
    }
   ],
   "source": [
    "network"
   ]
  },
  {
   "cell_type": "code",
   "execution_count": 14,
   "id": "bd17de50",
   "metadata": {},
   "outputs": [
    {
     "name": "stderr",
     "output_type": "stream",
     "text": [
      "WARNING:pypsa.components:The following loads have bus which are not defined:\n",
      "Index(['Curtailment-load'], dtype='object', name='Load')\n",
      "WARNING:pypsa.components:The following loads have bus which are not defined:\n",
      "Index(['Curtailment-load'], dtype='object', name='Load')\n",
      "INFO:linopy.model: Solve problem using Gurobi solver\n"
     ]
    },
    {
     "name": "stdout",
     "output_type": "stream",
     "text": [
      "Set parameter Username\n"
     ]
    },
    {
     "name": "stderr",
     "output_type": "stream",
     "text": [
      "INFO:gurobipy.gurobipy:Set parameter Username\n"
     ]
    },
    {
     "name": "stdout",
     "output_type": "stream",
     "text": [
      "Academic license - for non-commercial use only - expires 2024-11-21\n"
     ]
    },
    {
     "name": "stderr",
     "output_type": "stream",
     "text": [
      "INFO:gurobipy.gurobipy:Academic license - for non-commercial use only - expires 2024-11-21\n",
      "INFO:linopy.io:Writing objective.\n",
      "Writing constraints.: 100%|\u001b[38;2;128;191;255m██████████\u001b[0m| 13/13 [00:04<00:00,  3.12it/s]\n",
      "Writing continuous variables.: 100%|\u001b[38;2;128;191;255m██████████\u001b[0m| 3/3 [00:00<00:00,  9.02it/s]\n",
      "Writing binary variables.: 100%|\u001b[38;2;128;191;255m██████████\u001b[0m| 3/3 [00:00<00:00, 19.50it/s]\n",
      "INFO:linopy.io: Writing time: 4.82s\n"
     ]
    },
    {
     "name": "stdout",
     "output_type": "stream",
     "text": [
      "Read LP format model from file C:\\Users\\Mikol\\AppData\\Local\\Temp\\linopy-problem-s32csgh8.lp\n"
     ]
    },
    {
     "name": "stderr",
     "output_type": "stream",
     "text": [
      "INFO:gurobipy.gurobipy:Read LP format model from file C:\\Users\\Mikol\\AppData\\Local\\Temp\\linopy-problem-s32csgh8.lp\n"
     ]
    },
    {
     "name": "stdout",
     "output_type": "stream",
     "text": [
      "Reading time = 0.99 seconds\n"
     ]
    },
    {
     "name": "stderr",
     "output_type": "stream",
     "text": [
      "INFO:gurobipy.gurobipy:Reading time = 0.99 seconds\n"
     ]
    },
    {
     "name": "stdout",
     "output_type": "stream",
     "text": [
      "obj: 429253 rows, 271560 columns, 1304677 nonzeros\n"
     ]
    },
    {
     "name": "stderr",
     "output_type": "stream",
     "text": [
      "INFO:gurobipy.gurobipy:obj: 429253 rows, 271560 columns, 1304677 nonzeros\n"
     ]
    },
    {
     "name": "stdout",
     "output_type": "stream",
     "text": [
      "Gurobi Optimizer version 10.0.3 build v10.0.3rc0 (win64)\n"
     ]
    },
    {
     "name": "stderr",
     "output_type": "stream",
     "text": [
      "INFO:gurobipy.gurobipy:Gurobi Optimizer version 10.0.3 build v10.0.3rc0 (win64)\n"
     ]
    },
    {
     "name": "stdout",
     "output_type": "stream",
     "text": [
      "\n"
     ]
    },
    {
     "name": "stderr",
     "output_type": "stream",
     "text": [
      "INFO:gurobipy.gurobipy:\n"
     ]
    },
    {
     "name": "stdout",
     "output_type": "stream",
     "text": [
      "CPU model: Intel(R) Core(TM) i5-9300H CPU @ 2.40GHz, instruction set [SSE2|AVX|AVX2]\n"
     ]
    },
    {
     "name": "stderr",
     "output_type": "stream",
     "text": [
      "INFO:gurobipy.gurobipy:CPU model: Intel(R) Core(TM) i5-9300H CPU @ 2.40GHz, instruction set [SSE2|AVX|AVX2]\n"
     ]
    },
    {
     "name": "stdout",
     "output_type": "stream",
     "text": [
      "Thread count: 4 physical cores, 8 logical processors, using up to 8 threads\n"
     ]
    },
    {
     "name": "stderr",
     "output_type": "stream",
     "text": [
      "INFO:gurobipy.gurobipy:Thread count: 4 physical cores, 8 logical processors, using up to 8 threads\n"
     ]
    },
    {
     "name": "stdout",
     "output_type": "stream",
     "text": [
      "\n"
     ]
    },
    {
     "name": "stderr",
     "output_type": "stream",
     "text": [
      "INFO:gurobipy.gurobipy:\n"
     ]
    },
    {
     "name": "stdout",
     "output_type": "stream",
     "text": [
      "Optimize a model with 429253 rows, 271560 columns and 1304677 nonzeros\n"
     ]
    },
    {
     "name": "stderr",
     "output_type": "stream",
     "text": [
      "INFO:gurobipy.gurobipy:Optimize a model with 429253 rows, 271560 columns and 1304677 nonzeros\n"
     ]
    },
    {
     "name": "stdout",
     "output_type": "stream",
     "text": [
      "Model fingerprint: 0x2d58566e\n"
     ]
    },
    {
     "name": "stderr",
     "output_type": "stream",
     "text": [
      "INFO:gurobipy.gurobipy:Model fingerprint: 0x2d58566e\n"
     ]
    },
    {
     "name": "stdout",
     "output_type": "stream",
     "text": [
      "Variable types: 140160 continuous, 131400 integer (131400 binary)\n"
     ]
    },
    {
     "name": "stderr",
     "output_type": "stream",
     "text": [
      "INFO:gurobipy.gurobipy:Variable types: 140160 continuous, 131400 integer (131400 binary)\n"
     ]
    },
    {
     "name": "stdout",
     "output_type": "stream",
     "text": [
      "Coefficient statistics:\n"
     ]
    },
    {
     "name": "stderr",
     "output_type": "stream",
     "text": [
      "INFO:gurobipy.gurobipy:Coefficient statistics:\n"
     ]
    },
    {
     "name": "stdout",
     "output_type": "stream",
     "text": [
      "  Matrix range     [1e+00, 1e+05]\n"
     ]
    },
    {
     "name": "stderr",
     "output_type": "stream",
     "text": [
      "INFO:gurobipy.gurobipy:  Matrix range     [1e+00, 1e+05]\n"
     ]
    },
    {
     "name": "stdout",
     "output_type": "stream",
     "text": [
      "  Objective range  [5e+00, 1e+05]\n"
     ]
    },
    {
     "name": "stderr",
     "output_type": "stream",
     "text": [
      "INFO:gurobipy.gurobipy:  Objective range  [5e+00, 1e+05]\n"
     ]
    },
    {
     "name": "stdout",
     "output_type": "stream",
     "text": [
      "  Bounds range     [1e+00, 1e+00]\n"
     ]
    },
    {
     "name": "stderr",
     "output_type": "stream",
     "text": [
      "INFO:gurobipy.gurobipy:  Bounds range     [1e+00, 1e+00]\n"
     ]
    },
    {
     "name": "stdout",
     "output_type": "stream",
     "text": [
      "  RHS range        [1e+00, 1e+05]\n"
     ]
    },
    {
     "name": "stderr",
     "output_type": "stream",
     "text": [
      "INFO:gurobipy.gurobipy:  RHS range        [1e+00, 1e+05]\n"
     ]
    },
    {
     "name": "stdout",
     "output_type": "stream",
     "text": [
      "Presolve removed 429251 rows and 271557 columns\n"
     ]
    },
    {
     "name": "stderr",
     "output_type": "stream",
     "text": [
      "INFO:gurobipy.gurobipy:Presolve removed 429251 rows and 271557 columns\n"
     ]
    },
    {
     "name": "stdout",
     "output_type": "stream",
     "text": [
      "Presolve time: 4.36s\n"
     ]
    },
    {
     "name": "stderr",
     "output_type": "stream",
     "text": [
      "INFO:gurobipy.gurobipy:Presolve time: 4.36s\n"
     ]
    },
    {
     "name": "stdout",
     "output_type": "stream",
     "text": [
      "Presolved: 2 rows, 3 columns, 4 nonzeros\n"
     ]
    },
    {
     "name": "stderr",
     "output_type": "stream",
     "text": [
      "INFO:gurobipy.gurobipy:Presolved: 2 rows, 3 columns, 4 nonzeros\n"
     ]
    },
    {
     "name": "stdout",
     "output_type": "stream",
     "text": [
      "Variable types: 2 continuous, 1 integer (1 binary)\n"
     ]
    },
    {
     "name": "stderr",
     "output_type": "stream",
     "text": [
      "INFO:gurobipy.gurobipy:Variable types: 2 continuous, 1 integer (1 binary)\n"
     ]
    },
    {
     "name": "stdout",
     "output_type": "stream",
     "text": [
      "\n"
     ]
    },
    {
     "name": "stderr",
     "output_type": "stream",
     "text": [
      "INFO:gurobipy.gurobipy:\n"
     ]
    },
    {
     "name": "stdout",
     "output_type": "stream",
     "text": [
      "Root relaxation: objective 3.307805e+09, 0 iterations, 0.00 seconds (0.00 work units)\n"
     ]
    },
    {
     "name": "stderr",
     "output_type": "stream",
     "text": [
      "INFO:gurobipy.gurobipy:Root relaxation: objective 3.307805e+09, 0 iterations, 0.00 seconds (0.00 work units)\n"
     ]
    },
    {
     "name": "stdout",
     "output_type": "stream",
     "text": [
      "\n"
     ]
    },
    {
     "name": "stderr",
     "output_type": "stream",
     "text": [
      "INFO:gurobipy.gurobipy:\n"
     ]
    },
    {
     "name": "stdout",
     "output_type": "stream",
     "text": [
      "    Nodes    |    Current Node    |     Objective Bounds      |     Work\n"
     ]
    },
    {
     "name": "stderr",
     "output_type": "stream",
     "text": [
      "INFO:gurobipy.gurobipy:    Nodes    |    Current Node    |     Objective Bounds      |     Work\n"
     ]
    },
    {
     "name": "stdout",
     "output_type": "stream",
     "text": [
      " Expl Unexpl |  Obj  Depth IntInf | Incumbent    BestBd   Gap | It/Node Time\n"
     ]
    },
    {
     "name": "stderr",
     "output_type": "stream",
     "text": [
      "INFO:gurobipy.gurobipy: Expl Unexpl |  Obj  Depth IntInf | Incumbent    BestBd   Gap | It/Node Time\n"
     ]
    },
    {
     "name": "stdout",
     "output_type": "stream",
     "text": [
      "\n"
     ]
    },
    {
     "name": "stderr",
     "output_type": "stream",
     "text": [
      "INFO:gurobipy.gurobipy:\n"
     ]
    },
    {
     "name": "stdout",
     "output_type": "stream",
     "text": [
      "*    0     0               0    3.307805e+09 3.3078e+09  0.00%     -    4s\n"
     ]
    },
    {
     "name": "stderr",
     "output_type": "stream",
     "text": [
      "INFO:gurobipy.gurobipy:*    0     0               0    3.307805e+09 3.3078e+09  0.00%     -    4s\n"
     ]
    },
    {
     "name": "stdout",
     "output_type": "stream",
     "text": [
      "\n"
     ]
    },
    {
     "name": "stderr",
     "output_type": "stream",
     "text": [
      "INFO:gurobipy.gurobipy:\n"
     ]
    },
    {
     "name": "stdout",
     "output_type": "stream",
     "text": [
      "Explored 1 nodes (0 simplex iterations) in 4.65 seconds (6.48 work units)\n"
     ]
    },
    {
     "name": "stderr",
     "output_type": "stream",
     "text": [
      "INFO:gurobipy.gurobipy:Explored 1 nodes (0 simplex iterations) in 4.65 seconds (6.48 work units)\n"
     ]
    },
    {
     "name": "stdout",
     "output_type": "stream",
     "text": [
      "Thread count was 8 (of 8 available processors)\n"
     ]
    },
    {
     "name": "stderr",
     "output_type": "stream",
     "text": [
      "INFO:gurobipy.gurobipy:Thread count was 8 (of 8 available processors)\n"
     ]
    },
    {
     "name": "stdout",
     "output_type": "stream",
     "text": [
      "\n"
     ]
    },
    {
     "name": "stderr",
     "output_type": "stream",
     "text": [
      "INFO:gurobipy.gurobipy:\n"
     ]
    },
    {
     "name": "stdout",
     "output_type": "stream",
     "text": [
      "Solution count 1: 3.30781e+09 \n"
     ]
    },
    {
     "name": "stderr",
     "output_type": "stream",
     "text": [
      "INFO:gurobipy.gurobipy:Solution count 1: 3.30781e+09 \n"
     ]
    },
    {
     "name": "stdout",
     "output_type": "stream",
     "text": [
      "\n"
     ]
    },
    {
     "name": "stderr",
     "output_type": "stream",
     "text": [
      "INFO:gurobipy.gurobipy:\n"
     ]
    },
    {
     "name": "stdout",
     "output_type": "stream",
     "text": [
      "Optimal solution found (tolerance 1.00e-04)\n"
     ]
    },
    {
     "name": "stderr",
     "output_type": "stream",
     "text": [
      "INFO:gurobipy.gurobipy:Optimal solution found (tolerance 1.00e-04)\n"
     ]
    },
    {
     "name": "stdout",
     "output_type": "stream",
     "text": [
      "Best objective 3.307805101850e+09, best bound 3.307805101837e+09, gap 0.0000%\n"
     ]
    },
    {
     "name": "stderr",
     "output_type": "stream",
     "text": [
      "INFO:gurobipy.gurobipy:Best objective 3.307805101850e+09, best bound 3.307805101837e+09, gap 0.0000%\n",
      "WARNING:linopy.solvers:Dual values of MILP couldn't be parsed\n",
      "INFO:linopy.constants: Optimization successful: \n",
      "Status: ok\n",
      "Termination condition: optimal\n",
      "Solution: 271560 primals, 0 duals\n",
      "Objective: 3.31e+09\n",
      "Solver model: available\n",
      "Solver message: 2\n",
      "\n"
     ]
    },
    {
     "name": "stdout",
     "output_type": "stream",
     "text": [
      "('ok', 'optimal')\n"
     ]
    }
   ],
   "source": [
    "result = network.optimize(solver_name=\"gurobi\")\n",
    "print(result)   "
   ]
  },
  {
   "cell_type": "code",
   "execution_count": 15,
   "id": "a0c1b7f1",
   "metadata": {},
   "outputs": [
    {
     "data": {
      "text/plain": [
       "<AxesSubplot:xlabel='Generator', ylabel='GW'>"
      ]
     },
     "execution_count": 15,
     "metadata": {},
     "output_type": "execute_result"
    },
    {
     "data": {
      "image/png": "[encoded data removed]",
      "text/plain": [
       "<Figure size 800x300 with 1 Axes>"
      ]
     },
     "metadata": {},
     "output_type": "display_data"
    }
   ],
   "source": [
    "network.generators.p_nom_opt.div(1e3).plot.bar(ylabel=\"GW\", figsize=(8, 3))"
   ]
  },
  {
   "cell_type": "code",
   "execution_count": 16,
   "id": "63a6c3ec",
   "metadata": {},
   "outputs": [
    {
     "data": {
      "text/plain": [
       "array([<AxesSubplot:xlabel='snapshot', ylabel='GW'>,\n",
       "       <AxesSubplot:xlabel='snapshot', ylabel='GW'>,\n",
       "       <AxesSubplot:xlabel='snapshot', ylabel='GW'>,\n",
       "       <AxesSubplot:xlabel='snapshot', ylabel='GW'>,\n",
       "       <AxesSubplot:xlabel='snapshot', ylabel='GW'>,\n",
       "       <AxesSubplot:xlabel='snapshot', ylabel='GW'>,\n",
       "       <AxesSubplot:xlabel='snapshot', ylabel='GW'>,\n",
       "       <AxesSubplot:xlabel='snapshot', ylabel='GW'>], dtype=object)"
      ]
     },
     "execution_count": 16,
     "metadata": {},
     "output_type": "execute_result"
    },
    {
     "data": {
      "image/png": "[encoded data removed]",
      "text/plain": [
       "<Figure size 640x480 with 8 Axes>"
      ]
     },
     "metadata": {},
     "output_type": "display_data"
    }
   ],
   "source": [
    "network.generators_t.p.resample('D').mean().div(1e3).plot.area(subplots=True, ylabel=\"GW\")"
   ]
  },
  {
   "cell_type": "code",
   "execution_count": null,
   "id": "0f499143",
   "metadata": {},
   "outputs": [],
   "source": []
  },
  {
   "cell_type": "code",
   "execution_count": null,
   "id": "7259a5b9",
   "metadata": {},
   "outputs": [],
   "source": []
  },
  {
   "cell_type": "code",
   "execution_count": null,
   "id": "74f7b2ad",
   "metadata": {},
   "outputs": [],
   "source": []
  }
 ],
 "metadata": {
  "kernelspec": {
   "display_name": "Python 3 (ipykernel)",
   "language": "python",
   "name": "python3"
  },
  "language_info": {
   "codemirror_mode": {
    "name": "ipython",
    "version": 3
   },
   "file_extension": ".py",
   "mimetype": "text/x-python",
   "name": "python",
   "nbconvert_exporter": "python",
   "pygments_lexer": "ipython3",
   "version": "3.9.13"
  }
 },
 "nbformat": 4,
 "nbformat_minor": 5
}
