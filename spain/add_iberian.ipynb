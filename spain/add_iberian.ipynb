{
 "cells": [
  {
   "cell_type": "code",
   "execution_count": 1,
   "id": "2bdf7812",
   "metadata": {
    "tags": []
   },
   "outputs": [],
   "source": [
    "from gurobipy import *\n",
    "import pypsa\n",
    "import pandas as pd\n",
    "from dataclasses import dataclass"
   ]
  },
  {
   "cell_type": "code",
   "execution_count": 2,
   "id": "55a79ffa",
   "metadata": {
    "tags": []
   },
   "outputs": [],
   "source": [
    "climatic_year = 2000\n",
    "time_horizon_in_hours = 365 * 24\n",
    "network = pypsa.Network()"
   ]
  },
  {
   "cell_type": "code",
   "execution_count": 3,
   "id": "b7117c7e",
   "metadata": {
    "tags": []
   },
   "outputs": [],
   "source": [
    "def add_scandinavia(network: pypsa.Network(), climatic_year: int, time_horizon_in_hours: int):\n",
    "    full_demand = pd.read_csv(\"./data/demand_2030_Iberian.csv\", sep=\";\", index_col=1, parse_dates=True).groupby(pd.Grouper(key=\"climatic_year\"))\n",
    "    full_wind_on_shore = pd.read_csv(\"./data/capa_factor_2030_Iberian_onshore.csv\", index_col=1, parse_dates=True, sep=\";\").groupby(pd.Grouper(key=\"climatic_year\"))\n",
    "    full_solar = pd.read_csv(\"./data/capa_factor_2030_Iberian_solar.csv\", index_col=1, parse_dates=True, sep=\";\").groupby(pd.Grouper(key=\"climatic_year\"))\n",
    "    full_wind_off_shore = pd.read_csv(\"./data/capa_factor_2030_Iberian_offshore.csv\", index_col=1, parse_dates=True, sep=\";\").groupby(pd.Grouper(key=\"climatic_year\"))\n",
    "\n",
    "    \n",
    "\n",
    "    demand = full_demand.get_group(climatic_year)\n",
    "    solar = full_solar.get_group(climatic_year)\n",
    "    wind_on_shore = full_wind_on_shore.get_group(climatic_year)\n",
    "    wind_off_shore = full_wind_off_shore.get_group(climatic_year)\n",
    "    \n",
    "    network.snapshots = demand.index[0:time_horizon_in_hours]\n",
    "    \n",
    "    network.add(\"Bus\", name=\"Iberian_Peninsula\", x=-3.7037902, y=40.4168)\n",
    "    \n",
    "    coal_marginal_costs = 160\n",
    "    gas_marginal_costs = 120\n",
    "    oil_marginal_costs = 100\n",
    "    nuclear_marginal_costs = 10\n",
    "    hydro_marginal_costs = 5\n",
    "    wind_marginal_costs = 5\n",
    "    solar_marginal_costs = 5\n",
    "    biomass_marginal_costs = 5\n",
    "\n",
    "\n",
    "    reservoir_max_hours = 1058\n",
    "    pumped_max_hours = 590\n",
    "    battery_max_hours = 2\n",
    "    H2_max_hours = 0\n",
    "    \n",
    "    generators = [\n",
    "    {\"name\": \"Fossils\", \"carrier\": \"Fossils\", \"p_nom\": 2139, \"p_min_pu\": 0, \"p_max_pu\": 1, \"marginal_cost\": gas_marginal_costs, \"efficiency\": 0.4,\n",
    "     \"committable\": True, \"min_up_time\": 1, \"min_down_time\": 1},\n",
    "    {\"name\": \"BioEnergies\", \"carrier\": \"BioEnergies\", \"p_nom\":0, \"p_min_pu\": 0, \"p_max_pu\": 1, \"marginal_cost\": biomass_marginal_costs, \"efficiency\": 0.5, \n",
    "     \"committable\": True, \"min_up_time\": 1, \"min_down_time\": 1},\n",
    "    {\"name\": \"Hydroelectric\", \"carrier\":\"Hydro\", \"p_nom\": 4196, \"p_min_pu\": 0, \"p_max_pu\": 1, \"marginal_cost\": hydro_marginal_costs, \"efficiency\": 1, \"committable\": True,\n",
    "     \"min_up_time\": 1, \"min_down_time\": 1},\n",
    "    {\"name\": \"Wind_on_shore\", \"carrier\": \"Wind_on_shore\", \"p_nom\": 57017, \"p_min_pu\":wind_on_shore.value, \"p_max_pu\": wind_on_shore.value, \"marginal_cost\": wind_marginal_costs, \"efficiency\":1, \"committable\": False,\n",
    "     \"min_up_time\": 1, \"min_down_time\": 1},\n",
    "    {\"name\": \"Wind_off_shore\", \"carrier\": \"Wind_off_shore\", \"p_nom\": 3046, \"p_min_pu\":wind_off_shore.value, \"p_max_pu\": wind_off_shore.value, \"marginal_cost\": wind_marginal_costs, \"efficiency\":1, \"committable\": False,\n",
    "     \"min_up_time\": 1, \"min_down_time\": 1},\n",
    "    {\"name\": \"Nuclear\", \"carrier\": \"Nuclear\", \"p_nom\": 5100, \"p_min_pu\":0, \"p_max_pu\": 1, \"marginal_cost\": nuclear_marginal_costs, \"efficiency\":1, \"committable\": True,\n",
    "     \"min_up_time\": 24, \"min_down_time\": 24},\n",
    "    {\"name\": \"Solar\", \"carrier\": \"Solar\", \"p_nom\": 80606, \"p_min_pu\":solar.value, \"p_max_pu\": solar.value, \"marginal_cost\": solar_marginal_costs, \"efficiency\":1, \"committable\": False,\n",
    "     \"min_up_time\": 1, \"min_down_time\": 1},\n",
    "    {\"name\": \"Failure\", \"carrier\": \"Failure\", \"p_nom\": 100000, \"p_min_pu\":0, \"p_max_pu\": 1, \"marginal_cost\": 100000, \"efficiency\":1, \"committable\": True,\n",
    "     \"min_up_time\": 1, \"min_down_time\": 1}\n",
    "]\n",
    "    \n",
    "    storage_units = [\n",
    "        {\"name\": \"Reservoir\", \"carrier\": \"Reservoir\", \"p_nom\": 15180, \"p_min_pu\": 0, \"p_max_pu\": 1, \"max_hours\": reservoir_max_hours, \"efficiency\": 1, \"cyclic_state_of_charge\": True, \"p_nom_discharge\" : 100, \"p_nom_charge\" : 100},\n",
    "        {\"name\": \"Pumped\", \"carrier\": \"Pumped\", \"p_nom\": 13367, \"p_min_pu\": 0, \"p_max_pu\": 1, \"max_hours\": pumped_max_hours, \"efficiency\": 1, \"cyclic_state_of_charge\": True, \"p_nom_discharge\" : 100, \"p_nom_charge\" : 100},\n",
    "        {\"name\": \"Battery\", \"carrier\": \"Battery\", \"p_nom\": 5000, \"p_min_pu\": 0, \"p_max_pu\": 1, \"max_hours\": battery_max_hours, \"efficiency\": 1, \"cyclic_state_of_charge\": True, \"p_nom_discharge\" : 100, \"p_nom_charge\" : 100},\n",
    "        {\"name\": \"H2\", \"carrier\": \"H2\", \"p_nom\": 0, \"p_min_pu\": 0, \"p_max_pu\": 1, \"max_hours\": H2_max_hours, \"efficiency\": 1, \"cyclic_state_of_charge\": True, \"p_nom_discharge\" :100, \"p_nom_charge\" : 100},\n",
    "]\n",
    "    \n",
    "    for generator in generators:\n",
    "        network.add(\"Generator\", bus=\"Iberian_Peninsula\", **generator,)\n",
    "    \n",
    "\n",
    "    for storage in storage_units:\n",
    "        network.add(\"Store\", bus=\"Iberian_Peninsula\", **storage,)\n",
    "\n",
    "\n",
    "    loads = [\n",
    "    {\"name\": \"Iberian_Peninsula-load\", \"bus\": \"Iberian_Peninsula\", \"carrier\": \"AC\",\"p_set\": demand[0:time_horizon_in_hours][\"value\"].values*1},\n",
    "    {\"name\": \"Curtailment-load\", \"bus\": \"Curtailment\", \"carrier\": \"AC\",\"p_set\": 10000},\n",
    "]\n",
    "    \n",
    "    for load in loads:\n",
    "        network.add(\"Load\", **load)"
   ]
  },
  {
   "cell_type": "code",
   "execution_count": 6,
   "id": "f7e4e66f",
   "metadata": {
    "tags": []
   },
   "outputs": [
    {
     "ename": "NameError",
     "evalue": "name 'add_Iberian_Peninsula' is not defined",
     "output_type": "error",
     "traceback": [
      "\u001b[0;31m---------------------------------------------------------------------------\u001b[0m",
      "\u001b[0;31mNameError\u001b[0m                                 Traceback (most recent call last)",
      "Cell \u001b[0;32mIn[6], line 1\u001b[0m\n\u001b[0;32m----> 1\u001b[0m add_Iberian_Peninsula(network, climatic_year, time_horizon_in_hours)\n",
      "\u001b[0;31mNameError\u001b[0m: name 'add_Iberian_Peninsula' is not defined"
     ]
    }
   ],
   "source": [
    "add_Iberian_Peninsula(network, climatic_year, time_horizon_in_hours)"
   ]
  },
  {
   "cell_type": "code",
   "execution_count": 7,
   "id": "27a98c78",
   "metadata": {},
   "outputs": [
    {
     "data": {
      "text/plain": [
       "Empty PyPSA Network\n",
       "Components: none\n",
       "Snapshots: 1"
      ]
     },
     "execution_count": 7,
     "metadata": {},
     "output_type": "execute_result"
    }
   ],
   "source": [
    "network"
   ]
  },
  {
   "cell_type": "code",
   "execution_count": 8,
   "id": "bd17de50",
   "metadata": {},
   "outputs": [
    {
     "ename": "IndexError",
     "evalue": "list index out of range",
     "output_type": "error",
     "traceback": [
      "\u001b[0;31m---------------------------------------------------------------------------\u001b[0m",
      "\u001b[0;31mIndexError\u001b[0m                                Traceback (most recent call last)",
      "Cell \u001b[0;32mIn[8], line 1\u001b[0m\n\u001b[0;32m----> 1\u001b[0m result \u001b[38;5;241m=\u001b[39m network\u001b[38;5;241m.\u001b[39moptimize(solver_name\u001b[38;5;241m=\u001b[39m\u001b[38;5;124m\"\u001b[39m\u001b[38;5;124mgurobi\u001b[39m\u001b[38;5;124m\"\u001b[39m)\n\u001b[1;32m      2\u001b[0m \u001b[38;5;28mprint\u001b[39m(result)\n",
      "File \u001b[0;32m~/anaconda3/lib/python3.11/site-packages/pypsa/optimization/optimize.py:585\u001b[0m, in \u001b[0;36mOptimizationAccessor.__call__\u001b[0;34m(self, *args, **kwargs)\u001b[0m\n\u001b[1;32m    583\u001b[0m \u001b[38;5;129m@wraps\u001b[39m(optimize)\n\u001b[1;32m    584\u001b[0m \u001b[38;5;28;01mdef\u001b[39;00m \u001b[38;5;21m__call__\u001b[39m(\u001b[38;5;28mself\u001b[39m, \u001b[38;5;241m*\u001b[39margs, \u001b[38;5;241m*\u001b[39m\u001b[38;5;241m*\u001b[39mkwargs):\n\u001b[0;32m--> 585\u001b[0m     \u001b[38;5;28;01mreturn\u001b[39;00m optimize(\u001b[38;5;28mself\u001b[39m\u001b[38;5;241m.\u001b[39m_parent, \u001b[38;5;241m*\u001b[39margs, \u001b[38;5;241m*\u001b[39m\u001b[38;5;241m*\u001b[39mkwargs)\n",
      "File \u001b[0;32m~/anaconda3/lib/python3.11/site-packages/pypsa/optimization/optimize.py:555\u001b[0m, in \u001b[0;36moptimize\u001b[0;34m(n, snapshots, multi_investment_periods, transmission_losses, linearized_unit_commitment, model_kwargs, extra_functionality, assign_all_duals, solver_name, solver_options, **kwargs)\u001b[0m\n\u001b[1;32m    552\u001b[0m n\u001b[38;5;241m.\u001b[39m_linearized_uc \u001b[38;5;241m=\u001b[39m linearized_unit_commitment\n\u001b[1;32m    554\u001b[0m n\u001b[38;5;241m.\u001b[39mconsistency_check()\n\u001b[0;32m--> 555\u001b[0m m \u001b[38;5;241m=\u001b[39m create_model(\n\u001b[1;32m    556\u001b[0m     n,\n\u001b[1;32m    557\u001b[0m     sns,\n\u001b[1;32m    558\u001b[0m     multi_investment_periods,\n\u001b[1;32m    559\u001b[0m     transmission_losses,\n\u001b[1;32m    560\u001b[0m     linearized_unit_commitment,\n\u001b[1;32m    561\u001b[0m     \u001b[38;5;241m*\u001b[39m\u001b[38;5;241m*\u001b[39mmodel_kwargs,\n\u001b[1;32m    562\u001b[0m )\n\u001b[1;32m    563\u001b[0m \u001b[38;5;28;01mif\u001b[39;00m extra_functionality:\n\u001b[1;32m    564\u001b[0m     extra_functionality(n, sns)\n",
      "File \u001b[0;32m~/anaconda3/lib/python3.11/site-packages/pypsa/optimization/optimize.py:293\u001b[0m, in \u001b[0;36mcreate_model\u001b[0;34m(n, snapshots, multi_investment_periods, transmission_losses, linearized_unit_commitment, **kwargs)\u001b[0m\n\u001b[1;32m    285\u001b[0m     define_nodal_balance_constraints(\n\u001b[1;32m    286\u001b[0m         n,\n\u001b[1;32m    287\u001b[0m         sns,\n\u001b[0;32m   (...)\u001b[0m\n\u001b[1;32m    290\u001b[0m         suffix\u001b[38;5;241m=\u001b[39m\u001b[38;5;124m\"\u001b[39m\u001b[38;5;124m-meshed\u001b[39m\u001b[38;5;124m\"\u001b[39m,\n\u001b[1;32m    291\u001b[0m     )\n\u001b[1;32m    292\u001b[0m \u001b[38;5;28;01melse\u001b[39;00m:\n\u001b[0;32m--> 293\u001b[0m     define_nodal_balance_constraints(\n\u001b[1;32m    294\u001b[0m         n, sns, transmission_losses\u001b[38;5;241m=\u001b[39mtransmission_losses\n\u001b[1;32m    295\u001b[0m     )\n\u001b[1;32m    297\u001b[0m define_kirchhoff_voltage_constraints(n, sns)\n\u001b[1;32m    298\u001b[0m define_storage_unit_constraints(n, sns)\n",
      "File \u001b[0;32m~/anaconda3/lib/python3.11/site-packages/pypsa/optimization/constraints.py:526\u001b[0m, in \u001b[0;36mdefine_nodal_balance_constraints\u001b[0;34m(n, sns, transmission_losses, buses, suffix)\u001b[0m\n\u001b[1;32m    523\u001b[0m     \u001b[38;5;28;01mif\u001b[39;00m expr\u001b[38;5;241m.\u001b[39msize:\n\u001b[1;32m    524\u001b[0m         exprs\u001b[38;5;241m.\u001b[39mappend(expr\u001b[38;5;241m.\u001b[39mgroupby(cbuses)\u001b[38;5;241m.\u001b[39msum())\n\u001b[0;32m--> 526\u001b[0m lhs \u001b[38;5;241m=\u001b[39m merge(exprs, join\u001b[38;5;241m=\u001b[39m\u001b[38;5;124m\"\u001b[39m\u001b[38;5;124mouter\u001b[39m\u001b[38;5;124m\"\u001b[39m)\u001b[38;5;241m.\u001b[39mreindex(\n\u001b[1;32m    527\u001b[0m     Bus\u001b[38;5;241m=\u001b[39mbuses, fill_value\u001b[38;5;241m=\u001b[39mLinearExpression\u001b[38;5;241m.\u001b[39mfill_value\n\u001b[1;32m    528\u001b[0m )\n\u001b[1;32m    529\u001b[0m rhs \u001b[38;5;241m=\u001b[39m (\n\u001b[1;32m    530\u001b[0m     (\u001b[38;5;241m-\u001b[39mget_as_dense(n, \u001b[38;5;124m\"\u001b[39m\u001b[38;5;124mLoad\u001b[39m\u001b[38;5;124m\"\u001b[39m, \u001b[38;5;124m\"\u001b[39m\u001b[38;5;124mp_set\u001b[39m\u001b[38;5;124m\"\u001b[39m, sns) \u001b[38;5;241m*\u001b[39m n\u001b[38;5;241m.\u001b[39mloads\u001b[38;5;241m.\u001b[39msign)\n\u001b[1;32m    531\u001b[0m     \u001b[38;5;241m.\u001b[39mgroupby(n\u001b[38;5;241m.\u001b[39mloads\u001b[38;5;241m.\u001b[39mbus, axis\u001b[38;5;241m=\u001b[39m\u001b[38;5;241m1\u001b[39m)\n\u001b[1;32m    532\u001b[0m     \u001b[38;5;241m.\u001b[39msum()\n\u001b[1;32m    533\u001b[0m     \u001b[38;5;241m.\u001b[39mreindex(columns\u001b[38;5;241m=\u001b[39mbuses, fill_value\u001b[38;5;241m=\u001b[39m\u001b[38;5;241m0\u001b[39m)\n\u001b[1;32m    534\u001b[0m )\n\u001b[1;32m    535\u001b[0m \u001b[38;5;66;03m# the name for multi-index is getting lost by groupby before pandas 1.4.0\u001b[39;00m\n\u001b[1;32m    536\u001b[0m \u001b[38;5;66;03m# TODO remove once we bump the required pandas version to >= 1.4.0\u001b[39;00m\n",
      "File \u001b[0;32m~/anaconda3/lib/python3.11/site-packages/linopy/expressions.py:1377\u001b[0m, in \u001b[0;36mmerge\u001b[0;34m(dim, cls, *exprs, **kwargs)\u001b[0m\n\u001b[1;32m   1371\u001b[0m     \u001b[38;5;28;01mraise\u001b[39;00m \u001b[38;5;167;01mValueError\u001b[39;00m(\n\u001b[1;32m   1372\u001b[0m         \u001b[38;5;124m\"\u001b[39m\u001b[38;5;124mCannot merge linear and quadratic expressions along term dimension.\u001b[39m\u001b[38;5;124m\"\u001b[39m\n\u001b[1;32m   1373\u001b[0m         \u001b[38;5;124m\"\u001b[39m\u001b[38;5;124mConvert to QuadraticExpression first.\u001b[39m\u001b[38;5;124m\"\u001b[39m\n\u001b[1;32m   1374\u001b[0m     )\n\u001b[1;32m   1376\u001b[0m exprs \u001b[38;5;241m=\u001b[39m exprs[\u001b[38;5;241m0\u001b[39m] \u001b[38;5;28;01mif\u001b[39;00m \u001b[38;5;28mlen\u001b[39m(exprs) \u001b[38;5;241m==\u001b[39m \u001b[38;5;241m1\u001b[39m \u001b[38;5;28;01melse\u001b[39;00m \u001b[38;5;28mlist\u001b[39m(exprs)  \u001b[38;5;66;03m# allow passing a list\u001b[39;00m\n\u001b[0;32m-> 1377\u001b[0m model \u001b[38;5;241m=\u001b[39m exprs[\u001b[38;5;241m0\u001b[39m]\u001b[38;5;241m.\u001b[39mmodel\n\u001b[1;32m   1379\u001b[0m \u001b[38;5;28;01mif\u001b[39;00m \u001b[38;5;28mcls\u001b[39m \u001b[38;5;129;01min\u001b[39;00m linopy_types \u001b[38;5;129;01mand\u001b[39;00m dim \u001b[38;5;129;01min\u001b[39;00m HELPER_DIMS:\n\u001b[1;32m   1380\u001b[0m     coord_dims \u001b[38;5;241m=\u001b[39m [\n\u001b[1;32m   1381\u001b[0m         {k: v \u001b[38;5;28;01mfor\u001b[39;00m k, v \u001b[38;5;129;01min\u001b[39;00m e\u001b[38;5;241m.\u001b[39mdims\u001b[38;5;241m.\u001b[39mitems() \u001b[38;5;28;01mif\u001b[39;00m k \u001b[38;5;129;01mnot\u001b[39;00m \u001b[38;5;129;01min\u001b[39;00m HELPER_DIMS} \u001b[38;5;28;01mfor\u001b[39;00m e \u001b[38;5;129;01min\u001b[39;00m exprs\n\u001b[1;32m   1382\u001b[0m     ]\n",
      "\u001b[0;31mIndexError\u001b[0m: list index out of range"
     ]
    }
   ],
   "source": [
    "result = network.optimize(solver_name=\"gurobi\")\n",
    "print(result)   "
   ]
  },
  {
   "cell_type": "code",
   "execution_count": 9,
   "id": "a0c1b7f1",
   "metadata": {},
   "outputs": [
    {
     "ename": "IndexError",
     "evalue": "index 0 is out of bounds for axis 0 with size 0",
     "output_type": "error",
     "traceback": [
      "\u001b[0;31m---------------------------------------------------------------------------\u001b[0m",
      "\u001b[0;31mIndexError\u001b[0m                                Traceback (most recent call last)",
      "Cell \u001b[0;32mIn[9], line 1\u001b[0m\n\u001b[0;32m----> 1\u001b[0m network\u001b[38;5;241m.\u001b[39mgenerators\u001b[38;5;241m.\u001b[39mp_nom_opt\u001b[38;5;241m.\u001b[39mdiv(\u001b[38;5;241m1e3\u001b[39m)\u001b[38;5;241m.\u001b[39mplot\u001b[38;5;241m.\u001b[39mbar(ylabel\u001b[38;5;241m=\u001b[39m\u001b[38;5;124m\"\u001b[39m\u001b[38;5;124mGW\u001b[39m\u001b[38;5;124m\"\u001b[39m, figsize\u001b[38;5;241m=\u001b[39m(\u001b[38;5;241m8\u001b[39m, \u001b[38;5;241m3\u001b[39m))\n",
      "File \u001b[0;32m~/anaconda3/lib/python3.11/site-packages/pandas/plotting/_core.py:1136\u001b[0m, in \u001b[0;36mPlotAccessor.bar\u001b[0;34m(self, x, y, **kwargs)\u001b[0m\n\u001b[1;32m   1046\u001b[0m \u001b[38;5;129m@Appender\u001b[39m(\n\u001b[1;32m   1047\u001b[0m \u001b[38;5;250m    \u001b[39m\u001b[38;5;124;03m\"\"\"\u001b[39;00m\n\u001b[1;32m   1048\u001b[0m \u001b[38;5;124;03m    See Also\u001b[39;00m\n\u001b[0;32m   (...)\u001b[0m\n\u001b[1;32m   1125\u001b[0m     \u001b[38;5;28mself\u001b[39m, x\u001b[38;5;241m=\u001b[39m\u001b[38;5;28;01mNone\u001b[39;00m, y\u001b[38;5;241m=\u001b[39m\u001b[38;5;28;01mNone\u001b[39;00m, \u001b[38;5;241m*\u001b[39m\u001b[38;5;241m*\u001b[39mkwargs\n\u001b[1;32m   1126\u001b[0m ) \u001b[38;5;241m-\u001b[39m\u001b[38;5;241m>\u001b[39m PlotAccessor:\n\u001b[1;32m   1127\u001b[0m \u001b[38;5;250m    \u001b[39m\u001b[38;5;124;03m\"\"\"\u001b[39;00m\n\u001b[1;32m   1128\u001b[0m \u001b[38;5;124;03m    Vertical bar plot.\u001b[39;00m\n\u001b[1;32m   1129\u001b[0m \n\u001b[0;32m   (...)\u001b[0m\n\u001b[1;32m   1134\u001b[0m \u001b[38;5;124;03m    other axis represents a measured value.\u001b[39;00m\n\u001b[1;32m   1135\u001b[0m \u001b[38;5;124;03m    \"\"\"\u001b[39;00m\n\u001b[0;32m-> 1136\u001b[0m     \u001b[38;5;28;01mreturn\u001b[39;00m \u001b[38;5;28mself\u001b[39m(kind\u001b[38;5;241m=\u001b[39m\u001b[38;5;124m\"\u001b[39m\u001b[38;5;124mbar\u001b[39m\u001b[38;5;124m\"\u001b[39m, x\u001b[38;5;241m=\u001b[39mx, y\u001b[38;5;241m=\u001b[39my, \u001b[38;5;241m*\u001b[39m\u001b[38;5;241m*\u001b[39mkwargs)\n",
      "File \u001b[0;32m~/anaconda3/lib/python3.11/site-packages/pandas/plotting/_core.py:975\u001b[0m, in \u001b[0;36mPlotAccessor.__call__\u001b[0;34m(self, *args, **kwargs)\u001b[0m\n\u001b[1;32m    972\u001b[0m             label_name \u001b[38;5;241m=\u001b[39m label_kw \u001b[38;5;129;01mor\u001b[39;00m data\u001b[38;5;241m.\u001b[39mcolumns\n\u001b[1;32m    973\u001b[0m             data\u001b[38;5;241m.\u001b[39mcolumns \u001b[38;5;241m=\u001b[39m label_name\n\u001b[0;32m--> 975\u001b[0m \u001b[38;5;28;01mreturn\u001b[39;00m plot_backend\u001b[38;5;241m.\u001b[39mplot(data, kind\u001b[38;5;241m=\u001b[39mkind, \u001b[38;5;241m*\u001b[39m\u001b[38;5;241m*\u001b[39mkwargs)\n",
      "File \u001b[0;32m~/anaconda3/lib/python3.11/site-packages/pandas/plotting/_matplotlib/__init__.py:71\u001b[0m, in \u001b[0;36mplot\u001b[0;34m(data, kind, **kwargs)\u001b[0m\n\u001b[1;32m     69\u001b[0m         kwargs[\u001b[38;5;124m\"\u001b[39m\u001b[38;5;124max\u001b[39m\u001b[38;5;124m\"\u001b[39m] \u001b[38;5;241m=\u001b[39m \u001b[38;5;28mgetattr\u001b[39m(ax, \u001b[38;5;124m\"\u001b[39m\u001b[38;5;124mleft_ax\u001b[39m\u001b[38;5;124m\"\u001b[39m, ax)\n\u001b[1;32m     70\u001b[0m plot_obj \u001b[38;5;241m=\u001b[39m PLOT_CLASSES[kind](data, \u001b[38;5;241m*\u001b[39m\u001b[38;5;241m*\u001b[39mkwargs)\n\u001b[0;32m---> 71\u001b[0m plot_obj\u001b[38;5;241m.\u001b[39mgenerate()\n\u001b[1;32m     72\u001b[0m plot_obj\u001b[38;5;241m.\u001b[39mdraw()\n\u001b[1;32m     73\u001b[0m \u001b[38;5;28;01mreturn\u001b[39;00m plot_obj\u001b[38;5;241m.\u001b[39mresult\n",
      "File \u001b[0;32m~/anaconda3/lib/python3.11/site-packages/pandas/plotting/_matplotlib/core.py:455\u001b[0m, in \u001b[0;36mMPLPlot.generate\u001b[0;34m(self)\u001b[0m\n\u001b[1;32m    453\u001b[0m \u001b[38;5;28;01mfor\u001b[39;00m ax \u001b[38;5;129;01min\u001b[39;00m \u001b[38;5;28mself\u001b[39m\u001b[38;5;241m.\u001b[39maxes:\n\u001b[1;32m    454\u001b[0m     \u001b[38;5;28mself\u001b[39m\u001b[38;5;241m.\u001b[39m_post_plot_logic_common(ax, \u001b[38;5;28mself\u001b[39m\u001b[38;5;241m.\u001b[39mdata)\n\u001b[0;32m--> 455\u001b[0m     \u001b[38;5;28mself\u001b[39m\u001b[38;5;241m.\u001b[39m_post_plot_logic(ax, \u001b[38;5;28mself\u001b[39m\u001b[38;5;241m.\u001b[39mdata)\n",
      "File \u001b[0;32m~/anaconda3/lib/python3.11/site-packages/pandas/plotting/_matplotlib/core.py:1750\u001b[0m, in \u001b[0;36mBarPlot._post_plot_logic\u001b[0;34m(self, ax, data)\u001b[0m\n\u001b[1;32m   1747\u001b[0m \u001b[38;5;28;01melse\u001b[39;00m:\n\u001b[1;32m   1748\u001b[0m     str_index \u001b[38;5;241m=\u001b[39m [pprint_thing(key) \u001b[38;5;28;01mfor\u001b[39;00m key \u001b[38;5;129;01min\u001b[39;00m \u001b[38;5;28mrange\u001b[39m(data\u001b[38;5;241m.\u001b[39mshape[\u001b[38;5;241m0\u001b[39m])]\n\u001b[0;32m-> 1750\u001b[0m s_edge \u001b[38;5;241m=\u001b[39m \u001b[38;5;28mself\u001b[39m\u001b[38;5;241m.\u001b[39max_pos[\u001b[38;5;241m0\u001b[39m] \u001b[38;5;241m-\u001b[39m \u001b[38;5;241m0.25\u001b[39m \u001b[38;5;241m+\u001b[39m \u001b[38;5;28mself\u001b[39m\u001b[38;5;241m.\u001b[39mlim_offset\n\u001b[1;32m   1751\u001b[0m e_edge \u001b[38;5;241m=\u001b[39m \u001b[38;5;28mself\u001b[39m\u001b[38;5;241m.\u001b[39max_pos[\u001b[38;5;241m-\u001b[39m\u001b[38;5;241m1\u001b[39m] \u001b[38;5;241m+\u001b[39m \u001b[38;5;241m0.25\u001b[39m \u001b[38;5;241m+\u001b[39m \u001b[38;5;28mself\u001b[39m\u001b[38;5;241m.\u001b[39mbar_width \u001b[38;5;241m+\u001b[39m \u001b[38;5;28mself\u001b[39m\u001b[38;5;241m.\u001b[39mlim_offset\n\u001b[1;32m   1753\u001b[0m \u001b[38;5;28mself\u001b[39m\u001b[38;5;241m.\u001b[39m_decorate_ticks(ax, \u001b[38;5;28mself\u001b[39m\u001b[38;5;241m.\u001b[39m_get_index_name(), str_index, s_edge, e_edge)\n",
      "\u001b[0;31mIndexError\u001b[0m: index 0 is out of bounds for axis 0 with size 0"
     ]
    },
    {
     "data": {
      "image/png": "[encoded data removed]",
      "text/plain": [
       "<Figure size 800x300 with 1 Axes>"
      ]
     },
     "metadata": {},
     "output_type": "display_data"
    }
   ],
   "source": [
    "network.generators.p_nom_opt.div(1e3).plot.bar(ylabel=\"GW\", figsize=(8, 3))"
   ]
  },
  {
   "cell_type": "code",
   "execution_count": null,
   "id": "63a6c3ec",
   "metadata": {},
   "outputs": [],
   "source": [
    "network.generators_t.p.resample('D').mean().div(1e3).plot.area(subplots=True, ylabel=\"GW\")"
   ]
  },
  {
   "cell_type": "code",
   "execution_count": null,
   "id": "0f499143",
   "metadata": {},
   "outputs": [],
   "source": []
  },
  {
   "cell_type": "code",
   "execution_count": null,
   "id": "7259a5b9",
   "metadata": {},
   "outputs": [],
   "source": []
  },
  {
   "cell_type": "code",
   "execution_count": null,
   "id": "74f7b2ad",
   "metadata": {},
   "outputs": [],
   "source": []
  },
  {
   "cell_type": "code",
   "execution_count": null,
   "id": "db7db94c-5d59-4cc6-9ffc-a925a1c91be5",
   "metadata": {},
   "outputs": [],
   "source": []
  }
 ],
 "metadata": {
  "kernelspec": {
   "display_name": "Python 3 (ipykernel)",
   "language": "python",
   "name": "python3"
  },
  "language_info": {
   "codemirror_mode": {
    "name": "ipython",
    "version": 3
   },
   "file_extension": ".py",
   "mimetype": "text/x-python",
   "name": "python",
   "nbconvert_exporter": "python",
   "pygments_lexer": "ipython3",
   "version": "3.11.5"
  }
 },
 "nbformat": 4,
 "nbformat_minor": 5
}
